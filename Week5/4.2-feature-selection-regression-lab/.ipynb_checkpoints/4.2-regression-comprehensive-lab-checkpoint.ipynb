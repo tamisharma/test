{
 "cells": [
  {
   "cell_type": "markdown",
   "metadata": {},
   "source": [
    "# Feature selection with regression lab\n",
    "\n",
    "You have been exploring feature selection, regularization, and evaluation metrics with classification this week (and last week).\n",
    "\n",
    "It's time to return to a regression problem.\n",
    "\n",
    "In this lab you will be working with a dataset on **reservoir levels in California**.\n",
    "\n",
    "---\n",
    "\n",
    "### Data summary\n",
    "\n",
    "The dataset contains these columns:\n",
    "\n",
    "    id : the reservoir string id\n",
    "    date : the string date of measurement\n",
    "    month : the month of measurement\n",
    "    year : the year of measurement\n",
    "    reservoir_volume : the current volume of the reservoir\n",
    "    dam : the dam that supplies water to the reservoir\n",
    "    lake : a lake associated with the reservoir\n",
    "    stream : a stream associated with the reservoir\n",
    "    capacity : the total capacity of the reservoir\n",
    "    elevation : the string for elevation of the reservoir\n",
    "    river_basin : string code for basin of the river associated with the reservoir\n",
    "    county : the string county code that the reservoir is in\n",
    "    hydrologic_area : another location string identifier\n",
    "    nearby_city : the city that the reservoir is located near\n",
    "    latitude : the exact latitude of the reservoir\n",
    "    longitude : the exact longitude of the reservoir\n",
    "    operator : the governmental organization that manages the reservoir\n",
    "\n",
    "---\n",
    "\n",
    "### Goal of the lab:\n",
    "\n",
    "Your primary goal is to **predict reservoir levels in 2015 using data from prior years**. Your primary evaluation metric will be **RMSE**, but feel free to try/use others as well.\n",
    "\n",
    "You have learned may useful skills to tackle this!\n",
    "\n",
    "- **Data munging/cleaning**\n",
    "- **EDA**\n",
    "- **Feature engineering**\n",
    "- **Feature selection**\n",
    "- **Regularization/gridsearching**\n",
    "- **Cross-validation**\n",
    "\n",
    "Use whatever you can to get the best predictive power! Godspeed.\n",
    "\n",
    "---\n",
    "\n",
    "### I WILL BE DOING THE LAB AT THE SAME TIME\n",
    "\n",
    "**You are competing with me in this lab to get a better RMSE.**\n",
    "\n",
    "YES, YES, I know it's \"unfair\" or whatever. However, I will be sharing my progress on my screen as I go through, so you have an advantage in that sense, since you can see what I'm doing as I go.\n",
    "\n",
    "#### WORK TOGETHER!!!\n",
    "\n",
    "Good Luck!\n",
    "\n",
    "---"
   ]
  },
  {
   "cell_type": "code",
   "execution_count": 1,
   "metadata": {
    "collapsed": true
   },
   "outputs": [],
   "source": [
    "import pandas as pd\n",
    "import numpy as np"
   ]
  },
  {
   "cell_type": "code",
   "execution_count": 2,
   "metadata": {
    "collapsed": true
   },
   "outputs": [],
   "source": [
    "res = pd.read_csv('./dataset/reservoir_levels.csv')"
   ]
  },
  {
   "cell_type": "code",
   "execution_count": 6,
   "metadata": {
    "collapsed": false
   },
   "outputs": [
    {
     "data": {
      "text/plain": [
       "0       2000-01-02\n",
       "1       2000-01-03\n",
       "2       2000-01-04\n",
       "3       2000-01-05\n",
       "4       2000-01-06\n",
       "5       2000-01-07\n",
       "6       2000-01-08\n",
       "7       2000-01-09\n",
       "8       2000-01-10\n",
       "9       2000-01-11\n",
       "10      2000-01-12\n",
       "11      2001-01-01\n",
       "12      2001-01-02\n",
       "13      2001-01-03\n",
       "14      2001-01-04\n",
       "15      2001-01-05\n",
       "16      2001-01-06\n",
       "17      2001-01-07\n",
       "18      2001-01-08\n",
       "19      2001-01-09\n",
       "20      2001-01-10\n",
       "21      2001-01-11\n",
       "22      2001-01-12\n",
       "23      2002-01-01\n",
       "24      2002-01-02\n",
       "25      2002-01-03\n",
       "26      2002-01-04\n",
       "27      2002-01-05\n",
       "28      2002-01-06\n",
       "29      2002-01-07\n",
       "           ...    \n",
       "34008   2012-01-11\n",
       "34009   2012-01-12\n",
       "34010   2013-01-01\n",
       "34011   2013-01-02\n",
       "34012   2013-01-03\n",
       "34013   2013-01-04\n",
       "34014   2013-01-05\n",
       "34015   2013-01-06\n",
       "34016   2013-01-07\n",
       "34017   2013-01-08\n",
       "34018   2013-01-09\n",
       "34019   2013-01-10\n",
       "34020   2013-01-11\n",
       "34021   2013-01-12\n",
       "34022   2014-01-01\n",
       "34023   2014-01-02\n",
       "34024   2014-01-03\n",
       "34025   2014-01-04\n",
       "34026   2014-01-05\n",
       "34027   2014-01-06\n",
       "34028   2014-01-07\n",
       "34029   2014-01-08\n",
       "34030   2014-01-09\n",
       "34031   2014-01-10\n",
       "34032   2014-01-11\n",
       "34033   2014-01-12\n",
       "34034   2015-01-01\n",
       "34035   2015-01-02\n",
       "34036   2015-01-03\n",
       "34037   2015-01-04\n",
       "Name: date, dtype: datetime64[ns]"
      ]
     },
     "execution_count": 6,
     "metadata": {},
     "output_type": "execute_result"
    }
   ],
   "source": [
    "pd.to_datetime(res['date'], format='%Y-%d')"
   ]
  },
  {
   "cell_type": "code",
   "execution_count": null,
   "metadata": {
    "collapsed": true
   },
   "outputs": [],
   "source": []
  }
 ],
 "metadata": {
  "kernelspec": {
   "display_name": "Python 2",
   "language": "python",
   "name": "python2"
  },
  "language_info": {
   "codemirror_mode": {
    "name": "ipython",
    "version": 2
   },
   "file_extension": ".py",
   "mimetype": "text/x-python",
   "name": "python",
   "nbconvert_exporter": "python",
   "pygments_lexer": "ipython2",
   "version": "2.7.11"
  }
 },
 "nbformat": 4,
 "nbformat_minor": 0
}
