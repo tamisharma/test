{
 "cells": [
  {
   "cell_type": "markdown",
   "metadata": {},
   "source": [
    "# 5.2 Lab: practice\n",
    "\n",
    "Practice visualizing datasets in python or Tableau. This notebook is for python specifically.\n"
   ]
  },
  {
   "cell_type": "markdown",
   "metadata": {},
   "source": [
    "### Load required packages"
   ]
  },
  {
   "cell_type": "code",
   "execution_count": 12,
   "metadata": {
    "collapsed": false
   },
   "outputs": [],
   "source": [
    "# Numeric and statistics packages:\n",
    "import numpy as np\n",
    "import scipy.stats as stats\n",
    "\n",
    "# Pandas handles dataset loading and manipulation:\n",
    "import pandas as pd\n",
    "\n",
    "# import the plotting functions:\n",
    "import matplotlib.pyplot as plt\n",
    "import seaborn as sns\n",
    "import plotly\n",
    "import plotly.plotly as py\n",
    "import plotly.graph_objs as go\n",
    "\n",
    "# Initialize plotly notebook mode:\n",
    "plotly.offline.init_notebook_mode()\n",
    "\n",
    "# Setup matplotlib to display in notebook:\n",
    "%matplotlib inline"
   ]
  },
  {
   "cell_type": "markdown",
   "metadata": {},
   "source": [
    "## Load datasets with pandas\n",
    "\n",
    "The datasets are in the assets/datasets folder. They are:\n",
    "\n",
    "```\n",
    "salary.csv\n",
    "sales_info.csv\n",
    "```\n",
    "    \n",
    "We have used these before. You should also load up the dataset we use in Project 1! Finding the path is up to you for these datasets for practice.\n",
    "\n",
    "The pandas pattern for loading datasets is:\n",
    "\n",
    "```python\n",
    "salary = pd.read_csv({salary_csv_path})\n",
    "```\n",
    "\n",
    "You may want to rename the columns, especially for salary. The pattern for this would be:\n",
    "\n",
    "```python\n",
    "salary.columns = ['gender', 'professor_rank', 'years_in_job', \n",
    "                  'degree_level', 'years_since_degree', 'yearly_salary']\n",
    "```\n",
    "    \n",
    "Which essentialy sets the columns to a list of strings. Pandas is pretty nice!\n",
    "\n",
    "Use the ```.head()``` command on each DataFrame object to make sure that it looks ok.\n",
    "\n",
    "Some plotting functions take arrays or lists, others take pandas DataFrame objects. It's up to you to look this up in the documentation to practice reading documentation for info on plotting. Getting arrays for columns out of a pandas DataFrame is:\n",
    "\n",
    "```python\n",
    "gender = salary.gender.values\n",
    "```\n",
    "\n",
    "As you can see, columns are also referenced easily with the .column syntax. They can also be accessed like:\n",
    "\n",
    "```python\n",
    "gender = salary[['gender']].values\n",
    "```\n",
    "    \n"
   ]
  },
  {
   "cell_type": "markdown",
   "metadata": {},
   "source": [
    "## seaborn documentation\n",
    "\n",
    "I highly recommend looking at the gallery section for examples!\n",
    "\n",
    "- The website: https://stanford.edu/~mwaskom/software/seaborn/\n",
    "- Check out the gallery of examples: https://stanford.edu/~mwaskom/software/seaborn/examples/index.html\n",
    "- The API documentation has full info: https://stanford.edu/~mwaskom/software/seaborn/api.html"
   ]
  },
  {
   "cell_type": "markdown",
   "metadata": {},
   "source": [
    "### 1. Load in your datasets with pandas and examine them."
   ]
  },
  {
   "cell_type": "code",
   "execution_count": 14,
   "metadata": {
    "collapsed": false
   },
   "outputs": [
    {
     "data": {
      "text/html": [
       "<div>\n",
       "<table border=\"1\" class=\"dataframe\">\n",
       "  <thead>\n",
       "    <tr style=\"text-align: right;\">\n",
       "      <th></th>\n",
       "      <th>AXES</th>\n",
       "      <th>-0.25</th>\n",
       "      <th>0.25</th>\n",
       "      <th>0.75</th>\n",
       "      <th>1.25</th>\n",
       "      <th>1.75</th>\n",
       "      <th>2.25</th>\n",
       "      <th>2.75</th>\n",
       "      <th>3.25</th>\n",
       "      <th>3.75</th>\n",
       "      <th>...</th>\n",
       "      <th>25.25</th>\n",
       "      <th>25.75</th>\n",
       "      <th>26.25</th>\n",
       "      <th>26.75</th>\n",
       "      <th>27.25</th>\n",
       "      <th>27.75</th>\n",
       "      <th>28.25</th>\n",
       "      <th>28.75</th>\n",
       "      <th>29.25</th>\n",
       "      <th>29.75</th>\n",
       "    </tr>\n",
       "  </thead>\n",
       "  <tbody>\n",
       "    <tr>\n",
       "      <th>0</th>\n",
       "      <td>29.75</td>\n",
       "      <td>18.34</td>\n",
       "      <td>18.69</td>\n",
       "      <td>18.48</td>\n",
       "      <td>18.04</td>\n",
       "      <td>17.77</td>\n",
       "      <td>17.87</td>\n",
       "      <td>17.86</td>\n",
       "      <td>18.55</td>\n",
       "      <td>18.80</td>\n",
       "      <td>...</td>\n",
       "      <td>19.00</td>\n",
       "      <td>18.76</td>\n",
       "      <td>18.70</td>\n",
       "      <td>19.60</td>\n",
       "      <td>19.73</td>\n",
       "      <td>19.55</td>\n",
       "      <td>19.33</td>\n",
       "      <td>19.11</td>\n",
       "      <td>18.54</td>\n",
       "      <td>18.45</td>\n",
       "    </tr>\n",
       "    <tr>\n",
       "      <th>1</th>\n",
       "      <td>29.25</td>\n",
       "      <td>19.08</td>\n",
       "      <td>19.33</td>\n",
       "      <td>19.05</td>\n",
       "      <td>18.62</td>\n",
       "      <td>18.29</td>\n",
       "      <td>17.87</td>\n",
       "      <td>17.79</td>\n",
       "      <td>18.98</td>\n",
       "      <td>19.10</td>\n",
       "      <td>...</td>\n",
       "      <td>19.41</td>\n",
       "      <td>19.59</td>\n",
       "      <td>19.45</td>\n",
       "      <td>19.99</td>\n",
       "      <td>19.97</td>\n",
       "      <td>19.86</td>\n",
       "      <td>19.53</td>\n",
       "      <td>19.15</td>\n",
       "      <td>18.66</td>\n",
       "      <td>18.47</td>\n",
       "    </tr>\n",
       "    <tr>\n",
       "      <th>2</th>\n",
       "      <td>28.75</td>\n",
       "      <td>20.11</td>\n",
       "      <td>19.72</td>\n",
       "      <td>19.19</td>\n",
       "      <td>18.75</td>\n",
       "      <td>18.28</td>\n",
       "      <td>17.91</td>\n",
       "      <td>17.90</td>\n",
       "      <td>18.39</td>\n",
       "      <td>18.53</td>\n",
       "      <td>...</td>\n",
       "      <td>19.51</td>\n",
       "      <td>19.35</td>\n",
       "      <td>19.58</td>\n",
       "      <td>19.78</td>\n",
       "      <td>19.78</td>\n",
       "      <td>19.53</td>\n",
       "      <td>19.20</td>\n",
       "      <td>19.16</td>\n",
       "      <td>19.16</td>\n",
       "      <td>19.57</td>\n",
       "    </tr>\n",
       "    <tr>\n",
       "      <th>3</th>\n",
       "      <td>28.25</td>\n",
       "      <td>20.46</td>\n",
       "      <td>20.08</td>\n",
       "      <td>19.62</td>\n",
       "      <td>19.17</td>\n",
       "      <td>18.35</td>\n",
       "      <td>18.24</td>\n",
       "      <td>18.20</td>\n",
       "      <td>18.43</td>\n",
       "      <td>18.70</td>\n",
       "      <td>...</td>\n",
       "      <td>19.66</td>\n",
       "      <td>19.56</td>\n",
       "      <td>19.44</td>\n",
       "      <td>19.39</td>\n",
       "      <td>19.57</td>\n",
       "      <td>19.63</td>\n",
       "      <td>19.33</td>\n",
       "      <td>19.10</td>\n",
       "      <td>19.23</td>\n",
       "      <td>19.74</td>\n",
       "    </tr>\n",
       "    <tr>\n",
       "      <th>4</th>\n",
       "      <td>27.75</td>\n",
       "      <td>21.11</td>\n",
       "      <td>20.71</td>\n",
       "      <td>20.20</td>\n",
       "      <td>19.80</td>\n",
       "      <td>19.17</td>\n",
       "      <td>19.44</td>\n",
       "      <td>19.73</td>\n",
       "      <td>19.45</td>\n",
       "      <td>19.19</td>\n",
       "      <td>...</td>\n",
       "      <td>19.86</td>\n",
       "      <td>19.72</td>\n",
       "      <td>19.74</td>\n",
       "      <td>19.71</td>\n",
       "      <td>19.38</td>\n",
       "      <td>19.30</td>\n",
       "      <td>19.50</td>\n",
       "      <td>19.40</td>\n",
       "      <td>19.61</td>\n",
       "      <td>19.73</td>\n",
       "    </tr>\n",
       "  </tbody>\n",
       "</table>\n",
       "<p>5 rows × 62 columns</p>\n",
       "</div>"
      ],
      "text/plain": [
       "    AXES  -0.25   0.25   0.75   1.25   1.75   2.25   2.75   3.25   3.75  \\\n",
       "0  29.75  18.34  18.69  18.48  18.04  17.77  17.87  17.86  18.55  18.80   \n",
       "1  29.25  19.08  19.33  19.05  18.62  18.29  17.87  17.79  18.98  19.10   \n",
       "2  28.75  20.11  19.72  19.19  18.75  18.28  17.91  17.90  18.39  18.53   \n",
       "3  28.25  20.46  20.08  19.62  19.17  18.35  18.24  18.20  18.43  18.70   \n",
       "4  27.75  21.11  20.71  20.20  19.80  19.17  19.44  19.73  19.45  19.19   \n",
       "\n",
       "   ...    25.25  25.75  26.25  26.75  27.25  27.75  28.25  28.75  29.25  29.75  \n",
       "0  ...    19.00  18.76  18.70  19.60  19.73  19.55  19.33  19.11  18.54  18.45  \n",
       "1  ...    19.41  19.59  19.45  19.99  19.97  19.86  19.53  19.15  18.66  18.47  \n",
       "2  ...    19.51  19.35  19.58  19.78  19.78  19.53  19.20  19.16  19.16  19.57  \n",
       "3  ...    19.66  19.56  19.44  19.39  19.57  19.63  19.33  19.10  19.23  19.74  \n",
       "4  ...    19.86  19.72  19.74  19.71  19.38  19.30  19.50  19.40  19.61  19.73  \n",
       "\n",
       "[5 rows x 62 columns]"
      ]
     },
     "execution_count": 14,
     "metadata": {},
     "output_type": "execute_result"
    }
   ],
   "source": [
    "max_temps = pd.read_csv('../assets/ddc_nav.csv')\n",
    "\n",
    "max_temps.head()"
   ]
  },
  {
   "cell_type": "markdown",
   "metadata": {},
   "source": [
    "### 2. Use a seaborn .pairplot() on variables from two of your three datasets."
   ]
  },
  {
   "cell_type": "code",
   "execution_count": null,
   "metadata": {
    "collapsed": true
   },
   "outputs": [],
   "source": []
  },
  {
   "cell_type": "markdown",
   "metadata": {},
   "source": [
    "### Use a seaborn .jointplot() on variables from two of your three datasets."
   ]
  },
  {
   "cell_type": "code",
   "execution_count": null,
   "metadata": {
    "collapsed": true
   },
   "outputs": [],
   "source": []
  },
  {
   "cell_type": "markdown",
   "metadata": {},
   "source": [
    "### 3. Use a new seaborn function to plot variables from two of your three datasets."
   ]
  },
  {
   "cell_type": "code",
   "execution_count": null,
   "metadata": {
    "collapsed": true
   },
   "outputs": [],
   "source": []
  },
  {
   "cell_type": "markdown",
   "metadata": {},
   "source": [
    "## plotly\n",
    "\n",
    "Check out the plotly documentation and look back on the code I wrote for a guide to the syntax. Don't worry if plotly isn't intuitive at first. It takes practice.\n",
    "\n",
    "- website: https://plot.ly/\n",
    "- documentation and examples for plotting in python: https://plot.ly/python/"
   ]
  },
  {
   "cell_type": "markdown",
   "metadata": {},
   "source": [
    "### 4. Use a plotly scatterplot to plot variables from two of your three datasets."
   ]
  },
  {
   "cell_type": "code",
   "execution_count": null,
   "metadata": {
    "collapsed": true
   },
   "outputs": [],
   "source": []
  },
  {
   "cell_type": "markdown",
   "metadata": {},
   "source": [
    "### 5. [Optional] Try a new plotly function to plot variables from one of your datasets."
   ]
  },
  {
   "cell_type": "code",
   "execution_count": null,
   "metadata": {
    "collapsed": true
   },
   "outputs": [],
   "source": []
  },
  {
   "cell_type": "markdown",
   "metadata": {},
   "source": [
    "## Tableau\n",
    "\n",
    "We didn't cover Tableau in the lesson, but you've seen it yesterday and you looked at the tutorials online. \n",
    "\n",
    "Load the datasets into Tableau."
   ]
  },
  {
   "cell_type": "markdown",
   "metadata": {},
   "source": [
    "## 6. Use Tableau to make a plot type of your choice for each of your datasets."
   ]
  }
 ],
 "metadata": {
  "kernelspec": {
   "display_name": "Python 2",
   "language": "python",
   "name": "python2"
  },
  "language_info": {
   "codemirror_mode": {
    "name": "ipython",
    "version": 2
   },
   "file_extension": ".py",
   "mimetype": "text/x-python",
   "name": "python",
   "nbconvert_exporter": "python",
   "pygments_lexer": "ipython2",
   "version": "2.7.11"
  }
 },
 "nbformat": 4,
 "nbformat_minor": 0
}
