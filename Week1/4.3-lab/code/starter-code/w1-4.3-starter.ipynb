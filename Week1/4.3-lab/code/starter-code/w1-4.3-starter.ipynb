{
 "cells": [
  {
   "cell_type": "code",
   "execution_count": 28,
   "metadata": {
    "collapsed": false
   },
   "outputs": [],
   "source": [
    "import numpy as np \n",
    "import math \n",
    "\n",
    "# create an array\n",
    "my_array = [4,7,10,2,6,22,13,15]"
   ]
  },
  {
   "cell_type": "code",
   "execution_count": 32,
   "metadata": {
    "collapsed": false
   },
   "outputs": [
    {
     "name": "stdout",
     "output_type": "stream",
     "text": [
      "Mean:  9.0 \n",
      "\n",
      "Calculated Variance:  38.625 \n",
      "\n",
      "Numpy Var:  37.859375\n"
     ]
    }
   ],
   "source": [
    "# Write a function that computes the variance\n",
    "def mean_finder(array):\n",
    "    mean = 0 \n",
    "    for x in array:\n",
    "        mean += x\n",
    "    mean = mean / len(array)\n",
    "    return float(mean)\n",
    "\n",
    "def vance(mean, array):\n",
    "    var_list = []\n",
    "    for x in array:\n",
    "        var_list.append( (mean - x) ** 2 )\n",
    "    return mean_finder(var_list)\n",
    "\n",
    "print \"Mean: \", mean_finder(my_array), '\\n'\n",
    "\n",
    "print \"Calculated Variance: \", vance(9.0, my_array), '\\n'\n",
    "\n",
    "var = vance(9.0, my_array)\n",
    "# Compare your function results with numpy results\n",
    "\n",
    "npvar = np.var(my_array)\n",
    "\n",
    "print \"Numpy Var: \", npvar"
   ]
  },
  {
   "cell_type": "code",
   "execution_count": 34,
   "metadata": {
    "collapsed": false
   },
   "outputs": [
    {
     "name": "stdout",
     "output_type": "stream",
     "text": [
      "Calculated Standard Deviation:  6.21490144733 \n",
      "\n",
      "Numpy Standard Deviation:  6.15299723712\n"
     ]
    }
   ],
   "source": [
    "# Write a function that computes the standard deviation and \n",
    "def stdev(var):\n",
    "    return var ** 0.5\n",
    "\n",
    "print \"Calculated Standard Deviation: \", stdev(var), '\\n'\n",
    "# compare your function results with numpy equivalents.\n",
    "print \"Numpy Standard Deviation: \", np.std(my_array)"
   ]
  }
 ],
 "metadata": {
  "kernelspec": {
   "display_name": "Python 2",
   "language": "python",
   "name": "python2"
  },
  "language_info": {
   "codemirror_mode": {
    "name": "ipython",
    "version": 2
   },
   "file_extension": ".py",
   "mimetype": "text/x-python",
   "name": "python",
   "nbconvert_exporter": "python",
   "pygments_lexer": "ipython2",
   "version": "2.7.11"
  }
 },
 "nbformat": 4,
 "nbformat_minor": 0
}
