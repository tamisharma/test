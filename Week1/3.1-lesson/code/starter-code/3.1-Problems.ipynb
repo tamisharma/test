{
 "cells": [
  {
   "cell_type": "markdown",
   "metadata": {},
   "source": [
    "# Python Exercises"
   ]
  },
  {
   "cell_type": "markdown",
   "metadata": {},
   "source": [
    "## 1. Dictionaries and type checking"
   ]
  },
  {
   "cell_type": "markdown",
   "metadata": {},
   "source": [
    "For this problem you will be writing a function that accepts a dictionary and operates on it.\n",
    "\n",
    "Define a function:\n",
    "\n",
    "- Accept 1 argument, which is a dictionary.\n",
    "- Print the dictionary.\n",
    "- Iterate through the key:value pairs of the dictionary.\n",
    "    - For pairs where the key starts with a lowercase vowel, change the value to \"vowel\".\n",
    "    - For pairs where the key starts with a lowercase consonant, change the value to \"consonant\".\n",
    "    - Remove all other pairs from the dictionary.\n",
    "- Print the modified dictionary.\n",
    "- Return the modified dictionary.\n",
    "\n",
    "Notes/Hints:\n",
    " \n",
    "- ```string.ascii_lowercase``` is a string of all the lowercase letters in the alphabet. to use it you need to **import string** at the beginning of your script.\n",
    "- You can check if a character is in a string with **in**. \n",
    "    - ex: \n",
    "        ```python\n",
    "        if ch in st:\n",
    "        ```\n",
    "- You can create a new dictionary to store the modified return values or operate on the input dictionary.\n",
    "- You will likely need to check types in this using the ```type()``` python function:\n",
    "    ```python\n",
    "    type(1) == int\n",
    "    type(1.2) == float\n",
    "    type('ab') == str\n",
    "    type((1,2)) == tuple\n",
    "    type([3,2]) == list\n",
    "    type({'a':'b'}) == dict\n",
    "    ```"
   ]
  },
  {
   "cell_type": "code",
   "execution_count": 36,
   "metadata": {
    "collapsed": true
   },
   "outputs": [],
   "source": [
    "input_dict = {'list':[1,2,3,4], 'tuple':('cat', 'dog'), 'integer':1, \n",
    "              'float':99.99, 1:'integer', 2:'integer_2', 'Uppercase_string':'ABCD',\n",
    "              'CHARACTER':'C'}"
   ]
  },
  {
   "cell_type": "code",
   "execution_count": 37,
   "metadata": {
    "collapsed": false
   },
   "outputs": [],
   "source": [
    "vowels = 'aeiou'\n",
    "vowels_list = list(vowels)\n",
    "consonants = 'BCDFGHJKLMNPQRSTVWXYZ'.lower()\n",
    "consonants_list = list(consonants)\n"
   ]
  },
  {
   "cell_type": "code",
   "execution_count": 38,
   "metadata": {
    "collapsed": false
   },
   "outputs": [
    {
     "name": "stdout",
     "output_type": "stream",
     "text": [
      "{'Uppercase_string': 'ABCD', 1: 'integer', 2: 'integer_2', 'tuple': ('cat', 'dog'), 'integer': 1, 'CHARACTER': 'C', 'float': 99.99, 'list': [1, 2, 3, 4]}\n",
      "{'tuple': 'consonant', 'integer': 'vowel', 'float': 'consonant', 'list': 'consonant'}\n"
     ]
    },
    {
     "data": {
      "text/plain": [
       "{'float': 'consonant',\n",
       " 'integer': 'vowel',\n",
       " 'list': 'consonant',\n",
       " 'tuple': 'consonant'}"
      ]
     },
     "execution_count": 38,
     "metadata": {},
     "output_type": "execute_result"
    }
   ],
   "source": [
    "def moddict(in_dict):\n",
    "    ''' take dictionary and convert value of keys \n",
    "    that start with lowercase consonants or vowel to reflect that '''\n",
    "    print in_dict # print the dict\n",
    "    \n",
    "    # iterate through list\n",
    "    for d in in_dict.keys(): \n",
    "        d_str = str(d) # convert key to a str\n",
    "        \n",
    "        # Check if first character of the string is a vowel\n",
    "        if d_str[0] in vowels_list: \n",
    "            in_dict[d] = 'vowel'\n",
    "            \n",
    "        # Check if first character is a consonant\n",
    "        elif d_str[0] in consonants_list:\n",
    "            in_dict[d] = 'consonant'\n",
    "            \n",
    "        # if not vowel or consonant delete key, value\n",
    "        else:\n",
    "            del in_dict[d]\n",
    "            \n",
    "            \n",
    "    print in_dict # print the modified dict\n",
    "    return in_dict # return the modified dict\n",
    "        \n",
    "    \n",
    "moddict(input_dict) "
   ]
  },
  {
   "cell_type": "code",
   "execution_count": 39,
   "metadata": {
    "collapsed": false
   },
   "outputs": [
    {
     "name": "stdout",
     "output_type": "stream",
     "text": [
      "{'tuple': 'consonant', 'integer': 'vowel', 'float': 'consonant', 'list': 'consonant'}\n"
     ]
    }
   ],
   "source": [
    "''' Kiefer Walkthrough '''\n",
    "\n",
    "import string\n",
    "\n",
    "input_dict = {'list':[1,2,3,4], 'tuple':('cat', 'dog'), 'integer':1, \n",
    "              'float':99.99, 1:'integer', 2:'integer_2', 'Uppercase_string':'ABCD',\n",
    "              'CHARACTER':'C'}\n",
    "\n",
    "def myfunction(d):\n",
    "    # print d\n",
    "    \n",
    "    # print d.items\n",
    "    \n",
    "    for key, value in d.items():\n",
    "        if type(key) == str:\n",
    "            if key[0] in 'aeiou':\n",
    "                d[key] = 'vowel'\n",
    "            elif key[0] in string.ascii_lowercase:\n",
    "                d[key] = 'consonant'\n",
    "            else:\n",
    "                del d[key]\n",
    "        else:\n",
    "            del d[key]\n",
    "    print d\n",
    "                \n",
    "myfunction(input_dict)"
   ]
  },
  {
   "cell_type": "markdown",
   "metadata": {},
   "source": [
    "### Review Problem 2\n",
    "\n",
    "For this problem, you will be writing a function that operates on a dictionary and **optionally** a list of numbers.\n",
    "\n",
    "Write a function that:\n",
    "\n",
    "- Accepts a dictionary as its first argument. The values of the dictionary should be a list of numbers.\n",
    "- Accepts an optional **keyword argument** that is a list. The default should be an empty list. **The optional keyword list should be called remainder**\n",
    "- **If the list is empty:** append a 2 to the list.\n",
    "- Print the dictionary as well as the optional list.\n",
    "- Iterate though they key:value pairs in the dictionary:\n",
    "    - For each value list of numbers, calculate the **remainder of each number** for **each number in the remainder list**\n",
    "    - Create a dictionary where they keys are the numbers in the value list, and the values are the remainders of that number from the remainder list.\n",
    "    - ex: if value ```list == [10,9]``` and ```remainder == [2,3]```, the new dictionary would be: ```{10:[0, 1], 9:[1, 0]}```\n",
    "    - For the current key in the dictionary entered into the function, change the value to the new remainder dictionary.\n",
    "- Print out the new dictionary.\n",
    "- Return the dictionary.\n",
    "\n",
    "Notes/Hints:\n",
    "\n",
    "- keyword arguments are specified in functions like so: \n",
    "    ```python\n",
    "    def example_function(arg1, kwarg1=default_value):\n",
    "    ```\n",
    "- The operator for finding the remainder of two values is: ```%```\n",
    "    ```python\n",
    "    14 % 5 == 4\n",
    "    ```"
   ]
  },
  {
   "cell_type": "code",
   "execution_count": null,
   "metadata": {
    "collapsed": true
   },
   "outputs": [],
   "source": []
  },
  {
   "cell_type": "markdown",
   "metadata": {},
   "source": [
    "### Review Problem 3\n",
    "\n",
    "For this problem, you will be writing a function that will iterate through two lists.\n",
    "\n",
    "Define a function that:\n",
    "\n",
    "- Accepts two arguments that are lists of numbers (either float or integer):\n",
    "- Print both of the lists.\n",
    "- Construct a **while loop** that:\n",
    "    - Prints the current iteration number, starting at 1.\n",
    "        ```python\n",
    "        Iteration: 1\n",
    "        ```\n",
    "    - Iterate through each element of both lists **at the same time** using a for loop, assigning the number from list 1 to variable value1 and the number from list 2 to value2:\n",
    "        - If ```list1 == [1, 2]``` and ```list2 == [3, 4]```, there will be two iterations through the for loop.\n",
    "        - Iteration 1 will have ```value1 == 1``` and ```value2 == 3```\n",
    "        - Iteration 2 will have ```value2 == 2``` and ```value2 == 4```\n",
    "        - Multiply ```value1``` and ```value2``` together and assign it to variable ```multiplied```.\n",
    "        - Print ```multiplied```.\n",
    "        - If ```multiplied``` is greater than 300, **break out of the for loop and while loop.**\n",
    "    - Otherwise, **multiply each element of list 1 and list 2 by 2** before continuing through the while loop\n",
    "- Print \"Function complete.\"\n",
    "\n",
    "Notes/Hints:\n",
    "\n",
    "- To break out of a for loop or while loop at any time, use the **break** command.\n",
    "    - ex: \n",
    "        ```python\n",
    "        for i in my_list: \n",
    "            if i > 10: \n",
    "                break\n",
    "        ```\n",
    "- The **zip()** function will join lists/tuples **element by element**.\n",
    "    - ex:\n",
    "        ```python\n",
    "        zip([1,2], [3,4]) == [(1, 3), (2, 4)]\n",
    "        ```\n",
    "    - In a for loop, you can assign multiple variables at a time:\n",
    "        ```python\n",
    "        for value1, value2 in zip(list1, list2):\n",
    "        ```\n",
    "- ```while True``` can just keep running a loop until the ```break``` condition is met. Be careful!\n",
    "- To break out of **both** the for loop and the while loop, you will need to define some kind of flag variable outside of the for loop and inside the while loop that can keep track of whether the for loop was broken."
   ]
  },
  {
   "cell_type": "code",
   "execution_count": 40,
   "metadata": {
    "collapsed": true
   },
   "outputs": [],
   "source": [
    "''' Kiefer Solution '''\n",
    "\n",
    "list1 = [1.5,3.5,5.5,7.5]\n",
    "list2 = [0,4,8,12]\n",
    "\n",
    "def myfunction(list1, list2):\n",
    "    print list1\n",
    "    print list2\n",
    "    \n",
    "    iteration = 1\n",
    "    \n",
    "    while True:\n",
    "        print 'Iteration: ', iteration\n",
    "        break"
   ]
  },
  {
   "cell_type": "markdown",
   "metadata": {},
   "source": [
    "### Review problem 4\n",
    "\n",
    "For this problem you will write a function that calculates summary statistics for distributions.\n",
    "\n",
    "Your function should:\n",
    "\n",
    "- Accept two arguments: first the ```i``` variable generated by the outside for loop and second the ```numbers``` list that contains the set of numbers.\n",
    "- Print a string indicating what ```i``` currently is, like so:\n",
    "    ```python\n",
    "    i is currently: 1\n",
    "    ```\n",
    "- Calculate, without using numpy, the **mean**.\n",
    "- Calculate the **median** of ```numbers``` using ```np.median()```.\n",
    "- Print the mean and median like so:\n",
    "    ```python\n",
    "    mean: 12\n",
    "    median: 9\n",
    "    ```\n",
    "    \n",
    "Notes/Hints:\n",
    "\n",
    "- If you forgot how to calculate by hand any of the summary statistics, look it up!\n",
    "- You should define your function **outside** of the provided for loop, and then call it with ```i``` and ```numbers``` within the for loop\n",
    "- For the curious about the for loop:\n",
    "    - ```for i in range(1, 15, 2)``` assigns ```i``` from 1 to 15 with a step size of 2\n",
    "    - ```numbers``` is created with a **list comprehension**, which is an alternative to looping and creates a new list from elements of another list. We will go over these in more detail later.\n",
    "    - ```np.random.randn()``` generates a uniform random number between 0 and 1.\n",
    "    - ```np.random.gamma(i, i, 100)``` generates 100 samples from a gamma distribution with mean ```i``` and standard deviation ```i```. **Dont worry about this now** (but feel free to look it up if youre curious)!\n",
    "    "
   ]
  },
  {
   "cell_type": "code",
   "execution_count": null,
   "metadata": {
    "collapsed": true
   },
   "outputs": [],
   "source": []
  },
  {
   "cell_type": "markdown",
   "metadata": {},
   "source": []
  },
  {
   "cell_type": "code",
   "execution_count": null,
   "metadata": {
    "collapsed": true
   },
   "outputs": [],
   "source": []
  },
  {
   "cell_type": "markdown",
   "metadata": {},
   "source": []
  },
  {
   "cell_type": "code",
   "execution_count": null,
   "metadata": {
    "collapsed": true
   },
   "outputs": [],
   "source": []
  },
  {
   "cell_type": "markdown",
   "metadata": {},
   "source": []
  },
  {
   "cell_type": "code",
   "execution_count": null,
   "metadata": {
    "collapsed": true
   },
   "outputs": [],
   "source": []
  },
  {
   "cell_type": "markdown",
   "metadata": {},
   "source": []
  }
 ],
 "metadata": {
  "kernelspec": {
   "display_name": "Python 2",
   "language": "python",
   "name": "python2"
  },
  "language_info": {
   "codemirror_mode": {
    "name": "ipython",
    "version": 2
   },
   "file_extension": ".py",
   "mimetype": "text/x-python",
   "name": "python",
   "nbconvert_exporter": "python",
   "pygments_lexer": "ipython2",
   "version": "2.7.11"
  }
 },
 "nbformat": 4,
 "nbformat_minor": 0
}
