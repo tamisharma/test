{
 "cells": [
  {
   "cell_type": "code",
   "execution_count": 1,
   "metadata": {
    "collapsed": true
   },
   "outputs": [],
   "source": [
    "# write a function with one argument. Find the area of a square. \n",
    "def areaSquare(side):\n",
    "    area_Sq = side ** 2\n",
    "    return area_Sq"
   ]
  },
  {
   "cell_type": "code",
   "execution_count": 6,
   "metadata": {
    "collapsed": false
   },
   "outputs": [
    {
     "name": "stdout",
     "output_type": "stream",
     "text": [
      "For side length 1 the area is: 1\n",
      "For side length 2 the area is: 4\n",
      "For side length 3 the area is: 9\n",
      "For side length 4 the area is: 16\n",
      "For side length 5 the area is: 25\n"
     ]
    }
   ],
   "source": [
    "# Test function areaSquare\n",
    "squares = [1, 2, 3, 4, 5]\n",
    "\n",
    "for square in squares:\n",
    "    side = square\n",
    "    areaSq = areaSquare(side)\n",
    "    print \"For side length \" + str(side) +\" the area is: \" + str(areaSq)"
   ]
  },
  {
   "cell_type": "code",
   "execution_count": 7,
   "metadata": {
    "collapsed": false
   },
   "outputs": [],
   "source": [
    "# write a function with two arguments. Find the area of a rectangle. \n",
    "def areaRect(length,breadth):\n",
    "    area_Rect = length * breadth\n",
    "    return area_Rect"
   ]
  },
  {
   "cell_type": "code",
   "execution_count": 14,
   "metadata": {
    "collapsed": false
   },
   "outputs": [
    {
     "name": "stdout",
     "output_type": "stream",
     "text": [
      "For len: 1 and width: 6 the area is: 6\n",
      "For len: 2 and width: 10 the area is: 20\n",
      "For len: 3 and width: 9 the area is: 27\n",
      "For len: 4 and width: 8 the area is: 32\n",
      "For len: 5 and width: 7 the area is: 35\n"
     ]
    }
   ],
   "source": [
    "sides = [(1,2,3,4,5,), (6,7,8,9,10,)]\n",
    "for i in range(len(side[1])):\n",
    "    length = sides[0][i]\n",
    "    breadth = sides[1][-i]\n",
    "    print \"For len: \" + str(length) + \" and width: \" + str(breadth) + \\\n",
    "    \" the area is: \" + str(areaRect(length, breadth))\n",
    "    \n",
    "\"\"\"alternatively:\"\"\"\n",
    "\n",
    "rectanges = [(1,5), (2,6), (3,7), (4,8)]\n",
    "for rectangle in rectangles:\n",
    "    length = rectange[0]\n",
    "    width = rectangle[1]"
   ]
  },
  {
   "cell_type": "code",
   "execution_count": 21,
   "metadata": {
    "collapsed": false
   },
   "outputs": [
    {
     "name": "stdout",
     "output_type": "stream",
     "text": [
      "is correct\n",
      "For cuboid with length, breadth, height of: 1, 2, 3 the area is 22\n",
      "is correct\n",
      "For cuboid with length, breadth, height of: 4.8, 3.4, 7.2 the area is 150.72\n",
      "is correct\n",
      "For cuboid with length, breadth, height of: 7, 8, 9 the area is 382\n",
      "is correct\n",
      "For cuboid with length, breadth, height of: 10, 11, 12 the area is 724\n",
      "is correct\n",
      "For cuboid with length, breadth, height of: 8, 6, 5 the area is 236\n"
     ]
    }
   ],
   "source": [
    "# write a function with three arguments. Find the surface area of cuboid.\n",
    "def surfaceAreaCuboid(length,breadth,height): \n",
    "    area = 2 * (length * breadth + length * height + breadth * height)\n",
    "    return area\n",
    "    \n",
    "cuboids = [(1,2,3),(4.8,3.4,7.2),(7,8,9),(10,11,12),(8,6,5)]\n",
    "expected_values = [22, 150.72, 382, 724, 236]\n",
    "\n",
    "for index, cuboid in enumerate(cuboids):\n",
    "    length = cuboid[0]\n",
    "    breadth = cuboid[1]\n",
    "    height = cuboid[2]\n",
    "    \n",
    "    surfacearea_cuboid = surfaceAreaCuboid(length,breadth,height)\n",
    "    if surfacearea_cuboid == expected_values[index]:\n",
    "        print \"is correct\"\n",
    "    else:\n",
    "        print \"is incorrect\"\n",
    "    \n",
    "    print \"For cuboid with length, breadth, height of: \" + \\\n",
    "    str(length) + \", \" + str(breadth) + \", \" + str(height) + \\\n",
    "    \" the area is \" + str(surfaceAreaCuboid(length,breadth,height))"
   ]
  },
  {
   "cell_type": "code",
   "execution_count": null,
   "metadata": {
    "collapsed": true
   },
   "outputs": [],
   "source": []
  }
 ],
 "metadata": {
  "kernelspec": {
   "display_name": "Python 2",
   "language": "python",
   "name": "python2"
  },
  "language_info": {
   "codemirror_mode": {
    "name": "ipython",
    "version": 2
   },
   "file_extension": ".py",
   "mimetype": "text/x-python",
   "name": "python",
   "nbconvert_exporter": "python",
   "pygments_lexer": "ipython2",
   "version": "2.7.11"
  }
 },
 "nbformat": 4,
 "nbformat_minor": 0
}
