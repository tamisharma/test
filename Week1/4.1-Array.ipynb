{
 "cells": [
  {
   "cell_type": "code",
   "execution_count": 2,
   "metadata": {
    "collapsed": true
   },
   "outputs": [],
   "source": [
    "import numpy as np"
   ]
  },
  {
   "cell_type": "code",
   "execution_count": 14,
   "metadata": {
    "collapsed": false
   },
   "outputs": [
    {
     "data": {
      "text/plain": [
       "array(['i0', 'i1'], \n",
       "      dtype='|S2')"
      ]
     },
     "execution_count": 14,
     "metadata": {},
     "output_type": "execute_result"
    }
   ],
   "source": [
    "a =  ['i0', 'i1']\n",
    "vector = np.array(a)\n",
    "vector"
   ]
  },
  {
   "cell_type": "code",
   "execution_count": 15,
   "metadata": {
    "collapsed": false
   },
   "outputs": [
    {
     "data": {
      "text/plain": [
       "array([['i0', 'i1'],\n",
       "       ['i0', 'i1']], \n",
       "      dtype='|S2')"
      ]
     },
     "execution_count": 15,
     "metadata": {},
     "output_type": "execute_result"
    }
   ],
   "source": [
    "mtx_tbt = np.array([a, a])\n",
    "mtx_tbt"
   ]
  },
  {
   "cell_type": "code",
   "execution_count": 19,
   "metadata": {
    "collapsed": false
   },
   "outputs": [
    {
     "data": {
      "text/plain": [
       "array([['i0', 'i1', 'i2'],\n",
       "       ['i0', 'i1', 'i2'],\n",
       "       ['i0', 'i1', 'i2']], \n",
       "      dtype='|S2')"
      ]
     },
     "execution_count": 19,
     "metadata": {},
     "output_type": "execute_result"
    }
   ],
   "source": [
    "b = ['i0', 'i1', 'i2']\n",
    "\n",
    "mtx_thbth = np.array([b,b,b])\n",
    "\n",
    "mtx_thbth"
   ]
  },
  {
   "cell_type": "code",
   "execution_count": 32,
   "metadata": {
    "collapsed": false
   },
   "outputs": [
    {
     "name": "stdout",
     "output_type": "stream",
     "text": [
      "row 1 : ['i0' 'i1' 'i2' 'i3' 'i4' 'i5' 'i6' 'i7']\n",
      "row 2 : ['i0' 'i1' 'i2' 'i3' 'i4' 'i5' 'i6' 'i7']\n",
      "row 3 : ['i0' 'i1' 'i2' 'i3' 'i4' 'i5' 'i6' 'i7']\n",
      "row 4 : ['i0' 'i1' 'i2' 'i3' 'i4' 'i5' 'i6' 'i7']\n",
      "(4, 8)\n"
     ]
    }
   ],
   "source": [
    "c = ['i0', 'i1', 'i2','i3', 'i4', 'i5','i6', 'i7',]\n",
    "\n",
    "mtx_fourbyeight = np.array([c,c,c,c])\n",
    "\n",
    "\n",
    "for i, array in enumerate(mtx_fourbyeight):\n",
    "    print \"row\", i+1,\":\", array\n",
    "\n",
    "print mtx_fourbyeight.shape"
   ]
  },
  {
   "cell_type": "code",
   "execution_count": 5,
   "metadata": {
    "collapsed": true
   },
   "outputs": [],
   "source": [
    "a = [ 1,2,3,4,5 ]\n",
    "b = [ 5,4,3,2,1 ]"
   ]
  },
  {
   "cell_type": "markdown",
   "metadata": {},
   "source": [
    "# Adding and Subtracting Matricies\n",
    "\n",
    "## Adding \n",
    "\n",
    "a[0] + b[0], a[1] + b[1], ..., a[4] + b[4]\n",
    "\n",
    "## Subtracting \n",
    "a[0] - b[0], a[1] - b[1], ..., a[4] - b[4]"
   ]
  },
  {
   "cell_type": "code",
   "execution_count": 6,
   "metadata": {
    "collapsed": false
   },
   "outputs": [
    {
     "data": {
      "text/plain": [
       "array([6, 6, 6, 6, 6])"
      ]
     },
     "execution_count": 6,
     "metadata": {},
     "output_type": "execute_result"
    }
   ],
   "source": [
    "# Adding through numpy\n",
    "\n",
    "np.add(a,b)"
   ]
  },
  {
   "cell_type": "markdown",
   "metadata": {},
   "source": [
    "## Exercises:\n"
   ]
  },
  {
   "cell_type": "code",
   "execution_count": 7,
   "metadata": {
    "collapsed": false
   },
   "outputs": [
    {
     "data": {
      "text/plain": [
       "array([-5, -3, -1,  1,  3,  5])"
      ]
     },
     "execution_count": 7,
     "metadata": {},
     "output_type": "execute_result"
    }
   ],
   "source": [
    "# 1. Add\n",
    "a = [1, 2, 3, 4, 5, 6]\n",
    "b = [-6, -5, -4, -3, -2, -1]\n",
    "\n",
    "np.add(a, b)"
   ]
  },
  {
   "cell_type": "code",
   "execution_count": 8,
   "metadata": {
    "collapsed": false
   },
   "outputs": [
    {
     "data": {
      "text/plain": [
       "array([ 5,  3,  1, -1, -3, -5])"
      ]
     },
     "execution_count": 8,
     "metadata": {},
     "output_type": "execute_result"
    }
   ],
   "source": [
    "# 2. Subtract\n",
    "a = [-1, -2, -3, -4, -5, -6]\n",
    "b = [-6, -5, -4, -3, -2, -1]\n",
    "\n",
    "np.subtract(a,b)"
   ]
  },
  {
   "cell_type": "code",
   "execution_count": 9,
   "metadata": {
    "collapsed": false
   },
   "outputs": [
    {
     "data": {
      "text/plain": [
       "array([ 702.       , -300.33     ,  146.22     , -426.3000003,\n",
       "          7.3234   ,   -4.234    ])"
      ]
     },
     "execution_count": 9,
     "metadata": {},
     "output_type": "execute_result"
    }
   ],
   "source": [
    "# 3. Subtract\n",
    "a = [101, 201, 33.22, -423, 5.3234, -6.234]\n",
    "b = [-601, 501.33, -113, 3.3000003, -2, -1.999999999999999]\n",
    "\n",
    "np.subtract(a, b)"
   ]
  },
  {
   "cell_type": "code",
   "execution_count": 23,
   "metadata": {
    "collapsed": false
   },
   "outputs": [
    {
     "name": "stdout",
     "output_type": "stream",
     "text": [
      "-702.0\n",
      "300.33\n",
      "-146.22\n",
      "426.3000003\n",
      "-5.3234\n",
      "-45.0\n"
     ]
    }
   ],
   "source": [
    "# 4. Subtract\n",
    "\n",
    "a = [-101, -201, -33.22, 423, -5.3234, -34]\n",
    "b = [601, -501.33, 113, -3.3000003, 'l', 10.999999999999999]\n",
    "\n",
    "b_mod = []\n",
    "for x in b:\n",
    "    if (type(x) == (str)) : # If item is a string\n",
    "        x = 0 # assign item as value 0\n",
    "        b_mod.append(x) # append to list\n",
    "    else: # If float or int\n",
    "        b_mod.append(x) # append to list\n",
    "\n",
    "for difference in np.subtract(a, b_mod):\n",
    "    print difference"
   ]
  },
  {
   "cell_type": "markdown",
   "metadata": {},
   "source": [
    "# Array Practice\n",
    "## 2D Array"
   ]
  },
  {
   "cell_type": "code",
   "execution_count": 25,
   "metadata": {
    "collapsed": false
   },
   "outputs": [],
   "source": [
    "arr1 = np.array([ 8 , 6 , 7.53 , .09 ])\n",
    "arr2 = np.array([9, 7, 8.530000000000001, 1.09])"
   ]
  },
  {
   "cell_type": "code",
   "execution_count": 26,
   "metadata": {
    "collapsed": false
   },
   "outputs": [
    {
     "data": {
      "text/plain": [
       "array([ 17.  ,  13.  ,  16.06,   1.18])"
      ]
     },
     "execution_count": 26,
     "metadata": {},
     "output_type": "execute_result"
    }
   ],
   "source": [
    "# Add\n",
    "np.add(arr1,arr2)"
   ]
  },
  {
   "cell_type": "code",
   "execution_count": 27,
   "metadata": {
    "collapsed": false
   },
   "outputs": [
    {
     "data": {
      "text/plain": [
       "array([-1., -1., -1., -1.])"
      ]
     },
     "execution_count": 27,
     "metadata": {},
     "output_type": "execute_result"
    }
   ],
   "source": [
    "# Subtract \n",
    "np.subtract(arr1,arr2)"
   ]
  },
  {
   "cell_type": "code",
   "execution_count": 28,
   "metadata": {
    "collapsed": false
   },
   "outputs": [
    {
     "data": {
      "text/plain": [
       "178.32900000000001"
      ]
     },
     "execution_count": 28,
     "metadata": {},
     "output_type": "execute_result"
    }
   ],
   "source": [
    "# Dot\n",
    "np.dot(arr1,arr2)"
   ]
  },
  {
   "cell_type": "markdown",
   "metadata": {},
   "source": [
    "## 3D Array"
   ]
  },
  {
   "cell_type": "code",
   "execution_count": 37,
   "metadata": {
    "collapsed": false
   },
   "outputs": [
    {
     "data": {
      "text/plain": [
       "array([[['a'],\n",
       "        ['b']],\n",
       "\n",
       "       [['c'],\n",
       "        ['d']],\n",
       "\n",
       "       [['e'],\n",
       "        ['f']]], \n",
       "      dtype='|S1')"
      ]
     },
     "execution_count": 37,
     "metadata": {},
     "output_type": "execute_result"
    }
   ],
   "source": [
    "# Create a 3 dimensional array\n",
    "#1D = []\n",
    "#2D =[[],[]]\n",
    "\"\"\"3D =[\n",
    "    [[],[]],\n",
    "    [[],[]],\n",
    "    [[],[]]\n",
    "]\"\"\"\n",
    "\n",
    "arr_3 =[\n",
    "    [['a'],['b']],\n",
    "    [['c'],['d']],\n",
    "    [['e'],['f']]\n",
    "]\n",
    "\n",
    "arr_3D = np.array(arr_3)\n",
    "\n",
    "arr_3D"
   ]
  },
  {
   "cell_type": "code",
   "execution_count": null,
   "metadata": {
    "collapsed": true
   },
   "outputs": [],
   "source": []
  }
 ],
 "metadata": {
  "kernelspec": {
   "display_name": "Python 2",
   "language": "python",
   "name": "python2"
  },
  "language_info": {
   "codemirror_mode": {
    "name": "ipython",
    "version": 2
   },
   "file_extension": ".py",
   "mimetype": "text/x-python",
   "name": "python",
   "nbconvert_exporter": "python",
   "pygments_lexer": "ipython2",
   "version": "2.7.11"
  }
 },
 "nbformat": 4,
 "nbformat_minor": 0
}
