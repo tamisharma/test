{
 "cells": [
  {
   "cell_type": "code",
   "execution_count": 1,
   "metadata": {
    "collapsed": true
   },
   "outputs": [],
   "source": [
    "import numpy as np\n",
    "import scipy.stats as stats\n",
    "import pandas as pd\n",
    "from sklearn.neighbors import KernelDensity\n",
    "\n",
    "import seaborn as sns\n",
    "import matplotlib.pyplot as plt\n",
    "import matplotlib.mlab as mlab\n",
    "\n",
    "sns.set_style('white')\n",
    "\n",
    "%matplotlib inline"
   ]
  },
  {
   "cell_type": "code",
   "execution_count": 2,
   "metadata": {
    "collapsed": false
   },
   "outputs": [
    {
     "data": {
      "text/html": [
       "<div>\n",
       "<table border=\"1\" class=\"dataframe\">\n",
       "  <thead>\n",
       "    <tr style=\"text-align: right;\">\n",
       "      <th></th>\n",
       "      <th>airport</th>\n",
       "      <th>year</th>\n",
       "      <th>departures_for_metric_computation</th>\n",
       "      <th>arrivals_for_metric_computation</th>\n",
       "      <th>percent_on_time_gate_departures</th>\n",
       "      <th>percent_on_time_airport_departures</th>\n",
       "      <th>percent_on_time_gate_arrivals</th>\n",
       "      <th>average_gate_departure_delay</th>\n",
       "      <th>average_taxi_out_time</th>\n",
       "      <th>average_taxi_out_delay</th>\n",
       "      <th>average_airport_departure_delay</th>\n",
       "      <th>average_airborne_delay</th>\n",
       "      <th>average_taxi_in_delay</th>\n",
       "      <th>average_block_delay</th>\n",
       "      <th>average_gate_arrival_delay</th>\n",
       "    </tr>\n",
       "  </thead>\n",
       "  <tbody>\n",
       "    <tr>\n",
       "      <th>0</th>\n",
       "      <td>ABQ</td>\n",
       "      <td>2004</td>\n",
       "      <td>53971</td>\n",
       "      <td>53818</td>\n",
       "      <td>0.803</td>\n",
       "      <td>0.7809</td>\n",
       "      <td>0.7921</td>\n",
       "      <td>10.38</td>\n",
       "      <td>9.89</td>\n",
       "      <td>2.43</td>\n",
       "      <td>12.1</td>\n",
       "      <td>2.46</td>\n",
       "      <td>0.83</td>\n",
       "      <td>2.55</td>\n",
       "      <td>10.87</td>\n",
       "    </tr>\n",
       "    <tr>\n",
       "      <th>1</th>\n",
       "      <td>ABQ</td>\n",
       "      <td>2005</td>\n",
       "      <td>51829</td>\n",
       "      <td>51877</td>\n",
       "      <td>0.814</td>\n",
       "      <td>0.7922</td>\n",
       "      <td>0.8001</td>\n",
       "      <td>9.60</td>\n",
       "      <td>9.79</td>\n",
       "      <td>2.29</td>\n",
       "      <td>11.2</td>\n",
       "      <td>2.26</td>\n",
       "      <td>0.89</td>\n",
       "      <td>2.34</td>\n",
       "      <td>10.24</td>\n",
       "    </tr>\n",
       "  </tbody>\n",
       "</table>\n",
       "</div>"
      ],
      "text/plain": [
       "  airport  year  departures_for_metric_computation  \\\n",
       "0     ABQ  2004                              53971   \n",
       "1     ABQ  2005                              51829   \n",
       "\n",
       "   arrivals_for_metric_computation  percent_on_time_gate_departures  \\\n",
       "0                            53818                            0.803   \n",
       "1                            51877                            0.814   \n",
       "\n",
       "   percent_on_time_airport_departures  percent_on_time_gate_arrivals  \\\n",
       "0                              0.7809                         0.7921   \n",
       "1                              0.7922                         0.8001   \n",
       "\n",
       "   average_gate_departure_delay  average_taxi_out_time  \\\n",
       "0                         10.38                   9.89   \n",
       "1                          9.60                   9.79   \n",
       "\n",
       "   average_taxi_out_delay  average_airport_departure_delay  \\\n",
       "0                    2.43                             12.1   \n",
       "1                    2.29                             11.2   \n",
       "\n",
       "   average_airborne_delay  average_taxi_in_delay  average_block_delay  \\\n",
       "0                    2.46                   0.83                 2.55   \n",
       "1                    2.26                   0.89                 2.34   \n",
       "\n",
       "   average_gate_arrival_delay  \n",
       "0                       10.87  \n",
       "1                       10.24  "
      ]
     },
     "execution_count": 2,
     "metadata": {},
     "output_type": "execute_result"
    }
   ],
   "source": [
    "air = pd.read_csv('assets/datasets/airport_operations.csv')\n",
    "air.columns = [c.replace(' ','_').replace('-','_') for c in air.columns]\n",
    "air.head(2)"
   ]
  },
  {
   "cell_type": "code",
   "execution_count": 3,
   "metadata": {
    "collapsed": true
   },
   "outputs": [],
   "source": [
    "delay = air.average_airport_departure_delay.values"
   ]
  },
  {
   "cell_type": "code",
   "execution_count": 13,
   "metadata": {
    "collapsed": false
   },
   "outputs": [
    {
     "data": {
      "image/png": "[encoded data removed]",
      "text/plain": [
       "<matplotlib.figure.Figure at 0x117242850>"
      ]
     },
     "metadata": {},
     "output_type": "display_data"
    }
   ],
   "source": [
    "sns.distplot(delay, bins=40)\n",
    "plt.title(\"Distribution of Delays\")\n",
    "plt.xlabel(\"Delay in Minutes\")\n",
    "plt.show()"
   ]
  },
  {
   "cell_type": "code",
   "execution_count": 18,
   "metadata": {
    "collapsed": false
   },
   "outputs": [
    {
     "data": {
      "image/png": "[encoded data removed]",
      "text/plain": [
       "<matplotlib.figure.Figure at 0x117b29f50>"
      ]
     },
     "metadata": {},
     "output_type": "display_data"
    }
   ],
   "source": [
    "fig = plt.figure(figsize=(9,7))\n",
    "ax = fig.gca()\n",
    "\n",
    "ax = sns.distplot(delay, bins=40, ax=ax)\n",
    "ax.axvline(mean_delay, lw=5, ls = 'dashed', color = 'black')\n",
    "\n",
    "plt.title(\"Distribution of Delays, Mean Indicated\")\n",
    "plt.xlabel(\"Delay in Minutes\")\n",
    "\n",
    "plt.show()"
   ]
  },
  {
   "cell_type": "code",
   "execution_count": 7,
   "metadata": {
    "collapsed": false
   },
   "outputs": [
    {
     "name": "stdout",
     "output_type": "stream",
     "text": [
      "16.2499643282\n"
     ]
    }
   ],
   "source": [
    "mean_delay = np.mean(delay)\n",
    "print mean_delay"
   ]
  },
  {
   "cell_type": "code",
   "execution_count": 8,
   "metadata": {
    "collapsed": false
   },
   "outputs": [
    {
     "name": "stdout",
     "output_type": "stream",
     "text": [
      "841\n"
     ]
    }
   ],
   "source": [
    "number_obs = len(delay)\n",
    "print number_obs"
   ]
  },
  {
   "cell_type": "code",
   "execution_count": 10,
   "metadata": {
    "collapsed": true
   },
   "outputs": [],
   "source": [
    "delay_subset = np.random.choice(delay, replace=False, size=50)"
   ]
  },
  {
   "cell_type": "code",
   "execution_count": 19,
   "metadata": {
    "collapsed": false
   },
   "outputs": [
    {
     "data": {
      "image/png": "[encoded data removed]",
      "text/plain": [
       "<matplotlib.figure.Figure at 0x117cb9fd0>"
      ]
     },
     "metadata": {},
     "output_type": "display_data"
    }
   ],
   "source": [
    "sns.distplot(delay_subset, bins=25, norm_hist=False, kde=False)\n",
    "\n",
    "plt.title(\"Delays After Subsetting\")\n",
    "plt.xlabel(\"Delay in Minutes\")\n",
    "\n",
    "plt.show()"
   ]
  },
  {
   "cell_type": "code",
   "execution_count": 20,
   "metadata": {
    "collapsed": true
   },
   "outputs": [],
   "source": [
    "weak_prior = stats.norm(20, 5)\n",
    "strong_prior = stats.norm(20, 1)"
   ]
  },
  {
   "cell_type": "code",
   "execution_count": 25,
   "metadata": {
    "collapsed": false
   },
   "outputs": [
    {
     "data": {
      "image/png": "[encoded data removed]",
      "text/plain": [
       "<matplotlib.figure.Figure at 0x1177cbe90>"
      ]
     },
     "metadata": {},
     "output_type": "display_data"
    }
   ],
   "source": [
    "\n",
    "fig = plt.figure(figsize=(9,7))\n",
    "ax = fig.gca()\n",
    "\n",
    "minute_range = np.linspace(5, 35, 30*200)\n",
    "\n",
    "weak_pdf = weak_prior.pdf(minute_range)\n",
    "strong_pdf = strong_prior.pdf(minute_range)\n",
    "\n",
    "ax.plot(minute_range, weak_pdf, color='steelblue', lw=3)\n",
    "ax.plot(minute_range, strong_pdf, color='darkred', lw=3)\n",
    "\n",
    "plt.title(\"Probability Distribution of the Priors\")\n",
    "plt.legend(['Weak Prior', 'Strong Prior'])\n",
    "\n",
    "plt.show()\n"
   ]
  },
  {
   "cell_type": "code",
   "execution_count": 40,
   "metadata": {
    "collapsed": true
   },
   "outputs": [],
   "source": [
    "# likelihood:\n",
    "# P( data | P( statistic ) )\n",
    "# Statistic = mean_delay; what we are measuring\n",
    "# P( statistic ) is our prior belief of mean delays\n",
    "# data is observed flight delays\n",
    "\n",
    "# prior_distribution is distribution form of our beliefs\n",
    "# prior_std is std (scale) of prior belief distribution\n",
    "def log_likelihood( data , statistic , prior_distribution , prior_std ): \n",
    "    prior = prior_distribution( statistic , prior_std )\n",
    "    loglike = prior.logpdf( data )\n",
    "    return loglike\n",
    "\n",
    "# just like the non-log version of the above ( for reference ):\n",
    "def likelihood( data , statistic , prior_distribution , prior_std ): \n",
    "    prior = prior_distribution( statistic , prior_std )\n",
    "    like = prior.pdf( data )\n",
    "    return like\n",
    "\n",
    "# Get log pdf for single means, given prior statistic ( mean ) and std\n",
    "def prior_logpdf( statistic , prior_distribution , prior_statistic , prior_std ) :\n",
    "    priopr = prior_distribution(prior_statistic, prior_std )\n",
    "    statistic_logpdf = prior.logpdf( statistic )\n",
    "    return statistic_logpdf"
   ]
  },
  {
   "cell_type": "code",
   "execution_count": 36,
   "metadata": {
    "collapsed": false
   },
   "outputs": [
    {
     "name": "stdout",
     "output_type": "stream",
     "text": [
      "1.91760643063e-76\n"
     ]
    }
   ],
   "source": [
    "# to convert log likelihood to normal use np.exp\n",
    "delay_likelihood_weak_prior = np.exp( log_likelihood ( delay_subset , 20 , stats.norm , 10 ) )\n",
    "\n",
    "delay_loglikes = log_likelihood(delay_subset, 20 , stats.norm, 10)\n",
    "delay_likes = likelihood(delay_subset, 20 , stats.norm, 10)\n",
    "\n",
    "delay_likelihood_weakprior = np.exp(delay_loglikes)\n",
    "weak_likelihood = np.prod( delay_likes )\n",
    "\n",
    "print weak_likelihood"
   ]
  },
  {
   "cell_type": "code",
   "execution_count": 39,
   "metadata": {
    "collapsed": false
   },
   "outputs": [
    {
     "name": "stdout",
     "output_type": "stream",
     "text": [
      "0.0\n"
     ]
    }
   ],
   "source": [
    "# Now for strong\n",
    "\n",
    "strong_loglikes = log_likelihood(delay_subset, 20 , stats.norm, 1)\n",
    "\n",
    "strong_likelihood = np.prod(np.exp(strong_loglikes))\n",
    "print strong_likelihood\n",
    "\n",
    "# The output is 0.0, compare to weak likelihood. \n",
    "# Means strong_likelihood is much more "
   ]
  },
  {
   "cell_type": "code",
   "execution_count": 33,
   "metadata": {
    "collapsed": false
   },
   "outputs": [
    {
     "data": {
      "image/png": "[encoded data removed]",
      "text/plain": [
       "<matplotlib.figure.Figure at 0x117242c10>"
      ]
     },
     "metadata": {},
     "output_type": "display_data"
    }
   ],
   "source": [
    "\n",
    "plt.figure( figsize= ( 7 , 6 ) )\n",
    "\n",
    "plt.scatter( delay_subset , delay_likelihood_weak_prior , color='steelblue' , s=50 )\n",
    "\n",
    "plt.show( )"
   ]
  },
  {
   "cell_type": "code",
   "execution_count": 49,
   "metadata": {
    "collapsed": true
   },
   "outputs": [],
   "source": [
    "# likelihood:\n",
    "# P( data | P( statistic ) )\n",
    "# Statistic = mean_delay; what we are measuring\n",
    "# P( statistic ) is our prior belief of mean delays\n",
    "# data is observed flight delays\n",
    "\n",
    "# prior_distribution is distribution form of our beliefs\n",
    "# prior_std is std (scale) of prior belief distribution\n",
    "def log_likelihood( data , statistic , prior_distribution , prior_std ): \n",
    "    prior = prior_distribution( statistic , prior_std )\n",
    "    loglike = prior.logpdf( data )\n",
    "    return loglike\n",
    "\n",
    "# just like the non-log version of the above ( for reference ):\n",
    "def likelihood( data , statistic , prior_distribution , prior_std ): \n",
    "    prior = prior_distribution( statistic , prior_std )\n",
    "    like = prior.pdf( data )\n",
    "    return like\n",
    "\n",
    "# Get log pdf for single means, given prior statistic ( mean ) and std\n",
    "def prior_logpdf( statistic , prior_distribution , prior_statistic , prior_std ) :\n",
    "    priopr = prior_distribution(prior_statistic, prior_std )\n",
    "    statistic_logpdf = prior.logpdf( statistic )\n",
    "    return statistic_logpdf\n",
    "\n",
    "# Get the distance for the next shift of the prior distribution :\n",
    "def proposal(\n",
    "    statistic , \n",
    "    proposal_distribution,\n",
    "    step_size):\n",
    "    \n",
    "    dist = proposal_distribution(statistic, stepsize)\n",
    "    new_proposed_statistic = dist.rvs()\n",
    "    return new_proposed_statistic"
   ]
  },
  {
   "cell_type": "code",
   "execution_count": 54,
   "metadata": {
    "collapsed": true
   },
   "outputs": [],
   "source": [
    "def metropolis_sampler( \n",
    "    data , \n",
    "    statistic , \n",
    "    prior_distribution ,\n",
    "    prior_statistic , \n",
    "    proposal_distribution , \n",
    "    proposal_avg_step\n",
    "    ):\n",
    "    \n",
    "    current_loglike = log_likelihood( data, statistic , prior_distribution , prior_std)\n",
    "    current_prior_loglike = prior_logpdf( statistic , prior_distribution, prior_statistic, prior_std)\n",
    "    \n",
    "    proposed_shift = proposal(statistic, proposal_distribution, step_size)\n",
    "    proposed_loglike = log_likelihood(data, proposed_shift, prior_distribution, prior_std)\n",
    "    proposed_prior_loglike = prior_logpdf( proposed_shift, prior_distribution, prior_statistic, prior_std)\n",
    "    \n",
    "    current_posterior_numerator_loglike = current_loglike + current_prior_loglike\n",
    "    proposed_posterior_numerator_loglike = proposed_loglike + proposed_prior_loglike\n",
    "    \n",
    "    acceptance_criterion = np.exp(proposed_posterior_numerator_loglike - current_posterior_numerator_loglike)\n",
    "    \n",
    "    accept = acceptance_criterion > np.random.rand()\n",
    "    \n",
    "    if accept : \n",
    "        return proposed_shift\n",
    "    else :\n",
    "        return statistic"
   ]
  },
  {
   "cell_type": "code",
   "execution_count": 62,
   "metadata": {
    "collapsed": false
   },
   "outputs": [],
   "source": [
    "\n",
    "def markov_chain_monte_carlo( data , \n",
    "                              initial_statistic,\n",
    "                              prior_distribution , \n",
    "                              prior_statistic , \n",
    "                              prior_std ,\n",
    "                              proposal_distribution,  # \n",
    "                              proposal_avg_step,\n",
    "                              iterations = 1000 ):\n",
    "    \n",
    "    statistic_posterior = [initial_statistic]\n",
    "    \n",
    "    current_statistic = initial_statistic\n",
    "    \n",
    "    for i in range(iterations) : \n",
    "        \n",
    "        current_statistic = metropolis_sampler()\n",
    "        \n",
    "        statistic_posterior.append(current_statistic)\n",
    "    \n",
    "    return statistic_posterior"
   ]
  },
  {
   "cell_type": "code",
   "execution_count": 63,
   "metadata": {
    "collapsed": true
   },
   "outputs": [],
   "source": [
    "original_prior_mean = 20\n",
    "original_prior_std = 10\n",
    "\n",
    "prior_distribution = stats.norm\n",
    "proposal_distribution = stats.norm\n",
    "\n",
    "proposal_avg_step = 1.\n",
    "initial_statistic = 20.\n",
    "iterations = 50"
   ]
  },
  {
   "cell_type": "code",
   "execution_count": 64,
   "metadata": {
    "collapsed": false
   },
   "outputs": [
    {
     "ename": "TypeError",
     "evalue": "metropolis_sampler() takes exactly 6 arguments (0 given)",
     "output_type": "error",
     "traceback": [
      "\u001b[0;31m---------------------------------------------------------------------------\u001b[0m",
      "\u001b[0;31mTypeError\u001b[0m                                 Traceback (most recent call last)",
      "\u001b[0;32m<ipython-input-64-5f61600314dc>\u001b[0m in \u001b[0;36m<module>\u001b[0;34m()\u001b[0m\n\u001b[1;32m      2\u001b[0m                                                 \u001b[0mprior_distribution\u001b[0m\u001b[0;34m,\u001b[0m \u001b[0moriginal_prior_mean\u001b[0m\u001b[0;34m,\u001b[0m \u001b[0moriginal_prior_std\u001b[0m\u001b[0;34m,\u001b[0m\u001b[0;34m\u001b[0m\u001b[0m\n\u001b[1;32m      3\u001b[0m                                                 \u001b[0mproposal_distribution\u001b[0m\u001b[0;34m,\u001b[0m \u001b[0mproposal_avg_step\u001b[0m\u001b[0;34m,\u001b[0m\u001b[0;34m\u001b[0m\u001b[0m\n\u001b[0;32m----> 4\u001b[0;31m                                                 iterations)\n\u001b[0m",
      "\u001b[0;32m<ipython-input-62-b182cebbbc64>\u001b[0m in \u001b[0;36mmarkov_chain_monte_carlo\u001b[0;34m(data, initial_statistic, prior_distribution, prior_statistic, prior_std, proposal_distribution, proposal_avg_step, iterations)\u001b[0m\n\u001b[1;32m     15\u001b[0m     \u001b[0;32mfor\u001b[0m \u001b[0mi\u001b[0m \u001b[0;32min\u001b[0m \u001b[0mrange\u001b[0m\u001b[0;34m(\u001b[0m\u001b[0miterations\u001b[0m\u001b[0;34m)\u001b[0m \u001b[0;34m:\u001b[0m\u001b[0;34m\u001b[0m\u001b[0m\n\u001b[1;32m     16\u001b[0m \u001b[0;34m\u001b[0m\u001b[0m\n\u001b[0;32m---> 17\u001b[0;31m         \u001b[0mcurrent_statistic\u001b[0m \u001b[0;34m=\u001b[0m \u001b[0mmetropolis_sampler\u001b[0m\u001b[0;34m(\u001b[0m\u001b[0;34m)\u001b[0m\u001b[0;34m\u001b[0m\u001b[0m\n\u001b[0m\u001b[1;32m     18\u001b[0m \u001b[0;34m\u001b[0m\u001b[0m\n\u001b[1;32m     19\u001b[0m         \u001b[0mstatistic_posterior\u001b[0m\u001b[0;34m.\u001b[0m\u001b[0mappend\u001b[0m\u001b[0;34m(\u001b[0m\u001b[0mcurrent_statistic\u001b[0m\u001b[0;34m)\u001b[0m\u001b[0;34m\u001b[0m\u001b[0m\n",
      "\u001b[0;31mTypeError\u001b[0m: metropolis_sampler() takes exactly 6 arguments (0 given)"
     ]
    }
   ],
   "source": [
    "posterior_mean_delay = markov_chain_monte_carlo(delay_subset, initial_statistic, \n",
    "                                                prior_distribution, original_prior_mean, original_prior_std,\n",
    "                                                proposal_distribution, proposal_avg_step, \n",
    "                                                iterations)"
   ]
  },
  {
   "cell_type": "code",
   "execution_count": null,
   "metadata": {
    "collapsed": true
   },
   "outputs": [],
   "source": []
  }
 ],
 "metadata": {
  "kernelspec": {
   "display_name": "Python 2",
   "language": "python",
   "name": "python2"
  },
  "language_info": {
   "codemirror_mode": {
    "name": "ipython",
    "version": 2
   },
   "file_extension": ".py",
   "mimetype": "text/x-python",
   "name": "python",
   "nbconvert_exporter": "python",
   "pygments_lexer": "ipython2",
   "version": "2.7.11"
  }
 },
 "nbformat": 4,
 "nbformat_minor": 0
}
