{
 "cells": [
  {
   "cell_type": "markdown",
   "metadata": {},
   "source": [
    "# Introduction to Bayesian Statistics\n",
    "\n",
    "---"
   ]
  },
  {
   "cell_type": "markdown",
   "metadata": {},
   "source": [
    "## Return to Frequentist vs. Bayesian\n",
    "\n",
    "To jump into bayesian statistics, we'll return to the difference between Frequentists and Bayesians\n",
    "\n",
    "Recall from the beginning of the course that:\n",
    "\n",
    "**Frequentists** believe the \"true\" distribution is fixed (and not known). We can infer more more about this \"true\" distribution by engaging in sampling, testing for effects, and studying relevant parameters of the population.\n",
    "\n",
    "**Bayesians** believe that data informs us about the distribution, and as we receive more data our view of the distribution can be updated, further confirming or denying our previous beliefs (but never in certainty).\n",
    "\n",
    "---"
   ]
  },
  {
   "cell_type": "markdown",
   "metadata": {},
   "source": [
    "\n",
    "### Interpretations of probability\n",
    "\n",
    "**FREQUENTIST PROBABILITY** \n",
    "\n",
    "Probability is the true number of \"successes\" or \"positive occurrances\" measured across the hypothetical infinite number of samples/events/trials:\n",
    "\n",
    "### $$p = \\lim_{n \\to +\\infty} \\frac{k}{n}$$\n",
    "\n",
    "where:\n",
    "\n",
    "$p$ is the probability of an occurance.\n",
    "\n",
    "$k$ is the number of occurances.\n",
    "\n",
    "$n$ is the number of events.\n",
    "\n",
    "---\n",
    "\n",
    "**BAYESIAN PROBABILITY**\n",
    "\n",
    "Probability is a representation of our uncertainty given what we know and believe to be true. Given a number of observed positive occurances over a number of events *and our prior belief about the true probability of positive occurances,* what is the *distribution of the true probability*?\n",
    "\n",
    "### $$P\\left(\\;true\\;|\\;observed\\;\\right) = \\frac{P\\left(\\;observed\\;|\\;true\\;\\right)}{P(\\;observed\\;)} P\\left(\\;true\\;\\right)$$\n",
    "\n",
    "where:\n",
    "\n",
    "$P\\left(\\;true\\;|\\;observed\\;\\right)$ is the **posterior probability** or **conditional probability**. This is the probability of an occurance given what we observed.\n",
    "\n",
    "$P\\left(\\;observed\\;|\\;true\\;\\right)$ is the **likelihood,** which is the probability of what we observed  given our prior belief about the probability of occurance. \n",
    "\n",
    "${P(\\;observed\\;)}$ is the **total probability** of the observed data. \n",
    "\n",
    "$P\\left(\\;true\\;\\right)$ is the **prior probability** belief. It is what you thought the probability was before observing the events.\n",
    "\n",
    "---"
   ]
  },
  {
   "cell_type": "markdown",
   "metadata": {},
   "source": [
    "## Bayes' theorem\n",
    "\n",
    "Some of you might recognize the above formula as Bayes' theorem. Typically Bayes' theorem is written:\n",
    "\n",
    "### $$P\\left(\\;A\\;|\\;B\\;\\right) = \\frac{P\\left(\\;B\\;|\\;A\\;\\right)P\\left(\\;A\\;\\right)}{P(\\;B\\;)}$$\n",
    "\n",
    "Where:\n",
    "\n",
    "$A$ and $B$ are anything that take probabilities (which is essentially everything).\n",
    "\n",
    "$P(B|A)$ and $P(A|B)$ are the probabilities of $B$ conditional on $A$ and vice versa.\n",
    "\n",
    "This is just another way of writing:\n",
    "\n",
    "### $$P\\left(\\;A\\;\\right)P\\left(\\;B\\;|\\;A\\;\\right) = P\\left(\\;B\\;\\right)P\\left(\\;A\\;|\\;B\\;\\right)$$\n",
    "\n",
    "Which is derived from the fact that:\n",
    "\n",
    "### $$P\\left(\\;A\\;\\cap\\;B\\right) = P\\left(\\;A\\;\\right)P\\left(\\;B\\;|\\;A\\;\\right) = P\\left(\\;B\\;\\right)P\\left(\\;A\\;|\\;B\\;\\right)$$\n",
    "\n",
    "Where $P\\left(\\;A\\;\\cap\\;B\\right)$ is the probability of $A$ *and* $B$.\n",
    "\n",
    "---"
   ]
  },
  {
   "cell_type": "markdown",
   "metadata": {},
   "source": [
    "### Denominator of Bayes' theorem: the \"total probability\"\n",
    "\n",
    "---"
   ]
  },
  {
   "cell_type": "code",
   "execution_count": 1,
   "metadata": {
    "collapsed": false
   },
   "outputs": [
    {
     "data": {
      "image/png": "[encoded data removed]",
      "text/plain": [
       "<IPython.core.display.Image object>"
      ]
     },
     "execution_count": 1,
     "metadata": {},
     "output_type": "execute_result"
    }
   ],
   "source": [
    "from IPython.display import Image\n",
    "Image(filename='./assets/images/output_27_0.png') "
   ]
  },
  {
   "cell_type": "markdown",
   "metadata": {},
   "source": [
    "In the above picture, we see that each $A_1,..., A_5$ includes a piece of the center oval. In this example the oval represents $B$.\n",
    "\n",
    "Basic probability defines the following relation: $$P(A|B) = \\frac{ A \\cap B }{B}$$ \n",
    "\n",
    "Intuitively, the relation indicates is that $P(A|B)$ is a ratio of the part of A that is common with B, *over the entirety of $B$*. \n",
    "\n",
    "Therefore, **the total probability can be thought of as the exhaustive sum of all probabilities on sets that share elements with B**. This equals simply the probability of B in our set of events.\n",
    "\n",
    "So what is the purpose of the total probability with respect to the rest of Bayes formula? **In essence, it \"normalizes\" the numerator into a quantity between 0 and 1,** ensuring the left side of the formula is a probability.\n",
    "\n",
    "---"
   ]
  },
  {
   "cell_type": "markdown",
   "metadata": {},
   "source": [
    "### Solving probability using Bayes' theorem is easy when you know $P(B)$\n",
    "\n",
    "Let's say we have two coins. Coin **FAIR** and coin **RIGGED**\n",
    "\n",
    "    coin FAIR has a 50% chance of flipping heads.\n",
    "    coin RIGGED has 99% chance of flipping heads.\n",
    "    \n",
    "Your friend chooses one of the two coins at random. He flips the coin and gets heads. \n",
    "\n",
    "What is the probability that the coin flipped was **FAIR**?"
   ]
  },
  {
   "cell_type": "code",
   "execution_count": 2,
   "metadata": {
    "collapsed": false
   },
   "outputs": [
    {
     "name": "stdout",
     "output_type": "stream",
     "text": [
      "0.335570469799\n"
     ]
    }
   ],
   "source": [
    "# P(fair | heads) = ( P(heads | fair) / P(heads) ) * P(fair)\n",
    "\n",
    "# prior belief that the coin flipped was fair\n",
    "p_fair = 0.5\n",
    "\n",
    "# Probability of heads being flipped (in general with the two coins)\n",
    "# (50 / 100) + (99 / 100)\n",
    "p_heads = (149. / 200.)\n",
    "\n",
    "# Probability heads was flipped given fair coin\n",
    "p_heads_given_fair = 0.5\n",
    "\n",
    "p_fair_given_heads = (p_heads_given_fair / p_heads) * p_fair\n",
    "\n",
    "print p_fair_given_heads"
   ]
  },
  {
   "cell_type": "markdown",
   "metadata": {},
   "source": [
    "---\n",
    "\n",
    "## Bayes' theorem in the context of statistical modeling\n",
    "\n",
    "We can also interpret the equations above in the context of statistical modeling, which we've been doing tons of in this class:\n",
    "\n",
    "### $$P\\left(\\;model\\;|\\;data\\;\\right) = \\frac{P\\left(\\;data\\;|\\;model\\;\\right)}{P(\\;data\\;)} P\\left(\\;model\\;\\right)$$\n",
    "\n",
    "Or in plain english:\n",
    "\n",
    "**What is the probability of our model being true, given the data we have? This depends on the likelihood of the observed data given our model and the data iself, as well as our prior belief that this model is true.**\n",
    "\n",
    "---\n"
   ]
  },
  {
   "cell_type": "markdown",
   "metadata": {},
   "source": [
    "## Coin toss problem\n",
    "\n",
    "Say we flip a coin 100 times get heads 58 times. \n",
    "\n",
    "What's the probability that the coin is not fair?\n",
    "\n",
    "We can actually solve the probability of getting at least this many heads given a probability of 0.5 directly using the **binomial probability formula:**\n",
    "\n",
    "### $$P(\\;\\text{at least k heads in n flips}\\;) = \\sum_{k}^n\\binom{n}{k}p^kq^{n-k}$$\n",
    "\n",
    "Where:\n",
    "\n",
    "$n$ is the number of flips.\n",
    "\n",
    "$k$ is the number of heads.\n",
    "\n",
    "$p$ is the probability of heads.\n",
    "\n",
    "$q$ is the probability of tails.\n",
    "\n",
    "$\\binom{n}{k}$ describes \"n choose k\" or the possible **combinations of k instances in n events**:\n",
    "\n",
    "### $$\\binom{n}{k} = \\frac{n!}{k!(n-k)!}$$\n",
    "\n",
    "---\n",
    "\n",
    "**Calculate the probability of 58 heads in 100 flips with a probability of heads = 0.5.**\n",
    "\n",
    "NOTE: Factorials can be calculated with `np.math.factorial()`\n"
   ]
  },
  {
   "cell_type": "code",
   "execution_count": 12,
   "metadata": {
    "collapsed": false
   },
   "outputs": [
    {
     "name": "stdout",
     "output_type": "stream",
     "text": [
      "[0.015869073236543397, 0.022292269546572867, 0.030068642644214563, 0.03895255978909614, 0.048474296626430755, 0.05795839814029764, 0.06659049999098027, 0.07352701040670738, 0.07802866410507722, 0.07958923738717877, 0.07802866410507722, 0.07352701040670738, 0.06659049999098027, 0.05795839814029764, 0.048474296626430755, 0.03895255978909614, 0.030068642644214563, 0.022292269546572867]\n"
     ]
    }
   ],
   "source": [
    "import numpy as np\n",
    "\n",
    "# variables :\n",
    "flips = 100\n",
    "heads = 58\n",
    "tails = flips - heads\n",
    "coin_p = 0.5\n",
    "\n",
    "def calculate_k_prob(num_heads, f, p):\n",
    "    denominator = np.math.factorial(num_heads) * np.math.factorial(f - num_heads)\n",
    "    flips_choose_heads = np.math.factorial(f) / denominator\n",
    "\n",
    "    chance = flips_choose_heads * p ** num_heads * (1 - p) ** (f-num_heads)\n",
    "    \n",
    "    return chance\n",
    "\n",
    "probabilities = [calculate_k_prob(head, flips, coin_p) for head in range(1,heads+1)]\n",
    "\n",
    "print probabilities [40:60]\n",
    "\n",
    "all_probs = [calculate_k_prob(head, flips, coin_p) for head in range(1,101)]"
   ]
  },
  {
   "cell_type": "code",
   "execution_count": 14,
   "metadata": {
    "collapsed": false
   },
   "outputs": [
    {
     "data": {
      "image/png": "[encoded data removed]",
      "text/plain": [
       "<matplotlib.figure.Figure at 0x1166cf450>"
      ]
     },
     "metadata": {},
     "output_type": "display_data"
    }
   ],
   "source": [
    "import matplotlib.pyplot as plt\n",
    "import seaborn as sns\n",
    "sns.set_style('white')\n",
    "%matplotlib inline\n",
    "\n",
    "flips_range = range(1,101) \n",
    "\n",
    "plt.figure(figsize=(6,5))\n",
    "\n",
    "plt.plot(flips_range, all_probs, lw=2, c='darkred')\n",
    "plt.xlabel('number of flips', fontsize =14)\n",
    "plt.ylabel('cumulative P(heads)', fontsize=14)\n",
    "\n",
    "plt.show()"
   ]
  },
  {
   "cell_type": "markdown",
   "metadata": {},
   "source": [
    "## Frequentist model testing\n",
    "\n",
    "Again, say we flip a coin 100 times get heads 61 times. \n",
    "\n",
    "We want to test whether it is rigged with a Frequentist statistical model.\n",
    "\n",
    "Recall that Frequentists construct a **null hypothesis** and an **alternative hypothesis**.\n",
    "\n",
    "**NULL HYPOTHESIS H0:** The coin is fair. P(heads) = 0.5\n",
    "\n",
    "**ALTERNATIVE HYPOTHESIS HA:** The coin is not fair. P(heads) != 0.5\n",
    "\n",
    "---"
   ]
  },
  {
   "cell_type": "markdown",
   "metadata": {},
   "source": [
    "### The Central Limit Theorem, z-score, and z-test\n",
    "\n",
    "The theory behind what makes the calculations for Frequentist hypothesis testing conveniently easy is the Central Limit Theorem.\n",
    "\n",
    "**CENTRAL LIMIT THEOREM:**\n",
    "\n",
    "The mean of a sufficiently large number of iterations of independent random variables will be normally distributed, regardless of the underlying distribution of the random variable.\n",
    "\n",
    "For example, if random samples of people from a population are taken and their mean height is calculated, the calculated mean heights of all of those random samples will all along a normal distribution of mean heights.\n",
    "\n",
    "---\n",
    "\n",
    "**THE Z-SCORE:**\n",
    "\n",
    "A **z-score** is a normalized difference between a measured quantity and the quantity's expected value. It isdefined as:\n",
    "\n",
    "### $$ z = \\frac{\\bar{x} - E[x]}{std(\\bar{x})}$$\n",
    "\n",
    "Where:\n",
    "\n",
    "$\\bar{x}$ is the empirical (observed) quantity/measurement.\n",
    "\n",
    "$E[x]$ is the expected value of the quantity.\n",
    "\n",
    "$std(\\bar{x})$ is the empirical standard deviation of the quantity.\n",
    "\n",
    "---\n",
    "\n",
    "**THE Z-TEST**\n",
    "\n",
    "The z-test is the standard Frequentist hypothesis test that gives us a **p-value** (significance) of our measurement. It's validity depends on the Central Limit Theorem.\n",
    "\n",
    "A (two-tailed) p-value is calculated as:\n",
    "\n",
    "### $$\\text{p-value} = P[|z| > z_0] = 2P[z > z_0] = 2(1 - \\Phi(z_0))$$\n",
    "\n",
    "Where:\n",
    "\n",
    "$z_0$ is our measured z-value.\n",
    "\n",
    "$P[|z| > z_0]$ is the probability that the absolute value of z-value is larger than our measured z-value.\n",
    "\n",
    "$2(1-\\Phi(z_0))$ is 2 times 1 minus the cumulative distribution function (CDF) of the normal distribution at point $z_0$.\n",
    "\n",
    "Because the CDF is valued between 0 and 1, essentially **the p-value is the proportion of z-values that are larger than our z-value.**\n",
    "\n",
    "---"
   ]
  },
  {
   "cell_type": "markdown",
   "metadata": {},
   "source": [
    "![](http://ipython-books.github.io/images/gaussian.png)"
   ]
  },
  {
   "cell_type": "markdown",
   "metadata": {},
   "source": [
    "---\n",
    "\n",
    "### Coding the z-test\n",
    "\n",
    "We have:\n",
    "\n",
    "    100 coin flips\n",
    "    58 heads\n",
    "    \n",
    "Our hypotheses are:\n",
    "\n",
    "    Null hypothesis H0: probability of heads is 0.5\n",
    "    Alternative hypothesis HA: probability of heads is not 0.5\n",
    "    \n",
    "We want to find the probability that we got 71 heads given that our null hypothesis is true (the p-value).\n",
    "\n",
    "Under the null hypothesis H0:\n",
    "\n",
    "    E[x] = 0.5*flips\n",
    "    Var(x) = (flips * P(heads) * (1 - P(heads))\n",
    "    \n",
    "NOTE: The variance is defined as such because coin flips are part of the [Bernoulli distribution](http://mathworld.wolfram.com/BernoulliDistribution.html).\n",
    "\n",
    "**Calculate the p-value below:**"
   ]
  },
  {
   "cell_type": "code",
   "execution_count": 16,
   "metadata": {
    "collapsed": false
   },
   "outputs": [
    {
     "name": "stdout",
     "output_type": "stream",
     "text": [
      "1.51957668464\n",
      "0.0643087007065\n"
     ]
    }
   ],
   "source": [
    "from scipy.stats import norm\n",
    "\n",
    "# P that heads under H0\n",
    "p_heads_H0 = 0.5\n",
    "\n",
    "num_flips = 100.\n",
    "num_heads = 58.\n",
    "\n",
    "# P of heads in sample\n",
    "p_heads_sample = num_heads/num_flips\n",
    "\n",
    "# Exp. V under H0 # heads if P(heads) = 0.5\n",
    "exp_mean_H0 = p_heads_H0 * num_flips\n",
    "\n",
    "# std of measured mean heads:\n",
    "sample_std = np.sqrt(flips * p_heads_sample *(1 - p_heads_sample))\n",
    "\n",
    "# z-score\n",
    "# 0.5 is 'continuity correction'\n",
    "z = (num_heads - exp_mean_H0 - 0.5) / sample_std\n",
    "\n",
    "# p-value:\n",
    "p_value = 1 - norm.cdf(np.abs(z))\n",
    "\n",
    "print z\n",
    "print p_value"
   ]
  },
  {
   "cell_type": "markdown",
   "metadata": {},
   "source": [
    "---\n",
    "\n",
    "## Bayesian model testing\n",
    "\n",
    "Now let's look at the same scenario but from the Bayesian perspective. \n",
    "\n",
    "### $$P\\left(\\;bias\\;|\\;observations\\;\\right) = \\frac{P\\left(\\;observations\\;|\\;bias\\;\\right)}{P(\\;data\\;)} P\\left(\\;bias\\;\\right)$$\n",
    "\n",
    "Where $P\\left(\\;bias\\;\\right)$ is the **probability distribution** of getting heads when the coin is flipped.\n",
    "\n",
    "---\n",
    "\n",
    "**A UNIFORM PRIOR**\n",
    "\n",
    "You may think we'd assign $P\\left(\\;bias\\;\\right) = 0.5$, but that's not actually correct. This actually specifies a distribution of possible biases for our coin, with some biases potentially having a higher probability than others. \n",
    "\n",
    "Unlike when we were using Bayes formula before, we no longer know the true probability of heads, we just have a *distribution of beliefs* about what it might be.\n",
    "\n",
    "If we have no idea, we can set our prior distribution $P\\left(\\;bias\\;\\right)$ to be a **uniform prior**. This indicates that we have no belief about the weighting of the coin whatsoever. We believe all potential biases and thus probabilities of flipping heads between 0 and 1 are equally likely.\n",
    "\n",
    "With a uniform prior distribution, we set $P\\left(\\;bias\\;\\right) = 1$, which will give all possible biases exactly the same probability. (Imagine a \"distribution\" that is just a flat line.)\n",
    "\n",
    "---\n",
    "\n",
    "**THE LIKELIHOOD**\n",
    "\n",
    "Luckily, we have already looked at the likelihood $P\\left(\\;observations\\;|\\;bias\\;\\right)$ earlier. It is the binomial probability function:\n",
    "\n",
    "### $$P\\left(\\;observations\\;|\\;bias\\;\\right) = \\binom{flips}{heads}bias^{heads}(1-bias)^{flips-heads}$$\n",
    "\n",
    "This likelihood is the probability distribution of the observations given different biases.\n",
    "\n",
    "---\n",
    "\n",
    "**THE PROBABILITY OF THE DATA**\n",
    "\n",
    "This is the most difficult part to understand (in my opinion)\n",
    "\n",
    "$P\\left(\\;data\\;\\right)$ is not in just the proportion of heads in the observations. This too is a probability distribution rather than a discrete probability.\n",
    "\n",
    "It turns out that $P\\left(\\;data\\;\\right)$ is **the probability of the data regardless of what the bias is.** We do this by integrating over all possible biases from 0 to 1:\n",
    "\n",
    "### $$P\\left(\\;observations\\;\\right) = \\int_{i=0}^1P\\left(\\;observations\\;|\\;bias\\;\\right)P\\left(\\;bias\\;\\right)\\partial bias$$\n",
    "\n",
    "Really this ends up just being a \"normalizing factor\" that makes sure the likelihood probability distribution integrates to 1. \n",
    "\n",
    "In other words this is **the chance of this many heads across all biases.**\n",
    "\n",
    "---\n",
    "\n",
    "**THE POSTERIOR PROBABILITY DISTRIBUTION**\n",
    "\n",
    "Due to nice properties of the binomial distribution and our uniform prior, this gets conveniently solved to a tidy equation below (I am not going to go over how or why, [but you can look it up online](http://ipython-books.github.io/featured-07/)). \n",
    "\n",
    "Keep in mind that tidy solutions to posteriors are pretty rare, an issue we will discuss later. \n",
    "\n",
    "### $$P\\left(\\;bias\\;|\\;observations\\;\\right) = \\frac{\\binom{flips}{heads}bias^{heads}(1-bias)^{flips-heads}}{\\int_{i=0}^1P\\left(\\;observations\\;|\\;bias\\;\\right)P\\left(\\;bias\\;\\right)\\partial bias}$$\n",
    "\n",
    "### $$P\\left(\\;bias\\;|\\;observations\\;\\right) = (flips + 1)\\binom{flips}{heads}bias^{heads}(1-bias)^{flips-heads}$$\n",
    "\n",
    "**Remember: this is a probability distribution of our bias given the data!**\n",
    "\n",
    "---\n",
    "\n",
    "**Code the posterior and plot it below**"
   ]
  },
  {
   "cell_type": "code",
   "execution_count": 2,
   "metadata": {
    "collapsed": true
   },
   "outputs": [],
   "source": [
    "import seaborn as sns\n",
    "import matplotlib.pyplot as plt\n",
    "sns.set_style('white')\n",
    "\n",
    "%matplotlib inline"
   ]
  },
  {
   "cell_type": "code",
   "execution_count": 3,
   "metadata": {
    "collapsed": true
   },
   "outputs": [],
   "source": [
    "# import scipy's combination function\n",
    "from scipy.misc import comb\n"
   ]
  },
  {
   "cell_type": "markdown",
   "metadata": {},
   "source": [
    "---\n",
    "\n",
    "Good references and sources I modeled this off of:\n",
    "\n",
    "http://ipython-books.github.io/featured-07/\n",
    "\n",
    "http://stats.stackexchange.com/questions/31867/bayesian-vs-frequentist-interpretations-of-probability\n",
    "\n",
    "http://jakevdp.github.io/blog/2014/03/11/frequentism-and-bayesianism-a-practical-intro/\n",
    "\n",
    "https://simple.wikipedia.org/wiki/Bayes%27_theorem\n",
    "\n",
    "https://en.wikipedia.org/wiki/Central_limit_theorem\n",
    "\n",
    "http://www.cogsci.ucsd.edu/classes/SP07/COGS14/NOTES/binomial_ztest.pdf\n",
    "\n",
    "https://en.wikipedia.org/wiki/Prior_probability#Uninformative_priors\n",
    "\n",
    "https://arbital.com/p/bayes_rule/?l=1zq\n",
    "\n",
    "https://betterexplained.com/articles/an-intuitive-and-short-explanation-of-bayes-theorem/\n",
    "\n",
    "http://www.yudkowsky.net/rational/bayes/\n",
    "\n",
    "http://people.stern.nyu.edu/wgreene/MathStat/Notes-2-BayesianStatistics.pdf\n",
    "\n",
    "http://stats.stackexchange.com/questions/58564/help-me-understand-bayesian-prior-and-posterior-distributions\n",
    "\n",
    "http://pages.uoregon.edu/cfulton/posts/bernoulli_trials_bayesian.html\n",
    "\n",
    "http://chrisstrelioff.ws/sandbox/2014/12/11/inferring_probabilities_with_a_beta_prior_a_third_example_of_bayesian_calculations.html\n",
    "\n",
    "https://www.chrisstucchio.com/blog/2013/magic_of_conjugate_priors.html\n",
    "\n",
    "---"
   ]
  },
  {
   "cell_type": "code",
   "execution_count": null,
   "metadata": {
    "collapsed": true
   },
   "outputs": [],
   "source": []
  }
 ],
 "metadata": {
  "kernelspec": {
   "display_name": "Python 2",
   "language": "python",
   "name": "python2"
  },
  "language_info": {
   "codemirror_mode": {
    "name": "ipython",
    "version": 2
   },
   "file_extension": ".py",
   "mimetype": "text/x-python",
   "name": "python",
   "nbconvert_exporter": "python",
   "pygments_lexer": "ipython2",
   "version": "2.7.11"
  }
 },
 "nbformat": 4,
 "nbformat_minor": 0
}
