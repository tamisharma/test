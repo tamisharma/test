{
 "cells": [
  {
   "cell_type": "markdown",
   "metadata": {},
   "source": [
    "<img src=\"https://ga-dash.s3.amazonaws.com/production/assets/logo-9f88ae6c9c3871690e33280fcf557f33.png\" style=\"float: left; margin: 15px;\">\n",
    "\n",
    "# Grouping with Pandas (Lesson + Lab)\n",
    "\n",
    "***\n",
    "\n",
    "Week 2 | Lesson 4.1-Alt"
   ]
  },
  {
   "cell_type": "markdown",
   "metadata": {},
   "source": [
    "### LEARNING OBJECTIVES\n",
    "*After this lesson, you will be able to:*\n",
    "- Know what situations **grouping** is useful for\n",
    "- Explain the **`.groupby()`** feature in Pandas\n",
    "- Demonstrate aggregation /w plotting methods in Pandas"
   ]
  },
  {
   "cell_type": "markdown",
   "metadata": {
    "slideshow": {
     "slide_type": "slide"
    }
   },
   "source": [
    "### LESSON GUIDE\n",
    "| TIMING  | TYPE  | TOPIC  |\n",
    "|:-:|---|---|\n",
    "| 5 min  | [Introduction](#introduction)   |   |\n",
    "| 15 min  | [Demo /Guided Practice](#demo)  | Discuss Grouping |\n",
    "| 30 min  | [Demo /Guided Practice](#demo)  | Demonstrate .groupby |\n",
    "| 20 min  | [Demo /Guided Practice](#demo)  | Plotting with groups |\n",
    "| 60+ min  | [Independent Practice](#ind-practice)  |   |\n",
    "| 10 min  | [Conclusion](#conclusion)  |   |\n"
   ]
  },
  {
   "cell_type": "markdown",
   "metadata": {
    "slideshow": {
     "slide_type": "slide"
    }
   },
   "source": [
    "<a name=\"introduction\"></a>\n",
    "## Introduction: Grouping (5 mins)"
   ]
  },
  {
   "cell_type": "markdown",
   "metadata": {
    "slideshow": {
     "slide_type": "slide"
    }
   },
   "source": [
    "## What have you used grouping for (work, reactionally)?"
   ]
  },
  {
   "cell_type": "markdown",
   "metadata": {
    "slideshow": {
     "slide_type": "slide"
    }
   },
   "source": [
    "## Generally:  Multi-Dimensional Data Analysis! \n",
    "   - Describe segments of your data based on unique values\n",
    "   - Understand latent charactaristics of your data\n",
    "       - Summary statistics of subsets\n",
    "       - Discover patterns that exist in subsets\n",
    "   - Finding duplicate values given specific variables\n",
    "   - Apply aggregate functions to subsets, based on variable aspects of our datasets\n",
    "   "
   ]
  },
  {
   "cell_type": "markdown",
   "metadata": {
    "slideshow": {
     "slide_type": "slide"
    }
   },
   "source": [
    "## Specific Examples\n",
    " - Sum of crimes given time of day in SF (morning, afternoon, night)\n",
    " - Count numer of people with the same last name\n",
    " - Median number of multi-unit buildings in a region\n",
    " - Popularity of movie genres based on ticket sales\n",
    " - Segmenting customers based on age, buying habbits, interests, behavior\n",
    " - Using the \"GROUP BY\" clause in a database query using SQL (you will learn this soon!)"
   ]
  },
  {
   "cell_type": "markdown",
   "metadata": {
    "slideshow": {
     "slide_type": "slide"
    }
   },
   "source": [
    "![](http://www.omnis.net/support/images/technews/g2msimplebargraph.jpg)"
   ]
  },
  {
   "cell_type": "markdown",
   "metadata": {
    "slideshow": {
     "slide_type": "notes"
    }
   },
   "source": [
    "_Think about what this would look like as a summary statistic like mean or sum?_"
   ]
  },
  {
   "cell_type": "markdown",
   "metadata": {},
   "source": [
    "![](http://stephanieevergreen.com/wp-content/uploads/2013/08/DivergingFinal.png)"
   ]
  },
  {
   "cell_type": "markdown",
   "metadata": {
    "slideshow": {
     "slide_type": "notes"
    }
   },
   "source": [
    "_Summary grouped by question and response category_"
   ]
  },
  {
   "cell_type": "markdown",
   "metadata": {
    "slideshow": {
     "slide_type": "slide"
    }
   },
   "source": [
    "![](http://zmjones.com/static/posts/titanic-survival-glm.png)"
   ]
  },
  {
   "cell_type": "markdown",
   "metadata": {
    "slideshow": {
     "slide_type": "slide"
    }
   },
   "source": [
    "## A slight side-trip with [Simpsons Paradox](http://vudlab.com/simpsons/)"
   ]
  },
  {
   "cell_type": "markdown",
   "metadata": {},
   "source": [
    "# Demo / Codealong - .groupby()\n",
    "\n",
    "First, a sample dataset to get us thinking about grouping on a small scale dataset."
   ]
  },
  {
   "cell_type": "code",
   "execution_count": 3,
   "metadata": {
    "collapsed": true
   },
   "outputs": [],
   "source": [
    "import pandas as pd\n",
    "import numpy as np"
   ]
  },
  {
   "cell_type": "code",
   "execution_count": 4,
   "metadata": {
    "collapsed": false,
    "slideshow": {
     "slide_type": "fragment"
    }
   },
   "outputs": [
    {
     "data": {
      "text/html": [
       "<div>\n",
       "<table border=\"1\" class=\"dataframe\">\n",
       "  <thead>\n",
       "    <tr style=\"text-align: right;\">\n",
       "      <th></th>\n",
       "      <th>a</th>\n",
       "      <th>b</th>\n",
       "      <th>cat1</th>\n",
       "      <th>cat2</th>\n",
       "    </tr>\n",
       "  </thead>\n",
       "  <tbody>\n",
       "    <tr>\n",
       "      <th>0</th>\n",
       "      <td>-0.542663</td>\n",
       "      <td>-0.550743</td>\n",
       "      <td>X</td>\n",
       "      <td>alpha</td>\n",
       "    </tr>\n",
       "    <tr>\n",
       "      <th>1</th>\n",
       "      <td>0.009898</td>\n",
       "      <td>1.330064</td>\n",
       "      <td>X</td>\n",
       "      <td>beta</td>\n",
       "    </tr>\n",
       "    <tr>\n",
       "      <th>2</th>\n",
       "      <td>0.934364</td>\n",
       "      <td>2.533304</td>\n",
       "      <td>Y</td>\n",
       "      <td>alpha</td>\n",
       "    </tr>\n",
       "    <tr>\n",
       "      <th>3</th>\n",
       "      <td>-0.277139</td>\n",
       "      <td>0.961263</td>\n",
       "      <td>Y</td>\n",
       "      <td>beta</td>\n",
       "    </tr>\n",
       "    <tr>\n",
       "      <th>4</th>\n",
       "      <td>0.252854</td>\n",
       "      <td>0.309987</td>\n",
       "      <td>Z</td>\n",
       "      <td>alpha</td>\n",
       "    </tr>\n",
       "  </tbody>\n",
       "</table>\n",
       "</div>"
      ],
      "text/plain": [
       "          a         b cat1   cat2\n",
       "0 -0.542663 -0.550743    X  alpha\n",
       "1  0.009898  1.330064    X   beta\n",
       "2  0.934364  2.533304    Y  alpha\n",
       "3 -0.277139  0.961263    Y   beta\n",
       "4  0.252854  0.309987    Z  alpha"
      ]
     },
     "execution_count": 4,
     "metadata": {},
     "output_type": "execute_result"
    }
   ],
   "source": [
    "df = pd.DataFrame({'cat1':['X','X','Y','Y','Z'],\n",
    "                   'cat2':['alpha','beta','alpha','beta','alpha'],\n",
    "                   'a':np.random.randn(5),\n",
    "                   'b':np.random.randn(5)})\n",
    "df"
   ]
  },
  {
   "cell_type": "markdown",
   "metadata": {
    "slideshow": {
     "slide_type": "slide"
    }
   },
   "source": [
    "**This gives us a specific feature \"a\", grouped by cat1.** \n",
    "\n",
    "_Notice that groups don't really print anything interesting on their own._"
   ]
  },
  {
   "cell_type": "code",
   "execution_count": 11,
   "metadata": {
    "collapsed": false,
    "scrolled": true,
    "slideshow": {
     "slide_type": "-"
    }
   },
   "outputs": [
    {
     "data": {
      "text/plain": [
       "<pandas.core.groupby.SeriesGroupBy object at 0x111a7b0d0>"
      ]
     },
     "execution_count": 11,
     "metadata": {},
     "output_type": "execute_result"
    }
   ],
   "source": [
    "group = df['a'].groupby(df['cat1'])\n",
    "group"
   ]
  },
  {
   "cell_type": "markdown",
   "metadata": {
    "slideshow": {
     "slide_type": "slide"
    }
   },
   "source": [
    "**Groups can be operated on in aggregate.**"
   ]
  },
  {
   "cell_type": "code",
   "execution_count": 9,
   "metadata": {
    "collapsed": false,
    "slideshow": {
     "slide_type": "slide"
    }
   },
   "outputs": [
    {
     "data": {
      "text/plain": [
       "cat1\n",
       "X   -0.266383\n",
       "Y    0.328612\n",
       "Z    0.252854\n",
       "Name: a, dtype: float64"
      ]
     },
     "execution_count": 9,
     "metadata": {},
     "output_type": "execute_result"
    }
   ],
   "source": [
    "# mean\n",
    "group.mean()"
   ]
  },
  {
   "cell_type": "code",
   "execution_count": 97,
   "metadata": {
    "collapsed": false,
    "slideshow": {
     "slide_type": "slide"
    }
   },
   "outputs": [
    {
     "data": {
      "text/plain": [
       "cat1\n",
       "X   -0.122978\n",
       "Y    0.226079\n",
       "Z    1.488806\n",
       "Name: a, dtype: float64"
      ]
     },
     "execution_count": 97,
     "metadata": {},
     "output_type": "execute_result"
    }
   ],
   "source": [
    "# median\n",
    "group.median()"
   ]
  },
  {
   "cell_type": "code",
   "execution_count": 98,
   "metadata": {
    "collapsed": false,
    "slideshow": {
     "slide_type": "slide"
    }
   },
   "outputs": [
    {
     "data": {
      "text/plain": [
       "cat1\n",
       "X   -0.245956\n",
       "Y    0.452158\n",
       "Z    1.488806\n",
       "Name: a, dtype: float64"
      ]
     },
     "execution_count": 98,
     "metadata": {},
     "output_type": "execute_result"
    }
   ],
   "source": [
    "# sum\n",
    "group.sum()"
   ]
  },
  {
   "cell_type": "markdown",
   "metadata": {
    "slideshow": {
     "slide_type": "slide"
    }
   },
   "source": [
    "**We can use group keys that are series as well**\n",
    "\n",
    "For example:"
   ]
  },
  {
   "cell_type": "code",
   "execution_count": 12,
   "metadata": {
    "collapsed": false,
    "slideshow": {
     "slide_type": "slide"
    }
   },
   "outputs": [
    {
     "data": {
      "text/plain": [
       "LA  FEB    0.009898\n",
       "    JAN    0.934364\n",
       "NY  FEB   -0.277139\n",
       "    JAN   -0.144905\n",
       "Name: a, dtype: float64"
      ]
     },
     "execution_count": 12,
     "metadata": {},
     "output_type": "execute_result"
    }
   ],
   "source": [
    "#We'll make some arrays for use as keys\n",
    "cities = np.array(['NY','LA','LA','NY','NY'])\n",
    "month = np.array(['JAN','FEB','JAN','FEB','JAN'])\n",
    "\n",
    "#Now using the data from dataset1, group the means by city and month\n",
    "df['a'].groupby([cities,month]).mean()"
   ]
  },
  {
   "cell_type": "markdown",
   "metadata": {
    "slideshow": {
     "slide_type": "slide"
    }
   },
   "source": [
    "This is an equivelent method for doing the same thing but you will find this to be much more common when dealing with DataFrames."
   ]
  },
  {
   "cell_type": "code",
   "execution_count": 151,
   "metadata": {
    "collapsed": false,
    "slideshow": {
     "slide_type": "-"
    }
   },
   "outputs": [
    {
     "data": {
      "text/html": [
       "<div>\n",
       "<table border=\"1\" class=\"dataframe\">\n",
       "  <thead>\n",
       "    <tr style=\"text-align: right;\">\n",
       "      <th></th>\n",
       "      <th>a</th>\n",
       "      <th>b</th>\n",
       "      <th>cat1</th>\n",
       "      <th>cat2</th>\n",
       "      <th>cities</th>\n",
       "      <th>month</th>\n",
       "    </tr>\n",
       "  </thead>\n",
       "  <tbody>\n",
       "    <tr>\n",
       "      <th>0</th>\n",
       "      <td>-1.219253</td>\n",
       "      <td>1.173802</td>\n",
       "      <td>X</td>\n",
       "      <td>alpha</td>\n",
       "      <td>NY</td>\n",
       "      <td>JAN</td>\n",
       "    </tr>\n",
       "    <tr>\n",
       "      <th>1</th>\n",
       "      <td>-0.079585</td>\n",
       "      <td>1.284050</td>\n",
       "      <td>X</td>\n",
       "      <td>beta</td>\n",
       "      <td>LA</td>\n",
       "      <td>FEB</td>\n",
       "    </tr>\n",
       "    <tr>\n",
       "      <th>2</th>\n",
       "      <td>0.172046</td>\n",
       "      <td>0.339125</td>\n",
       "      <td>Y</td>\n",
       "      <td>alpha</td>\n",
       "      <td>LA</td>\n",
       "      <td>JAN</td>\n",
       "    </tr>\n",
       "    <tr>\n",
       "      <th>3</th>\n",
       "      <td>0.039341</td>\n",
       "      <td>-0.668502</td>\n",
       "      <td>Y</td>\n",
       "      <td>beta</td>\n",
       "      <td>NY</td>\n",
       "      <td>FEB</td>\n",
       "    </tr>\n",
       "    <tr>\n",
       "      <th>4</th>\n",
       "      <td>0.064998</td>\n",
       "      <td>2.219730</td>\n",
       "      <td>Z</td>\n",
       "      <td>alpha</td>\n",
       "      <td>NY</td>\n",
       "      <td>JAN</td>\n",
       "    </tr>\n",
       "  </tbody>\n",
       "</table>\n",
       "</div>"
      ],
      "text/plain": [
       "          a         b cat1   cat2 cities month\n",
       "0 -1.219253  1.173802    X  alpha     NY   JAN\n",
       "1 -0.079585  1.284050    X   beta     LA   FEB\n",
       "2  0.172046  0.339125    Y  alpha     LA   JAN\n",
       "3  0.039341 -0.668502    Y   beta     NY   FEB\n",
       "4  0.064998  2.219730    Z  alpha     NY   JAN"
      ]
     },
     "execution_count": 151,
     "metadata": {},
     "output_type": "execute_result"
    }
   ],
   "source": [
    "# adding cites and month to our DataFrame\n",
    "df['cities'] = np.array(['NY','LA','LA','NY','NY'])\n",
    "df['month'] = np.array(['JAN','FEB','JAN','FEB','JAN'])\n",
    "df"
   ]
  },
  {
   "cell_type": "code",
   "execution_count": 105,
   "metadata": {
    "collapsed": false
   },
   "outputs": [
    {
     "data": {
      "text/plain": [
       "cities  month\n",
       "LA      FEB     -0.285096\n",
       "        JAN      1.036064\n",
       "NY      FEB     -0.583906\n",
       "        JAN      0.763973\n",
       "Name: a, dtype: float64"
      ]
     },
     "execution_count": 105,
     "metadata": {},
     "output_type": "execute_result"
    }
   ],
   "source": [
    "df.groupby(['cities', 'month'])['a'].mean()"
   ]
  },
  {
   "cell_type": "markdown",
   "metadata": {
    "slideshow": {
     "slide_type": "slide"
    }
   },
   "source": [
    "## For 1 minute:  Ask your group what would you expect to happen if you didn't specifiy a column / feature label?"
   ]
  },
  {
   "cell_type": "code",
   "execution_count": 106,
   "metadata": {
    "collapsed": false,
    "slideshow": {
     "slide_type": "fragment"
    }
   },
   "outputs": [
    {
     "data": {
      "text/html": [
       "<div>\n",
       "<table border=\"1\" class=\"dataframe\">\n",
       "  <thead>\n",
       "    <tr style=\"text-align: right;\">\n",
       "      <th></th>\n",
       "      <th></th>\n",
       "      <th>a</th>\n",
       "      <th>b</th>\n",
       "    </tr>\n",
       "    <tr>\n",
       "      <th>cities</th>\n",
       "      <th>month</th>\n",
       "      <th></th>\n",
       "      <th></th>\n",
       "    </tr>\n",
       "  </thead>\n",
       "  <tbody>\n",
       "    <tr>\n",
       "      <th rowspan=\"2\" valign=\"top\">LA</th>\n",
       "      <th>FEB</th>\n",
       "      <td>-0.285096</td>\n",
       "      <td>-0.471949</td>\n",
       "    </tr>\n",
       "    <tr>\n",
       "      <th>JAN</th>\n",
       "      <td>1.036064</td>\n",
       "      <td>1.217602</td>\n",
       "    </tr>\n",
       "    <tr>\n",
       "      <th rowspan=\"2\" valign=\"top\">NY</th>\n",
       "      <th>FEB</th>\n",
       "      <td>-0.583906</td>\n",
       "      <td>0.173575</td>\n",
       "    </tr>\n",
       "    <tr>\n",
       "      <th>JAN</th>\n",
       "      <td>0.763973</td>\n",
       "      <td>-0.699796</td>\n",
       "    </tr>\n",
       "  </tbody>\n",
       "</table>\n",
       "</div>"
      ],
      "text/plain": [
       "                     a         b\n",
       "cities month                    \n",
       "LA     FEB   -0.285096 -0.471949\n",
       "       JAN    1.036064  1.217602\n",
       "NY     FEB   -0.583906  0.173575\n",
       "       JAN    0.763973 -0.699796"
      ]
     },
     "execution_count": 106,
     "metadata": {},
     "output_type": "execute_result"
    }
   ],
   "source": [
    "# It looks nicer for 1 thing!\n",
    "df.groupby(['cities', 'month']).mean()"
   ]
  },
  {
   "cell_type": "markdown",
   "metadata": {
    "slideshow": {
     "slide_type": "slide"
    }
   },
   "source": [
    "Grouping by a single variable can be done by specifying a variable key string."
   ]
  },
  {
   "cell_type": "code",
   "execution_count": 107,
   "metadata": {
    "collapsed": false
   },
   "outputs": [
    {
     "data": {
      "text/html": [
       "<div>\n",
       "<table border=\"1\" class=\"dataframe\">\n",
       "  <thead>\n",
       "    <tr style=\"text-align: right;\">\n",
       "      <th></th>\n",
       "      <th>a</th>\n",
       "      <th>b</th>\n",
       "    </tr>\n",
       "    <tr>\n",
       "      <th>cities</th>\n",
       "      <th></th>\n",
       "      <th></th>\n",
       "    </tr>\n",
       "  </thead>\n",
       "  <tbody>\n",
       "    <tr>\n",
       "      <th>LA</th>\n",
       "      <td>0.375484</td>\n",
       "      <td>0.372826</td>\n",
       "    </tr>\n",
       "    <tr>\n",
       "      <th>NY</th>\n",
       "      <td>0.314680</td>\n",
       "      <td>-0.408673</td>\n",
       "    </tr>\n",
       "  </tbody>\n",
       "</table>\n",
       "</div>"
      ],
      "text/plain": [
       "               a         b\n",
       "cities                    \n",
       "LA      0.375484  0.372826\n",
       "NY      0.314680 -0.408673"
      ]
     },
     "execution_count": 107,
     "metadata": {},
     "output_type": "execute_result"
    }
   ],
   "source": [
    "df.groupby('cities').mean()"
   ]
  },
  {
   "cell_type": "code",
   "execution_count": 108,
   "metadata": {
    "collapsed": false,
    "slideshow": {
     "slide_type": "slide"
    }
   },
   "outputs": [
    {
     "data": {
      "text/html": [
       "<div>\n",
       "<table border=\"1\" class=\"dataframe\">\n",
       "  <thead>\n",
       "    <tr style=\"text-align: right;\">\n",
       "      <th></th>\n",
       "      <th>a</th>\n",
       "      <th>b</th>\n",
       "      <th>cat1</th>\n",
       "      <th>cat2</th>\n",
       "      <th>month</th>\n",
       "    </tr>\n",
       "    <tr>\n",
       "      <th>cities</th>\n",
       "      <th></th>\n",
       "      <th></th>\n",
       "      <th></th>\n",
       "      <th></th>\n",
       "      <th></th>\n",
       "    </tr>\n",
       "  </thead>\n",
       "  <tbody>\n",
       "    <tr>\n",
       "      <th>LA</th>\n",
       "      <td>2</td>\n",
       "      <td>2</td>\n",
       "      <td>2</td>\n",
       "      <td>2</td>\n",
       "      <td>2</td>\n",
       "    </tr>\n",
       "    <tr>\n",
       "      <th>NY</th>\n",
       "      <td>3</td>\n",
       "      <td>3</td>\n",
       "      <td>3</td>\n",
       "      <td>3</td>\n",
       "      <td>3</td>\n",
       "    </tr>\n",
       "  </tbody>\n",
       "</table>\n",
       "</div>"
      ],
      "text/plain": [
       "        a  b  cat1  cat2  month\n",
       "cities                         \n",
       "LA      2  2     2     2      2\n",
       "NY      3  3     3     3      3"
      ]
     },
     "execution_count": 108,
     "metadata": {},
     "output_type": "execute_result"
    }
   ],
   "source": [
    "df.groupby('cities').count()"
   ]
  },
  {
   "cell_type": "markdown",
   "metadata": {
    "slideshow": {
     "slide_type": "slide"
    }
   },
   "source": [
    "## What's going on here!?\n",
    "\n",
    "_(visually)_"
   ]
  },
  {
   "cell_type": "markdown",
   "metadata": {
    "slideshow": {
     "slide_type": "slide"
    }
   },
   "source": [
    "![](http://www.w3resource.com/sql/sql-root-images/group-by.gif)"
   ]
  },
  {
   "cell_type": "markdown",
   "metadata": {
    "slideshow": {
     "slide_type": "slide"
    }
   },
   "source": [
    "## 5 mins discuss with your group:  How might you use this in the future?"
   ]
  },
  {
   "cell_type": "markdown",
   "metadata": {
    "slideshow": {
     "slide_type": "slide"
    }
   },
   "source": [
    "**Getting Subsets By Index**\n",
    "\n",
    "Usually, we tell a DataFrame what we want by axis, to get a series.  with groups, we can still select columns, but the way we select subsets is a little different.  We must request them with a method for example:"
   ]
  },
  {
   "cell_type": "code",
   "execution_count": 17,
   "metadata": {
    "collapsed": false
   },
   "outputs": [
    {
     "data": {
      "text/html": [
       "<div>\n",
       "<table border=\"1\" class=\"dataframe\">\n",
       "  <thead>\n",
       "    <tr style=\"text-align: right;\">\n",
       "      <th></th>\n",
       "      <th>a</th>\n",
       "      <th>b</th>\n",
       "      <th>cat1</th>\n",
       "      <th>cat2</th>\n",
       "      <th>cities</th>\n",
       "      <th>month</th>\n",
       "    </tr>\n",
       "  </thead>\n",
       "  <tbody>\n",
       "    <tr>\n",
       "      <th>0</th>\n",
       "      <td>-1.589376</td>\n",
       "      <td>0.209322</td>\n",
       "      <td>X</td>\n",
       "      <td>alpha</td>\n",
       "      <td>NY</td>\n",
       "      <td>JAN</td>\n",
       "    </tr>\n",
       "    <tr>\n",
       "      <th>1</th>\n",
       "      <td>0.971930</td>\n",
       "      <td>0.911365</td>\n",
       "      <td>X</td>\n",
       "      <td>beta</td>\n",
       "      <td>LA</td>\n",
       "      <td>FEB</td>\n",
       "    </tr>\n",
       "    <tr>\n",
       "      <th>2</th>\n",
       "      <td>-1.435360</td>\n",
       "      <td>-1.258352</td>\n",
       "      <td>Y</td>\n",
       "      <td>alpha</td>\n",
       "      <td>LA</td>\n",
       "      <td>JAN</td>\n",
       "    </tr>\n",
       "    <tr>\n",
       "      <th>3</th>\n",
       "      <td>-0.376070</td>\n",
       "      <td>0.268050</td>\n",
       "      <td>Y</td>\n",
       "      <td>beta</td>\n",
       "      <td>NY</td>\n",
       "      <td>FEB</td>\n",
       "    </tr>\n",
       "    <tr>\n",
       "      <th>4</th>\n",
       "      <td>-1.530704</td>\n",
       "      <td>-1.183770</td>\n",
       "      <td>Z</td>\n",
       "      <td>alpha</td>\n",
       "      <td>NY</td>\n",
       "      <td>JAN</td>\n",
       "    </tr>\n",
       "  </tbody>\n",
       "</table>\n",
       "</div>"
      ],
      "text/plain": [
       "          a         b cat1   cat2 cities month\n",
       "0 -1.589376  0.209322    X  alpha     NY   JAN\n",
       "1  0.971930  0.911365    X   beta     LA   FEB\n",
       "2 -1.435360 -1.258352    Y  alpha     LA   JAN\n",
       "3 -0.376070  0.268050    Y   beta     NY   FEB\n",
       "4 -1.530704 -1.183770    Z  alpha     NY   JAN"
      ]
     },
     "execution_count": 17,
     "metadata": {},
     "output_type": "execute_result"
    }
   ],
   "source": [
    "# Re-init our test data\n",
    "df = pd.DataFrame({'cat1':['X','X','Y','Y','Z'],\n",
    "                   'cat2':['alpha','beta','alpha','beta','alpha'],\n",
    "                   'a':np.random.randn(5),\n",
    "                   'b':np.random.randn(5)})\n",
    "\n",
    "df['cities'] = np.array(['NY','LA','LA','NY','NY'])\n",
    "df['month'] = np.array(['JAN','FEB','JAN','FEB','JAN'])\n",
    "\n",
    "df"
   ]
  },
  {
   "cell_type": "code",
   "execution_count": 18,
   "metadata": {
    "collapsed": false,
    "slideshow": {
     "slide_type": "slide"
    }
   },
   "outputs": [
    {
     "data": {
      "text/plain": [
       "cities  cat2 \n",
       "LA      alpha    1\n",
       "        beta     1\n",
       "NY      alpha    2\n",
       "        beta     1\n",
       "dtype: int64"
      ]
     },
     "execution_count": 18,
     "metadata": {},
     "output_type": "execute_result"
    }
   ],
   "source": [
    "# our group by values of cat2, inside of groups by cities\n",
    "df.groupby([\"cities\", \"cat2\"]).size()"
   ]
  },
  {
   "cell_type": "code",
   "execution_count": 19,
   "metadata": {
    "collapsed": false
   },
   "outputs": [
    {
     "name": "stdout",
     "output_type": "stream",
     "text": [
      "NY\n",
      "LA\n"
     ]
    }
   ],
   "source": [
    "# Fetching group subset pairs\n",
    "my_group = df.groupby([\"cities\"])\n",
    "for c in my_group.groups: \n",
    "    print c"
   ]
  },
  {
   "cell_type": "code",
   "execution_count": 61,
   "metadata": {
    "collapsed": false,
    "slideshow": {
     "slide_type": "slide"
    }
   },
   "outputs": [
    {
     "data": {
      "text/html": [
       "<div>\n",
       "<table border=\"1\" class=\"dataframe\">\n",
       "  <thead>\n",
       "    <tr style=\"text-align: right;\">\n",
       "      <th></th>\n",
       "      <th>a</th>\n",
       "      <th>b</th>\n",
       "      <th>cat1</th>\n",
       "      <th>cat2</th>\n",
       "      <th>cities</th>\n",
       "      <th>month</th>\n",
       "    </tr>\n",
       "  </thead>\n",
       "  <tbody>\n",
       "    <tr>\n",
       "      <th>0</th>\n",
       "      <td>-1.589376</td>\n",
       "      <td>0.209322</td>\n",
       "      <td>X</td>\n",
       "      <td>alpha</td>\n",
       "      <td>NY</td>\n",
       "      <td>JAN</td>\n",
       "    </tr>\n",
       "    <tr>\n",
       "      <th>3</th>\n",
       "      <td>-0.376070</td>\n",
       "      <td>0.268050</td>\n",
       "      <td>Y</td>\n",
       "      <td>beta</td>\n",
       "      <td>NY</td>\n",
       "      <td>FEB</td>\n",
       "    </tr>\n",
       "    <tr>\n",
       "      <th>4</th>\n",
       "      <td>-1.530704</td>\n",
       "      <td>-1.183770</td>\n",
       "      <td>Z</td>\n",
       "      <td>alpha</td>\n",
       "      <td>NY</td>\n",
       "      <td>JAN</td>\n",
       "    </tr>\n",
       "  </tbody>\n",
       "</table>\n",
       "</div>"
      ],
      "text/plain": [
       "          a         b cat1   cat2 cities month\n",
       "0 -1.589376  0.209322    X  alpha     NY   JAN\n",
       "3 -0.376070  0.268050    Y   beta     NY   FEB\n",
       "4 -1.530704 -1.183770    Z  alpha     NY   JAN"
      ]
     },
     "execution_count": 61,
     "metadata": {},
     "output_type": "execute_result"
    }
   ],
   "source": [
    "# Say we want NY only from our subset\n",
    "my_group.get_group('NY')"
   ]
  },
  {
   "cell_type": "markdown",
   "metadata": {
    "slideshow": {
     "slide_type": "slide"
    }
   },
   "source": [
    "## 2-5 minutes try to do this with a partner:\n",
    "\n",
    " - Make a group object using citites and cat2\n",
    " - Select the cities subgroup \"NY\" with cat2 values \"alpha\"\n",
    " - Use get_group() on your group object, and pass a tuple with 2 values as the parameter\n",
    "   - The first tuple element is the value you are looking for in \"cities\" index\n",
    "   - The 2nd tuple element is the value you are looking for in \"cat2\""
   ]
  },
  {
   "cell_type": "code",
   "execution_count": 82,
   "metadata": {
    "collapsed": false
   },
   "outputs": [],
   "source": [
    "dfn = df"
   ]
  },
  {
   "cell_type": "code",
   "execution_count": 83,
   "metadata": {
    "collapsed": false
   },
   "outputs": [
    {
     "data": {
      "text/html": [
       "<div>\n",
       "<table border=\"1\" class=\"dataframe\">\n",
       "  <thead>\n",
       "    <tr style=\"text-align: right;\">\n",
       "      <th></th>\n",
       "      <th>a</th>\n",
       "      <th>b</th>\n",
       "      <th>cat1</th>\n",
       "      <th>cat2</th>\n",
       "      <th>cities</th>\n",
       "      <th>month</th>\n",
       "    </tr>\n",
       "  </thead>\n",
       "  <tbody>\n",
       "    <tr>\n",
       "      <th>0</th>\n",
       "      <td>-1.589376</td>\n",
       "      <td>0.209322</td>\n",
       "      <td>X</td>\n",
       "      <td>alpha</td>\n",
       "      <td>NY</td>\n",
       "      <td>JAN</td>\n",
       "    </tr>\n",
       "    <tr>\n",
       "      <th>4</th>\n",
       "      <td>-1.530704</td>\n",
       "      <td>-1.183770</td>\n",
       "      <td>Z</td>\n",
       "      <td>alpha</td>\n",
       "      <td>NY</td>\n",
       "      <td>JAN</td>\n",
       "    </tr>\n",
       "  </tbody>\n",
       "</table>\n",
       "</div>"
      ],
      "text/plain": [
       "          a         b cat1   cat2 cities month\n",
       "0 -1.589376  0.209322    X  alpha     NY   JAN\n",
       "4 -1.530704 -1.183770    Z  alpha     NY   JAN"
      ]
     },
     "execution_count": 83,
     "metadata": {},
     "output_type": "execute_result"
    }
   ],
   "source": [
    "dfn[(dfn['cities']==\"NY\") & (dfn['cat2'] == \"alpha\")]"
   ]
  },
  {
   "cell_type": "code",
   "execution_count": 84,
   "metadata": {
    "collapsed": false
   },
   "outputs": [
    {
     "data": {
      "text/html": [
       "<div>\n",
       "<table border=\"1\" class=\"dataframe\">\n",
       "  <thead>\n",
       "    <tr style=\"text-align: right;\">\n",
       "      <th></th>\n",
       "      <th>a</th>\n",
       "      <th>b</th>\n",
       "      <th>cat1</th>\n",
       "      <th>cat2</th>\n",
       "      <th>cities</th>\n",
       "      <th>month</th>\n",
       "    </tr>\n",
       "  </thead>\n",
       "  <tbody>\n",
       "    <tr>\n",
       "      <th>0</th>\n",
       "      <td>-1.589376</td>\n",
       "      <td>0.209322</td>\n",
       "      <td>X</td>\n",
       "      <td>alpha</td>\n",
       "      <td>NY</td>\n",
       "      <td>JAN</td>\n",
       "    </tr>\n",
       "    <tr>\n",
       "      <th>4</th>\n",
       "      <td>-1.530704</td>\n",
       "      <td>-1.183770</td>\n",
       "      <td>Z</td>\n",
       "      <td>alpha</td>\n",
       "      <td>NY</td>\n",
       "      <td>JAN</td>\n",
       "    </tr>\n",
       "  </tbody>\n",
       "</table>\n",
       "</div>"
      ],
      "text/plain": [
       "          a         b cat1   cat2 cities month\n",
       "0 -1.589376  0.209322    X  alpha     NY   JAN\n",
       "4 -1.530704 -1.183770    Z  alpha     NY   JAN"
      ]
     },
     "execution_count": 84,
     "metadata": {},
     "output_type": "execute_result"
    }
   ],
   "source": [
    "my_df = df.groupby(['cities', 'cat2'])\n",
    "\n",
    "my_df.get_group(('NY', 'alpha'))"
   ]
  },
  {
   "cell_type": "markdown",
   "metadata": {
    "slideshow": {
     "slide_type": "slide"
    }
   },
   "source": [
    "## Explain what happened to me!?"
   ]
  },
  {
   "cell_type": "markdown",
   "metadata": {
    "slideshow": {
     "slide_type": "slide"
    }
   },
   "source": [
    "More useful info about groups and selection in the [Pandas Cookbook docs](http://pandas.pydata.org/pandas-docs/stable/cookbook.html)"
   ]
  },
  {
   "cell_type": "markdown",
   "metadata": {
    "slideshow": {
     "slide_type": "slide"
    }
   },
   "source": [
    "A quick note about two popular aggregates that seem the same, but are not!\n",
    "\n",
    ".count() vs .size()"
   ]
  },
  {
   "cell_type": "code",
   "execution_count": 109,
   "metadata": {
    "collapsed": false,
    "slideshow": {
     "slide_type": "slide"
    }
   },
   "outputs": [
    {
     "data": {
      "text/html": [
       "<div>\n",
       "<table border=\"1\" class=\"dataframe\">\n",
       "  <thead>\n",
       "    <tr style=\"text-align: right;\">\n",
       "      <th></th>\n",
       "      <th>a</th>\n",
       "      <th>b</th>\n",
       "      <th>cat1</th>\n",
       "      <th>cat2</th>\n",
       "      <th>month</th>\n",
       "    </tr>\n",
       "    <tr>\n",
       "      <th>cities</th>\n",
       "      <th></th>\n",
       "      <th></th>\n",
       "      <th></th>\n",
       "      <th></th>\n",
       "      <th></th>\n",
       "    </tr>\n",
       "  </thead>\n",
       "  <tbody>\n",
       "    <tr>\n",
       "      <th>LA</th>\n",
       "      <td>2</td>\n",
       "      <td>2</td>\n",
       "      <td>2</td>\n",
       "      <td>2</td>\n",
       "      <td>2</td>\n",
       "    </tr>\n",
       "    <tr>\n",
       "      <th>NY</th>\n",
       "      <td>3</td>\n",
       "      <td>3</td>\n",
       "      <td>3</td>\n",
       "      <td>3</td>\n",
       "      <td>3</td>\n",
       "    </tr>\n",
       "  </tbody>\n",
       "</table>\n",
       "</div>"
      ],
      "text/plain": [
       "        a  b  cat1  cat2  month\n",
       "cities                         \n",
       "LA      2  2     2     2      2\n",
       "NY      3  3     3     3      3"
      ]
     },
     "execution_count": 109,
     "metadata": {},
     "output_type": "execute_result"
    }
   ],
   "source": [
    "# Gives us counts of record rows repeated over variable columns\n",
    "df.groupby('cities').count()"
   ]
  },
  {
   "cell_type": "code",
   "execution_count": 111,
   "metadata": {
    "collapsed": false,
    "slideshow": {
     "slide_type": "slide"
    }
   },
   "outputs": [
    {
     "data": {
      "text/plain": [
       "cities\n",
       "LA    2\n",
       "NY    3\n",
       "dtype: int64"
      ]
     },
     "execution_count": 111,
     "metadata": {},
     "output_type": "execute_result"
    }
   ],
   "source": [
    "# .size gives us counts as series, not repeated values over column variables\n",
    "df.groupby('cities').size()"
   ]
  },
  {
   "cell_type": "markdown",
   "metadata": {},
   "source": [
    "With a Pandas **group object**, .count(), .size(), .sum(), .mean(), .std() are some very common ways to apply calcuation operations in aggregate to subsets of your data.\n",
    "\n",
    "[Pandas .groupby docs](http://pandas.pydata.org/pandas-docs/version/0.15.2/groupby.html)\n"
   ]
  },
  {
   "cell_type": "code",
   "execution_count": 120,
   "metadata": {
    "collapsed": false,
    "slideshow": {
     "slide_type": "slide"
    }
   },
   "outputs": [
    {
     "data": {
      "text/html": [
       "<div>\n",
       "<table border=\"1\" class=\"dataframe\">\n",
       "  <thead>\n",
       "    <tr style=\"text-align: right;\">\n",
       "      <th></th>\n",
       "      <th>.groupby() aggregate functions</th>\n",
       "    </tr>\n",
       "  </thead>\n",
       "  <tbody>\n",
       "    <tr>\n",
       "      <th>0</th>\n",
       "      <td>filter</td>\n",
       "    </tr>\n",
       "    <tr>\n",
       "      <th>1</th>\n",
       "      <td>get_group</td>\n",
       "    </tr>\n",
       "    <tr>\n",
       "      <th>2</th>\n",
       "      <td>height</td>\n",
       "    </tr>\n",
       "    <tr>\n",
       "      <th>3</th>\n",
       "      <td>last</td>\n",
       "    </tr>\n",
       "    <tr>\n",
       "      <th>4</th>\n",
       "      <td>median</td>\n",
       "    </tr>\n",
       "    <tr>\n",
       "      <th>5</th>\n",
       "      <td>ngroups</td>\n",
       "    </tr>\n",
       "    <tr>\n",
       "      <th>6</th>\n",
       "      <td>plot</td>\n",
       "    </tr>\n",
       "    <tr>\n",
       "      <th>7</th>\n",
       "      <td>rank</td>\n",
       "    </tr>\n",
       "    <tr>\n",
       "      <th>8</th>\n",
       "      <td>std</td>\n",
       "    </tr>\n",
       "    <tr>\n",
       "      <th>9</th>\n",
       "      <td>transform</td>\n",
       "    </tr>\n",
       "    <tr>\n",
       "      <th>10</th>\n",
       "      <td>aggregate</td>\n",
       "    </tr>\n",
       "    <tr>\n",
       "      <th>11</th>\n",
       "      <td>count</td>\n",
       "    </tr>\n",
       "    <tr>\n",
       "      <th>12</th>\n",
       "      <td>cumprod</td>\n",
       "    </tr>\n",
       "    <tr>\n",
       "      <th>13</th>\n",
       "      <td>dtype</td>\n",
       "    </tr>\n",
       "    <tr>\n",
       "      <th>14</th>\n",
       "      <td>first</td>\n",
       "    </tr>\n",
       "    <tr>\n",
       "      <th>15</th>\n",
       "      <td>groups</td>\n",
       "    </tr>\n",
       "    <tr>\n",
       "      <th>16</th>\n",
       "      <td>hist</td>\n",
       "    </tr>\n",
       "    <tr>\n",
       "      <th>17</th>\n",
       "      <td>max</td>\n",
       "    </tr>\n",
       "    <tr>\n",
       "      <th>18</th>\n",
       "      <td>min</td>\n",
       "    </tr>\n",
       "    <tr>\n",
       "      <th>19</th>\n",
       "      <td>nth</td>\n",
       "    </tr>\n",
       "    <tr>\n",
       "      <th>20</th>\n",
       "      <td>prod</td>\n",
       "    </tr>\n",
       "    <tr>\n",
       "      <th>21</th>\n",
       "      <td>resample</td>\n",
       "    </tr>\n",
       "    <tr>\n",
       "      <th>22</th>\n",
       "      <td>sum</td>\n",
       "    </tr>\n",
       "    <tr>\n",
       "      <th>23</th>\n",
       "      <td>var</td>\n",
       "    </tr>\n",
       "    <tr>\n",
       "      <th>24</th>\n",
       "      <td>apply</td>\n",
       "    </tr>\n",
       "    <tr>\n",
       "      <th>25</th>\n",
       "      <td>cummax</td>\n",
       "    </tr>\n",
       "    <tr>\n",
       "      <th>26</th>\n",
       "      <td>cumsum</td>\n",
       "    </tr>\n",
       "    <tr>\n",
       "      <th>27</th>\n",
       "      <td>fillna</td>\n",
       "    </tr>\n",
       "    <tr>\n",
       "      <th>28</th>\n",
       "      <td>gender</td>\n",
       "    </tr>\n",
       "    <tr>\n",
       "      <th>29</th>\n",
       "      <td>head</td>\n",
       "    </tr>\n",
       "    <tr>\n",
       "      <th>30</th>\n",
       "      <td>indices</td>\n",
       "    </tr>\n",
       "    <tr>\n",
       "      <th>31</th>\n",
       "      <td>mean</td>\n",
       "    </tr>\n",
       "    <tr>\n",
       "      <th>32</th>\n",
       "      <td>name</td>\n",
       "    </tr>\n",
       "    <tr>\n",
       "      <th>33</th>\n",
       "      <td>ohlc</td>\n",
       "    </tr>\n",
       "    <tr>\n",
       "      <th>34</th>\n",
       "      <td>quantile</td>\n",
       "    </tr>\n",
       "    <tr>\n",
       "      <th>35</th>\n",
       "      <td>size</td>\n",
       "    </tr>\n",
       "    <tr>\n",
       "      <th>36</th>\n",
       "      <td>tail</td>\n",
       "    </tr>\n",
       "    <tr>\n",
       "      <th>37</th>\n",
       "      <td>weight</td>\n",
       "    </tr>\n",
       "  </tbody>\n",
       "</table>\n",
       "</div>"
      ],
      "text/plain": [
       "   .groupby() aggregate functions\n",
       "0                          filter\n",
       "1                       get_group\n",
       "2                          height\n",
       "3                            last\n",
       "4                          median\n",
       "5                         ngroups\n",
       "6                            plot\n",
       "7                            rank\n",
       "8                             std\n",
       "9                       transform\n",
       "10                      aggregate\n",
       "11                          count\n",
       "12                        cumprod\n",
       "13                          dtype\n",
       "14                          first\n",
       "15                         groups\n",
       "16                           hist\n",
       "17                            max\n",
       "18                            min\n",
       "19                            nth\n",
       "20                           prod\n",
       "21                       resample\n",
       "22                            sum\n",
       "23                            var\n",
       "24                          apply\n",
       "25                         cummax\n",
       "26                         cumsum\n",
       "27                         fillna\n",
       "28                         gender\n",
       "29                           head\n",
       "30                        indices\n",
       "31                           mean\n",
       "32                           name\n",
       "33                           ohlc\n",
       "34                       quantile\n",
       "35                           size\n",
       "36                           tail\n",
       "37                         weight"
      ]
     },
     "execution_count": 120,
     "metadata": {},
     "output_type": "execute_result"
    }
   ],
   "source": [
    "# Other group by methods include -- \n",
    "# sorry was too pressed for time to manually format this list\n",
    "\n",
    "groupby_list = \"\"\"\n",
    "gb.filter  gb.get_group  gb.height  gb.last gb.median gb.ngroups    gb.plot       gb.rank       gb.std        gb.transform\n",
    "gb.aggregate  gb.count      gb.cumprod    gb.dtype      gb.first      gb.groups     gb.hist       gb.max        gb.min        gb.nth        gb.prod       gb.resample   gb.sum        gb.var\n",
    "gb.apply      gb.cummax     gb.cumsum     gb.fillna     gb.gender     gb.head       gb.indices    gb.mean       gb.name       gb.ohlc       gb.quantile   gb.size       gb.tail       gb.weight\n",
    "\"\"\"\n",
    "\n",
    "cleaned_list = map(lambda item: item.replace(\"gb\", \"\").strip(), groupby_list.split(\".\")[1:])\n",
    "pd.DataFrame(cleaned_list, columns=[\".groupby() aggregate functions\"])"
   ]
  },
  {
   "cell_type": "markdown",
   "metadata": {
    "slideshow": {
     "slide_type": "slide"
    }
   },
   "source": [
    "## 10 Minute Break!"
   ]
  },
  {
   "cell_type": "markdown",
   "metadata": {
    "slideshow": {
     "slide_type": "slide"
    }
   },
   "source": [
    "# (basic) Plotting with Groups\n"
   ]
  },
  {
   "cell_type": "code",
   "execution_count": 128,
   "metadata": {
    "collapsed": false
   },
   "outputs": [
    {
     "data": {
      "text/html": [
       "<div>\n",
       "<table border=\"1\" class=\"dataframe\">\n",
       "  <thead>\n",
       "    <tr style=\"text-align: right;\">\n",
       "      <th></th>\n",
       "      <th>a</th>\n",
       "      <th>b</th>\n",
       "      <th>cat1</th>\n",
       "      <th>cat2</th>\n",
       "      <th>cities</th>\n",
       "      <th>month</th>\n",
       "    </tr>\n",
       "  </thead>\n",
       "  <tbody>\n",
       "    <tr>\n",
       "      <th>0</th>\n",
       "      <td>0.039140</td>\n",
       "      <td>-0.414087</td>\n",
       "      <td>X</td>\n",
       "      <td>alpha</td>\n",
       "      <td>NY</td>\n",
       "      <td>JAN</td>\n",
       "    </tr>\n",
       "    <tr>\n",
       "      <th>1</th>\n",
       "      <td>-0.285096</td>\n",
       "      <td>-0.471949</td>\n",
       "      <td>X</td>\n",
       "      <td>beta</td>\n",
       "      <td>LA</td>\n",
       "      <td>FEB</td>\n",
       "    </tr>\n",
       "    <tr>\n",
       "      <th>2</th>\n",
       "      <td>1.036064</td>\n",
       "      <td>1.217602</td>\n",
       "      <td>Y</td>\n",
       "      <td>alpha</td>\n",
       "      <td>LA</td>\n",
       "      <td>JAN</td>\n",
       "    </tr>\n",
       "    <tr>\n",
       "      <th>3</th>\n",
       "      <td>-0.583906</td>\n",
       "      <td>0.173575</td>\n",
       "      <td>Y</td>\n",
       "      <td>beta</td>\n",
       "      <td>NY</td>\n",
       "      <td>FEB</td>\n",
       "    </tr>\n",
       "    <tr>\n",
       "      <th>4</th>\n",
       "      <td>1.488806</td>\n",
       "      <td>-0.985505</td>\n",
       "      <td>Z</td>\n",
       "      <td>alpha</td>\n",
       "      <td>NY</td>\n",
       "      <td>JAN</td>\n",
       "    </tr>\n",
       "  </tbody>\n",
       "</table>\n",
       "</div>"
      ],
      "text/plain": [
       "          a         b cat1   cat2 cities month\n",
       "0  0.039140 -0.414087    X  alpha     NY   JAN\n",
       "1 -0.285096 -0.471949    X   beta     LA   FEB\n",
       "2  1.036064  1.217602    Y  alpha     LA   JAN\n",
       "3 -0.583906  0.173575    Y   beta     NY   FEB\n",
       "4  1.488806 -0.985505    Z  alpha     NY   JAN"
      ]
     },
     "execution_count": 128,
     "metadata": {},
     "output_type": "execute_result"
    }
   ],
   "source": [
    "# This is a reminder of what our dataframe looks like\n",
    "df"
   ]
  },
  {
   "cell_type": "code",
   "execution_count": 132,
   "metadata": {
    "collapsed": false,
    "slideshow": {
     "slide_type": "slide"
    }
   },
   "outputs": [
    {
     "data": {
      "text/plain": [
       "cities\n",
       "LA    2\n",
       "NY    3\n",
       "Name: cat2, dtype: int64"
      ]
     },
     "execution_count": 132,
     "metadata": {},
     "output_type": "execute_result"
    }
   ],
   "source": [
    "# We want to see the count of alpha + beta values, given cities\n",
    "df.groupby(\"cities\")['cat2'].count()"
   ]
  },
  {
   "cell_type": "code",
   "execution_count": 133,
   "metadata": {
    "collapsed": false,
    "scrolled": true
   },
   "outputs": [
    {
     "data": {
      "text/plain": [
       "<matplotlib.axes._subplots.AxesSubplot at 0x130949790>"
      ]
     },
     "execution_count": 133,
     "metadata": {},
     "output_type": "execute_result"
    },
    {
     "data": {
      "image/png": "[encoded data removed]",
      "text/plain": [
       "<matplotlib.figure.Figure at 0x130949ad0>"
      ]
     },
     "metadata": {},
     "output_type": "display_data"
    }
   ],
   "source": [
    "df.groupby(\"cities\")['cat2'].count().plot(kind=\"bar\")"
   ]
  },
  {
   "cell_type": "markdown",
   "metadata": {
    "slideshow": {
     "slide_type": "slide"
    }
   },
   "source": [
    "## Show of hands -- who remembers how to groupby with more than one variable?"
   ]
  },
  {
   "cell_type": "code",
   "execution_count": 136,
   "metadata": {
    "collapsed": false,
    "slideshow": {
     "slide_type": "fragment"
    }
   },
   "outputs": [
    {
     "data": {
      "text/plain": [
       "<matplotlib.axes._subplots.AxesSubplot at 0x1317b88d0>"
      ]
     },
     "execution_count": 136,
     "metadata": {},
     "output_type": "execute_result"
    },
    {
     "data": {
      "image/png": "[encoded data removed]",
      "text/plain": [
       "<matplotlib.figure.Figure at 0x1317b2b90>"
      ]
     },
     "metadata": {},
     "output_type": "display_data"
    }
   ],
   "source": [
    "df.groupby([\"cities\",\"cat2\"]).size().plot(kind=\"bar\")"
   ]
  },
  {
   "cell_type": "code",
   "execution_count": 137,
   "metadata": {
    "collapsed": false,
    "slideshow": {
     "slide_type": "slide"
    }
   },
   "outputs": [
    {
     "data": {
      "text/plain": [
       "<matplotlib.axes._subplots.AxesSubplot at 0x1318da4d0>"
      ]
     },
     "execution_count": 137,
     "metadata": {},
     "output_type": "execute_result"
    },
    {
     "data": {
      "image/png": "[encoded data removed]",
      "text/plain": [
       "<matplotlib.figure.Figure at 0x131d011d0>"
      ]
     },
     "metadata": {},
     "output_type": "display_data"
    }
   ],
   "source": [
    "# Unstack will pull-apart group values for easy display\n",
    "df.groupby([\"cities\",\"cat2\"]).size().unstack().plot(kind=\"bar\")"
   ]
  },
  {
   "cell_type": "code",
   "execution_count": 141,
   "metadata": {
    "collapsed": false,
    "slideshow": {
     "slide_type": "slide"
    }
   },
   "outputs": [
    {
     "data": {
      "text/plain": [
       "<matplotlib.axes._subplots.AxesSubplot at 0x1329548d0>"
      ]
     },
     "execution_count": 141,
     "metadata": {},
     "output_type": "execute_result"
    },
    {
     "data": {
      "image/png": "[encoded data removed]",
      "text/plain": [
       "<matplotlib.figure.Figure at 0x1329b1490>"
      ]
     },
     "metadata": {},
     "output_type": "display_data"
    }
   ],
   "source": [
    "# Stacking isn't a bad choice for fewer categories but can look cluttery with lots of categories\n",
    "df.groupby([\"cities\",\"cat2\"]).size().unstack().plot(kind=\"bar\", stacked=True)"
   ]
  },
  {
   "cell_type": "markdown",
   "metadata": {
    "slideshow": {
     "slide_type": "slide"
    }
   },
   "source": [
    "Bar charts are great for displaying quanitites with groups and understanding qantity / size within subsets.  This is only an \"introduction\".  There are many ways to plot things."
   ]
  },
  {
   "cell_type": "code",
   "execution_count": 146,
   "metadata": {
    "collapsed": false
   },
   "outputs": [
    {
     "data": {
      "text/plain": [
       "<matplotlib.legend.Legend at 0x132faa510>"
      ]
     },
     "execution_count": 146,
     "metadata": {},
     "output_type": "execute_result"
    },
    {
     "data": {
      "image/png": "[encoded data removed]",
      "text/plain": [
       "<matplotlib.figure.Figure at 0x1333a3690>"
      ]
     },
     "metadata": {},
     "output_type": "display_data"
    }
   ],
   "source": [
    "import matplotlib.pyplot as plt\n",
    "\n",
    "classes = [\"class 1\"] * 5 + [\"class 2\"] * 5\n",
    "vals = [1,3,5,1,3] + [2,6,7,5,2]\n",
    "p_df = pd.DataFrame({\"class\": classes, \"vals\": vals})\n",
    "\n",
    "fig, ax = plt.subplots(figsize=(8,6))\n",
    "for label, df in p_df.groupby('class'):\n",
    "    df.vals.plot(kind=\"kde\", ax=ax, label=label)\n",
    "plt.legend()"
   ]
  },
  {
   "cell_type": "code",
   "execution_count": 127,
   "metadata": {
    "collapsed": false
   },
   "outputs": [
    {
     "data": {
      "text/plain": [
       "cities\n",
       "LA    Axes(0.125,0.125;0.775x0.775)\n",
       "NY    Axes(0.125,0.125;0.775x0.775)\n",
       "dtype: object"
      ]
     },
     "execution_count": 127,
     "metadata": {},
     "output_type": "execute_result"
    },
    {
     "data": {
      "image/png": "[encoded data removed]",
      "text/plain": [
       "<matplotlib.figure.Figure at 0x12f78b510>"
      ]
     },
     "metadata": {},
     "output_type": "display_data"
    },
    {
     "data": {
      "image/png": "[encoded data removed]",
      "text/plain": [
       "<matplotlib.figure.Figure at 0x12f971050>"
      ]
     },
     "metadata": {},
     "output_type": "display_data"
    }
   ],
   "source": [
    "# This could be labled better but notice we can also plot negative values\n",
    "df.groupby(\"cities\").plot(kind=\"barh\")"
   ]
  },
  {
   "cell_type": "code",
   "execution_count": 59,
   "metadata": {
    "collapsed": false
   },
   "outputs": [
    {
     "name": "stderr",
     "output_type": "stream",
     "text": [
      "/Users/davidyerrington/virtualenvs/dsi/lib/python2.7/site-packages/ipykernel/__main__.py:5: FutureWarning: order is deprecated, use sort_values(...)\n"
     ]
    },
    {
     "data": {
      "text/plain": [
       "<matplotlib.axes._subplots.AxesSubplot at 0x1269b4bd0>"
      ]
     },
     "execution_count": 59,
     "metadata": {},
     "output_type": "execute_result"
    },
    {
     "data": {
      "image/png": "[encoded data removed]",
      "text/plain": [
       "<matplotlib.figure.Figure at 0x123e20fd0>"
      ]
     },
     "metadata": {},
     "output_type": "display_data"
    }
   ],
   "source": [
    "# Here's a plot I made with mysterious code!"
   ]
  },
  {
   "cell_type": "markdown",
   "metadata": {},
   "source": [
    "## Group Exercize (~80mins-ish)\n",
    "\n",
    "We are going to investigate the nuances of UFO sightings around the US.  By now you should be able to perform groupby operations in multiple dimensions and investigate the relationships between subsets of datasets with basic aggregation.\n",
    "\n",
    "_Protip, to turn off slide type headers from every dataframe, go to \"View\" and select \"None\" from \"Cell Toolbar\"_"
   ]
  },
  {
   "cell_type": "code",
   "execution_count": 187,
   "metadata": {
    "collapsed": true
   },
   "outputs": [],
   "source": [
    "import pandas as pd, numpy as np, seaborn as sns\n",
    "\n",
    "%matplotlib inline"
   ]
  },
  {
   "cell_type": "code",
   "execution_count": 188,
   "metadata": {
    "collapsed": true
   },
   "outputs": [],
   "source": [
    "# Load the UFO dataset!\n",
    "# Did you know you can load csv over HTTP?  It's not ideal, but it can be done!\n",
    "ufo = pd.read_csv('https://raw.githubusercontent.com/sinanuozdemir/SF_DAT_17/master/data/ufo.csv')"
   ]
  },
  {
   "cell_type": "markdown",
   "metadata": {},
   "source": [
    "### 1. How many non-null values exist per each variable?\n",
    "\n",
    "The first thing that is important to know is how complete our dataset is and how uniform are the values."
   ]
  },
  {
   "cell_type": "code",
   "execution_count": 189,
   "metadata": {
    "collapsed": false
   },
   "outputs": [
    {
     "data": {
      "text/plain": [
       "City               80496\n",
       "Colors Reported    17034\n",
       "Shape Reported     72141\n",
       "State              80543\n",
       "Time               80543\n",
       "dtype: int64"
      ]
     },
     "execution_count": 189,
     "metadata": {},
     "output_type": "execute_result"
    }
   ],
   "source": [
    "# Solution here\n",
    "\n",
    "ufo.count()"
   ]
  },
  {
   "cell_type": "markdown",
   "metadata": {},
   "source": [
    "### 2. What is the breakdown of dtypes in our dataframe?"
   ]
  },
  {
   "cell_type": "code",
   "execution_count": 224,
   "metadata": {
    "collapsed": false
   },
   "outputs": [
    {
     "data": {
      "text/plain": [
       "object    5\n",
       "dtype: int64"
      ]
     },
     "execution_count": 224,
     "metadata": {},
     "output_type": "execute_result"
    }
   ],
   "source": [
    "# Solution here\n",
    "# ufo.info()\n",
    "ufo.get_dtype_counts() # Tells counts of each type"
   ]
  },
  {
   "cell_type": "markdown",
   "metadata": {},
   "source": [
    "### 3. Provide a \"Data Dictionary\" that describes these features:\n",
    "\n",
    " - Variable / feature name\n",
    " - Brief description of what variable appears to represent\n",
    " - Expected dtype(s)\n",
    " - Number of unique values observed if categorical and < 20 unqiue \n",
    "\n",
    "_Please use \"Markdown\" tables to provide this info.  It's a good idea to get familliar with using markdown format when communicating your results.  Here's a primer on [markdown tables](https://github.com/adam-p/markdown-here/wiki/Markdown-Cheatsheet#tables).  No groaning allowed!_"
   ]
  },
  {
   "cell_type": "markdown",
   "metadata": {
    "collapsed": true
   },
   "source": [
    "## Change this cell to a \"markdown\" type cell\n",
    "Name | Contains\n",
    "--- | --- \n",
    "City| City the report was filed\n",
    "Colors Reported | Color that was reported\n",
    "Shape Reported | Shape that was reported\n",
    "State | State the report was filed\n",
    "Time | Time that the time was filed\n"
   ]
  },
  {
   "cell_type": "markdown",
   "metadata": {},
   "source": [
    "### 3. Which colors are most commonly reported?\n",
    "Provide a breakdown of colors by count."
   ]
  },
  {
   "cell_type": "code",
   "execution_count": 232,
   "metadata": {
    "collapsed": false
   },
   "outputs": [
    {
     "data": {
      "text/plain": [
       "Colors Reported\n",
       "BLUE                            1855\n",
       "GREEN                           1897\n",
       "GREEN BLUE                       147\n",
       "ORANGE                          5216\n",
       "ORANGE BLUE                       58\n",
       "ORANGE GREEN                      66\n",
       "ORANGE GREEN BLUE                 13\n",
       "ORANGE YELLOW                    137\n",
       "ORANGE YELLOW BLUE                 3\n",
       "ORANGE YELLOW GREEN                5\n",
       "ORANGE YELLOW GREEN BLUE           3\n",
       "RED                             4809\n",
       "RED BLUE                         445\n",
       "RED GREEN                        469\n",
       "RED GREEN BLUE                   166\n",
       "RED ORANGE                       486\n",
       "RED ORANGE BLUE                   21\n",
       "RED ORANGE GREEN                  12\n",
       "RED ORANGE GREEN BLUE              8\n",
       "RED ORANGE YELLOW                 32\n",
       "RED ORANGE YELLOW BLUE             2\n",
       "RED ORANGE YELLOW GREEN            4\n",
       "RED ORANGE YELLOW GREEN BLUE       2\n",
       "RED YELLOW                       146\n",
       "RED YELLOW BLUE                   36\n",
       "RED YELLOW GREEN                  35\n",
       "RED YELLOW GREEN BLUE             26\n",
       "YELLOW                           842\n",
       "YELLOW BLUE                       27\n",
       "YELLOW GREEN                      53\n",
       "YELLOW GREEN BLUE                 13\n",
       "dtype: int64"
      ]
     },
     "execution_count": 232,
     "metadata": {},
     "output_type": "execute_result"
    }
   ],
   "source": [
    "# ufo.head()\n",
    "# ufoc = ufo.groupby([\"Colors Reported\"]).count().sort_values('Time', ascending=False)\n",
    "# ufoc.head(3)\n",
    "# ufo.columns\n",
    "\n",
    "# ufo['Colors Reported'].value_counts().head(10)\n",
    "\n",
    "ufo.groupby('Colors Reported').size()"
   ]
  },
  {
   "cell_type": "markdown",
   "metadata": {},
   "source": [
    "### 4. Which shapes are most commonly reported?"
   ]
  },
  {
   "cell_type": "code",
   "execution_count": 242,
   "metadata": {
    "collapsed": false
   },
   "outputs": [
    {
     "data": {
      "text/html": [
       "<div>\n",
       "<table border=\"1\" class=\"dataframe\">\n",
       "  <thead>\n",
       "    <tr style=\"text-align: right;\">\n",
       "      <th></th>\n",
       "      <th>City</th>\n",
       "      <th>Colors Reported</th>\n",
       "      <th>State</th>\n",
       "      <th>Time</th>\n",
       "    </tr>\n",
       "    <tr>\n",
       "      <th>Shape Reported</th>\n",
       "      <th></th>\n",
       "      <th></th>\n",
       "      <th></th>\n",
       "      <th></th>\n",
       "    </tr>\n",
       "  </thead>\n",
       "  <tbody>\n",
       "    <tr>\n",
       "      <th>LIGHT</th>\n",
       "      <td>16325</td>\n",
       "      <td>3727</td>\n",
       "      <td>16332</td>\n",
       "      <td>16332</td>\n",
       "    </tr>\n",
       "    <tr>\n",
       "      <th>TRIANGLE</th>\n",
       "      <td>7809</td>\n",
       "      <td>1360</td>\n",
       "      <td>7816</td>\n",
       "      <td>7816</td>\n",
       "    </tr>\n",
       "    <tr>\n",
       "      <th>CIRCLE</th>\n",
       "      <td>7720</td>\n",
       "      <td>2110</td>\n",
       "      <td>7725</td>\n",
       "      <td>7725</td>\n",
       "    </tr>\n",
       "  </tbody>\n",
       "</table>\n",
       "</div>"
      ],
      "text/plain": [
       "                 City  Colors Reported  State   Time\n",
       "Shape Reported                                      \n",
       "LIGHT           16325             3727  16332  16332\n",
       "TRIANGLE         7809             1360   7816   7816\n",
       "CIRCLE           7720             2110   7725   7725"
      ]
     },
     "execution_count": 242,
     "metadata": {},
     "output_type": "execute_result"
    }
   ],
   "source": [
    "ufosh = ufo.groupby([\"Shape Reported\"]).count().sort_values(['Time'], ascending=False)\n",
    "\n",
    "ufosh.head(3)"
   ]
  },
  {
   "cell_type": "markdown",
   "metadata": {},
   "source": [
    "### 5. Are there any shapes that take on some colors more than others?\n",
    "_* Warning: Use of broad langauge._"
   ]
  },
  {
   "cell_type": "code",
   "execution_count": 236,
   "metadata": {
    "collapsed": false
   },
   "outputs": [
    {
     "data": {
      "text/plain": [
       "Shape Reported  Colors Reported      \n",
       "CHEVRON         BLUE                     19\n",
       "                GREEN                    15\n",
       "                GREEN BLUE                1\n",
       "                ORANGE                   38\n",
       "                ORANGE GREEN              1\n",
       "                ORANGE YELLOW             3\n",
       "                RED                      40\n",
       "                RED BLUE                  3\n",
       "                RED GREEN                 5\n",
       "                RED ORANGE                2\n",
       "                RED ORANGE GREEN          2\n",
       "                RED YELLOW                3\n",
       "                YELLOW                    6\n",
       "CIGAR           BLUE                     38\n",
       "                GREEN                    27\n",
       "                GREEN BLUE                1\n",
       "                ORANGE                   47\n",
       "                ORANGE GREEN              2\n",
       "                ORANGE GREEN BLUE         1\n",
       "                ORANGE YELLOW             2\n",
       "                ORANGE YELLOW BLUE        1\n",
       "                RED                      63\n",
       "                RED BLUE                 13\n",
       "                RED GREEN                 7\n",
       "                RED GREEN BLUE            1\n",
       "                RED ORANGE                7\n",
       "                RED YELLOW                3\n",
       "                YELLOW                    7\n",
       "                YELLOW BLUE               2\n",
       "                YELLOW GREEN              1\n",
       "                                         ..\n",
       "TRIANGLE        RED ORANGE GREEN BLUE     2\n",
       "                RED ORANGE YELLOW         1\n",
       "                RED YELLOW               16\n",
       "                RED YELLOW BLUE           7\n",
       "                RED YELLOW GREEN          4\n",
       "                RED YELLOW GREEN BLUE     3\n",
       "                YELLOW                   66\n",
       "                YELLOW BLUE               1\n",
       "                YELLOW GREEN              1\n",
       "                YELLOW GREEN BLUE         1\n",
       "VARIOUS         BLUE                     46\n",
       "                GREEN                    24\n",
       "                GREEN BLUE                5\n",
       "                ORANGE                   97\n",
       "                ORANGE BLUE               2\n",
       "                ORANGE YELLOW             3\n",
       "                RED                      83\n",
       "                RED BLUE                 17\n",
       "                RED GREEN                10\n",
       "                RED GREEN BLUE           10\n",
       "                RED ORANGE               10\n",
       "                RED ORANGE GREEN          1\n",
       "                RED ORANGE GREEN BLUE     1\n",
       "                RED ORANGE YELLOW         1\n",
       "                RED YELLOW                1\n",
       "                RED YELLOW BLUE           1\n",
       "                RED YELLOW GREEN          2\n",
       "                RED YELLOW GREEN BLUE     1\n",
       "                YELLOW                   19\n",
       "                YELLOW GREEN              1\n",
       "dtype: int64"
      ]
     },
     "execution_count": 236,
     "metadata": {},
     "output_type": "execute_result"
    }
   ],
   "source": [
    "#ufo.groupby([\"Shape Reported\", \"Colors Reported\"]).count().sort_values(['Time'], ascending=False)\n",
    "\n",
    "ufo.groupby([\"Shape Reported\", \"Colors Reported\"]).size()"
   ]
  },
  {
   "cell_type": "markdown",
   "metadata": {},
   "source": [
    "### 6. Display only the group for \"CIGAR\" using a bit mask.. \n",
    "Go ahead try it out."
   ]
  },
  {
   "cell_type": "code",
   "execution_count": 194,
   "metadata": {
    "collapsed": false
   },
   "outputs": [
    {
     "data": {
      "text/html": [
       "<div>\n",
       "<table border=\"1\" class=\"dataframe\">\n",
       "  <thead>\n",
       "    <tr style=\"text-align: right;\">\n",
       "      <th></th>\n",
       "      <th>City</th>\n",
       "      <th>Colors Reported</th>\n",
       "      <th>Shape Reported</th>\n",
       "      <th>State</th>\n",
       "      <th>Time</th>\n",
       "    </tr>\n",
       "  </thead>\n",
       "  <tbody>\n",
       "    <tr>\n",
       "      <th>8</th>\n",
       "      <td>Eklutna</td>\n",
       "      <td>NaN</td>\n",
       "      <td>CIGAR</td>\n",
       "      <td>AK</td>\n",
       "      <td>10/15/1936 17:00</td>\n",
       "    </tr>\n",
       "    <tr>\n",
       "      <th>25</th>\n",
       "      <td>San Diego</td>\n",
       "      <td>NaN</td>\n",
       "      <td>CIGAR</td>\n",
       "      <td>CA</td>\n",
       "      <td>1/1/1944 12:00</td>\n",
       "    </tr>\n",
       "    <tr>\n",
       "      <th>32</th>\n",
       "      <td>Ft. Lee</td>\n",
       "      <td>NaN</td>\n",
       "      <td>CIGAR</td>\n",
       "      <td>VA</td>\n",
       "      <td>1/1/1945 12:00</td>\n",
       "    </tr>\n",
       "    <tr>\n",
       "      <th>74</th>\n",
       "      <td>Syracuse</td>\n",
       "      <td>NaN</td>\n",
       "      <td>CIGAR</td>\n",
       "      <td>NY</td>\n",
       "      <td>7/14/1947 10:30</td>\n",
       "    </tr>\n",
       "    <tr>\n",
       "      <th>88</th>\n",
       "      <td>Proctor</td>\n",
       "      <td>NaN</td>\n",
       "      <td>CIGAR</td>\n",
       "      <td>OK</td>\n",
       "      <td>8/15/1947 20:15</td>\n",
       "    </tr>\n",
       "    <tr>\n",
       "      <th>89</th>\n",
       "      <td>Whitmore Lake</td>\n",
       "      <td>NaN</td>\n",
       "      <td>CIGAR</td>\n",
       "      <td>MI</td>\n",
       "      <td>12/24/1947 21:00</td>\n",
       "    </tr>\n",
       "    <tr>\n",
       "      <th>105</th>\n",
       "      <td>Salem</td>\n",
       "      <td>NaN</td>\n",
       "      <td>CIGAR</td>\n",
       "      <td>OR</td>\n",
       "      <td>6/30/1949 21:00</td>\n",
       "    </tr>\n",
       "    <tr>\n",
       "      <th>117</th>\n",
       "      <td>Baltimore</td>\n",
       "      <td>NaN</td>\n",
       "      <td>CIGAR</td>\n",
       "      <td>MD</td>\n",
       "      <td>10/15/1949 20:00</td>\n",
       "    </tr>\n",
       "    <tr>\n",
       "      <th>138</th>\n",
       "      <td>Coeur d'Alene</td>\n",
       "      <td>ORANGE</td>\n",
       "      <td>CIGAR</td>\n",
       "      <td>ID</td>\n",
       "      <td>7/2/1950 13:00</td>\n",
       "    </tr>\n",
       "    <tr>\n",
       "      <th>149</th>\n",
       "      <td>Palm Springs</td>\n",
       "      <td>NaN</td>\n",
       "      <td>CIGAR</td>\n",
       "      <td>CA</td>\n",
       "      <td>1/20/1951 4:30</td>\n",
       "    </tr>\n",
       "    <tr>\n",
       "      <th>154</th>\n",
       "      <td>Oklahoma</td>\n",
       "      <td>NaN</td>\n",
       "      <td>CIGAR</td>\n",
       "      <td>OK</td>\n",
       "      <td>6/1/1951 19:00</td>\n",
       "    </tr>\n",
       "    <tr>\n",
       "      <th>183</th>\n",
       "      <td>Piedra Blanka</td>\n",
       "      <td>NaN</td>\n",
       "      <td>CIGAR</td>\n",
       "      <td>CA</td>\n",
       "      <td>6/15/1952 0:00</td>\n",
       "    </tr>\n",
       "    <tr>\n",
       "      <th>213</th>\n",
       "      <td>Smithson's Valley</td>\n",
       "      <td>NaN</td>\n",
       "      <td>CIGAR</td>\n",
       "      <td>TX</td>\n",
       "      <td>8/15/1952 17:00</td>\n",
       "    </tr>\n",
       "    <tr>\n",
       "      <th>223</th>\n",
       "      <td>Oklahoma</td>\n",
       "      <td>NaN</td>\n",
       "      <td>CIGAR</td>\n",
       "      <td>TX</td>\n",
       "      <td>1/1/1953 14:00</td>\n",
       "    </tr>\n",
       "    <tr>\n",
       "      <th>230</th>\n",
       "      <td>Jamison</td>\n",
       "      <td>NaN</td>\n",
       "      <td>CIGAR</td>\n",
       "      <td>PA</td>\n",
       "      <td>4/30/1953 16:00</td>\n",
       "    </tr>\n",
       "    <tr>\n",
       "      <th>237</th>\n",
       "      <td>Galveston</td>\n",
       "      <td>NaN</td>\n",
       "      <td>CIGAR</td>\n",
       "      <td>TX</td>\n",
       "      <td>6/17/1953 7:30</td>\n",
       "    </tr>\n",
       "    <tr>\n",
       "      <th>276</th>\n",
       "      <td>Estes Park</td>\n",
       "      <td>NaN</td>\n",
       "      <td>CIGAR</td>\n",
       "      <td>CO</td>\n",
       "      <td>6/10/1954 20:00</td>\n",
       "    </tr>\n",
       "    <tr>\n",
       "      <th>294</th>\n",
       "      <td>Greenfield</td>\n",
       "      <td>NaN</td>\n",
       "      <td>CIGAR</td>\n",
       "      <td>IN</td>\n",
       "      <td>7/15/1954 14:00</td>\n",
       "    </tr>\n",
       "    <tr>\n",
       "      <th>330</th>\n",
       "      <td>Lubbock</td>\n",
       "      <td>NaN</td>\n",
       "      <td>CIGAR</td>\n",
       "      <td>TX</td>\n",
       "      <td>6/30/1955 13:00</td>\n",
       "    </tr>\n",
       "    <tr>\n",
       "      <th>334</th>\n",
       "      <td>Dierks</td>\n",
       "      <td>NaN</td>\n",
       "      <td>CIGAR</td>\n",
       "      <td>AR</td>\n",
       "      <td>7/1/1955 22:00</td>\n",
       "    </tr>\n",
       "    <tr>\n",
       "      <th>340</th>\n",
       "      <td>Eagle Pass</td>\n",
       "      <td>NaN</td>\n",
       "      <td>CIGAR</td>\n",
       "      <td>TX</td>\n",
       "      <td>8/15/1955 0:01</td>\n",
       "    </tr>\n",
       "    <tr>\n",
       "      <th>350</th>\n",
       "      <td>Canton</td>\n",
       "      <td>NaN</td>\n",
       "      <td>CIGAR</td>\n",
       "      <td>OH</td>\n",
       "      <td>5/1/1956 12:00</td>\n",
       "    </tr>\n",
       "    <tr>\n",
       "      <th>362</th>\n",
       "      <td>Richfield Springs</td>\n",
       "      <td>NaN</td>\n",
       "      <td>CIGAR</td>\n",
       "      <td>NY</td>\n",
       "      <td>6/15/1956 18:00</td>\n",
       "    </tr>\n",
       "    <tr>\n",
       "      <th>363</th>\n",
       "      <td>Vista</td>\n",
       "      <td>ORANGE</td>\n",
       "      <td>CIGAR</td>\n",
       "      <td>CA</td>\n",
       "      <td>6/15/1956 19:15</td>\n",
       "    </tr>\n",
       "    <tr>\n",
       "      <th>364</th>\n",
       "      <td>Farragut</td>\n",
       "      <td>NaN</td>\n",
       "      <td>CIGAR</td>\n",
       "      <td>TN</td>\n",
       "      <td>6/15/1956 20:00</td>\n",
       "    </tr>\n",
       "    <tr>\n",
       "      <th>382</th>\n",
       "      <td>Norfolk</td>\n",
       "      <td>NaN</td>\n",
       "      <td>CIGAR</td>\n",
       "      <td>VA</td>\n",
       "      <td>9/9/1956 5:55</td>\n",
       "    </tr>\n",
       "    <tr>\n",
       "      <th>397</th>\n",
       "      <td>Canton</td>\n",
       "      <td>NaN</td>\n",
       "      <td>CIGAR</td>\n",
       "      <td>OH</td>\n",
       "      <td>5/1/1957 12:00</td>\n",
       "    </tr>\n",
       "    <tr>\n",
       "      <th>413</th>\n",
       "      <td>Arctic</td>\n",
       "      <td>NaN</td>\n",
       "      <td>CIGAR</td>\n",
       "      <td>AK</td>\n",
       "      <td>6/30/1957 0:00</td>\n",
       "    </tr>\n",
       "    <tr>\n",
       "      <th>423</th>\n",
       "      <td>Del Rio</td>\n",
       "      <td>NaN</td>\n",
       "      <td>CIGAR</td>\n",
       "      <td>TX</td>\n",
       "      <td>7/1/1957 20:00</td>\n",
       "    </tr>\n",
       "    <tr>\n",
       "      <th>424</th>\n",
       "      <td>Phillipsburg</td>\n",
       "      <td>NaN</td>\n",
       "      <td>CIGAR</td>\n",
       "      <td>NJ</td>\n",
       "      <td>7/10/1957 20:00</td>\n",
       "    </tr>\n",
       "    <tr>\n",
       "      <th>...</th>\n",
       "      <td>...</td>\n",
       "      <td>...</td>\n",
       "      <td>...</td>\n",
       "      <td>...</td>\n",
       "      <td>...</td>\n",
       "    </tr>\n",
       "    <tr>\n",
       "      <th>78471</th>\n",
       "      <td>Canaan</td>\n",
       "      <td>NaN</td>\n",
       "      <td>CIGAR</td>\n",
       "      <td>NH</td>\n",
       "      <td>6/23/2014 11:30</td>\n",
       "    </tr>\n",
       "    <tr>\n",
       "      <th>78499</th>\n",
       "      <td>Farmington</td>\n",
       "      <td>NaN</td>\n",
       "      <td>CIGAR</td>\n",
       "      <td>NM</td>\n",
       "      <td>6/24/2014 18:50</td>\n",
       "    </tr>\n",
       "    <tr>\n",
       "      <th>78598</th>\n",
       "      <td>Albuquerque</td>\n",
       "      <td>RED</td>\n",
       "      <td>CIGAR</td>\n",
       "      <td>NM</td>\n",
       "      <td>6/28/2014 11:00</td>\n",
       "    </tr>\n",
       "    <tr>\n",
       "      <th>78686</th>\n",
       "      <td>Bakersfield</td>\n",
       "      <td>NaN</td>\n",
       "      <td>CIGAR</td>\n",
       "      <td>CA</td>\n",
       "      <td>7/2/2014 3:14</td>\n",
       "    </tr>\n",
       "    <tr>\n",
       "      <th>78800</th>\n",
       "      <td>Hinsdale</td>\n",
       "      <td>ORANGE</td>\n",
       "      <td>CIGAR</td>\n",
       "      <td>IL</td>\n",
       "      <td>7/4/2014 21:25</td>\n",
       "    </tr>\n",
       "    <tr>\n",
       "      <th>79010</th>\n",
       "      <td>Gouldsboro</td>\n",
       "      <td>NaN</td>\n",
       "      <td>CIGAR</td>\n",
       "      <td>PA</td>\n",
       "      <td>7/5/2014 17:00</td>\n",
       "    </tr>\n",
       "    <tr>\n",
       "      <th>79210</th>\n",
       "      <td>Fulton</td>\n",
       "      <td>NaN</td>\n",
       "      <td>CIGAR</td>\n",
       "      <td>MO</td>\n",
       "      <td>7/12/2014 20:35</td>\n",
       "    </tr>\n",
       "    <tr>\n",
       "      <th>79222</th>\n",
       "      <td>Wylie</td>\n",
       "      <td>NaN</td>\n",
       "      <td>CIGAR</td>\n",
       "      <td>TX</td>\n",
       "      <td>7/12/2014 21:00</td>\n",
       "    </tr>\n",
       "    <tr>\n",
       "      <th>79293</th>\n",
       "      <td>Emmaus</td>\n",
       "      <td>ORANGE</td>\n",
       "      <td>CIGAR</td>\n",
       "      <td>PA</td>\n",
       "      <td>7/13/2014 21:45</td>\n",
       "    </tr>\n",
       "    <tr>\n",
       "      <th>79336</th>\n",
       "      <td>Mount Gilead</td>\n",
       "      <td>NaN</td>\n",
       "      <td>CIGAR</td>\n",
       "      <td>NC</td>\n",
       "      <td>7/16/2014 21:15</td>\n",
       "    </tr>\n",
       "    <tr>\n",
       "      <th>79357</th>\n",
       "      <td>Ocean Springs</td>\n",
       "      <td>NaN</td>\n",
       "      <td>CIGAR</td>\n",
       "      <td>MS</td>\n",
       "      <td>7/17/2014 16:30</td>\n",
       "    </tr>\n",
       "    <tr>\n",
       "      <th>79375</th>\n",
       "      <td>Ocean City</td>\n",
       "      <td>NaN</td>\n",
       "      <td>CIGAR</td>\n",
       "      <td>MD</td>\n",
       "      <td>7/18/2014 11:45</td>\n",
       "    </tr>\n",
       "    <tr>\n",
       "      <th>79488</th>\n",
       "      <td>Ocean City</td>\n",
       "      <td>NaN</td>\n",
       "      <td>CIGAR</td>\n",
       "      <td>MD</td>\n",
       "      <td>7/23/2014 20:00</td>\n",
       "    </tr>\n",
       "    <tr>\n",
       "      <th>79517</th>\n",
       "      <td>Laconia</td>\n",
       "      <td>NaN</td>\n",
       "      <td>CIGAR</td>\n",
       "      <td>NH</td>\n",
       "      <td>7/25/2014 9:50</td>\n",
       "    </tr>\n",
       "    <tr>\n",
       "      <th>79545</th>\n",
       "      <td>Grand Fork</td>\n",
       "      <td>NaN</td>\n",
       "      <td>CIGAR</td>\n",
       "      <td>ND</td>\n",
       "      <td>7/26/2014 9:00</td>\n",
       "    </tr>\n",
       "    <tr>\n",
       "      <th>79578</th>\n",
       "      <td>Port Townsend</td>\n",
       "      <td>NaN</td>\n",
       "      <td>CIGAR</td>\n",
       "      <td>WA</td>\n",
       "      <td>7/27/2014 13:00</td>\n",
       "    </tr>\n",
       "    <tr>\n",
       "      <th>79674</th>\n",
       "      <td>Franklin</td>\n",
       "      <td>NaN</td>\n",
       "      <td>CIGAR</td>\n",
       "      <td>PA</td>\n",
       "      <td>8/1/2014 19:00</td>\n",
       "    </tr>\n",
       "    <tr>\n",
       "      <th>79795</th>\n",
       "      <td>Rockport</td>\n",
       "      <td>BLUE</td>\n",
       "      <td>CIGAR</td>\n",
       "      <td>MA</td>\n",
       "      <td>8/6/2014 7:15</td>\n",
       "    </tr>\n",
       "    <tr>\n",
       "      <th>79820</th>\n",
       "      <td>Couderay</td>\n",
       "      <td>NaN</td>\n",
       "      <td>CIGAR</td>\n",
       "      <td>WI</td>\n",
       "      <td>8/8/2014 0:10</td>\n",
       "    </tr>\n",
       "    <tr>\n",
       "      <th>79922</th>\n",
       "      <td>North Highlands</td>\n",
       "      <td>NaN</td>\n",
       "      <td>CIGAR</td>\n",
       "      <td>CA</td>\n",
       "      <td>8/13/2014 9:30</td>\n",
       "    </tr>\n",
       "    <tr>\n",
       "      <th>80236</th>\n",
       "      <td>Atwater</td>\n",
       "      <td>NaN</td>\n",
       "      <td>CIGAR</td>\n",
       "      <td>CA</td>\n",
       "      <td>8/24/2014 20:30</td>\n",
       "    </tr>\n",
       "    <tr>\n",
       "      <th>80248</th>\n",
       "      <td>Kent</td>\n",
       "      <td>NaN</td>\n",
       "      <td>CIGAR</td>\n",
       "      <td>WA</td>\n",
       "      <td>8/25/2014 1:28</td>\n",
       "    </tr>\n",
       "    <tr>\n",
       "      <th>80311</th>\n",
       "      <td>Woodland Hills</td>\n",
       "      <td>NaN</td>\n",
       "      <td>CIGAR</td>\n",
       "      <td>CA</td>\n",
       "      <td>8/27/2014 16:00</td>\n",
       "    </tr>\n",
       "    <tr>\n",
       "      <th>80318</th>\n",
       "      <td>Colquitt</td>\n",
       "      <td>NaN</td>\n",
       "      <td>CIGAR</td>\n",
       "      <td>GA</td>\n",
       "      <td>8/27/2014 21:45</td>\n",
       "    </tr>\n",
       "    <tr>\n",
       "      <th>80341</th>\n",
       "      <td>Marlborough</td>\n",
       "      <td>NaN</td>\n",
       "      <td>CIGAR</td>\n",
       "      <td>MA</td>\n",
       "      <td>8/28/2014 10:00</td>\n",
       "    </tr>\n",
       "    <tr>\n",
       "      <th>80355</th>\n",
       "      <td>Manassas</td>\n",
       "      <td>NaN</td>\n",
       "      <td>CIGAR</td>\n",
       "      <td>VA</td>\n",
       "      <td>8/28/2014 21:00</td>\n",
       "    </tr>\n",
       "    <tr>\n",
       "      <th>80360</th>\n",
       "      <td>Fontana</td>\n",
       "      <td>RED BLUE</td>\n",
       "      <td>CIGAR</td>\n",
       "      <td>CA</td>\n",
       "      <td>8/28/2014 22:00</td>\n",
       "    </tr>\n",
       "    <tr>\n",
       "      <th>80419</th>\n",
       "      <td>Panama City</td>\n",
       "      <td>NaN</td>\n",
       "      <td>CIGAR</td>\n",
       "      <td>FL</td>\n",
       "      <td>8/31/2014 1:42</td>\n",
       "    </tr>\n",
       "    <tr>\n",
       "      <th>80491</th>\n",
       "      <td>Jonesborough</td>\n",
       "      <td>NaN</td>\n",
       "      <td>CIGAR</td>\n",
       "      <td>TN</td>\n",
       "      <td>9/3/2014 12:00</td>\n",
       "    </tr>\n",
       "    <tr>\n",
       "      <th>80517</th>\n",
       "      <td>Laconia</td>\n",
       "      <td>NaN</td>\n",
       "      <td>CIGAR</td>\n",
       "      <td>NH</td>\n",
       "      <td>9/4/2014 19:02</td>\n",
       "    </tr>\n",
       "  </tbody>\n",
       "</table>\n",
       "<p>1983 rows × 5 columns</p>\n",
       "</div>"
      ],
      "text/plain": [
       "                    City Colors Reported Shape Reported State  \\\n",
       "8                Eklutna             NaN          CIGAR    AK   \n",
       "25             San Diego             NaN          CIGAR    CA   \n",
       "32               Ft. Lee             NaN          CIGAR    VA   \n",
       "74              Syracuse             NaN          CIGAR    NY   \n",
       "88               Proctor             NaN          CIGAR    OK   \n",
       "89         Whitmore Lake             NaN          CIGAR    MI   \n",
       "105                Salem             NaN          CIGAR    OR   \n",
       "117            Baltimore             NaN          CIGAR    MD   \n",
       "138        Coeur d'Alene          ORANGE          CIGAR    ID   \n",
       "149         Palm Springs             NaN          CIGAR    CA   \n",
       "154             Oklahoma             NaN          CIGAR    OK   \n",
       "183        Piedra Blanka             NaN          CIGAR    CA   \n",
       "213    Smithson's Valley             NaN          CIGAR    TX   \n",
       "223             Oklahoma             NaN          CIGAR    TX   \n",
       "230              Jamison             NaN          CIGAR    PA   \n",
       "237            Galveston             NaN          CIGAR    TX   \n",
       "276           Estes Park             NaN          CIGAR    CO   \n",
       "294           Greenfield             NaN          CIGAR    IN   \n",
       "330              Lubbock             NaN          CIGAR    TX   \n",
       "334               Dierks             NaN          CIGAR    AR   \n",
       "340           Eagle Pass             NaN          CIGAR    TX   \n",
       "350               Canton             NaN          CIGAR    OH   \n",
       "362    Richfield Springs             NaN          CIGAR    NY   \n",
       "363                Vista          ORANGE          CIGAR    CA   \n",
       "364             Farragut             NaN          CIGAR    TN   \n",
       "382              Norfolk             NaN          CIGAR    VA   \n",
       "397               Canton             NaN          CIGAR    OH   \n",
       "413               Arctic             NaN          CIGAR    AK   \n",
       "423              Del Rio             NaN          CIGAR    TX   \n",
       "424         Phillipsburg             NaN          CIGAR    NJ   \n",
       "...                  ...             ...            ...   ...   \n",
       "78471             Canaan             NaN          CIGAR    NH   \n",
       "78499         Farmington             NaN          CIGAR    NM   \n",
       "78598        Albuquerque             RED          CIGAR    NM   \n",
       "78686        Bakersfield             NaN          CIGAR    CA   \n",
       "78800           Hinsdale          ORANGE          CIGAR    IL   \n",
       "79010         Gouldsboro             NaN          CIGAR    PA   \n",
       "79210             Fulton             NaN          CIGAR    MO   \n",
       "79222              Wylie             NaN          CIGAR    TX   \n",
       "79293             Emmaus          ORANGE          CIGAR    PA   \n",
       "79336       Mount Gilead             NaN          CIGAR    NC   \n",
       "79357      Ocean Springs             NaN          CIGAR    MS   \n",
       "79375         Ocean City             NaN          CIGAR    MD   \n",
       "79488         Ocean City             NaN          CIGAR    MD   \n",
       "79517            Laconia             NaN          CIGAR    NH   \n",
       "79545         Grand Fork             NaN          CIGAR    ND   \n",
       "79578      Port Townsend             NaN          CIGAR    WA   \n",
       "79674           Franklin             NaN          CIGAR    PA   \n",
       "79795           Rockport            BLUE          CIGAR    MA   \n",
       "79820           Couderay             NaN          CIGAR    WI   \n",
       "79922    North Highlands             NaN          CIGAR    CA   \n",
       "80236            Atwater             NaN          CIGAR    CA   \n",
       "80248               Kent             NaN          CIGAR    WA   \n",
       "80311     Woodland Hills             NaN          CIGAR    CA   \n",
       "80318           Colquitt             NaN          CIGAR    GA   \n",
       "80341        Marlborough             NaN          CIGAR    MA   \n",
       "80355           Manassas             NaN          CIGAR    VA   \n",
       "80360            Fontana        RED BLUE          CIGAR    CA   \n",
       "80419        Panama City             NaN          CIGAR    FL   \n",
       "80491       Jonesborough             NaN          CIGAR    TN   \n",
       "80517            Laconia             NaN          CIGAR    NH   \n",
       "\n",
       "                   Time  \n",
       "8      10/15/1936 17:00  \n",
       "25       1/1/1944 12:00  \n",
       "32       1/1/1945 12:00  \n",
       "74      7/14/1947 10:30  \n",
       "88      8/15/1947 20:15  \n",
       "89     12/24/1947 21:00  \n",
       "105     6/30/1949 21:00  \n",
       "117    10/15/1949 20:00  \n",
       "138      7/2/1950 13:00  \n",
       "149      1/20/1951 4:30  \n",
       "154      6/1/1951 19:00  \n",
       "183      6/15/1952 0:00  \n",
       "213     8/15/1952 17:00  \n",
       "223      1/1/1953 14:00  \n",
       "230     4/30/1953 16:00  \n",
       "237      6/17/1953 7:30  \n",
       "276     6/10/1954 20:00  \n",
       "294     7/15/1954 14:00  \n",
       "330     6/30/1955 13:00  \n",
       "334      7/1/1955 22:00  \n",
       "340      8/15/1955 0:01  \n",
       "350      5/1/1956 12:00  \n",
       "362     6/15/1956 18:00  \n",
       "363     6/15/1956 19:15  \n",
       "364     6/15/1956 20:00  \n",
       "382       9/9/1956 5:55  \n",
       "397      5/1/1957 12:00  \n",
       "413      6/30/1957 0:00  \n",
       "423      7/1/1957 20:00  \n",
       "424     7/10/1957 20:00  \n",
       "...                 ...  \n",
       "78471   6/23/2014 11:30  \n",
       "78499   6/24/2014 18:50  \n",
       "78598   6/28/2014 11:00  \n",
       "78686     7/2/2014 3:14  \n",
       "78800    7/4/2014 21:25  \n",
       "79010    7/5/2014 17:00  \n",
       "79210   7/12/2014 20:35  \n",
       "79222   7/12/2014 21:00  \n",
       "79293   7/13/2014 21:45  \n",
       "79336   7/16/2014 21:15  \n",
       "79357   7/17/2014 16:30  \n",
       "79375   7/18/2014 11:45  \n",
       "79488   7/23/2014 20:00  \n",
       "79517    7/25/2014 9:50  \n",
       "79545    7/26/2014 9:00  \n",
       "79578   7/27/2014 13:00  \n",
       "79674    8/1/2014 19:00  \n",
       "79795     8/6/2014 7:15  \n",
       "79820     8/8/2014 0:10  \n",
       "79922    8/13/2014 9:30  \n",
       "80236   8/24/2014 20:30  \n",
       "80248    8/25/2014 1:28  \n",
       "80311   8/27/2014 16:00  \n",
       "80318   8/27/2014 21:45  \n",
       "80341   8/28/2014 10:00  \n",
       "80355   8/28/2014 21:00  \n",
       "80360   8/28/2014 22:00  \n",
       "80419    8/31/2014 1:42  \n",
       "80491    9/3/2014 12:00  \n",
       "80517    9/4/2014 19:02  \n",
       "\n",
       "[1983 rows x 5 columns]"
      ]
     },
     "execution_count": 194,
     "metadata": {},
     "output_type": "execute_result"
    }
   ],
   "source": [
    "# ufo[ufo['Shape Reported']==\"CIGAR\"]\n",
    "\n",
    "ufo.groupby()"
   ]
  },
  {
   "cell_type": "markdown",
   "metadata": {},
   "source": [
    "### 7. Return only the group for \"VARIOUS\" without using a bit mask..\n",
    "It can be done and we're not just making this up!"
   ]
  },
  {
   "cell_type": "code",
   "execution_count": null,
   "metadata": {
    "collapsed": false
   },
   "outputs": [
    {
     "name": "stderr",
     "output_type": "stream",
     "text": [
      "Exception KeyboardInterrupt in 'zmq.backend.cython.message.Frame.__dealloc__' ignored\n"
     ]
    },
    {
     "data": {
      "text/plain": [
       "<matplotlib.axes._subplots.AxesSubplot at 0x1aa890f50>"
      ]
     },
     "execution_count": 218,
     "metadata": {},
     "output_type": "execute_result"
    }
   ],
   "source": [
    "ufo.groupby(\"City\").count().plot(kind=\"barh\")"
   ]
  },
  {
   "cell_type": "code",
   "execution_count": 245,
   "metadata": {
    "collapsed": false
   },
   "outputs": [
    {
     "data": {
      "text/plain": [
       "<matplotlib.axes._subplots.AxesSubplot at 0x1a9a18210>"
      ]
     },
     "execution_count": 246,
     "metadata": {},
     "output_type": "execute_result"
    },
    {
     "ename": "KeyboardInterrupt",
     "evalue": "",
     "output_type": "error",
     "traceback": [
      "Traceback (most recent call last):\n",
      "  File \"/Users/sebozek/anaconda/lib/python2.7/site-packages/ipykernel/ipkernel.py\", line 199, in do_execute\n    shell.run_cell(code, store_history=store_history, silent=silent)\n",
      "  File \"/Users/sebozek/anaconda/lib/python2.7/site-packages/IPython/core/interactiveshell.py\", line 2729, in run_cell\n    self.events.trigger('post_execute')\n",
      "  File \"/Users/sebozek/anaconda/lib/python2.7/site-packages/IPython/core/events.py\", line 74, in trigger\n    func(*args, **kwargs)\n",
      "  File \"/Users/sebozek/anaconda/lib/python2.7/site-packages/ipykernel/pylab/backend_inline.py\", line 113, in flush_figures\n    return show(True)\n",
      "  File \"/Users/sebozek/anaconda/lib/python2.7/site-packages/ipykernel/pylab/backend_inline.py\", line 36, in show\n    display(figure_manager.canvas.figure)\n",
      "  File \"/Users/sebozek/anaconda/lib/python2.7/site-packages/IPython/core/display.py\", line 158, in display\n    format_dict, md_dict = format(obj, include=include, exclude=exclude)\n",
      "  File \"/Users/sebozek/anaconda/lib/python2.7/site-packages/IPython/core/formatters.py\", line 177, in format\n    data = formatter(obj)\n",
      "  File \"<decorator-gen-9>\", line 2, in __call__\n",
      "  File \"/Users/sebozek/anaconda/lib/python2.7/site-packages/IPython/core/formatters.py\", line 222, in catch_format_error\n    r = method(self, *args, **kwargs)\n",
      "  File \"/Users/sebozek/anaconda/lib/python2.7/site-packages/IPython/core/formatters.py\", line 339, in __call__\n    return printer(obj)\n",
      "  File \"/Users/sebozek/anaconda/lib/python2.7/site-packages/IPython/core/pylabtools.py\", line 226, in <lambda>\n    png_formatter.for_type(Figure, lambda fig: print_figure(fig, 'png', **kwargs))\n",
      "  File \"/Users/sebozek/anaconda/lib/python2.7/site-packages/IPython/core/pylabtools.py\", line 117, in print_figure\n    fig.canvas.print_figure(bytes_io, **kw)\n",
      "  File \"/Users/sebozek/anaconda/lib/python2.7/site-packages/matplotlib/backend_bases.py\", line 2182, in print_figure\n    bbox_inches = self.figure.get_tightbbox(renderer)\n",
      "  File \"/Users/sebozek/anaconda/lib/python2.7/site-packages/matplotlib/figure.py\", line 1708, in get_tightbbox\n    bb.append(ax.get_tightbbox(renderer))\n",
      "  File \"/Users/sebozek/anaconda/lib/python2.7/site-packages/matplotlib/axes/_base.py\", line 3683, in get_tightbbox\n    bb_yaxis = self.yaxis.get_tightbbox(renderer)\n",
      "  File \"/Users/sebozek/anaconda/lib/python2.7/site-packages/matplotlib/axis.py\", line 1075, in get_tightbbox\n    renderer)\n",
      "  File \"/Users/sebozek/anaconda/lib/python2.7/site-packages/matplotlib/axis.py\", line 1058, in _get_tick_bboxes\n    extent = tick.label1.get_window_extent(renderer)\n",
      "  File \"/Users/sebozek/anaconda/lib/python2.7/site-packages/matplotlib/text.py\", line 961, in get_window_extent\n    bbox, info, descent = self._get_layout(self._renderer)\n",
      "  File \"/Users/sebozek/anaconda/lib/python2.7/site-packages/matplotlib/text.py\", line 466, in _get_layout\n    bbox = Bbox.from_bounds(xmin, ymin, width, height)\n",
      "  File \"/Users/sebozek/anaconda/lib/python2.7/site-packages/matplotlib/transforms.py\", line 835, in from_bounds\n    return Bbox.from_extents(x0, y0, x0 + width, y0 + height)\n",
      "  File \"/Users/sebozek/anaconda/lib/python2.7/site-packages/matplotlib/transforms.py\", line 846, in from_extents\n    return Bbox(points)\n",
      "  File \"/Users/sebozek/anaconda/lib/python2.7/site-packages/matplotlib/transforms.py\", line 788, in __init__\n    BboxBase.__init__(self, **kwargs)\n",
      "  File \"/Users/sebozek/anaconda/lib/python2.7/site-packages/matplotlib/transforms.py\", line 98, in __init__\n    self._parents = WeakValueDictionary()\n",
      "  File \"/Users/sebozek/anaconda/lib/python2.7/weakref.py\", line 66, in __init__\n    UserDict.UserDict.__init__(self, *args, **kw)\n",
      "  File \"/Users/sebozek/anaconda/lib/python2.7/UserDict.py\", line 22, in __init__\n    self.data = {}\n",
      "KeyboardInterrupt\n"
     ]
    }
   ],
   "source": [
    "#ufo_shape = ufo['Shape Reported'].value_counts()\n",
    "\n",
    "# ufo['Shape Reported'].value_counts().plot(kind=\"bar\")\n",
    "#ufo_shape.plot(kind=\"bar\")\n",
    "\n",
    "ufo.groupby(['Shape Reported', 'State', 'Colors Reported']).size().plot(kind='barh')"
   ]
  },
  {
   "cell_type": "markdown",
   "metadata": {},
   "source": [
    "### 8. Plot the counts of shapes, states, colors\n",
    "Double check our notebook and feel free to use Google for help."
   ]
  },
  {
   "cell_type": "markdown",
   "metadata": {},
   "source": [
    "### 9. Plot counts of sightings per City"
   ]
  },
  {
   "cell_type": "code",
   "execution_count": 250,
   "metadata": {
    "collapsed": false
   },
   "outputs": [
    {
     "data": {
      "text/plain": [
       "<matplotlib.axes._subplots.AxesSubplot at 0x22bb96450>"
      ]
     },
     "execution_count": 250,
     "metadata": {},
     "output_type": "execute_result"
    },
    {
     "data": {
      "image/png": "[encoded data removed]",
      "text/plain": [
       "<matplotlib.figure.Figure at 0x278d219d0>"
      ]
     },
     "metadata": {},
     "output_type": "display_data"
    }
   ],
   "source": [
    "ufo['City'].value_counts().head(5).plot(kind='bar')"
   ]
  },
  {
   "cell_type": "code",
   "execution_count": null,
   "metadata": {
    "collapsed": true
   },
   "outputs": [],
   "source": []
  },
  {
   "cell_type": "markdown",
   "metadata": {},
   "source": [
    "### 10.  Your co-worker in your data science team has approached you with some concerns..\n",
    "\n",
    "<center>![a real data scientist](http://nerdist.com/wp-content/uploads/2016/02/20160225_becausescience_pokemon_1x1.jpg)\n",
    "_* Actual data scientists may vary in appearance_\n",
    "</center>\n",
    "\n",
    "\n",
    "They tell you that group counting your sightings by city might be inaccurate.  How can you reassure them that your logic is sound and you are certianly correct?  Demonstrate to them, in any other way possible (with code) that you think counting groups by city is a good idea (right?).  Show them by using another method, or grouping in conjunction with other variables validates your assumptions."
   ]
  },
  {
   "cell_type": "code",
   "execution_count": 253,
   "metadata": {
    "collapsed": false
   },
   "outputs": [
    {
     "data": {
      "text/html": [
       "<div>\n",
       "<table border=\"1\" class=\"dataframe\">\n",
       "  <thead>\n",
       "    <tr style=\"text-align: right;\">\n",
       "      <th></th>\n",
       "      <th></th>\n",
       "      <th>Colors Reported</th>\n",
       "      <th>Shape Reported</th>\n",
       "      <th>Time</th>\n",
       "    </tr>\n",
       "    <tr>\n",
       "      <th>State</th>\n",
       "      <th>City</th>\n",
       "      <th></th>\n",
       "      <th></th>\n",
       "      <th></th>\n",
       "    </tr>\n",
       "  </thead>\n",
       "  <tbody>\n",
       "    <tr>\n",
       "      <th rowspan=\"30\" valign=\"top\">AK</th>\n",
       "      <th>Adak</th>\n",
       "      <td>0</td>\n",
       "      <td>1</td>\n",
       "      <td>1</td>\n",
       "    </tr>\n",
       "    <tr>\n",
       "      <th>Alaska</th>\n",
       "      <td>0</td>\n",
       "      <td>3</td>\n",
       "      <td>3</td>\n",
       "    </tr>\n",
       "    <tr>\n",
       "      <th>Alaska cruise</th>\n",
       "      <td>0</td>\n",
       "      <td>1</td>\n",
       "      <td>1</td>\n",
       "    </tr>\n",
       "    <tr>\n",
       "      <th>Anchor Point</th>\n",
       "      <td>0</td>\n",
       "      <td>1</td>\n",
       "      <td>1</td>\n",
       "    </tr>\n",
       "    <tr>\n",
       "      <th>Anchorage</th>\n",
       "      <td>25</td>\n",
       "      <td>86</td>\n",
       "      <td>92</td>\n",
       "    </tr>\n",
       "    <tr>\n",
       "      <th>Angoon</th>\n",
       "      <td>0</td>\n",
       "      <td>1</td>\n",
       "      <td>1</td>\n",
       "    </tr>\n",
       "    <tr>\n",
       "      <th>Arctic</th>\n",
       "      <td>0</td>\n",
       "      <td>1</td>\n",
       "      <td>1</td>\n",
       "    </tr>\n",
       "    <tr>\n",
       "      <th>Auke Bay</th>\n",
       "      <td>2</td>\n",
       "      <td>2</td>\n",
       "      <td>2</td>\n",
       "    </tr>\n",
       "    <tr>\n",
       "      <th>Bering Sea</th>\n",
       "      <td>1</td>\n",
       "      <td>1</td>\n",
       "      <td>1</td>\n",
       "    </tr>\n",
       "    <tr>\n",
       "      <th>Bethel</th>\n",
       "      <td>3</td>\n",
       "      <td>8</td>\n",
       "      <td>8</td>\n",
       "    </tr>\n",
       "    <tr>\n",
       "      <th>Big Lake</th>\n",
       "      <td>1</td>\n",
       "      <td>1</td>\n",
       "      <td>1</td>\n",
       "    </tr>\n",
       "    <tr>\n",
       "      <th>Butte</th>\n",
       "      <td>0</td>\n",
       "      <td>1</td>\n",
       "      <td>1</td>\n",
       "    </tr>\n",
       "    <tr>\n",
       "      <th>Cantwell</th>\n",
       "      <td>0</td>\n",
       "      <td>1</td>\n",
       "      <td>1</td>\n",
       "    </tr>\n",
       "    <tr>\n",
       "      <th>Chugiak</th>\n",
       "      <td>0</td>\n",
       "      <td>2</td>\n",
       "      <td>2</td>\n",
       "    </tr>\n",
       "    <tr>\n",
       "      <th>Clam Gulch</th>\n",
       "      <td>0</td>\n",
       "      <td>1</td>\n",
       "      <td>1</td>\n",
       "    </tr>\n",
       "    <tr>\n",
       "      <th>Cold Bay</th>\n",
       "      <td>0</td>\n",
       "      <td>1</td>\n",
       "      <td>1</td>\n",
       "    </tr>\n",
       "    <tr>\n",
       "      <th>College Fjord</th>\n",
       "      <td>0</td>\n",
       "      <td>1</td>\n",
       "      <td>1</td>\n",
       "    </tr>\n",
       "    <tr>\n",
       "      <th>Copper Center</th>\n",
       "      <td>0</td>\n",
       "      <td>1</td>\n",
       "      <td>1</td>\n",
       "    </tr>\n",
       "    <tr>\n",
       "      <th>Cordova</th>\n",
       "      <td>0</td>\n",
       "      <td>2</td>\n",
       "      <td>3</td>\n",
       "    </tr>\n",
       "    <tr>\n",
       "      <th>Council</th>\n",
       "      <td>0</td>\n",
       "      <td>1</td>\n",
       "      <td>1</td>\n",
       "    </tr>\n",
       "    <tr>\n",
       "      <th>Craig</th>\n",
       "      <td>1</td>\n",
       "      <td>1</td>\n",
       "      <td>1</td>\n",
       "    </tr>\n",
       "    <tr>\n",
       "      <th>Delta Junction</th>\n",
       "      <td>2</td>\n",
       "      <td>2</td>\n",
       "      <td>2</td>\n",
       "    </tr>\n",
       "    <tr>\n",
       "      <th>Douglas Island</th>\n",
       "      <td>0</td>\n",
       "      <td>1</td>\n",
       "      <td>1</td>\n",
       "    </tr>\n",
       "    <tr>\n",
       "      <th>Eagle River</th>\n",
       "      <td>3</td>\n",
       "      <td>9</td>\n",
       "      <td>10</td>\n",
       "    </tr>\n",
       "    <tr>\n",
       "      <th>Eklutna</th>\n",
       "      <td>0</td>\n",
       "      <td>1</td>\n",
       "      <td>1</td>\n",
       "    </tr>\n",
       "    <tr>\n",
       "      <th>Elk</th>\n",
       "      <td>0</td>\n",
       "      <td>0</td>\n",
       "      <td>1</td>\n",
       "    </tr>\n",
       "    <tr>\n",
       "      <th>Elmendorf AFB</th>\n",
       "      <td>1</td>\n",
       "      <td>1</td>\n",
       "      <td>1</td>\n",
       "    </tr>\n",
       "    <tr>\n",
       "      <th>Ester</th>\n",
       "      <td>0</td>\n",
       "      <td>1</td>\n",
       "      <td>1</td>\n",
       "    </tr>\n",
       "    <tr>\n",
       "      <th>Fairbanks</th>\n",
       "      <td>18</td>\n",
       "      <td>43</td>\n",
       "      <td>52</td>\n",
       "    </tr>\n",
       "    <tr>\n",
       "      <th>Fairbanks, Trans Alaskan Pipeline haul road 250 mi N of</th>\n",
       "      <td>0</td>\n",
       "      <td>0</td>\n",
       "      <td>1</td>\n",
       "    </tr>\n",
       "    <tr>\n",
       "      <th>...</th>\n",
       "      <th>...</th>\n",
       "      <td>...</td>\n",
       "      <td>...</td>\n",
       "      <td>...</td>\n",
       "    </tr>\n",
       "    <tr>\n",
       "      <th rowspan=\"30\" valign=\"top\">WY</th>\n",
       "      <th>Mills</th>\n",
       "      <td>0</td>\n",
       "      <td>1</td>\n",
       "      <td>1</td>\n",
       "    </tr>\n",
       "    <tr>\n",
       "      <th>Old Faithful</th>\n",
       "      <td>0</td>\n",
       "      <td>0</td>\n",
       "      <td>1</td>\n",
       "    </tr>\n",
       "    <tr>\n",
       "      <th>On highway; location unknown</th>\n",
       "      <td>0</td>\n",
       "      <td>1</td>\n",
       "      <td>1</td>\n",
       "    </tr>\n",
       "    <tr>\n",
       "      <th>Opal</th>\n",
       "      <td>0</td>\n",
       "      <td>0</td>\n",
       "      <td>1</td>\n",
       "    </tr>\n",
       "    <tr>\n",
       "      <th>Pine Haven</th>\n",
       "      <td>0</td>\n",
       "      <td>1</td>\n",
       "      <td>1</td>\n",
       "    </tr>\n",
       "    <tr>\n",
       "      <th>Pinedale</th>\n",
       "      <td>0</td>\n",
       "      <td>1</td>\n",
       "      <td>1</td>\n",
       "    </tr>\n",
       "    <tr>\n",
       "      <th>Point of Rocks</th>\n",
       "      <td>1</td>\n",
       "      <td>1</td>\n",
       "      <td>1</td>\n",
       "    </tr>\n",
       "    <tr>\n",
       "      <th>Powell</th>\n",
       "      <td>0</td>\n",
       "      <td>4</td>\n",
       "      <td>5</td>\n",
       "    </tr>\n",
       "    <tr>\n",
       "      <th>Rawlins</th>\n",
       "      <td>1</td>\n",
       "      <td>3</td>\n",
       "      <td>4</td>\n",
       "    </tr>\n",
       "    <tr>\n",
       "      <th>Riverton</th>\n",
       "      <td>0</td>\n",
       "      <td>3</td>\n",
       "      <td>3</td>\n",
       "    </tr>\n",
       "    <tr>\n",
       "      <th>Rock River</th>\n",
       "      <td>0</td>\n",
       "      <td>4</td>\n",
       "      <td>4</td>\n",
       "    </tr>\n",
       "    <tr>\n",
       "      <th>Rock Spings, 2miles west of</th>\n",
       "      <td>0</td>\n",
       "      <td>0</td>\n",
       "      <td>1</td>\n",
       "    </tr>\n",
       "    <tr>\n",
       "      <th>Rock Springs</th>\n",
       "      <td>5</td>\n",
       "      <td>16</td>\n",
       "      <td>16</td>\n",
       "    </tr>\n",
       "    <tr>\n",
       "      <th>Seminoe Lake</th>\n",
       "      <td>0</td>\n",
       "      <td>0</td>\n",
       "      <td>1</td>\n",
       "    </tr>\n",
       "    <tr>\n",
       "      <th>Shawnee</th>\n",
       "      <td>0</td>\n",
       "      <td>0</td>\n",
       "      <td>1</td>\n",
       "    </tr>\n",
       "    <tr>\n",
       "      <th>Sheridan</th>\n",
       "      <td>1</td>\n",
       "      <td>5</td>\n",
       "      <td>5</td>\n",
       "    </tr>\n",
       "    <tr>\n",
       "      <th>Shirley Basin Road</th>\n",
       "      <td>0</td>\n",
       "      <td>1</td>\n",
       "      <td>1</td>\n",
       "    </tr>\n",
       "    <tr>\n",
       "      <th>Ten Sleep</th>\n",
       "      <td>0</td>\n",
       "      <td>1</td>\n",
       "      <td>1</td>\n",
       "    </tr>\n",
       "    <tr>\n",
       "      <th>Teton National Park</th>\n",
       "      <td>0</td>\n",
       "      <td>2</td>\n",
       "      <td>2</td>\n",
       "    </tr>\n",
       "    <tr>\n",
       "      <th>Thermopolis</th>\n",
       "      <td>0</td>\n",
       "      <td>0</td>\n",
       "      <td>1</td>\n",
       "    </tr>\n",
       "    <tr>\n",
       "      <th>Torrington</th>\n",
       "      <td>0</td>\n",
       "      <td>1</td>\n",
       "      <td>1</td>\n",
       "    </tr>\n",
       "    <tr>\n",
       "      <th>Wheeling</th>\n",
       "      <td>0</td>\n",
       "      <td>0</td>\n",
       "      <td>1</td>\n",
       "    </tr>\n",
       "    <tr>\n",
       "      <th>Worland</th>\n",
       "      <td>0</td>\n",
       "      <td>2</td>\n",
       "      <td>2</td>\n",
       "    </tr>\n",
       "    <tr>\n",
       "      <th>Wyoming</th>\n",
       "      <td>0</td>\n",
       "      <td>4</td>\n",
       "      <td>4</td>\n",
       "    </tr>\n",
       "    <tr>\n",
       "      <th>Yellowstone</th>\n",
       "      <td>0</td>\n",
       "      <td>1</td>\n",
       "      <td>1</td>\n",
       "    </tr>\n",
       "    <tr>\n",
       "      <th>Yellowstone National Park</th>\n",
       "      <td>1</td>\n",
       "      <td>7</td>\n",
       "      <td>7</td>\n",
       "    </tr>\n",
       "    <tr>\n",
       "      <th>Yellowstone North Entrance</th>\n",
       "      <td>1</td>\n",
       "      <td>1</td>\n",
       "      <td>1</td>\n",
       "    </tr>\n",
       "    <tr>\n",
       "      <th>Yellowstone Park</th>\n",
       "      <td>0</td>\n",
       "      <td>1</td>\n",
       "      <td>1</td>\n",
       "    </tr>\n",
       "    <tr>\n",
       "      <th>na</th>\n",
       "      <td>0</td>\n",
       "      <td>1</td>\n",
       "      <td>1</td>\n",
       "    </tr>\n",
       "    <tr>\n",
       "      <th>remote</th>\n",
       "      <td>0</td>\n",
       "      <td>1</td>\n",
       "      <td>1</td>\n",
       "    </tr>\n",
       "  </tbody>\n",
       "</table>\n",
       "<p>18263 rows × 3 columns</p>\n",
       "</div>"
      ],
      "text/plain": [
       "                                                          Colors Reported  \\\n",
       "State City                                                                  \n",
       "AK    Adak                                                              0   \n",
       "      Alaska                                                            0   \n",
       "      Alaska cruise                                                     0   \n",
       "      Anchor Point                                                      0   \n",
       "      Anchorage                                                        25   \n",
       "      Angoon                                                            0   \n",
       "      Arctic                                                            0   \n",
       "      Auke Bay                                                          2   \n",
       "      Bering Sea                                                        1   \n",
       "      Bethel                                                            3   \n",
       "      Big Lake                                                          1   \n",
       "      Butte                                                             0   \n",
       "      Cantwell                                                          0   \n",
       "      Chugiak                                                           0   \n",
       "      Clam Gulch                                                        0   \n",
       "      Cold Bay                                                          0   \n",
       "      College Fjord                                                     0   \n",
       "      Copper Center                                                     0   \n",
       "      Cordova                                                           0   \n",
       "      Council                                                           0   \n",
       "      Craig                                                             1   \n",
       "      Delta Junction                                                    2   \n",
       "      Douglas Island                                                    0   \n",
       "      Eagle River                                                       3   \n",
       "      Eklutna                                                           0   \n",
       "      Elk                                                               0   \n",
       "      Elmendorf AFB                                                     1   \n",
       "      Ester                                                             0   \n",
       "      Fairbanks                                                        18   \n",
       "      Fairbanks, Trans Alaskan Pipeline haul road 250...                0   \n",
       "...                                                                   ...   \n",
       "WY    Mills                                                             0   \n",
       "      Old Faithful                                                      0   \n",
       "      On highway; location unknown                                      0   \n",
       "      Opal                                                              0   \n",
       "      Pine Haven                                                        0   \n",
       "      Pinedale                                                          0   \n",
       "      Point of Rocks                                                    1   \n",
       "      Powell                                                            0   \n",
       "      Rawlins                                                           1   \n",
       "      Riverton                                                          0   \n",
       "      Rock River                                                        0   \n",
       "      Rock Spings, 2miles west of                                       0   \n",
       "      Rock Springs                                                      5   \n",
       "      Seminoe Lake                                                      0   \n",
       "      Shawnee                                                           0   \n",
       "      Sheridan                                                          1   \n",
       "      Shirley Basin Road                                                0   \n",
       "      Ten Sleep                                                         0   \n",
       "      Teton National Park                                               0   \n",
       "      Thermopolis                                                       0   \n",
       "      Torrington                                                        0   \n",
       "      Wheeling                                                          0   \n",
       "      Worland                                                           0   \n",
       "      Wyoming                                                           0   \n",
       "      Yellowstone                                                       0   \n",
       "      Yellowstone National Park                                         1   \n",
       "      Yellowstone North Entrance                                        1   \n",
       "      Yellowstone Park                                                  0   \n",
       "      na                                                                0   \n",
       "      remote                                                            0   \n",
       "\n",
       "                                                          Shape Reported  Time  \n",
       "State City                                                                      \n",
       "AK    Adak                                                             1     1  \n",
       "      Alaska                                                           3     3  \n",
       "      Alaska cruise                                                    1     1  \n",
       "      Anchor Point                                                     1     1  \n",
       "      Anchorage                                                       86    92  \n",
       "      Angoon                                                           1     1  \n",
       "      Arctic                                                           1     1  \n",
       "      Auke Bay                                                         2     2  \n",
       "      Bering Sea                                                       1     1  \n",
       "      Bethel                                                           8     8  \n",
       "      Big Lake                                                         1     1  \n",
       "      Butte                                                            1     1  \n",
       "      Cantwell                                                         1     1  \n",
       "      Chugiak                                                          2     2  \n",
       "      Clam Gulch                                                       1     1  \n",
       "      Cold Bay                                                         1     1  \n",
       "      College Fjord                                                    1     1  \n",
       "      Copper Center                                                    1     1  \n",
       "      Cordova                                                          2     3  \n",
       "      Council                                                          1     1  \n",
       "      Craig                                                            1     1  \n",
       "      Delta Junction                                                   2     2  \n",
       "      Douglas Island                                                   1     1  \n",
       "      Eagle River                                                      9    10  \n",
       "      Eklutna                                                          1     1  \n",
       "      Elk                                                              0     1  \n",
       "      Elmendorf AFB                                                    1     1  \n",
       "      Ester                                                            1     1  \n",
       "      Fairbanks                                                       43    52  \n",
       "      Fairbanks, Trans Alaskan Pipeline haul road 250...               0     1  \n",
       "...                                                                  ...   ...  \n",
       "WY    Mills                                                            1     1  \n",
       "      Old Faithful                                                     0     1  \n",
       "      On highway; location unknown                                     1     1  \n",
       "      Opal                                                             0     1  \n",
       "      Pine Haven                                                       1     1  \n",
       "      Pinedale                                                         1     1  \n",
       "      Point of Rocks                                                   1     1  \n",
       "      Powell                                                           4     5  \n",
       "      Rawlins                                                          3     4  \n",
       "      Riverton                                                         3     3  \n",
       "      Rock River                                                       4     4  \n",
       "      Rock Spings, 2miles west of                                      0     1  \n",
       "      Rock Springs                                                    16    16  \n",
       "      Seminoe Lake                                                     0     1  \n",
       "      Shawnee                                                          0     1  \n",
       "      Sheridan                                                         5     5  \n",
       "      Shirley Basin Road                                               1     1  \n",
       "      Ten Sleep                                                        1     1  \n",
       "      Teton National Park                                              2     2  \n",
       "      Thermopolis                                                      0     1  \n",
       "      Torrington                                                       1     1  \n",
       "      Wheeling                                                         0     1  \n",
       "      Worland                                                          2     2  \n",
       "      Wyoming                                                          4     4  \n",
       "      Yellowstone                                                      1     1  \n",
       "      Yellowstone National Park                                        7     7  \n",
       "      Yellowstone North Entrance                                       1     1  \n",
       "      Yellowstone Park                                                 1     1  \n",
       "      na                                                               1     1  \n",
       "      remote                                                           1     1  \n",
       "\n",
       "[18263 rows x 3 columns]"
      ]
     },
     "execution_count": 253,
     "metadata": {},
     "output_type": "execute_result"
    }
   ],
   "source": [
    "# ufo.groupby(['State','City']).count()\n",
    "\n",
    "ufo.groupby(['State','City']).plot"
   ]
  },
  {
   "cell_type": "markdown",
   "metadata": {},
   "source": [
    "### 11.  Which cities have the most \"CIGAR\" sightings?"
   ]
  },
  {
   "cell_type": "code",
   "execution_count": 261,
   "metadata": {
    "collapsed": false
   },
   "outputs": [
    {
     "name": "stderr",
     "output_type": "stream",
     "text": [
      "/Users/sebozek/anaconda/lib/python2.7/site-packages/ipykernel/__main__.py:3: FutureWarning: order is deprecated, use sort_values(...)\n",
      "  app.launch_new_instance()\n"
     ]
    },
    {
     "data": {
      "text/plain": [
       "City\n",
       "New York City    19\n",
       "dtype: int64"
      ]
     },
     "execution_count": 261,
     "metadata": {},
     "output_type": "execute_result"
    }
   ],
   "source": [
    "cigar_df = ufo[ufo[\"Shape Reported\"]== \"CIGAR\"] \n",
    "\n",
    "cigar_df.groupby('City').size().order(ascending=False).head(1)\n",
    "# ufo.groupby(['City', 'Shape Reported']).size()"
   ]
  },
  {
   "cell_type": "markdown",
   "metadata": {},
   "source": [
    "---\n",
    "\n",
    "Ask instructors for help on everything previous to this point, but we have designed the bonus material around collaboration in mind.  The next few problems are to be completed without instructor help.\n",
    "\n",
    "```\n",
    "if lab_question > 11:\n",
    "    no_instructors_allowed()\n",
    "```"
   ]
  },
  {
   "cell_type": "markdown",
   "metadata": {},
   "source": [
    "### 12.  Bonus:  Display only top 20 shape counts reported by state!\n",
    "\n",
    "This is a weird problem yes?  You're going to have weird questions and google is your friend!  So for this problem, we have found the answer with the search term \"pandas top 10 by group\" is a semi-obvious place where you will find many of these types of answers.\n",
    "\n",
    "You will easily find the answer but you will need to think about how to implement the solution as the ones you find won't be copy and paste but should demonstrate the intuition for doing so using a grouby object.\n",
    "\n",
    "This is the expected output, _using a groupby() and [some method(s)] to display \"State\" and \"Shape\" as your group indexes with a count!_:\n",
    "\n",
    "```\n",
    "State  Shape Reported\n",
    "CA     LIGHT             2171\n",
    "       CIRCLE            1023\n",
    "WA     LIGHT             1016\n",
    "CA     TRIANGLE           955\n",
    "FL     LIGHT              916\n",
    "TX     LIGHT              847\n",
    "CA     FIREBALL           808\n",
    "       DISK               775\n",
    "       OTHER              749\n",
    "       SPHERE             726\n",
    "NY     LIGHT              691\n",
    "AZ     LIGHT              677\n",
    "IL     LIGHT              600\n",
    "PA     LIGHT              581\n",
    "OH     LIGHT              525\n",
    "FL     FIREBALL           524\n",
    "MI     LIGHT              468\n",
    "FL     CIRCLE             467\n",
    "OR     LIGHT              466\n",
    "CA     OVAL               465\n",
    "dtype: int64\n",
    "```"
   ]
  },
  {
   "cell_type": "code",
   "execution_count": 267,
   "metadata": {
    "collapsed": false
   },
   "outputs": [
    {
     "data": {
      "text/plain": [
       "State  Shape Reported\n",
       "CA     LIGHT             2171\n",
       "       CIRCLE            1023\n",
       "WA     LIGHT             1016\n",
       "CA     TRIANGLE           955\n",
       "FL     LIGHT              916\n",
       "TX     LIGHT              847\n",
       "CA     FIREBALL           808\n",
       "       DISK               775\n",
       "       OTHER              749\n",
       "       SPHERE             726\n",
       "NY     LIGHT              691\n",
       "AZ     LIGHT              677\n",
       "IL     LIGHT              600\n",
       "PA     LIGHT              581\n",
       "OH     LIGHT              525\n",
       "FL     FIREBALL           524\n",
       "MI     LIGHT              468\n",
       "FL     CIRCLE             467\n",
       "OR     LIGHT              466\n",
       "CA     OVAL               465\n",
       "dtype: int64"
      ]
     },
     "execution_count": 267,
     "metadata": {},
     "output_type": "execute_result"
    }
   ],
   "source": [
    "ufo.groupby(['State','Shape Reported']).size().nlargest(20)"
   ]
  },
  {
   "cell_type": "markdown",
   "metadata": {},
   "source": [
    "### 13.  Bonus:  What are the top 20 shapes by City + State?\n"
   ]
  },
  {
   "cell_type": "code",
   "execution_count": 268,
   "metadata": {
    "collapsed": false
   },
   "outputs": [
    {
     "data": {
      "text/plain": [
       "City           State  Shape Reported\n",
       "Seattle        WA     LIGHT             129\n",
       "New York City  NY     LIGHT             105\n",
       "Phoenix        AZ     LIGHT             105\n",
       "San Diego      CA     LIGHT              94\n",
       "Portland       OR     LIGHT              88\n",
       "Las Vegas      NV     LIGHT              84\n",
       "Los Angeles    CA     LIGHT              72\n",
       "Myrtle Beach   SC     LIGHT              64\n",
       "Houston        TX     LIGHT              63\n",
       "New York City  NY     DISK               63\n",
       "Tinley Park    IL     LIGHT              60\n",
       "Tucson         AZ     LIGHT              58\n",
       "New York City  NY     CIRCLE             56\n",
       "Orlando        FL     LIGHT              55\n",
       "Seattle        WA     FIREBALL           55\n",
       "Miami          FL     LIGHT              53\n",
       "New York City  NY     SPHERE             51\n",
       "Seattle        WA     OTHER              51\n",
       "                      CIRCLE             50\n",
       "Albuquerque    NM     LIGHT              48\n",
       "dtype: int64"
      ]
     },
     "execution_count": 268,
     "metadata": {},
     "output_type": "execute_result"
    }
   ],
   "source": [
    "ufo.groupby(['City','State','Shape Reported']).size().nlargest(20)"
   ]
  },
  {
   "cell_type": "markdown",
   "metadata": {},
   "source": [
    "### 14. Bonus: What hours of the day are sightings most commonly reported?\n",
    "\n",
    "To solve this problem, you will need to follow these steps:\n",
    "    - Convert time feature to datetime type\n",
    "    - Create a new feature based on a characteristic of the first step\n",
    "    - Check our Slack for how to accomplish this (dyerrington posted this recently) \n",
    "    \n",
    "There are at least 3 students who have asked how to do this out of personal interest in our class.  Your mission is to seek them out for advice.  No instructors allowed!"
   ]
  },
  {
   "cell_type": "code",
   "execution_count": 272,
   "metadata": {
    "collapsed": false
   },
   "outputs": [
    {
     "data": {
      "text/html": [
       "<div>\n",
       "<table border=\"1\" class=\"dataframe\">\n",
       "  <thead>\n",
       "    <tr style=\"text-align: right;\">\n",
       "      <th></th>\n",
       "      <th>City</th>\n",
       "      <th>Colors Reported</th>\n",
       "      <th>Shape Reported</th>\n",
       "      <th>State</th>\n",
       "      <th>Time</th>\n",
       "      <th>Date</th>\n",
       "    </tr>\n",
       "  </thead>\n",
       "  <tbody>\n",
       "    <tr>\n",
       "      <th>0</th>\n",
       "      <td>Ithaca</td>\n",
       "      <td>NaN</td>\n",
       "      <td>TRIANGLE</td>\n",
       "      <td>NY</td>\n",
       "      <td>6/1/1930 22:00</td>\n",
       "      <td>1930-06-01 22:00:00</td>\n",
       "    </tr>\n",
       "    <tr>\n",
       "      <th>1</th>\n",
       "      <td>Willingboro</td>\n",
       "      <td>NaN</td>\n",
       "      <td>OTHER</td>\n",
       "      <td>NJ</td>\n",
       "      <td>6/30/1930 20:00</td>\n",
       "      <td>1930-06-30 20:00:00</td>\n",
       "    </tr>\n",
       "    <tr>\n",
       "      <th>2</th>\n",
       "      <td>Holyoke</td>\n",
       "      <td>NaN</td>\n",
       "      <td>OVAL</td>\n",
       "      <td>CO</td>\n",
       "      <td>2/15/1931 14:00</td>\n",
       "      <td>1931-02-15 14:00:00</td>\n",
       "    </tr>\n",
       "    <tr>\n",
       "      <th>3</th>\n",
       "      <td>Abilene</td>\n",
       "      <td>NaN</td>\n",
       "      <td>DISK</td>\n",
       "      <td>KS</td>\n",
       "      <td>6/1/1931 13:00</td>\n",
       "      <td>1931-06-01 13:00:00</td>\n",
       "    </tr>\n",
       "    <tr>\n",
       "      <th>4</th>\n",
       "      <td>New York Worlds Fair</td>\n",
       "      <td>NaN</td>\n",
       "      <td>LIGHT</td>\n",
       "      <td>NY</td>\n",
       "      <td>4/18/1933 19:00</td>\n",
       "      <td>1933-04-18 19:00:00</td>\n",
       "    </tr>\n",
       "    <tr>\n",
       "      <th>5</th>\n",
       "      <td>Valley City</td>\n",
       "      <td>NaN</td>\n",
       "      <td>DISK</td>\n",
       "      <td>ND</td>\n",
       "      <td>9/15/1934 15:30</td>\n",
       "      <td>1934-09-15 15:30:00</td>\n",
       "    </tr>\n",
       "    <tr>\n",
       "      <th>6</th>\n",
       "      <td>Crater Lake</td>\n",
       "      <td>NaN</td>\n",
       "      <td>CIRCLE</td>\n",
       "      <td>CA</td>\n",
       "      <td>6/15/1935 0:00</td>\n",
       "      <td>1935-06-15 00:00:00</td>\n",
       "    </tr>\n",
       "    <tr>\n",
       "      <th>7</th>\n",
       "      <td>Alma</td>\n",
       "      <td>NaN</td>\n",
       "      <td>DISK</td>\n",
       "      <td>MI</td>\n",
       "      <td>7/15/1936 0:00</td>\n",
       "      <td>1936-07-15 00:00:00</td>\n",
       "    </tr>\n",
       "    <tr>\n",
       "      <th>8</th>\n",
       "      <td>Eklutna</td>\n",
       "      <td>NaN</td>\n",
       "      <td>CIGAR</td>\n",
       "      <td>AK</td>\n",
       "      <td>10/15/1936 17:00</td>\n",
       "      <td>1936-10-15 17:00:00</td>\n",
       "    </tr>\n",
       "    <tr>\n",
       "      <th>9</th>\n",
       "      <td>Hubbard</td>\n",
       "      <td>NaN</td>\n",
       "      <td>CYLINDER</td>\n",
       "      <td>OR</td>\n",
       "      <td>6/15/1937 0:00</td>\n",
       "      <td>1937-06-15 00:00:00</td>\n",
       "    </tr>\n",
       "    <tr>\n",
       "      <th>10</th>\n",
       "      <td>Fontana</td>\n",
       "      <td>NaN</td>\n",
       "      <td>LIGHT</td>\n",
       "      <td>CA</td>\n",
       "      <td>8/15/1937 21:00</td>\n",
       "      <td>1937-08-15 21:00:00</td>\n",
       "    </tr>\n",
       "    <tr>\n",
       "      <th>11</th>\n",
       "      <td>Waterloo</td>\n",
       "      <td>NaN</td>\n",
       "      <td>FIREBALL</td>\n",
       "      <td>AL</td>\n",
       "      <td>6/1/1939 20:00</td>\n",
       "      <td>1939-06-01 20:00:00</td>\n",
       "    </tr>\n",
       "    <tr>\n",
       "      <th>12</th>\n",
       "      <td>Belton</td>\n",
       "      <td>RED</td>\n",
       "      <td>SPHERE</td>\n",
       "      <td>SC</td>\n",
       "      <td>6/30/1939 20:00</td>\n",
       "      <td>1939-06-30 20:00:00</td>\n",
       "    </tr>\n",
       "    <tr>\n",
       "      <th>13</th>\n",
       "      <td>Keokuk</td>\n",
       "      <td>NaN</td>\n",
       "      <td>OVAL</td>\n",
       "      <td>IA</td>\n",
       "      <td>7/7/1939 2:00</td>\n",
       "      <td>1939-07-07 02:00:00</td>\n",
       "    </tr>\n",
       "    <tr>\n",
       "      <th>14</th>\n",
       "      <td>Ludington</td>\n",
       "      <td>NaN</td>\n",
       "      <td>DISK</td>\n",
       "      <td>MI</td>\n",
       "      <td>6/1/1941 13:00</td>\n",
       "      <td>1941-06-01 13:00:00</td>\n",
       "    </tr>\n",
       "    <tr>\n",
       "      <th>15</th>\n",
       "      <td>Forest Home</td>\n",
       "      <td>NaN</td>\n",
       "      <td>CIRCLE</td>\n",
       "      <td>CA</td>\n",
       "      <td>7/2/1941 11:30</td>\n",
       "      <td>1941-07-02 11:30:00</td>\n",
       "    </tr>\n",
       "    <tr>\n",
       "      <th>16</th>\n",
       "      <td>Los Angeles</td>\n",
       "      <td>NaN</td>\n",
       "      <td>NaN</td>\n",
       "      <td>CA</td>\n",
       "      <td>2/25/1942 0:00</td>\n",
       "      <td>1942-02-25 00:00:00</td>\n",
       "    </tr>\n",
       "    <tr>\n",
       "      <th>17</th>\n",
       "      <td>Hapeville</td>\n",
       "      <td>NaN</td>\n",
       "      <td>NaN</td>\n",
       "      <td>GA</td>\n",
       "      <td>6/1/1942 22:30</td>\n",
       "      <td>1942-06-01 22:30:00</td>\n",
       "    </tr>\n",
       "    <tr>\n",
       "      <th>18</th>\n",
       "      <td>Oneida</td>\n",
       "      <td>NaN</td>\n",
       "      <td>RECTANGLE</td>\n",
       "      <td>TN</td>\n",
       "      <td>7/15/1942 1:00</td>\n",
       "      <td>1942-07-15 01:00:00</td>\n",
       "    </tr>\n",
       "    <tr>\n",
       "      <th>19</th>\n",
       "      <td>Bering Sea</td>\n",
       "      <td>RED</td>\n",
       "      <td>OTHER</td>\n",
       "      <td>AK</td>\n",
       "      <td>4/30/1943 23:00</td>\n",
       "      <td>1943-04-30 23:00:00</td>\n",
       "    </tr>\n",
       "    <tr>\n",
       "      <th>20</th>\n",
       "      <td>Nebraska</td>\n",
       "      <td>NaN</td>\n",
       "      <td>DISK</td>\n",
       "      <td>NE</td>\n",
       "      <td>6/1/1943 15:00</td>\n",
       "      <td>1943-06-01 15:00:00</td>\n",
       "    </tr>\n",
       "    <tr>\n",
       "      <th>21</th>\n",
       "      <td>NaN</td>\n",
       "      <td>NaN</td>\n",
       "      <td>NaN</td>\n",
       "      <td>LA</td>\n",
       "      <td>8/15/1943 0:00</td>\n",
       "      <td>1943-08-15 00:00:00</td>\n",
       "    </tr>\n",
       "    <tr>\n",
       "      <th>22</th>\n",
       "      <td>NaN</td>\n",
       "      <td>NaN</td>\n",
       "      <td>LIGHT</td>\n",
       "      <td>LA</td>\n",
       "      <td>8/15/1943 0:00</td>\n",
       "      <td>1943-08-15 00:00:00</td>\n",
       "    </tr>\n",
       "    <tr>\n",
       "      <th>23</th>\n",
       "      <td>Owensboro</td>\n",
       "      <td>NaN</td>\n",
       "      <td>RECTANGLE</td>\n",
       "      <td>KY</td>\n",
       "      <td>10/15/1943 11:00</td>\n",
       "      <td>1943-10-15 11:00:00</td>\n",
       "    </tr>\n",
       "    <tr>\n",
       "      <th>24</th>\n",
       "      <td>Wilderness</td>\n",
       "      <td>NaN</td>\n",
       "      <td>DISK</td>\n",
       "      <td>WV</td>\n",
       "      <td>1/1/1944 10:00</td>\n",
       "      <td>1944-01-01 10:00:00</td>\n",
       "    </tr>\n",
       "    <tr>\n",
       "      <th>25</th>\n",
       "      <td>San Diego</td>\n",
       "      <td>NaN</td>\n",
       "      <td>CIGAR</td>\n",
       "      <td>CA</td>\n",
       "      <td>1/1/1944 12:00</td>\n",
       "      <td>1944-01-01 12:00:00</td>\n",
       "    </tr>\n",
       "    <tr>\n",
       "      <th>26</th>\n",
       "      <td>Wilderness</td>\n",
       "      <td>NaN</td>\n",
       "      <td>DISK</td>\n",
       "      <td>WV</td>\n",
       "      <td>1/1/1944 12:00</td>\n",
       "      <td>1944-01-01 12:00:00</td>\n",
       "    </tr>\n",
       "    <tr>\n",
       "      <th>27</th>\n",
       "      <td>Clovis</td>\n",
       "      <td>NaN</td>\n",
       "      <td>DISK</td>\n",
       "      <td>NM</td>\n",
       "      <td>4/2/1944 11:00</td>\n",
       "      <td>1944-04-02 11:00:00</td>\n",
       "    </tr>\n",
       "    <tr>\n",
       "      <th>28</th>\n",
       "      <td>Los Alamos</td>\n",
       "      <td>NaN</td>\n",
       "      <td>DISK</td>\n",
       "      <td>NM</td>\n",
       "      <td>6/1/1944 12:00</td>\n",
       "      <td>1944-06-01 12:00:00</td>\n",
       "    </tr>\n",
       "    <tr>\n",
       "      <th>29</th>\n",
       "      <td>Ft. Duschene</td>\n",
       "      <td>NaN</td>\n",
       "      <td>DISK</td>\n",
       "      <td>UT</td>\n",
       "      <td>6/30/1944 10:00</td>\n",
       "      <td>1944-06-30 10:00:00</td>\n",
       "    </tr>\n",
       "    <tr>\n",
       "      <th>...</th>\n",
       "      <td>...</td>\n",
       "      <td>...</td>\n",
       "      <td>...</td>\n",
       "      <td>...</td>\n",
       "      <td>...</td>\n",
       "      <td>...</td>\n",
       "    </tr>\n",
       "    <tr>\n",
       "      <th>80513</th>\n",
       "      <td>Manahawkin</td>\n",
       "      <td>NaN</td>\n",
       "      <td>CIRCLE</td>\n",
       "      <td>NJ</td>\n",
       "      <td>9/4/2014 8:30</td>\n",
       "      <td>2014-09-04 08:30:00</td>\n",
       "    </tr>\n",
       "    <tr>\n",
       "      <th>80514</th>\n",
       "      <td>New Bedford</td>\n",
       "      <td>NaN</td>\n",
       "      <td>LIGHT</td>\n",
       "      <td>MA</td>\n",
       "      <td>9/4/2014 9:47</td>\n",
       "      <td>2014-09-04 09:47:00</td>\n",
       "    </tr>\n",
       "    <tr>\n",
       "      <th>80515</th>\n",
       "      <td>Woodbridge</td>\n",
       "      <td>NaN</td>\n",
       "      <td>TRIANGLE</td>\n",
       "      <td>VA</td>\n",
       "      <td>9/4/2014 16:30</td>\n",
       "      <td>2014-09-04 16:30:00</td>\n",
       "    </tr>\n",
       "    <tr>\n",
       "      <th>80516</th>\n",
       "      <td>Glendale</td>\n",
       "      <td>NaN</td>\n",
       "      <td>CYLINDER</td>\n",
       "      <td>CA</td>\n",
       "      <td>9/4/2014 17:38</td>\n",
       "      <td>2014-09-04 17:38:00</td>\n",
       "    </tr>\n",
       "    <tr>\n",
       "      <th>80517</th>\n",
       "      <td>Laconia</td>\n",
       "      <td>NaN</td>\n",
       "      <td>CIGAR</td>\n",
       "      <td>NH</td>\n",
       "      <td>9/4/2014 19:02</td>\n",
       "      <td>2014-09-04 19:02:00</td>\n",
       "    </tr>\n",
       "    <tr>\n",
       "      <th>80518</th>\n",
       "      <td>Langhorne</td>\n",
       "      <td>NaN</td>\n",
       "      <td>OTHER</td>\n",
       "      <td>PA</td>\n",
       "      <td>9/4/2014 19:30</td>\n",
       "      <td>2014-09-04 19:30:00</td>\n",
       "    </tr>\n",
       "    <tr>\n",
       "      <th>80519</th>\n",
       "      <td>Glen Ellyn</td>\n",
       "      <td>RED</td>\n",
       "      <td>CIRCLE</td>\n",
       "      <td>IL</td>\n",
       "      <td>9/4/2014 20:20</td>\n",
       "      <td>2014-09-04 20:20:00</td>\n",
       "    </tr>\n",
       "    <tr>\n",
       "      <th>80520</th>\n",
       "      <td>Waynesburg</td>\n",
       "      <td>NaN</td>\n",
       "      <td>FLASH</td>\n",
       "      <td>PA</td>\n",
       "      <td>9/4/2014 20:25</td>\n",
       "      <td>2014-09-04 20:25:00</td>\n",
       "    </tr>\n",
       "    <tr>\n",
       "      <th>80521</th>\n",
       "      <td>Canal Winchester</td>\n",
       "      <td>NaN</td>\n",
       "      <td>TRIANGLE</td>\n",
       "      <td>OH</td>\n",
       "      <td>9/4/2014 20:30</td>\n",
       "      <td>2014-09-04 20:30:00</td>\n",
       "    </tr>\n",
       "    <tr>\n",
       "      <th>80522</th>\n",
       "      <td>Lawrence</td>\n",
       "      <td>ORANGE</td>\n",
       "      <td>LIGHT</td>\n",
       "      <td>MA</td>\n",
       "      <td>9/4/2014 20:30</td>\n",
       "      <td>2014-09-04 20:30:00</td>\n",
       "    </tr>\n",
       "    <tr>\n",
       "      <th>80523</th>\n",
       "      <td>Ellicott City</td>\n",
       "      <td>NaN</td>\n",
       "      <td>LIGHT</td>\n",
       "      <td>MD</td>\n",
       "      <td>9/4/2014 20:45</td>\n",
       "      <td>2014-09-04 20:45:00</td>\n",
       "    </tr>\n",
       "    <tr>\n",
       "      <th>80524</th>\n",
       "      <td>Olympia</td>\n",
       "      <td>RED</td>\n",
       "      <td>LIGHT</td>\n",
       "      <td>WA</td>\n",
       "      <td>9/4/2014 21:10</td>\n",
       "      <td>2014-09-04 21:10:00</td>\n",
       "    </tr>\n",
       "    <tr>\n",
       "      <th>80525</th>\n",
       "      <td>Iowa City</td>\n",
       "      <td>BLUE</td>\n",
       "      <td>LIGHT</td>\n",
       "      <td>IA</td>\n",
       "      <td>9/4/2014 21:11</td>\n",
       "      <td>2014-09-04 21:11:00</td>\n",
       "    </tr>\n",
       "    <tr>\n",
       "      <th>80526</th>\n",
       "      <td>Marshfield</td>\n",
       "      <td>NaN</td>\n",
       "      <td>LIGHT</td>\n",
       "      <td>MA</td>\n",
       "      <td>9/4/2014 21:15</td>\n",
       "      <td>2014-09-04 21:15:00</td>\n",
       "    </tr>\n",
       "    <tr>\n",
       "      <th>80527</th>\n",
       "      <td>Seattle</td>\n",
       "      <td>NaN</td>\n",
       "      <td>DIAMOND</td>\n",
       "      <td>WA</td>\n",
       "      <td>9/4/2014 21:15</td>\n",
       "      <td>2014-09-04 21:15:00</td>\n",
       "    </tr>\n",
       "    <tr>\n",
       "      <th>80528</th>\n",
       "      <td>North Royalton</td>\n",
       "      <td>RED</td>\n",
       "      <td>TRIANGLE</td>\n",
       "      <td>OH</td>\n",
       "      <td>9/4/2014 21:30</td>\n",
       "      <td>2014-09-04 21:30:00</td>\n",
       "    </tr>\n",
       "    <tr>\n",
       "      <th>80529</th>\n",
       "      <td>Deer Park</td>\n",
       "      <td>NaN</td>\n",
       "      <td>LIGHT</td>\n",
       "      <td>WA</td>\n",
       "      <td>9/4/2014 22:00</td>\n",
       "      <td>2014-09-04 22:00:00</td>\n",
       "    </tr>\n",
       "    <tr>\n",
       "      <th>80530</th>\n",
       "      <td>Glen St. Mary</td>\n",
       "      <td>NaN</td>\n",
       "      <td>DISK</td>\n",
       "      <td>FL</td>\n",
       "      <td>9/4/2014 22:00</td>\n",
       "      <td>2014-09-04 22:00:00</td>\n",
       "    </tr>\n",
       "    <tr>\n",
       "      <th>80531</th>\n",
       "      <td>Abingdon</td>\n",
       "      <td>NaN</td>\n",
       "      <td>CIRCLE</td>\n",
       "      <td>VA</td>\n",
       "      <td>9/4/2014 22:05</td>\n",
       "      <td>2014-09-04 22:05:00</td>\n",
       "    </tr>\n",
       "    <tr>\n",
       "      <th>80532</th>\n",
       "      <td>Lawrence</td>\n",
       "      <td>NaN</td>\n",
       "      <td>LIGHT</td>\n",
       "      <td>MA</td>\n",
       "      <td>9/4/2014 22:15</td>\n",
       "      <td>2014-09-04 22:15:00</td>\n",
       "    </tr>\n",
       "    <tr>\n",
       "      <th>80533</th>\n",
       "      <td>Melbourne</td>\n",
       "      <td>NaN</td>\n",
       "      <td>OVAL</td>\n",
       "      <td>IA</td>\n",
       "      <td>9/4/2014 22:15</td>\n",
       "      <td>2014-09-04 22:15:00</td>\n",
       "    </tr>\n",
       "    <tr>\n",
       "      <th>80534</th>\n",
       "      <td>Burleson</td>\n",
       "      <td>NaN</td>\n",
       "      <td>LIGHT</td>\n",
       "      <td>TX</td>\n",
       "      <td>9/4/2014 22:30</td>\n",
       "      <td>2014-09-04 22:30:00</td>\n",
       "    </tr>\n",
       "    <tr>\n",
       "      <th>80535</th>\n",
       "      <td>Elizabethtown</td>\n",
       "      <td>NaN</td>\n",
       "      <td>CIRCLE</td>\n",
       "      <td>KY</td>\n",
       "      <td>9/4/2014 22:30</td>\n",
       "      <td>2014-09-04 22:30:00</td>\n",
       "    </tr>\n",
       "    <tr>\n",
       "      <th>80536</th>\n",
       "      <td>Wyoming</td>\n",
       "      <td>RED</td>\n",
       "      <td>DISK</td>\n",
       "      <td>PA</td>\n",
       "      <td>9/4/2014 23:00</td>\n",
       "      <td>2014-09-04 23:00:00</td>\n",
       "    </tr>\n",
       "    <tr>\n",
       "      <th>80537</th>\n",
       "      <td>Neligh</td>\n",
       "      <td>NaN</td>\n",
       "      <td>CIRCLE</td>\n",
       "      <td>NE</td>\n",
       "      <td>9/4/2014 23:20</td>\n",
       "      <td>2014-09-04 23:20:00</td>\n",
       "    </tr>\n",
       "    <tr>\n",
       "      <th>80538</th>\n",
       "      <td>Neligh</td>\n",
       "      <td>NaN</td>\n",
       "      <td>CIRCLE</td>\n",
       "      <td>NE</td>\n",
       "      <td>9/4/2014 23:20</td>\n",
       "      <td>2014-09-04 23:20:00</td>\n",
       "    </tr>\n",
       "    <tr>\n",
       "      <th>80539</th>\n",
       "      <td>Uhrichsville</td>\n",
       "      <td>NaN</td>\n",
       "      <td>LIGHT</td>\n",
       "      <td>OH</td>\n",
       "      <td>9/5/2014 1:14</td>\n",
       "      <td>2014-09-05 01:14:00</td>\n",
       "    </tr>\n",
       "    <tr>\n",
       "      <th>80540</th>\n",
       "      <td>Tucson</td>\n",
       "      <td>RED BLUE</td>\n",
       "      <td>NaN</td>\n",
       "      <td>AZ</td>\n",
       "      <td>9/5/2014 2:40</td>\n",
       "      <td>2014-09-05 02:40:00</td>\n",
       "    </tr>\n",
       "    <tr>\n",
       "      <th>80541</th>\n",
       "      <td>Orland park</td>\n",
       "      <td>RED</td>\n",
       "      <td>LIGHT</td>\n",
       "      <td>IL</td>\n",
       "      <td>9/5/2014 3:43</td>\n",
       "      <td>2014-09-05 03:43:00</td>\n",
       "    </tr>\n",
       "    <tr>\n",
       "      <th>80542</th>\n",
       "      <td>Loughman</td>\n",
       "      <td>NaN</td>\n",
       "      <td>LIGHT</td>\n",
       "      <td>FL</td>\n",
       "      <td>9/5/2014 5:30</td>\n",
       "      <td>2014-09-05 05:30:00</td>\n",
       "    </tr>\n",
       "  </tbody>\n",
       "</table>\n",
       "<p>80543 rows × 6 columns</p>\n",
       "</div>"
      ],
      "text/plain": [
       "                       City Colors Reported Shape Reported State  \\\n",
       "0                    Ithaca             NaN       TRIANGLE    NY   \n",
       "1               Willingboro             NaN          OTHER    NJ   \n",
       "2                   Holyoke             NaN           OVAL    CO   \n",
       "3                   Abilene             NaN           DISK    KS   \n",
       "4      New York Worlds Fair             NaN          LIGHT    NY   \n",
       "5               Valley City             NaN           DISK    ND   \n",
       "6               Crater Lake             NaN         CIRCLE    CA   \n",
       "7                      Alma             NaN           DISK    MI   \n",
       "8                   Eklutna             NaN          CIGAR    AK   \n",
       "9                   Hubbard             NaN       CYLINDER    OR   \n",
       "10                  Fontana             NaN          LIGHT    CA   \n",
       "11                 Waterloo             NaN       FIREBALL    AL   \n",
       "12                   Belton             RED         SPHERE    SC   \n",
       "13                   Keokuk             NaN           OVAL    IA   \n",
       "14                Ludington             NaN           DISK    MI   \n",
       "15              Forest Home             NaN         CIRCLE    CA   \n",
       "16              Los Angeles             NaN            NaN    CA   \n",
       "17                Hapeville             NaN            NaN    GA   \n",
       "18                   Oneida             NaN      RECTANGLE    TN   \n",
       "19               Bering Sea             RED          OTHER    AK   \n",
       "20                 Nebraska             NaN           DISK    NE   \n",
       "21                      NaN             NaN            NaN    LA   \n",
       "22                      NaN             NaN          LIGHT    LA   \n",
       "23                Owensboro             NaN      RECTANGLE    KY   \n",
       "24               Wilderness             NaN           DISK    WV   \n",
       "25                San Diego             NaN          CIGAR    CA   \n",
       "26               Wilderness             NaN           DISK    WV   \n",
       "27                   Clovis             NaN           DISK    NM   \n",
       "28               Los Alamos             NaN           DISK    NM   \n",
       "29             Ft. Duschene             NaN           DISK    UT   \n",
       "...                     ...             ...            ...   ...   \n",
       "80513            Manahawkin             NaN         CIRCLE    NJ   \n",
       "80514           New Bedford             NaN          LIGHT    MA   \n",
       "80515            Woodbridge             NaN       TRIANGLE    VA   \n",
       "80516              Glendale             NaN       CYLINDER    CA   \n",
       "80517               Laconia             NaN          CIGAR    NH   \n",
       "80518             Langhorne             NaN          OTHER    PA   \n",
       "80519            Glen Ellyn             RED         CIRCLE    IL   \n",
       "80520            Waynesburg             NaN          FLASH    PA   \n",
       "80521      Canal Winchester             NaN       TRIANGLE    OH   \n",
       "80522              Lawrence          ORANGE          LIGHT    MA   \n",
       "80523         Ellicott City             NaN          LIGHT    MD   \n",
       "80524               Olympia             RED          LIGHT    WA   \n",
       "80525             Iowa City            BLUE          LIGHT    IA   \n",
       "80526            Marshfield             NaN          LIGHT    MA   \n",
       "80527               Seattle             NaN        DIAMOND    WA   \n",
       "80528        North Royalton             RED       TRIANGLE    OH   \n",
       "80529             Deer Park             NaN          LIGHT    WA   \n",
       "80530         Glen St. Mary             NaN           DISK    FL   \n",
       "80531              Abingdon             NaN         CIRCLE    VA   \n",
       "80532              Lawrence             NaN          LIGHT    MA   \n",
       "80533             Melbourne             NaN           OVAL    IA   \n",
       "80534              Burleson             NaN          LIGHT    TX   \n",
       "80535         Elizabethtown             NaN         CIRCLE    KY   \n",
       "80536               Wyoming             RED           DISK    PA   \n",
       "80537                Neligh             NaN         CIRCLE    NE   \n",
       "80538                Neligh             NaN         CIRCLE    NE   \n",
       "80539          Uhrichsville             NaN          LIGHT    OH   \n",
       "80540                Tucson        RED BLUE            NaN    AZ   \n",
       "80541           Orland park             RED          LIGHT    IL   \n",
       "80542              Loughman             NaN          LIGHT    FL   \n",
       "\n",
       "                   Time                Date  \n",
       "0        6/1/1930 22:00 1930-06-01 22:00:00  \n",
       "1       6/30/1930 20:00 1930-06-30 20:00:00  \n",
       "2       2/15/1931 14:00 1931-02-15 14:00:00  \n",
       "3        6/1/1931 13:00 1931-06-01 13:00:00  \n",
       "4       4/18/1933 19:00 1933-04-18 19:00:00  \n",
       "5       9/15/1934 15:30 1934-09-15 15:30:00  \n",
       "6        6/15/1935 0:00 1935-06-15 00:00:00  \n",
       "7        7/15/1936 0:00 1936-07-15 00:00:00  \n",
       "8      10/15/1936 17:00 1936-10-15 17:00:00  \n",
       "9        6/15/1937 0:00 1937-06-15 00:00:00  \n",
       "10      8/15/1937 21:00 1937-08-15 21:00:00  \n",
       "11       6/1/1939 20:00 1939-06-01 20:00:00  \n",
       "12      6/30/1939 20:00 1939-06-30 20:00:00  \n",
       "13        7/7/1939 2:00 1939-07-07 02:00:00  \n",
       "14       6/1/1941 13:00 1941-06-01 13:00:00  \n",
       "15       7/2/1941 11:30 1941-07-02 11:30:00  \n",
       "16       2/25/1942 0:00 1942-02-25 00:00:00  \n",
       "17       6/1/1942 22:30 1942-06-01 22:30:00  \n",
       "18       7/15/1942 1:00 1942-07-15 01:00:00  \n",
       "19      4/30/1943 23:00 1943-04-30 23:00:00  \n",
       "20       6/1/1943 15:00 1943-06-01 15:00:00  \n",
       "21       8/15/1943 0:00 1943-08-15 00:00:00  \n",
       "22       8/15/1943 0:00 1943-08-15 00:00:00  \n",
       "23     10/15/1943 11:00 1943-10-15 11:00:00  \n",
       "24       1/1/1944 10:00 1944-01-01 10:00:00  \n",
       "25       1/1/1944 12:00 1944-01-01 12:00:00  \n",
       "26       1/1/1944 12:00 1944-01-01 12:00:00  \n",
       "27       4/2/1944 11:00 1944-04-02 11:00:00  \n",
       "28       6/1/1944 12:00 1944-06-01 12:00:00  \n",
       "29      6/30/1944 10:00 1944-06-30 10:00:00  \n",
       "...                 ...                 ...  \n",
       "80513     9/4/2014 8:30 2014-09-04 08:30:00  \n",
       "80514     9/4/2014 9:47 2014-09-04 09:47:00  \n",
       "80515    9/4/2014 16:30 2014-09-04 16:30:00  \n",
       "80516    9/4/2014 17:38 2014-09-04 17:38:00  \n",
       "80517    9/4/2014 19:02 2014-09-04 19:02:00  \n",
       "80518    9/4/2014 19:30 2014-09-04 19:30:00  \n",
       "80519    9/4/2014 20:20 2014-09-04 20:20:00  \n",
       "80520    9/4/2014 20:25 2014-09-04 20:25:00  \n",
       "80521    9/4/2014 20:30 2014-09-04 20:30:00  \n",
       "80522    9/4/2014 20:30 2014-09-04 20:30:00  \n",
       "80523    9/4/2014 20:45 2014-09-04 20:45:00  \n",
       "80524    9/4/2014 21:10 2014-09-04 21:10:00  \n",
       "80525    9/4/2014 21:11 2014-09-04 21:11:00  \n",
       "80526    9/4/2014 21:15 2014-09-04 21:15:00  \n",
       "80527    9/4/2014 21:15 2014-09-04 21:15:00  \n",
       "80528    9/4/2014 21:30 2014-09-04 21:30:00  \n",
       "80529    9/4/2014 22:00 2014-09-04 22:00:00  \n",
       "80530    9/4/2014 22:00 2014-09-04 22:00:00  \n",
       "80531    9/4/2014 22:05 2014-09-04 22:05:00  \n",
       "80532    9/4/2014 22:15 2014-09-04 22:15:00  \n",
       "80533    9/4/2014 22:15 2014-09-04 22:15:00  \n",
       "80534    9/4/2014 22:30 2014-09-04 22:30:00  \n",
       "80535    9/4/2014 22:30 2014-09-04 22:30:00  \n",
       "80536    9/4/2014 23:00 2014-09-04 23:00:00  \n",
       "80537    9/4/2014 23:20 2014-09-04 23:20:00  \n",
       "80538    9/4/2014 23:20 2014-09-04 23:20:00  \n",
       "80539     9/5/2014 1:14 2014-09-05 01:14:00  \n",
       "80540     9/5/2014 2:40 2014-09-05 02:40:00  \n",
       "80541     9/5/2014 3:43 2014-09-05 03:43:00  \n",
       "80542     9/5/2014 5:30 2014-09-05 05:30:00  \n",
       "\n",
       "[80543 rows x 6 columns]"
      ]
     },
     "execution_count": 272,
     "metadata": {},
     "output_type": "execute_result"
    }
   ],
   "source": [
    "#ufo['Time'].dtype # Object\n",
    "\n",
    "ufo['Date'] = pd.to_datetime(ufo['Time'])\n",
    "\n",
    "ufo"
   ]
  },
  {
   "cell_type": "code",
   "execution_count": 280,
   "metadata": {
    "collapsed": false
   },
   "outputs": [],
   "source": [
    "# ufo.get_dtype_counts()\n",
    "# ufo.info()\n",
    "\n",
    "ufo['Hour'] = ufo['Date'].map(lambda date: date.hour)"
   ]
  },
  {
   "cell_type": "code",
   "execution_count": 286,
   "metadata": {
    "collapsed": false
   },
   "outputs": [
    {
     "data": {
      "text/plain": [
       "<matplotlib.axes._subplots.AxesSubplot at 0x279e06ed0>"
      ]
     },
     "execution_count": 286,
     "metadata": {},
     "output_type": "execute_result"
    },
    {
     "data": {
      "image/png": "[encoded data removed]",
      "text/plain": [
       "<matplotlib.figure.Figure at 0x278f66650>"
      ]
     },
     "metadata": {},
     "output_type": "display_data"
    }
   ],
   "source": [
    "ufo.groupby('Hour').size().plot(kind='barh', figsize=(10,10))"
   ]
  },
  {
   "cell_type": "markdown",
   "metadata": {},
   "source": [
    "### 15. BONUS BONUS:  Generally, what interesting insights can you share about our UFO dataset?\n",
    "    \n",
    "Be as detailed as possible and tell us a nice story (long or short), about your observations.  Great ideas are:\n",
    " - Summary statistics\n",
    " - Outliers\n",
    " - Patterns\n",
    " - Latent characteristics\n",
    " - Graphs / plots / ascii art"
   ]
  },
  {
   "cell_type": "code",
   "execution_count": null,
   "metadata": {
    "collapsed": true
   },
   "outputs": [],
   "source": []
  }
 ],
 "metadata": {
  "celltoolbar": "Slideshow",
  "kernelspec": {
   "display_name": "Python 2",
   "language": "python",
   "name": "python2"
  },
  "language_info": {
   "codemirror_mode": {
    "name": "ipython",
    "version": 2
   },
   "file_extension": ".py",
   "mimetype": "text/x-python",
   "name": "python",
   "nbconvert_exporter": "python",
   "pygments_lexer": "ipython2",
   "version": "2.7.11"
  }
 },
 "nbformat": 4,
 "nbformat_minor": 0
}
