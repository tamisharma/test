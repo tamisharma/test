{
 "cells": [
  {
   "cell_type": "markdown",
   "metadata": {
    "slideshow": {
     "slide_type": "slide"
    }
   },
   "source": [
    "<img src=\"https://ga-dash.s3.amazonaws.com/production/assets/logo-9f88ae6c9c3871690e33280fcf557f33.png\" style=\"float: left; margin: 15px;\">\n",
    "\n",
    "# Intro to Pandas 2\n",
    "\n",
    "***\n",
    "\n",
    "Week 2 | Lesson 2.1\n",
    "\n",
    "### LEARNING OBJECTIVES\n",
    "*After this lesson, you will be able to:*\n",
    "- Perform boolean indexing on dataframes\n",
    "- Perform math functions using pandas.Series functions"
   ]
  },
  {
   "cell_type": "markdown",
   "metadata": {
    "slideshow": {
     "slide_type": "slide"
    }
   },
   "source": [
    "### LESSON GUIDE\n",
    "| TIMING  | TYPE  | TOPIC  |\n",
    "|:-:|---|---|\n",
    "| 15 min  | [Introduction](#introduction)   | Series and DataFrame data types |\n",
    "| 25 min  | [Demo / Guided Practice](#demo)  | pd.Series  |\n",
    "| 25 min  | [Demo / Guided Practice](#demo)  | Boolean indexing  |\n",
    "| 20 min  | [Independent Practice](#ind-practice)  |   |\n",
    "| 5 min  | [Conclusion](#conclusion)  |  |\n",
    "\n",
    "---"
   ]
  },
  {
   "cell_type": "markdown",
   "metadata": {
    "slideshow": {
     "slide_type": "slide"
    }
   },
   "source": [
    "## Partner or group - What is a DataFrame and how is it useful? (3-5 mins)"
   ]
  },
  {
   "cell_type": "markdown",
   "metadata": {
    "slideshow": {
     "slide_type": "slide"
    }
   },
   "source": [
    "- A DataFrame is a 2-dimensional labeled data structure with columns of potentially different types. You can think of it like a spreadsheet or SQL table, or a dict of Series objects. It is generally the most commonly used pandas object. "
   ]
  },
  {
   "cell_type": "markdown",
   "metadata": {
    "slideshow": {
     "slide_type": "slide"
    }
   },
   "source": [
    "![](http://image.slidesharecdn.com/2013-11-14-20enterthematrix-131207071455-phpapp02/95/enter-the-matrix-10-638.jpg)"
   ]
  },
  {
   "cell_type": "markdown",
   "metadata": {
    "slideshow": {
     "slide_type": "notes"
    }
   },
   "source": [
    "Remember this?"
   ]
  },
  {
   "cell_type": "markdown",
   "metadata": {
    "slideshow": {
     "slide_type": "notes"
    }
   },
   "source": [
    "_note: A series is a fundamental building block inside of a DataFrame.  A perfect time time to draw a dataframe._"
   ]
  },
  {
   "cell_type": "markdown",
   "metadata": {
    "slideshow": {
     "slide_type": "slide"
    }
   },
   "source": [
    "<a name=\"Series and DataFrame data types\"></a>\n",
    "## Introduction: Series and DataFrame data types (10 mins)\n",
    "\n",
    "- Series is a one-dimensional labeled array capable of holding any data type (integers, strings, \n",
    "floating point numbers, Python objects, etc.). The axis labels are collectively referred to as \n",
    "the index. The basic method to create a Series is to call:\n",
    "\n",
    "```Python\n",
    "s = pd.Series(data, index=index)\n",
    "```\n",
    "\n",
    "- Here, data can be many different things:\n",
    "    - a Python dict\n",
    "    - an ndarray\n",
    "    - a scalar value (like 5)\n",
    "    - lists / tuples / sets\n",
    "    - another dataframe\n",
    "\n",
    "- The passed index is a list of _row axis_ labels. "
   ]
  },
  {
   "cell_type": "markdown",
   "metadata": {
    "slideshow": {
     "slide_type": "notes"
    }
   },
   "source": [
    "Generally speaking, the index parameter is *optional*.  If you don't specify one, Pandas will select appropriate defaults for you."
   ]
  },
  {
   "cell_type": "markdown",
   "metadata": {
    "slideshow": {
     "slide_type": "slide"
    }
   },
   "source": [
    "### Valid Types of Input\n",
    "\n",
    "- Like Series, DataFrame accepts many different kinds of input:\n",
    "    - Dict of 1D ndarrays, lists, dicts, or Series\n",
    "    - 2-D numpy.ndarray\n",
    "    - Structured or record ndarray\n",
    "    - A Series\n",
    "    - Another DataFrame"
   ]
  },
  {
   "cell_type": "markdown",
   "metadata": {
    "slideshow": {
     "slide_type": "slide"
    }
   },
   "source": [
    "### The \"Index\" as Variable Labels\n",
    "\n",
    "- Along with the data, you can optionally pass index (row labels) and columns (column labels) arguments. \n",
    "\n",
    "- If you pass an index and / or columns, you are guaranteeing the index and / or columns of the resulting DataFrame.\n"
   ]
  },
  {
   "cell_type": "markdown",
   "metadata": {
    "slideshow": {
     "slide_type": "slide"
    }
   },
   "source": [
    "### Without \"Index\" Parameter\n",
    "\n",
    "If axis labels are not passed, they will be constructed from the input data based on common sense rules.\n",
    "\n",
    "Without an index parameter, Pandas will apply indexes if your input data is a dictionary with string keys values, and list data format rows.\n",
    "\n",
    "[Pandas Documentation: Series and Dataframes](http://pandas.pydata.org/pandas-docs/stable/dsintro.html)\n"
   ]
  },
  {
   "cell_type": "markdown",
   "metadata": {
    "slideshow": {
     "slide_type": "slide"
    }
   },
   "source": [
    "### But how does this work!?\n",
    "\n",
    "I'm glad that you asked!"
   ]
  },
  {
   "cell_type": "markdown",
   "metadata": {
    "slideshow": {
     "slide_type": "slide"
    }
   },
   "source": [
    "Here is how a dictionary turns into a DataFrame, when there are **`string`** keys having **`list`** values."
   ]
  },
  {
   "cell_type": "code",
   "execution_count": 101,
   "metadata": {
    "collapsed": false,
    "slideshow": {
     "slide_type": "-"
    }
   },
   "outputs": [
    {
     "data": {
      "text/html": [
       "<div>\n",
       "<table border=\"1\" class=\"dataframe\">\n",
       "  <thead>\n",
       "    <tr style=\"text-align: right;\">\n",
       "      <th></th>\n",
       "      <th>animal</th>\n",
       "      <th>first</th>\n",
       "      <th>last</th>\n",
       "    </tr>\n",
       "  </thead>\n",
       "  <tbody>\n",
       "    <tr>\n",
       "      <th>0</th>\n",
       "      <td>doge</td>\n",
       "      <td>Pat</td>\n",
       "      <td>Kat</td>\n",
       "    </tr>\n",
       "    <tr>\n",
       "      <th>1</th>\n",
       "      <td>cuthulu</td>\n",
       "      <td>Betsy</td>\n",
       "      <td>Reynolds</td>\n",
       "    </tr>\n",
       "    <tr>\n",
       "      <th>2</th>\n",
       "      <td>zebra</td>\n",
       "      <td>Frank</td>\n",
       "      <td>Spinelli</td>\n",
       "    </tr>\n",
       "  </tbody>\n",
       "</table>\n",
       "</div>"
      ],
      "text/plain": [
       "    animal  first      last\n",
       "0     doge    Pat       Kat\n",
       "1  cuthulu  Betsy  Reynolds\n",
       "2    zebra  Frank  Spinelli"
      ]
     },
     "execution_count": 101,
     "metadata": {},
     "output_type": "execute_result"
    }
   ],
   "source": [
    "test_data = {\n",
    "    \"animal\": [\"doge\", \"cuthulu\", \"zebra\"],\n",
    "    \"first\": [\"Pat\", \"Betsy\", \"Frank\"],\n",
    "    \"last\": [\"Kat\", \"Reynolds\", \"Spinelli\"]\n",
    "}\n",
    "pd.DataFrame(test_data)"
   ]
  },
  {
   "cell_type": "markdown",
   "metadata": {
    "slideshow": {
     "slide_type": "slide"
    }
   },
   "source": [
    "### How about with explicitly set indexes?"
   ]
  },
  {
   "cell_type": "code",
   "execution_count": 102,
   "metadata": {
    "collapsed": false
   },
   "outputs": [
    {
     "data": {
      "text/html": [
       "<div>\n",
       "<table border=\"1\" class=\"dataframe\">\n",
       "  <thead>\n",
       "    <tr style=\"text-align: right;\">\n",
       "      <th></th>\n",
       "      <th>animal</th>\n",
       "      <th>first</th>\n",
       "      <th>last</th>\n",
       "    </tr>\n",
       "  </thead>\n",
       "  <tbody>\n",
       "    <tr>\n",
       "      <th>Animal A</th>\n",
       "      <td>doge</td>\n",
       "      <td>Pat</td>\n",
       "      <td>Kat</td>\n",
       "    </tr>\n",
       "    <tr>\n",
       "      <th>Animal B</th>\n",
       "      <td>cuthulu</td>\n",
       "      <td>Betsy</td>\n",
       "      <td>Reynolds</td>\n",
       "    </tr>\n",
       "    <tr>\n",
       "      <th>Animal C</th>\n",
       "      <td>zebra</td>\n",
       "      <td>Frank</td>\n",
       "      <td>Spinelli</td>\n",
       "    </tr>\n",
       "  </tbody>\n",
       "</table>\n",
       "</div>"
      ],
      "text/plain": [
       "           animal  first      last\n",
       "Animal A     doge    Pat       Kat\n",
       "Animal B  cuthulu  Betsy  Reynolds\n",
       "Animal C    zebra  Frank  Spinelli"
      ]
     },
     "execution_count": 102,
     "metadata": {},
     "output_type": "execute_result"
    }
   ],
   "source": [
    "test_data = {\n",
    "    \"animal\": [\"doge\", \"cuthulu\", \"zebra\"],\n",
    "    \"first\": [\"Pat\", \"Betsy\", \"Frank\"],\n",
    "    \"last\": [\"Kat\", \"Reynolds\", \"Spinelli\"]\n",
    "}\n",
    "pd.DataFrame(test_data, index=[\"Animal A\", \"Animal B\", \"Animal C\"])"
   ]
  },
  {
   "cell_type": "markdown",
   "metadata": {
    "slideshow": {
     "slide_type": "slide"
    }
   },
   "source": [
    "Indexes can also be created when we aggregate data or create DataFrames from database resources.  The index can be thought of as a \"primary key\" in a sense if you are familliar with relational database conventions.  We will go over this in the future but it's a helpful concept to relate to if you are already familliar with database systems.\n",
    "\n",
    "Also when we talk about joins later, this will be helpful to read a little bit on.\n",
    "\n",
    "[RDBMS Key Primer](http://rdbms.opengrass.net/2_Database%20Design/2.1_TermsOfReference/2.1.2_Keys.html)"
   ]
  },
  {
   "cell_type": "markdown",
   "metadata": {
    "slideshow": {
     "slide_type": "notes"
    }
   },
   "source": [
    "_note: Draw in the blanks exercize.._"
   ]
  },
  {
   "cell_type": "markdown",
   "metadata": {
    "slideshow": {
     "slide_type": "slide"
    }
   },
   "source": [
    "**Check:** What are some differences between Series and DataFrame?"
   ]
  },
  {
   "cell_type": "markdown",
   "metadata": {
    "slideshow": {
     "slide_type": "slide"
    }
   },
   "source": [
    "<a name=\"pd.Series\"></a>\n",
    "## Demo / Guided Practice: pd.Series + pd.DataFrame (25 mins)\n",
    "\n",
    "We will demonstrate a few ways \"series\" and DataFrame work.  Let's create a series and see what pandas.Series can do. \n",
    "\n",
    "[demo code](.../code/W2%20L2.1%20pandas.Series%20and%20Boolean%20indexing%20demo%20code.ipynb)"
   ]
  },
  {
   "cell_type": "code",
   "execution_count": 4,
   "metadata": {
    "collapsed": false,
    "slideshow": {
     "slide_type": "slide"
    }
   },
   "outputs": [
    {
     "data": {
      "text/plain": [
       "a    0.213979\n",
       "b   -1.857578\n",
       "c    0.348251\n",
       "d   -0.469728\n",
       "e    0.793664\n",
       "f    1.192306\n",
       "g   -1.754274\n",
       "dtype: float64"
      ]
     },
     "execution_count": 4,
     "metadata": {},
     "output_type": "execute_result"
    }
   ],
   "source": [
    "import pandas as pd\n",
    "import numpy as np\n",
    "s = pd.Series(np.random.randn(7), index=['a', 'b', 'c', 'd', 'e', 'f', 'g'])  \n",
    "s"
   ]
  },
  {
   "cell_type": "markdown",
   "metadata": {
    "slideshow": {
     "slide_type": "slide"
    }
   },
   "source": [
    "Now we have a series of 5 random numbers. Let's try out the same things we did with a data frame back in W2 L1.1. First, let's look at the series head!"
   ]
  },
  {
   "cell_type": "code",
   "execution_count": 5,
   "metadata": {
    "collapsed": false,
    "scrolled": true,
    "slideshow": {
     "slide_type": "slide"
    }
   },
   "outputs": [
    {
     "data": {
      "text/plain": [
       "a    0.213979\n",
       "b   -1.857578\n",
       "c    0.348251\n",
       "d   -0.469728\n",
       "e    0.793664\n",
       "dtype: float64"
      ]
     },
     "execution_count": 5,
     "metadata": {},
     "output_type": "execute_result"
    }
   ],
   "source": [
    "pd.Series.head(s)"
   ]
  },
  {
   "cell_type": "markdown",
   "metadata": {
    "slideshow": {
     "slide_type": "slide"
    }
   },
   "source": [
    "### Another way to do this:"
   ]
  },
  {
   "cell_type": "code",
   "execution_count": 6,
   "metadata": {
    "collapsed": false,
    "slideshow": {
     "slide_type": "-"
    }
   },
   "outputs": [
    {
     "data": {
      "text/plain": [
       "a    0.213979\n",
       "b   -1.857578\n",
       "c    0.348251\n",
       "d   -0.469728\n",
       "e    0.793664\n",
       "dtype: float64"
      ]
     },
     "execution_count": 6,
     "metadata": {},
     "output_type": "execute_result"
    }
   ],
   "source": [
    "s.head(5)"
   ]
  },
  {
   "cell_type": "markdown",
   "metadata": {
    "slideshow": {
     "slide_type": "slide"
    }
   },
   "source": [
    "### Let's look at the tail. "
   ]
  },
  {
   "cell_type": "code",
   "execution_count": 7,
   "metadata": {
    "collapsed": false,
    "slideshow": {
     "slide_type": "slide"
    }
   },
   "outputs": [
    {
     "data": {
      "text/plain": [
       "e    0.793664\n",
       "f    1.192306\n",
       "g   -1.754274\n",
       "dtype: float64"
      ]
     },
     "execution_count": 7,
     "metadata": {},
     "output_type": "execute_result"
    }
   ],
   "source": [
    "s.tail(3) # you can pass any N as the paramter to .head() or .tail()"
   ]
  },
  {
   "cell_type": "markdown",
   "metadata": {
    "slideshow": {
     "slide_type": "slide"
    }
   },
   "source": [
    "### Summary Statistics\n"
   ]
  },
  {
   "cell_type": "code",
   "execution_count": 8,
   "metadata": {
    "collapsed": false,
    "scrolled": true
   },
   "outputs": [
    {
     "data": {
      "text/plain": [
       "count    7.000000\n",
       "mean    -0.219054\n",
       "std      1.199402\n",
       "min     -1.857578\n",
       "25%     -1.112001\n",
       "50%      0.213979\n",
       "75%      0.570958\n",
       "max      1.192306\n",
       "dtype: float64"
      ]
     },
     "execution_count": 8,
     "metadata": {},
     "output_type": "execute_result"
    }
   ],
   "source": [
    "s.describe()"
   ]
  },
  {
   "cell_type": "markdown",
   "metadata": {
    "slideshow": {
     "slide_type": "slide"
    }
   },
   "source": [
    "### Pandas Objects are Also Valid Dataframe Input\n",
    "\n",
    "You can also put these summary stats in a dataframe to make them easier to read in a notebook."
   ]
  },
  {
   "cell_type": "code",
   "execution_count": 9,
   "metadata": {
    "collapsed": false
   },
   "outputs": [
    {
     "data": {
      "text/html": [
       "<div>\n",
       "<table border=\"1\" class=\"dataframe\">\n",
       "  <thead>\n",
       "    <tr style=\"text-align: right;\">\n",
       "      <th></th>\n",
       "      <th>count</th>\n",
       "      <th>mean</th>\n",
       "      <th>std</th>\n",
       "      <th>min</th>\n",
       "      <th>25%</th>\n",
       "      <th>50%</th>\n",
       "      <th>75%</th>\n",
       "      <th>max</th>\n",
       "    </tr>\n",
       "  </thead>\n",
       "  <tbody>\n",
       "    <tr>\n",
       "      <th>0</th>\n",
       "      <td>7.0</td>\n",
       "      <td>-0.219054</td>\n",
       "      <td>1.199402</td>\n",
       "      <td>-1.857578</td>\n",
       "      <td>-1.112001</td>\n",
       "      <td>0.213979</td>\n",
       "      <td>0.570958</td>\n",
       "      <td>1.192306</td>\n",
       "    </tr>\n",
       "  </tbody>\n",
       "</table>\n",
       "</div>"
      ],
      "text/plain": [
       "   count      mean       std       min       25%       50%       75%       max\n",
       "0    7.0 -0.219054  1.199402 -1.857578 -1.112001  0.213979  0.570958  1.192306"
      ]
     },
     "execution_count": 9,
     "metadata": {},
     "output_type": "execute_result"
    }
   ],
   "source": [
    "pd.DataFrame(s.describe()).T  # notice the dataframe input is s.describe()!"
   ]
  },
  {
   "cell_type": "markdown",
   "metadata": {
    "slideshow": {
     "slide_type": "slide"
    }
   },
   "source": [
    "## Slicing / Selecting Data\n",
    "\n",
    "This deserves it's own section, but as a more serious \"by the way this is how it works\", you have a few ways to select data from your DataFrame.\n",
    "\n",
    "- From the DataFrame directly between the brackets my_df['my_attribute']\n",
    "- From DataFrame attributes that are generated\n",
    "  - df.loc[row_label_index]\n",
    "  - df.iloc[row_int_index]\n",
    "  - df.ix[mixed_index]"
   ]
  },
  {
   "cell_type": "markdown",
   "metadata": {
    "slideshow": {
     "slide_type": "slide"
    }
   },
   "source": [
    "### df.loc[row_label_index] - Select row by index label\n",
    "\n",
    "Allowed inputs are:\n",
    "\n",
    " - A single label, e.g. 'a'\n",
    " - A list or array of labels ['a', 'b', 'c']\n",
    " - A slice object with labels 'a':'f', (note that contrary to usual python slices, both the start and the stop are included!)\n",
    " - A boolean array"
   ]
  },
  {
   "cell_type": "code",
   "execution_count": 10,
   "metadata": {
    "collapsed": false,
    "slideshow": {
     "slide_type": "slide"
    }
   },
   "outputs": [
    {
     "data": {
      "text/plain": [
       "c    0.348251\n",
       "d   -0.469728\n",
       "e    0.793664\n",
       "f    1.192306\n",
       "g   -1.754274\n",
       "dtype: float64"
      ]
     },
     "execution_count": 10,
     "metadata": {},
     "output_type": "execute_result"
    }
   ],
   "source": [
    "s.loc['c':]\n",
    "# s.loc['b':]    # Everythign from b onwards"
   ]
  },
  {
   "cell_type": "code",
   "execution_count": 11,
   "metadata": {
    "collapsed": false,
    "slideshow": {
     "slide_type": "slide"
    }
   },
   "outputs": [
    {
     "data": {
      "text/plain": [
       "d   -0.469728\n",
       "e    0.793664\n",
       "f    1.192306\n",
       "dtype: float64"
      ]
     },
     "execution_count": 11,
     "metadata": {},
     "output_type": "execute_result"
    }
   ],
   "source": [
    "s.loc['d':'f'] # Everything between d and f, including d and f"
   ]
  },
  {
   "cell_type": "markdown",
   "metadata": {
    "slideshow": {
     "slide_type": "fragment"
    }
   },
   "source": [
    "**Check**: How would you select just 'd'?"
   ]
  },
  {
   "cell_type": "markdown",
   "metadata": {
    "slideshow": {
     "slide_type": "slide"
    }
   },
   "source": [
    "### Slicing By Rows\n",
    "\n",
    "You can also slice rows.  This example will return rows 1-3."
   ]
  },
  {
   "cell_type": "code",
   "execution_count": 12,
   "metadata": {
    "collapsed": false
   },
   "outputs": [
    {
     "data": {
      "text/plain": [
       "a    0.213979\n",
       "b   -1.857578\n",
       "c    0.348251\n",
       "dtype: float64"
      ]
     },
     "execution_count": 12,
     "metadata": {},
     "output_type": "execute_result"
    }
   ],
   "source": [
    "s[:3]"
   ]
  },
  {
   "cell_type": "markdown",
   "metadata": {
    "slideshow": {
     "slide_type": "slide"
    }
   },
   "source": [
    "_**Check:** How would you select just 'd'?_"
   ]
  },
  {
   "cell_type": "markdown",
   "metadata": {
    "slideshow": {
     "slide_type": "slide"
    }
   },
   "source": [
    "### df.iloc[row_int_index] - select rows by int index\n",
    "\n",
    ".iloc is primarily integer position based (from 0 to length-1 of the axis), but may also be used with a boolean array. \n",
    "\n",
    "Allowed inputs are:\n",
    "\n",
    "- An integer e.g. 5\n",
    "- A list or array of integers [4, 3, 0]\n",
    "- A slice object with ints 1:7\n",
    "- A boolean array\n",
    "\n",
    "[See more at Selection by Position](http://pandas.pydata.org/pandas-docs/stable/indexing.html#indexing-integer)"
   ]
  },
  {
   "cell_type": "code",
   "execution_count": 13,
   "metadata": {
    "collapsed": false,
    "slideshow": {
     "slide_type": "slide"
    }
   },
   "outputs": [
    {
     "data": {
      "text/html": [
       "<div>\n",
       "<table border=\"1\" class=\"dataframe\">\n",
       "  <thead>\n",
       "    <tr style=\"text-align: right;\">\n",
       "      <th></th>\n",
       "      <th>a</th>\n",
       "      <th>b</th>\n",
       "      <th>c</th>\n",
       "      <th>d</th>\n",
       "      <th>e</th>\n",
       "    </tr>\n",
       "  </thead>\n",
       "  <tbody>\n",
       "    <tr>\n",
       "      <th>mon</th>\n",
       "      <td>0.017720</td>\n",
       "      <td>0.753524</td>\n",
       "      <td>0.764971</td>\n",
       "      <td>0.163526</td>\n",
       "      <td>0.205413</td>\n",
       "    </tr>\n",
       "    <tr>\n",
       "      <th>tues</th>\n",
       "      <td>0.415407</td>\n",
       "      <td>0.046135</td>\n",
       "      <td>0.568807</td>\n",
       "      <td>0.891392</td>\n",
       "      <td>0.417200</td>\n",
       "    </tr>\n",
       "    <tr>\n",
       "      <th>wed</th>\n",
       "      <td>0.482912</td>\n",
       "      <td>0.996741</td>\n",
       "      <td>0.604194</td>\n",
       "      <td>0.471135</td>\n",
       "      <td>0.254070</td>\n",
       "    </tr>\n",
       "    <tr>\n",
       "      <th>thurs</th>\n",
       "      <td>0.426238</td>\n",
       "      <td>0.405566</td>\n",
       "      <td>0.805476</td>\n",
       "      <td>0.755235</td>\n",
       "      <td>0.740983</td>\n",
       "    </tr>\n",
       "  </tbody>\n",
       "</table>\n",
       "</div>"
      ],
      "text/plain": [
       "              a         b         c         d         e\n",
       "mon    0.017720  0.753524  0.764971  0.163526  0.205413\n",
       "tues   0.415407  0.046135  0.568807  0.891392  0.417200\n",
       "wed    0.482912  0.996741  0.604194  0.471135  0.254070\n",
       "thurs  0.426238  0.405566  0.805476  0.755235  0.740983"
      ]
     },
     "execution_count": 13,
     "metadata": {},
     "output_type": "execute_result"
    }
   ],
   "source": [
    "column_labels = ['a', 'b', 'c', 'd', 'e']\n",
    "row_index = ['mon', 'tues', 'wed', 'thurs', 'fri', 'sat', 'sun']\n",
    "df = pd.DataFrame(np.random.rand(7,5), index=row_index, columns=column_labels)\n",
    "df.head(4)"
   ]
  },
  {
   "cell_type": "markdown",
   "metadata": {
    "slideshow": {
     "slide_type": "fragment"
    }
   },
   "source": [
    "Selecting row \"thurs\" alone?"
   ]
  },
  {
   "cell_type": "code",
   "execution_count": 39,
   "metadata": {
    "collapsed": false,
    "slideshow": {
     "slide_type": "slide"
    }
   },
   "outputs": [
    {
     "data": {
      "text/plain": [
       "a    0.426238\n",
       "b    0.405566\n",
       "c    0.805476\n",
       "d    0.755235\n",
       "e    0.740983\n",
       "Name: thurs, dtype: float64"
      ]
     },
     "execution_count": 39,
     "metadata": {},
     "output_type": "execute_result"
    }
   ],
   "source": [
    "df.iloc[3]"
   ]
  },
  {
   "cell_type": "markdown",
   "metadata": {
    "slideshow": {
     "slide_type": "slide"
    }
   },
   "source": [
    "How about row with indexes 'a', 'c', and 'e' **ONLY**?"
   ]
  },
  {
   "cell_type": "code",
   "execution_count": 70,
   "metadata": {
    "collapsed": false
   },
   "outputs": [
    {
     "data": {
      "text/html": [
       "<div>\n",
       "<table border=\"1\" class=\"dataframe\">\n",
       "  <thead>\n",
       "    <tr style=\"text-align: right;\">\n",
       "      <th></th>\n",
       "      <th>a</th>\n",
       "      <th>c</th>\n",
       "      <th>e</th>\n",
       "    </tr>\n",
       "  </thead>\n",
       "  <tbody>\n",
       "    <tr>\n",
       "      <th>mon</th>\n",
       "      <td>0.017720</td>\n",
       "      <td>0.764971</td>\n",
       "      <td>0.205413</td>\n",
       "    </tr>\n",
       "    <tr>\n",
       "      <th>tues</th>\n",
       "      <td>0.415407</td>\n",
       "      <td>0.568807</td>\n",
       "      <td>0.417200</td>\n",
       "    </tr>\n",
       "    <tr>\n",
       "      <th>wed</th>\n",
       "      <td>0.482912</td>\n",
       "      <td>0.604194</td>\n",
       "      <td>0.254070</td>\n",
       "    </tr>\n",
       "    <tr>\n",
       "      <th>thurs</th>\n",
       "      <td>0.426238</td>\n",
       "      <td>0.805476</td>\n",
       "      <td>0.740983</td>\n",
       "    </tr>\n",
       "    <tr>\n",
       "      <th>fri</th>\n",
       "      <td>0.982232</td>\n",
       "      <td>0.011220</td>\n",
       "      <td>0.711230</td>\n",
       "    </tr>\n",
       "    <tr>\n",
       "      <th>sat</th>\n",
       "      <td>0.288331</td>\n",
       "      <td>0.847876</td>\n",
       "      <td>0.771686</td>\n",
       "    </tr>\n",
       "    <tr>\n",
       "      <th>sun</th>\n",
       "      <td>0.989336</td>\n",
       "      <td>0.131848</td>\n",
       "      <td>0.720083</td>\n",
       "    </tr>\n",
       "  </tbody>\n",
       "</table>\n",
       "</div>"
      ],
      "text/plain": [
       "              a         c         e\n",
       "mon    0.017720  0.764971  0.205413\n",
       "tues   0.415407  0.568807  0.417200\n",
       "wed    0.482912  0.604194  0.254070\n",
       "thurs  0.426238  0.805476  0.740983\n",
       "fri    0.982232  0.011220  0.711230\n",
       "sat    0.288331  0.847876  0.771686\n",
       "sun    0.989336  0.131848  0.720083"
      ]
     },
     "execution_count": 70,
     "metadata": {},
     "output_type": "execute_result"
    }
   ],
   "source": [
    "# Try solution here\n",
    "# df.loc[:,['a','c','e']]\n",
    "df[['a','c','e']]\n",
    "\n",
    "#df.loc[['mon','wed']]"
   ]
  },
  {
   "cell_type": "code",
   "execution_count": 73,
   "metadata": {
    "collapsed": false
   },
   "outputs": [
    {
     "data": {
      "text/html": [
       "<div>\n",
       "<table border=\"1\" class=\"dataframe\">\n",
       "  <thead>\n",
       "    <tr style=\"text-align: right;\">\n",
       "      <th></th>\n",
       "      <th>a</th>\n",
       "      <th>b</th>\n",
       "    </tr>\n",
       "  </thead>\n",
       "  <tbody>\n",
       "    <tr>\n",
       "      <th>mon</th>\n",
       "      <td>0.017720</td>\n",
       "      <td>0.753524</td>\n",
       "    </tr>\n",
       "    <tr>\n",
       "      <th>wed</th>\n",
       "      <td>0.482912</td>\n",
       "      <td>0.996741</td>\n",
       "    </tr>\n",
       "    <tr>\n",
       "      <th>sat</th>\n",
       "      <td>0.288331</td>\n",
       "      <td>0.838367</td>\n",
       "    </tr>\n",
       "  </tbody>\n",
       "</table>\n",
       "</div>"
      ],
      "text/plain": [
       "            a         b\n",
       "mon  0.017720  0.753524\n",
       "wed  0.482912  0.996741\n",
       "sat  0.288331  0.838367"
      ]
     },
     "execution_count": 73,
     "metadata": {},
     "output_type": "execute_result"
    }
   ],
   "source": [
    "df[['a','b']].iloc[[0,2,5]]"
   ]
  },
  {
   "cell_type": "code",
   "execution_count": 98,
   "metadata": {
    "collapsed": false
   },
   "outputs": [
    {
     "data": {
      "text/html": [
       "<div>\n",
       "<table border=\"1\" class=\"dataframe\">\n",
       "  <thead>\n",
       "    <tr style=\"text-align: right;\">\n",
       "      <th></th>\n",
       "      <th>a</th>\n",
       "      <th>c</th>\n",
       "    </tr>\n",
       "  </thead>\n",
       "  <tbody>\n",
       "    <tr>\n",
       "      <th>mon</th>\n",
       "      <td>0.017720</td>\n",
       "      <td>0.764971</td>\n",
       "    </tr>\n",
       "    <tr>\n",
       "      <th>tues</th>\n",
       "      <td>0.415407</td>\n",
       "      <td>0.568807</td>\n",
       "    </tr>\n",
       "    <tr>\n",
       "      <th>wed</th>\n",
       "      <td>0.482912</td>\n",
       "      <td>0.604194</td>\n",
       "    </tr>\n",
       "    <tr>\n",
       "      <th>thurs</th>\n",
       "      <td>0.426238</td>\n",
       "      <td>0.805476</td>\n",
       "    </tr>\n",
       "    <tr>\n",
       "      <th>sat</th>\n",
       "      <td>0.288331</td>\n",
       "      <td>0.847876</td>\n",
       "    </tr>\n",
       "  </tbody>\n",
       "</table>\n",
       "</div>"
      ],
      "text/plain": [
       "              a         c\n",
       "mon    0.017720  0.764971\n",
       "tues   0.415407  0.568807\n",
       "wed    0.482912  0.604194\n",
       "thurs  0.426238  0.805476\n",
       "sat    0.288331  0.847876"
      ]
     },
     "execution_count": 98,
     "metadata": {},
     "output_type": "execute_result"
    }
   ],
   "source": [
    "# df.shape\n",
    "\n",
    "mask = [False,True,True,True,True,True,False] # This mask synonmymous with the dataframe\n",
    "\n",
    "mask = (df['a'] < 0.5) & (df['c'] > 0.5)\n",
    "mask\n",
    "#len(mask)\n",
    "df[['a','c']][mask]"
   ]
  },
  {
   "cell_type": "code",
   "execution_count": 100,
   "metadata": {
    "collapsed": false
   },
   "outputs": [
    {
     "data": {
      "text/html": [
       "<div>\n",
       "<table border=\"1\" class=\"dataframe\">\n",
       "  <thead>\n",
       "    <tr style=\"text-align: right;\">\n",
       "      <th></th>\n",
       "      <th>a</th>\n",
       "      <th>b</th>\n",
       "      <th>c</th>\n",
       "      <th>d</th>\n",
       "      <th>e</th>\n",
       "    </tr>\n",
       "  </thead>\n",
       "  <tbody>\n",
       "    <tr>\n",
       "      <th>mon</th>\n",
       "      <td>NaN</td>\n",
       "      <td>0.753524</td>\n",
       "      <td>0.764971</td>\n",
       "      <td>NaN</td>\n",
       "      <td>0.205413</td>\n",
       "    </tr>\n",
       "    <tr>\n",
       "      <th>tues</th>\n",
       "      <td>0.415407</td>\n",
       "      <td>NaN</td>\n",
       "      <td>0.568807</td>\n",
       "      <td>0.891392</td>\n",
       "      <td>0.417200</td>\n",
       "    </tr>\n",
       "    <tr>\n",
       "      <th>wed</th>\n",
       "      <td>0.482912</td>\n",
       "      <td>0.996741</td>\n",
       "      <td>0.604194</td>\n",
       "      <td>0.471135</td>\n",
       "      <td>0.254070</td>\n",
       "    </tr>\n",
       "    <tr>\n",
       "      <th>thurs</th>\n",
       "      <td>0.426238</td>\n",
       "      <td>0.405566</td>\n",
       "      <td>0.805476</td>\n",
       "      <td>0.755235</td>\n",
       "      <td>0.740983</td>\n",
       "    </tr>\n",
       "    <tr>\n",
       "      <th>fri</th>\n",
       "      <td>0.982232</td>\n",
       "      <td>0.482870</td>\n",
       "      <td>NaN</td>\n",
       "      <td>0.997878</td>\n",
       "      <td>0.711230</td>\n",
       "    </tr>\n",
       "    <tr>\n",
       "      <th>sat</th>\n",
       "      <td>0.288331</td>\n",
       "      <td>0.838367</td>\n",
       "      <td>0.847876</td>\n",
       "      <td>0.829572</td>\n",
       "      <td>0.771686</td>\n",
       "    </tr>\n",
       "    <tr>\n",
       "      <th>sun</th>\n",
       "      <td>0.989336</td>\n",
       "      <td>0.202711</td>\n",
       "      <td>NaN</td>\n",
       "      <td>0.528825</td>\n",
       "      <td>0.720083</td>\n",
       "    </tr>\n",
       "  </tbody>\n",
       "</table>\n",
       "</div>"
      ],
      "text/plain": [
       "              a         b         c         d         e\n",
       "mon         NaN  0.753524  0.764971       NaN  0.205413\n",
       "tues   0.415407       NaN  0.568807  0.891392  0.417200\n",
       "wed    0.482912  0.996741  0.604194  0.471135  0.254070\n",
       "thurs  0.426238  0.405566  0.805476  0.755235  0.740983\n",
       "fri    0.982232  0.482870       NaN  0.997878  0.711230\n",
       "sat    0.288331  0.838367  0.847876  0.829572  0.771686\n",
       "sun    0.989336  0.202711       NaN  0.528825  0.720083"
      ]
     },
     "execution_count": 100,
     "metadata": {},
     "output_type": "execute_result"
    }
   ],
   "source": [
    "df[df[:] > .2]"
   ]
  },
  {
   "cell_type": "markdown",
   "metadata": {
    "slideshow": {
     "slide_type": "slide"
    }
   },
   "source": [
    "<a name=\"Boolean indexing\"></a>\n",
    "## Demo / Guided Practice: Boolean indexing (25 mins)\n",
    "\n",
    "Another common operation is the use of boolean vectors to filter the data. The operators \n",
    "are: | for or, & for and, and ~ for not. These must be grouped by using parentheses.\n",
    "\n",
    "Let's create another series and use pandas to do some Boolean indexing. \n",
    "\n",
    "In iPython notebook type: \n",
    "```Python\n",
    "s = pd.Series(range(-3, 4))\n",
    "s\n",
    "```\n",
    "\n",
    "Find the values that are > 0. \n",
    "```Python\n",
    "s[s > 0]\n",
    "```\n",
    "\n",
    "Find the values that are < -1 or > 0.5\n",
    "```Python\n",
    "s[(s < -1) | (s > 0.5)]\n",
    "```\n",
    "\n",
    "Find the values that are not < 0.\n",
    "```Python\n",
    "s[~(s < 0)]\n",
    "```\n",
    "\n",
    "[boolean indexing](http://pandas.pydata.org/pandas-docs/stable/indexing.html#slicing-ranges)"
   ]
  },
  {
   "cell_type": "code",
   "execution_count": 67,
   "metadata": {
    "collapsed": false
   },
   "outputs": [
    {
     "name": "stdout",
     "output_type": "stream",
     "text": [
      "4    1\n",
      "5    2\n",
      "6    3\n",
      "dtype: int64\n",
      "0   -3\n",
      "1   -2\n",
      "4    1\n",
      "5    2\n",
      "6    3\n",
      "dtype: int64\n",
      "3    0\n",
      "4    1\n",
      "5    2\n",
      "6    3\n",
      "dtype: int64\n"
     ]
    }
   ],
   "source": [
    "s = pd.Series(range(-3,4))\n",
    "s\n",
    "\n",
    "print s[s>0]\n",
    "print s[(s < -1) | (s > 0.5)]\n",
    "print s[~(s < 0)]"
   ]
  },
  {
   "cell_type": "markdown",
   "metadata": {
    "slideshow": {
     "slide_type": "slide"
    }
   },
   "source": [
    "**Check:** How would you find all the numbers that are < 2? "
   ]
  },
  {
   "cell_type": "code",
   "execution_count": 65,
   "metadata": {
    "collapsed": false
   },
   "outputs": [
    {
     "data": {
      "text/plain": [
       "0   -3\n",
       "1   -2\n",
       "2   -1\n",
       "3    0\n",
       "4    1\n",
       "dtype: int64"
      ]
     },
     "execution_count": 65,
     "metadata": {},
     "output_type": "execute_result"
    }
   ],
   "source": [
    "s[s<2]"
   ]
  },
  {
   "cell_type": "markdown",
   "metadata": {
    "slideshow": {
     "slide_type": "slide"
    }
   },
   "source": [
    "<a name=\"ind-practice\"></a>\n",
    "## Independent Practice: (25 minutes)\n",
    "- Create a series\n",
    "- Look at the head, tail, and summary stats\n",
    "- Select series values by index\n",
    "  - Single value\n",
    "  - Multiple value\n",
    "- Using Boolean indexing find values that are < than another value\n",
    "- Using Boolean indexing find values that are > than another value\n",
    "- Using Boolean indexing find values that are < than another value and > another value\n",
    "\n",
    "Bonus:  Create a DataFrame with at least 5 rows\n",
    "\n",
    "- Slice for certain rows\n",
    "  - Single row by label and index\n",
    "  - Multiple row range by label and index\n",
    "  - Single row series + multi-value range\n",
    "      - labeled index\n",
    "      - int index"
   ]
  },
  {
   "cell_type": "code",
   "execution_count": 117,
   "metadata": {
    "collapsed": true
   },
   "outputs": [],
   "source": [
    "we_countries = ['Germany','France','Spain','Austria','UK']\n",
    "econ_data = ['GDP','DPC','GDPPC','TDPC','TDFC']"
   ]
  },
  {
   "cell_type": "code",
   "execution_count": 119,
   "metadata": {
    "collapsed": false
   },
   "outputs": [
    {
     "data": {
      "text/html": [
       "<div>\n",
       "<table border=\"1\" class=\"dataframe\">\n",
       "  <thead>\n",
       "    <tr style=\"text-align: right;\">\n",
       "      <th></th>\n",
       "      <th>GDP</th>\n",
       "      <th>DPC</th>\n",
       "      <th>GDPPC</th>\n",
       "      <th>TDPC</th>\n",
       "      <th>TDFC</th>\n",
       "    </tr>\n",
       "  </thead>\n",
       "  <tbody>\n",
       "    <tr>\n",
       "      <th>Germany</th>\n",
       "      <td>9997.003570</td>\n",
       "      <td>22221.216689</td>\n",
       "      <td>47132.299954</td>\n",
       "      <td>21136.694665</td>\n",
       "      <td>44683.211414</td>\n",
       "    </tr>\n",
       "    <tr>\n",
       "      <th>France</th>\n",
       "      <td>3073.904738</td>\n",
       "      <td>19141.123022</td>\n",
       "      <td>6029.150252</td>\n",
       "      <td>5953.560296</td>\n",
       "      <td>11218.230762</td>\n",
       "    </tr>\n",
       "    <tr>\n",
       "      <th>Spain</th>\n",
       "      <td>29021.924262</td>\n",
       "      <td>14150.251975</td>\n",
       "      <td>12706.240959</td>\n",
       "      <td>15261.168053</td>\n",
       "      <td>18405.117349</td>\n",
       "    </tr>\n",
       "    <tr>\n",
       "      <th>Austria</th>\n",
       "      <td>11524.715700</td>\n",
       "      <td>33552.603210</td>\n",
       "      <td>20629.949765</td>\n",
       "      <td>7394.459418</td>\n",
       "      <td>28745.476605</td>\n",
       "    </tr>\n",
       "    <tr>\n",
       "      <th>UK</th>\n",
       "      <td>34456.636784</td>\n",
       "      <td>44509.578512</td>\n",
       "      <td>36103.557480</td>\n",
       "      <td>29816.826149</td>\n",
       "      <td>32595.175379</td>\n",
       "    </tr>\n",
       "  </tbody>\n",
       "</table>\n",
       "</div>"
      ],
      "text/plain": [
       "                  GDP           DPC         GDPPC          TDPC          TDFC\n",
       "Germany   9997.003570  22221.216689  47132.299954  21136.694665  44683.211414\n",
       "France    3073.904738  19141.123022   6029.150252   5953.560296  11218.230762\n",
       "Spain    29021.924262  14150.251975  12706.240959  15261.168053  18405.117349\n",
       "Austria  11524.715700  33552.603210  20629.949765   7394.459418  28745.476605\n",
       "UK       34456.636784  44509.578512  36103.557480  29816.826149  32595.175379"
      ]
     },
     "execution_count": 119,
     "metadata": {},
     "output_type": "execute_result"
    }
   ],
   "source": [
    "stuff = pd.DataFrame(np.random.rand(5,5)*50000, index=we_countries, columns=econ_data)\n",
    "stuff"
   ]
  },
  {
   "cell_type": "code",
   "execution_count": 120,
   "metadata": {
    "collapsed": false
   },
   "outputs": [
    {
     "data": {
      "text/html": [
       "<div>\n",
       "<table border=\"1\" class=\"dataframe\">\n",
       "  <thead>\n",
       "    <tr style=\"text-align: right;\">\n",
       "      <th></th>\n",
       "      <th>GDP</th>\n",
       "      <th>DPC</th>\n",
       "      <th>GDPPC</th>\n",
       "      <th>TDPC</th>\n",
       "      <th>TDFC</th>\n",
       "    </tr>\n",
       "  </thead>\n",
       "  <tbody>\n",
       "    <tr>\n",
       "      <th>Germany</th>\n",
       "      <td>9997.00357</td>\n",
       "      <td>22221.216689</td>\n",
       "      <td>47132.299954</td>\n",
       "      <td>21136.694665</td>\n",
       "      <td>44683.211414</td>\n",
       "    </tr>\n",
       "  </tbody>\n",
       "</table>\n",
       "</div>"
      ],
      "text/plain": [
       "                GDP           DPC         GDPPC          TDPC          TDFC\n",
       "Germany  9997.00357  22221.216689  47132.299954  21136.694665  44683.211414"
      ]
     },
     "execution_count": 120,
     "metadata": {},
     "output_type": "execute_result"
    }
   ],
   "source": [
    "stuff.head(1)"
   ]
  },
  {
   "cell_type": "markdown",
   "metadata": {
    "slideshow": {
     "slide_type": "slide"
    }
   },
   "source": [
    "<a name=\"conclusion\"></a>\n",
    "## Conclusion (5 mins)\n",
    "We very briefly used data frames in W2 L1.1. In this lesson we learned more about them and also\n",
    "about series. What are some differences between series and dataframes? "
   ]
  }
 ],
 "metadata": {
  "celltoolbar": "Slideshow",
  "kernelspec": {
   "display_name": "Python 2",
   "language": "python",
   "name": "python2"
  },
  "language_info": {
   "codemirror_mode": {
    "name": "ipython",
    "version": 2
   },
   "file_extension": ".py",
   "mimetype": "text/x-python",
   "name": "python",
   "nbconvert_exporter": "python",
   "pygments_lexer": "ipython2",
   "version": "2.7.11"
  }
 },
 "nbformat": 4,
 "nbformat_minor": 0
}
