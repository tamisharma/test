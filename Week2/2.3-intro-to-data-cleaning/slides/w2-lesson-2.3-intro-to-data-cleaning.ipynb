{
 "cells": [
  {
   "cell_type": "markdown",
   "metadata": {
    "slideshow": {
     "slide_type": "slide"
    }
   },
   "source": [
    "<img src=\"https://ga-dash.s3.amazonaws.com/production/assets/logo-9f88ae6c9c3871690e33280fcf557f33.png\" style=\"float: left; margin: 15px;\">\n",
    "\n",
    "# Intro to Data Cleaning\n",
    "\n",
    "***\n",
    "\n",
    "Week 2 | Lesson 2.3"
   ]
  },
  {
   "cell_type": "markdown",
   "metadata": {
    "slideshow": {
     "slide_type": "slide"
    }
   },
   "source": [
    "### LEARNING OBJECTIVES\n",
    "*After this lesson, you will be able to:*\n",
    "- Inspect data types\n",
    "- Clean up a column using df.apply()\n",
    "- Know what situations to use .value_counts() in your code"
   ]
  },
  {
   "cell_type": "markdown",
   "metadata": {
    "slideshow": {
     "slide_type": "slide"
    }
   },
   "source": [
    "### LESSON GUIDE\n",
    "| TIMING  | TYPE  | TOPIC  |\n",
    "|:-:|---|---|\n",
    "| 5 min  | [Introduction](#introduction)   | Inpsect data types, df.apply(), .value_counts()  |\n",
    "| 20 min  | [Demo /Guided Practice](#demo)  | Inpsect data types |\n",
    "| 20 min  | [Demo /Guided Practice](#demo)  | df.apply() |\n",
    "| 20 min  | [Demo /Guided Practice](#demo)  | .value_counts() |\n",
    "| 20 min  | [Independent Practice](#ind-practice)  |   |\n",
    "| 5 min  | [Conclusion](#conclusion)  |   |"
   ]
  },
  {
   "cell_type": "markdown",
   "metadata": {
    "slideshow": {
     "slide_type": "slide"
    }
   },
   "source": [
    "<a name=\"introduction\"></a>\n",
    "## Introduction: Topic (5 mins)\n",
    "\n",
    "Since we're starting to get pretty comfortable with using pandas to do EDA, let's add a\n",
    "couple more tools to our toolbox. \n",
    "\n",
    "The main data types stored in pandas objects are float, int, bool, datetime64, datetime64, timedelta, \n",
    "category, and object. \n",
    "\n",
    "df.apply() will apply a function along any axis of the DataFrame. We'll see it in action below. \n",
    "\n",
    "pandas.Series.value_counts returns Series containing counts of unique values. The resulting \n",
    "Series will be in descending order so that the first element is the most frequently-occurring \n",
    "element. Excludes NA values.\n",
    "\n",
    "[Pandas: dtypes](http://pandas.pydata.org/pandas-docs/stable/pandas.pdf)\n",
    "\n",
    "[Pandas Series: value_counts](http://nullege.com/codes/search/pandas.Series.value_counts)\n"
   ]
  },
  {
   "cell_type": "markdown",
   "metadata": {
    "slideshow": {
     "slide_type": "slide"
    }
   },
   "source": [
    "<a name=\"Inpsect data types \"></a>\n",
    "## Demo /Guided Practice: Inspect data types  (20 mins)\n",
    "\n",
    "Let's create a small dictionary with different data types in it. \n",
    "\n",
    "> [demo code](https://github.com/generalassembly-studio/dsi-course-materials/blob/W2-L2.3/curriculum/04-lessons/week-02/2.3-lesson/code/W2%20L2.3%20Intro%20to%20Data%20Cleaning%20demo%20code.ipynb)\n",
    "can be found in the code folder and contains all the code in this lesson in a Jupyter\n",
    "notebook. Follow along or create a new notebook.\n"
   ]
  },
  {
   "cell_type": "markdown",
   "metadata": {
    "slideshow": {
     "slide_type": "slide"
    }
   },
   "source": [
    "### Import Pandas + Numpy"
   ]
  },
  {
   "cell_type": "code",
   "execution_count": 1,
   "metadata": {
    "collapsed": true
   },
   "outputs": [],
   "source": [
    "import pandas as pd\n",
    "import numpy as np"
   ]
  },
  {
   "cell_type": "markdown",
   "metadata": {
    "slideshow": {
     "slide_type": "slide"
    }
   },
   "source": [
    "### Create Test Data"
   ]
  },
  {
   "cell_type": "code",
   "execution_count": 2,
   "metadata": {
    "collapsed": true
   },
   "outputs": [],
   "source": [
    "test_data = dict( \n",
    "    A = np.random.rand(3),\n",
    "    B = 1,\n",
    "    C = 'foo',\n",
    "    D = pd.Timestamp('20010102'),\n",
    "    E = pd.Series([1.0]*3).astype('float32'), \n",
    "    F = False,\n",
    "    G = pd.Series([1]*3,dtype='int8')\n",
    ")"
   ]
  },
  {
   "cell_type": "code",
   "execution_count": 7,
   "metadata": {
    "collapsed": false,
    "slideshow": {
     "slide_type": "slide"
    }
   },
   "outputs": [
    {
     "data": {
      "text/plain": [
       "Timestamp('2001-01-02 00:00:00')"
      ]
     },
     "execution_count": 7,
     "metadata": {},
     "output_type": "execute_result"
    }
   ],
   "source": [
    "# test_data\n",
    "# test_data['A'] # array\n",
    "# test_data['G'] # weird only 1s\n",
    "# test_data['D'] # timestamps"
   ]
  },
  {
   "cell_type": "code",
   "execution_count": 3,
   "metadata": {
    "collapsed": false
   },
   "outputs": [
    {
     "data": {
      "text/html": [
       "<div>\n",
       "<table border=\"1\" class=\"dataframe\">\n",
       "  <thead>\n",
       "    <tr style=\"text-align: right;\">\n",
       "      <th></th>\n",
       "      <th>A</th>\n",
       "      <th>B</th>\n",
       "      <th>C</th>\n",
       "      <th>D</th>\n",
       "      <th>E</th>\n",
       "      <th>F</th>\n",
       "      <th>G</th>\n",
       "    </tr>\n",
       "  </thead>\n",
       "  <tbody>\n",
       "    <tr>\n",
       "      <th>0</th>\n",
       "      <td>0.602224</td>\n",
       "      <td>1</td>\n",
       "      <td>foo</td>\n",
       "      <td>2001-01-02</td>\n",
       "      <td>1.0</td>\n",
       "      <td>False</td>\n",
       "      <td>1</td>\n",
       "    </tr>\n",
       "    <tr>\n",
       "      <th>1</th>\n",
       "      <td>0.979339</td>\n",
       "      <td>1</td>\n",
       "      <td>foo</td>\n",
       "      <td>2001-01-02</td>\n",
       "      <td>1.0</td>\n",
       "      <td>False</td>\n",
       "      <td>1</td>\n",
       "    </tr>\n",
       "    <tr>\n",
       "      <th>2</th>\n",
       "      <td>0.129870</td>\n",
       "      <td>1</td>\n",
       "      <td>foo</td>\n",
       "      <td>2001-01-02</td>\n",
       "      <td>1.0</td>\n",
       "      <td>False</td>\n",
       "      <td>1</td>\n",
       "    </tr>\n",
       "  </tbody>\n",
       "</table>\n",
       "</div>"
      ],
      "text/plain": [
       "          A  B    C          D    E      F  G\n",
       "0  0.602224  1  foo 2001-01-02  1.0  False  1\n",
       "1  0.979339  1  foo 2001-01-02  1.0  False  1\n",
       "2  0.129870  1  foo 2001-01-02  1.0  False  1"
      ]
     },
     "execution_count": 3,
     "metadata": {},
     "output_type": "execute_result"
    }
   ],
   "source": [
    "dft = pd.DataFrame(test_data)\n",
    "dft"
   ]
  },
  {
   "cell_type": "code",
   "execution_count": 14,
   "metadata": {
    "collapsed": false
   },
   "outputs": [
    {
     "data": {
      "text/plain": [
       "A           float64\n",
       "B             int64\n",
       "C            object\n",
       "D    datetime64[ns]\n",
       "E           float32\n",
       "F              bool\n",
       "G              int8\n",
       "dtype: object"
      ]
     },
     "execution_count": 14,
     "metadata": {},
     "output_type": "execute_result"
    }
   ],
   "source": [
    "dft.dtypes"
   ]
  },
  {
   "cell_type": "markdown",
   "metadata": {
    "slideshow": {
     "slide_type": "slide"
    }
   },
   "source": [
    "**What might we expect dtypes in the case of mixed type values in a single dimension?**\n",
    "\n",
    "ie:  [2, 3, 4, 5, 6, 7, 8.9] -> ***OBJECT***"
   ]
  },
  {
   "cell_type": "markdown",
   "metadata": {
    "slideshow": {
     "slide_type": "fragment"
    }
   },
   "source": [
    "If a pandas object contains data multiple dtypes IN A SINGLE COLUMN, the dtype of the column will be chosen to accommodate all of the data types (object is the most general)."
   ]
  },
  {
   "cell_type": "markdown",
   "metadata": {
    "slideshow": {
     "slide_type": "slide"
    }
   },
   "source": [
    "### Ints are cast to floats"
   ]
  },
  {
   "cell_type": "code",
   "execution_count": 8,
   "metadata": {
    "collapsed": false
   },
   "outputs": [
    {
     "data": {
      "text/plain": [
       "0    1.0\n",
       "1    2.0\n",
       "2    3.0\n",
       "3    4.0\n",
       "4    5.0\n",
       "5    6.0\n",
       "dtype: float64"
      ]
     },
     "execution_count": 8,
     "metadata": {},
     "output_type": "execute_result"
    }
   ],
   "source": [
    "pd.Series([1, 2, 3, 4, 5, 6.])"
   ]
  },
  {
   "cell_type": "markdown",
   "metadata": {
    "slideshow": {
     "slide_type": "slide"
    }
   },
   "source": [
    "### String elements are cast to ``object`` dtype"
   ]
  },
  {
   "cell_type": "code",
   "execution_count": 56,
   "metadata": {
    "collapsed": false,
    "scrolled": true
   },
   "outputs": [
    {
     "data": {
      "text/plain": [
       "0      1\n",
       "1      2\n",
       "2      3\n",
       "3    foo\n",
       "dtype: object"
      ]
     },
     "execution_count": 56,
     "metadata": {},
     "output_type": "execute_result"
    }
   ],
   "source": [
    "pd.Series([1, 2, 3, 'foo'])"
   ]
  },
  {
   "cell_type": "code",
   "execution_count": 63,
   "metadata": {
    "collapsed": false,
    "slideshow": {
     "slide_type": "slide"
    }
   },
   "outputs": [
    {
     "data": {
      "text/plain": [
       "bool              1\n",
       "datetime64[ns]    1\n",
       "float32           1\n",
       "float64           1\n",
       "int64             1\n",
       "int8              1\n",
       "object            1\n",
       "dtype: object"
      ]
     },
     "execution_count": 63,
     "metadata": {},
     "output_type": "execute_result"
    }
   ],
   "source": [
    "dft.get_dtype_counts().astype(list)"
   ]
  },
  {
   "cell_type": "markdown",
   "metadata": {
    "slideshow": {
     "slide_type": "slide"
    }
   },
   "source": [
    "### With a partner, take 3 minutes to discus:\n",
    "\n",
    "*Without* running this code with a Python interpreter, what types would you expect the common `dtype` to be selected?\n",
    "\n",
    "    [1, 3, 9, .33, False, '03-20-1978', np.arange(22)]\n",
    "\n"
   ]
  },
  {
   "cell_type": "markdown",
   "metadata": {
    "slideshow": {
     "slide_type": "slide"
    }
   },
   "source": [
    "You can do a lot more with dtypes.  Check out \n",
    "[Pandas Documentation](http://pandas.pydata.org/pandas-docs/stable/pandas.pdf)."
   ]
  },
  {
   "cell_type": "markdown",
   "metadata": {
    "slideshow": {
     "slide_type": "slide"
    }
   },
   "source": [
    "## Why do you think it might be important to know what kind of dtypes you're working with? "
   ]
  },
  {
   "cell_type": "markdown",
   "metadata": {
    "slideshow": {
     "slide_type": "slide"
    }
   },
   "source": [
    "<a name=\" df.apply()\"></a>\n",
    "## Demo /Guided Practice:  df.apply() (20 mins)\n",
    "\n",
    "Generally, df.apply(), will apply a singlular function to every cell of the dataframe you use it with.  \n",
    "\n",
    "Conversely: df.map(), is available when you only want to work with a single dimension of your dataset, ie:  df['a'].map(my_func)"
   ]
  },
  {
   "cell_type": "code",
   "execution_count": 28,
   "metadata": {
    "collapsed": false,
    "slideshow": {
     "slide_type": "slide"
    }
   },
   "outputs": [
    {
     "data": {
      "text/html": [
       "<div>\n",
       "<table border=\"1\" class=\"dataframe\">\n",
       "  <thead>\n",
       "    <tr style=\"text-align: right;\">\n",
       "      <th></th>\n",
       "      <th>a</th>\n",
       "      <th>b</th>\n",
       "      <th>c</th>\n",
       "      <th>d</th>\n",
       "    </tr>\n",
       "  </thead>\n",
       "  <tbody>\n",
       "    <tr>\n",
       "      <th>0</th>\n",
       "      <td>-1.369438</td>\n",
       "      <td>0.080447</td>\n",
       "      <td>-1.224570</td>\n",
       "      <td>0.422078</td>\n",
       "    </tr>\n",
       "    <tr>\n",
       "      <th>1</th>\n",
       "      <td>-0.765415</td>\n",
       "      <td>0.407583</td>\n",
       "      <td>0.385544</td>\n",
       "      <td>0.834827</td>\n",
       "    </tr>\n",
       "    <tr>\n",
       "      <th>2</th>\n",
       "      <td>1.758356</td>\n",
       "      <td>0.449190</td>\n",
       "      <td>-1.435722</td>\n",
       "      <td>-0.234399</td>\n",
       "    </tr>\n",
       "    <tr>\n",
       "      <th>3</th>\n",
       "      <td>1.172705</td>\n",
       "      <td>-1.596128</td>\n",
       "      <td>-0.821374</td>\n",
       "      <td>0.892523</td>\n",
       "    </tr>\n",
       "    <tr>\n",
       "      <th>4</th>\n",
       "      <td>0.026303</td>\n",
       "      <td>-0.749009</td>\n",
       "      <td>-0.940387</td>\n",
       "      <td>0.117611</td>\n",
       "    </tr>\n",
       "  </tbody>\n",
       "</table>\n",
       "</div>"
      ],
      "text/plain": [
       "          a         b         c         d\n",
       "0 -1.369438  0.080447 -1.224570  0.422078\n",
       "1 -0.765415  0.407583  0.385544  0.834827\n",
       "2  1.758356  0.449190 -1.435722 -0.234399\n",
       "3  1.172705 -1.596128 -0.821374  0.892523\n",
       "4  0.026303 -0.749009 -0.940387  0.117611"
      ]
     },
     "execution_count": 28,
     "metadata": {},
     "output_type": "execute_result"
    }
   ],
   "source": [
    "# Create some more test data\n",
    "df = pd.DataFrame(np.random.randn(5, 4), columns=['a', 'b', 'c', 'd'])\n",
    "df"
   ]
  },
  {
   "cell_type": "markdown",
   "metadata": {
    "slideshow": {
     "slide_type": "slide"
    }
   },
   "source": [
    "### Some Examples"
   ]
  },
  {
   "cell_type": "code",
   "execution_count": 30,
   "metadata": {
    "collapsed": false
   },
   "outputs": [
    {
     "data": {
      "text/html": [
       "<div>\n",
       "<table border=\"1\" class=\"dataframe\">\n",
       "  <thead>\n",
       "    <tr style=\"text-align: right;\">\n",
       "      <th></th>\n",
       "      <th>a</th>\n",
       "      <th>b</th>\n",
       "      <th>c</th>\n",
       "      <th>d</th>\n",
       "    </tr>\n",
       "  </thead>\n",
       "  <tbody>\n",
       "    <tr>\n",
       "      <th>0</th>\n",
       "      <td>NaN</td>\n",
       "      <td>0.283631</td>\n",
       "      <td>NaN</td>\n",
       "      <td>0.649675</td>\n",
       "    </tr>\n",
       "    <tr>\n",
       "      <th>1</th>\n",
       "      <td>NaN</td>\n",
       "      <td>0.638422</td>\n",
       "      <td>0.620922</td>\n",
       "      <td>0.913689</td>\n",
       "    </tr>\n",
       "    <tr>\n",
       "      <th>2</th>\n",
       "      <td>1.326030</td>\n",
       "      <td>0.670216</td>\n",
       "      <td>NaN</td>\n",
       "      <td>NaN</td>\n",
       "    </tr>\n",
       "    <tr>\n",
       "      <th>3</th>\n",
       "      <td>1.082915</td>\n",
       "      <td>NaN</td>\n",
       "      <td>NaN</td>\n",
       "      <td>0.944734</td>\n",
       "    </tr>\n",
       "    <tr>\n",
       "      <th>4</th>\n",
       "      <td>0.162181</td>\n",
       "      <td>NaN</td>\n",
       "      <td>NaN</td>\n",
       "      <td>0.342944</td>\n",
       "    </tr>\n",
       "  </tbody>\n",
       "</table>\n",
       "</div>"
      ],
      "text/plain": [
       "          a         b         c         d\n",
       "0       NaN  0.283631       NaN  0.649675\n",
       "1       NaN  0.638422  0.620922  0.913689\n",
       "2  1.326030  0.670216       NaN       NaN\n",
       "3  1.082915       NaN       NaN  0.944734\n",
       "4  0.162181       NaN       NaN  0.342944"
      ]
     },
     "execution_count": 30,
     "metadata": {},
     "output_type": "execute_result"
    }
   ],
   "source": [
    "# square root ALL CELLS (NaN == Not a Number)\n",
    "df.apply(np.sqrt)"
   ]
  },
  {
   "cell_type": "markdown",
   "metadata": {
    "slideshow": {
     "slide_type": "notes"
    }
   },
   "source": [
    "_Note: Illustrate with whiteboard DataFrame, with blank axis labels._"
   ]
  },
  {
   "cell_type": "markdown",
   "metadata": {
    "slideshow": {
     "slide_type": "slide"
    }
   },
   "source": [
    "### Apply method to only one axis, 0 (columns)\n",
    "ie:  `df['a'] == [-1.369438  , -0.76541512,  1.75835588,  1.17270527,  0.02630271]`"
   ]
  },
  {
   "cell_type": "code",
   "execution_count": 31,
   "metadata": {
    "collapsed": false,
    "slideshow": {
     "slide_type": "slide"
    }
   },
   "outputs": [
    {
     "data": {
      "text/plain": [
       "a    0.164502\n",
       "b   -0.281584\n",
       "c   -0.807302\n",
       "d    0.406528\n",
       "dtype: float64"
      ]
     },
     "execution_count": 31,
     "metadata": {},
     "output_type": "execute_result"
    }
   ],
   "source": [
    "df.apply(np.mean, axis=0)"
   ]
  },
  {
   "cell_type": "markdown",
   "metadata": {
    "slideshow": {
     "slide_type": "slide"
    }
   },
   "source": [
    "### Apply method to only axis 1 (rows)\n",
    "This is what the data slice would look like if we were to select only rows.  Here is the slice of the first row that would be affected with axis #1 with .apply():\n",
    "\n",
    "`df.iloc[0].values == [-1.369438  ,  0.0804468 , -1.22457047,  0.42207757]`\n",
    "\n",
    "_We are calculating the mean of lists of \"rows\", not \"columns\"._"
   ]
  },
  {
   "cell_type": "code",
   "execution_count": 32,
   "metadata": {
    "collapsed": false,
    "slideshow": {
     "slide_type": "fragment"
    }
   },
   "outputs": [
    {
     "data": {
      "text/plain": [
       "0   -0.522871\n",
       "1    0.215635\n",
       "2    0.134356\n",
       "3   -0.088068\n",
       "4   -0.386371\n",
       "dtype: float64"
      ]
     },
     "execution_count": 32,
     "metadata": {},
     "output_type": "execute_result"
    }
   ],
   "source": [
    "df.apply(np.mean, axis=1)"
   ]
  },
  {
   "cell_type": "markdown",
   "metadata": {
    "slideshow": {
     "slide_type": "slide"
    }
   },
   "source": [
    "### Further Reading\n",
    "\n",
    "For more advanced `.apply` usage, check out these links:\n",
    "\n",
    "[\"Why Not\"'s Gist Examples](https://gist.github.com/why-not/4582705)\n",
    "\n",
    "[Chris Albon's Map + Apply Examples](http://chrisalbon.com/python/pandas_apply_operations_to_dataframes.html)\n"
   ]
  },
  {
   "cell_type": "markdown",
   "metadata": {
    "slideshow": {
     "slide_type": "slide"
    }
   },
   "source": [
    "### **Check:** How would find the std of the columns and rows? "
   ]
  },
  {
   "cell_type": "markdown",
   "metadata": {
    "slideshow": {
     "slide_type": "slide"
    }
   },
   "source": [
    "<a name=\".value_counts()\"></a>\n",
    "## Demo /Guided Practice: .value_counts() (< 20 mins)\n",
    "\n",
    "Why is this important?  Basically, this tells us the count of unique values that exist.  It's helpful to identify anything unexpected.  Looking at value_counts(), per series, can give us a quick overview of values expressed in our data.\n",
    "\n",
    " - Strings inside of mostly numeric / continious data\n",
    " - Non-numeric values\n",
    " - General counts of values that we might expect to see\n",
    " - Most common / least common values"
   ]
  },
  {
   "cell_type": "markdown",
   "metadata": {
    "slideshow": {
     "slide_type": "slide"
    }
   },
   "source": [
    "Let's create some random data"
   ]
  },
  {
   "cell_type": "code",
   "execution_count": 10,
   "metadata": {
    "collapsed": false
   },
   "outputs": [
    {
     "data": {
      "text/plain": [
       "array([0, 1, 2, 1, 5, 6, 5, 2, 0, 6, 3, 6, 0, 5, 6, 6, 0, 5, 6, 6, 0, 3, 4,\n",
       "       0, 2, 4, 3, 1, 4, 6, 6, 3, 3, 4, 3, 2, 4, 6, 6, 0, 6, 5, 6, 1, 5, 5,\n",
       "       0, 1, 1, 3])"
      ]
     },
     "execution_count": 10,
     "metadata": {},
     "output_type": "execute_result"
    }
   ],
   "source": [
    "data = np.random.randint(0, 7, size = 50)\n",
    "data"
   ]
  },
  {
   "cell_type": "code",
   "execution_count": 11,
   "metadata": {
    "collapsed": false
   },
   "outputs": [
    {
     "data": {
      "text/plain": [
       "0    0\n",
       "1    1\n",
       "2    2\n",
       "3    1\n",
       "4    5\n",
       "dtype: int64"
      ]
     },
     "execution_count": 11,
     "metadata": {},
     "output_type": "execute_result"
    }
   ],
   "source": [
    "s = pd.Series(data)\n",
    "s.head()"
   ]
  },
  {
   "cell_type": "code",
   "execution_count": 12,
   "metadata": {
    "collapsed": false,
    "slideshow": {
     "slide_type": "slide"
    }
   },
   "outputs": [
    {
     "data": {
      "text/plain": [
       "6    13\n",
       "0     8\n",
       "5     7\n",
       "3     7\n",
       "1     6\n",
       "4     5\n",
       "2     4\n",
       "dtype: int64"
      ]
     },
     "execution_count": 12,
     "metadata": {},
     "output_type": "execute_result"
    }
   ],
   "source": [
    "# The counts of each number that occurs in our array is listed\n",
    "pd.value_counts(s)"
   ]
  },
  {
   "cell_type": "markdown",
   "metadata": {
    "slideshow": {
     "slide_type": "slide"
    }
   },
   "source": [
    "<a name=\"ind-practice\"></a>\n",
    "## Independent Practice: Topic (20+ minutes)\n",
    "- Use the sales.csv data set, we've seen this a few times in previous lessons\n",
    "- Inspect the data types\n",
    "- You've found out that all your values in column 1 are off by 1. Use df.apply to add 1 to column 1 of the dataset\n",
    "- Use .value_counts to count the values of 1 column of the dataset\n",
    "\n",
    "**Bonus** \n",
    "- Add 3 to column 2\n",
    "- Use .value_counts for each column of the dataset\n",
    "\n",
    "**Bonus Bonus -- COMPLETELY OPTIONAL!!!**\n",
    "<img src=\"http://vignette3.wikia.nocookie.net/erbparodies/images/a/a3/Troll_Based_On.png/revision/latest?cb=20151109194505\" style=\"width: 100px;\">\n",
    "\n",
    "Ruining data should give you a better sense of how to clean it.  Don't feel like you need to attempt this as it's completely optional and it's meant to be _extranious_.  Real-life datasets will not be like this.  The solution isn't as important as the process and thinking behind your approach.  Another way you might want to try to do this, is map out how you would do this with pseudo code with a step-by-step plan, without actually coding anything.\n",
    "\n",
    "- Add an extra column to your dataframe that is a copy of an existing column with continious data\n",
    "    - Randomly change the value of continious data cells within it to the following:\n",
    "      - NaN\n",
    "      - A blank string\n",
    "      - A numeric string\n",
    "      - The same value\n",
    "    - Report value_counts post-\"random data troll\" processing. Does it seem random?\n",
    "    - Convert blank strings and NaN values to float(0)\n",
    "    - Convert numeric strings to floats with 2f precision\n",
    "    - Divide by 2 if cell value is prime, use remainder as value\n",
    "    - Post solution as Gist with comments to Slack"
   ]
  },
  {
   "cell_type": "code",
   "execution_count": 34,
   "metadata": {
    "collapsed": false
   },
   "outputs": [],
   "source": [
    "data = pd.read_csv('../../../Week1/3.4-lab/assets/datasets/sales_info.csv')"
   ]
  },
  {
   "cell_type": "code",
   "execution_count": 72,
   "metadata": {
    "collapsed": false
   },
   "outputs": [
    {
     "data": {
      "text/html": [
       "<div>\n",
       "<table border=\"1\" class=\"dataframe\">\n",
       "  <thead>\n",
       "    <tr style=\"text-align: right;\">\n",
       "      <th></th>\n",
       "      <th>volume_sold</th>\n",
       "      <th>2015_margin</th>\n",
       "      <th>2015_q1_sales</th>\n",
       "      <th>2016_q1_sales</th>\n",
       "    </tr>\n",
       "  </thead>\n",
       "  <tbody>\n",
       "    <tr>\n",
       "      <th>0</th>\n",
       "      <td>19.420760</td>\n",
       "      <td>93.802281</td>\n",
       "      <td>337166.53</td>\n",
       "      <td>337804.05</td>\n",
       "    </tr>\n",
       "    <tr>\n",
       "      <th>1</th>\n",
       "      <td>5.776510</td>\n",
       "      <td>21.082425</td>\n",
       "      <td>22351.86</td>\n",
       "      <td>21736.63</td>\n",
       "    </tr>\n",
       "    <tr>\n",
       "      <th>2</th>\n",
       "      <td>17.602401</td>\n",
       "      <td>93.612494</td>\n",
       "      <td>277764.46</td>\n",
       "      <td>306942.27</td>\n",
       "    </tr>\n",
       "    <tr>\n",
       "      <th>3</th>\n",
       "      <td>5.296111</td>\n",
       "      <td>16.824704</td>\n",
       "      <td>16805.11</td>\n",
       "      <td>9307.75</td>\n",
       "    </tr>\n",
       "    <tr>\n",
       "      <th>4</th>\n",
       "      <td>9.156023</td>\n",
       "      <td>35.011457</td>\n",
       "      <td>54411.42</td>\n",
       "      <td>58939.90</td>\n",
       "    </tr>\n",
       "  </tbody>\n",
       "</table>\n",
       "</div>"
      ],
      "text/plain": [
       "   volume_sold  2015_margin  2015_q1_sales  2016_q1_sales\n",
       "0    19.420760    93.802281      337166.53      337804.05\n",
       "1     5.776510    21.082425       22351.86       21736.63\n",
       "2    17.602401    93.612494      277764.46      306942.27\n",
       "3     5.296111    16.824704       16805.11        9307.75\n",
       "4     9.156023    35.011457       54411.42       58939.90"
      ]
     },
     "execution_count": 72,
     "metadata": {},
     "output_type": "execute_result"
    }
   ],
   "source": [
    "df = pd.DataFrame(data)\n",
    "\n",
    "df.head(5)"
   ]
  },
  {
   "cell_type": "code",
   "execution_count": 51,
   "metadata": {
    "collapsed": false
   },
   "outputs": [
    {
     "data": {
      "text/plain": [
       "float64    1\n",
       "dtype: int64"
      ]
     },
     "execution_count": 51,
     "metadata": {},
     "output_type": "execute_result"
    }
   ],
   "source": [
    "# Inspect Data Types \n",
    "df.dtypes\n",
    "df['volume_sold'].get_dtype_counts()"
   ]
  },
  {
   "cell_type": "code",
   "execution_count": 67,
   "metadata": {
    "collapsed": false
   },
   "outputs": [],
   "source": [
    "# Use df.apply to add 1 to column 1 of the dataset\n",
    "def addone(x):\n",
    "    return x+1 # return value + 1\n",
    "\n",
    "# .apply(lambda value: value+1)\n",
    "# sales_df['volume_sold'] + 1\n",
    "\n",
    "df['volume_sold'] = df['volume_sold'].apply(addone)\n",
    "# calls the function add one to the column of volume_sold"
   ]
  },
  {
   "cell_type": "code",
   "execution_count": 70,
   "metadata": {
    "collapsed": false
   },
   "outputs": [
    {
     "data": {
      "text/plain": [
       "7.841363     1\n",
       "11.086030    1\n",
       "9.176668     1\n",
       "7.792889     1\n",
       "8.196779     1\n",
       "8.824354     1\n",
       "8.124444     1\n",
       "7.433606     1\n",
       "9.783937     1\n",
       "10.849660    1\n",
       "11.270185    1\n",
       "11.637769    1\n",
       "6.781266     1\n",
       "4.147741     1\n",
       "12.505838    1\n",
       "7.657733     1\n",
       "7.618174     1\n",
       "11.252870    1\n",
       "7.309813     1\n",
       "9.555078     1\n",
       "8.785867     1\n",
       "6.882779     1\n",
       "8.200364     1\n",
       "46.556096    1\n",
       "11.118018    1\n",
       "11.331430    1\n",
       "8.682494     1\n",
       "9.453647     1\n",
       "10.421713    1\n",
       "8.560549     1\n",
       "            ..\n",
       "16.697651    1\n",
       "9.124182     1\n",
       "12.826536    1\n",
       "10.347349    1\n",
       "11.260836    1\n",
       "8.611698     1\n",
       "12.129382    1\n",
       "8.930415     1\n",
       "8.343509     1\n",
       "52.800686    1\n",
       "5.904447     1\n",
       "8.695312     1\n",
       "9.092883     1\n",
       "7.447040     1\n",
       "13.581695    1\n",
       "6.965175     1\n",
       "4.725095     1\n",
       "8.211490     1\n",
       "8.790503     1\n",
       "9.500445     1\n",
       "5.296111     1\n",
       "6.324497     1\n",
       "9.753142     1\n",
       "9.686518     1\n",
       "12.019652    1\n",
       "7.686406     1\n",
       "13.076785    1\n",
       "15.439435    1\n",
       "5.557712     1\n",
       "8.437252     1\n",
       "Name: volume_sold, dtype: int64"
      ]
     },
     "execution_count": 70,
     "metadata": {},
     "output_type": "execute_result"
    }
   ],
   "source": [
    "# Use .value_counts to count the values of 1 column of the dataset\n",
    "df['volume_sold'].value_counts()"
   ]
  },
  {
   "cell_type": "code",
   "execution_count": 87,
   "metadata": {
    "collapsed": false
   },
   "outputs": [
    {
     "name": "stdout",
     "output_type": "stream",
     "text": [
      "<bound method Series.value_counts of 0      19.420760\n",
      "1       5.776510\n",
      "2      17.602401\n",
      "3       5.296111\n",
      "4       9.156023\n",
      "5       6.005122\n",
      "6      15.606750\n",
      "7       5.456466\n",
      "8       6.047530\n",
      "9       6.388070\n",
      "10     10.347349\n",
      "11     11.930398\n",
      "12      7.270209\n",
      "13     13.395919\n",
      "14      5.557712\n",
      "15      5.200122\n",
      "16     11.252870\n",
      "17     13.076785\n",
      "18      4.725095\n",
      "19      4.210727\n",
      "20      7.290971\n",
      "21      8.434821\n",
      "22      5.376225\n",
      "23     13.988913\n",
      "24     12.697456\n",
      "25      6.965175\n",
      "26      4.945223\n",
      "27      8.369585\n",
      "28      8.343509\n",
      "29     13.350027\n",
      "         ...    \n",
      "170     9.443932\n",
      "171     6.151964\n",
      "172     7.537069\n",
      "173     9.500445\n",
      "174     4.931543\n",
      "175     7.163689\n",
      "176     5.904447\n",
      "177     8.402413\n",
      "178    48.503269\n",
      "179    56.739180\n",
      "180    12.840780\n",
      "181     8.002294\n",
      "182     9.753142\n",
      "183     4.147741\n",
      "184     8.196779\n",
      "185    77.203692\n",
      "186    11.804337\n",
      "187    11.705327\n",
      "188    52.800686\n",
      "189     6.882779\n",
      "190     7.686406\n",
      "191     6.833355\n",
      "192    46.556096\n",
      "193     6.172606\n",
      "194    11.118018\n",
      "195    52.675537\n",
      "196     3.794631\n",
      "197     8.611698\n",
      "198    16.697651\n",
      "199    51.275893\n",
      "Name: volume_sold, dtype: float64>\n",
      "<bound method Series.value_counts of 0      138.802281\n",
      "1       66.082425\n",
      "2      138.612494\n",
      "3       61.824704\n",
      "4       80.011457\n",
      "5       76.877437\n",
      "6      121.518973\n",
      "7       64.337345\n",
      "8       71.142470\n",
      "9       67.427024\n",
      "10      86.892133\n",
      "11     111.403049\n",
      "12      92.869324\n",
      "13     131.760150\n",
      "14      67.948176\n",
      "15      63.706055\n",
      "16      89.041177\n",
      "17     107.199004\n",
      "18      59.251810\n",
      "19      61.043269\n",
      "20      70.191171\n",
      "21      76.753066\n",
      "22      68.161451\n",
      "23      93.820741\n",
      "24     118.231504\n",
      "25      68.450334\n",
      "26      59.144793\n",
      "27      81.408528\n",
      "28      81.171862\n",
      "29     104.893478\n",
      "          ...    \n",
      "170     82.407112\n",
      "171     65.698042\n",
      "172     67.888219\n",
      "173     72.507729\n",
      "174     66.811659\n",
      "175     70.428521\n",
      "176     64.568317\n",
      "177     71.935335\n",
      "178    280.730678\n",
      "179    313.869600\n",
      "180    101.433388\n",
      "181     71.440917\n",
      "182     90.293847\n",
      "183     60.594552\n",
      "184     72.288652\n",
      "185    412.225653\n",
      "186     87.031199\n",
      "187     90.891477\n",
      "188    300.153235\n",
      "189     72.512271\n",
      "190     71.103097\n",
      "191     68.741603\n",
      "192    263.008350\n",
      "193     66.548782\n",
      "194     91.700709\n",
      "195    278.533189\n",
      "196     56.996118\n",
      "197     83.809973\n",
      "198    150.035207\n",
      "199    270.055138\n",
      "Name: 2015_margin, dtype: float64>\n",
      "<bound method Series.value_counts of 0       337166.53\n",
      "1        22351.86\n",
      "2       277764.46\n",
      "3        16805.11\n",
      "4        54411.42\n",
      "5       255939.81\n",
      "6       319020.69\n",
      "7        45340.33\n",
      "8        57849.23\n",
      "9        51031.04\n",
      "10       68657.91\n",
      "11        4151.93\n",
      "12      121837.56\n",
      "13      146725.31\n",
      "14      119287.76\n",
      "15       20335.03\n",
      "16      110552.94\n",
      "17      204237.78\n",
      "18       16939.15\n",
      "19       55498.12\n",
      "20       15983.98\n",
      "21       71758.66\n",
      "22       62988.17\n",
      "23       29637.75\n",
      "24       48759.71\n",
      "25       89736.70\n",
      "26        5577.61\n",
      "27      310035.66\n",
      "28      310718.21\n",
      "29      258284.84\n",
      "          ...    \n",
      "170      17232.45\n",
      "171      21340.78\n",
      "172      16617.85\n",
      "173      21711.71\n",
      "174      28128.95\n",
      "175      21803.20\n",
      "176      12517.29\n",
      "177      53988.92\n",
      "178     555707.40\n",
      "179    1082136.01\n",
      "180     192089.46\n",
      "181       5574.99\n",
      "182      80241.27\n",
      "183      27043.54\n",
      "184      61977.54\n",
      "185     977772.62\n",
      "186      41905.18\n",
      "187      87839.45\n",
      "188     445058.32\n",
      "189     127495.18\n",
      "190      23874.67\n",
      "191      21535.87\n",
      "192     276096.18\n",
      "193       8506.79\n",
      "194      49163.01\n",
      "195     434110.57\n",
      "196      73789.38\n",
      "197      88006.84\n",
      "198     117958.96\n",
      "199     407738.79\n",
      "Name: 2015_q1_sales, dtype: float64>\n",
      "<bound method Series.value_counts of 0      337804.05\n",
      "1       21736.63\n",
      "2      306942.27\n",
      "3        9307.75\n",
      "4       58939.90\n",
      "5      332979.03\n",
      "6      302592.88\n",
      "7       55315.23\n",
      "8       42398.57\n",
      "9       56241.57\n",
      "10       3536.14\n",
      "11     137416.93\n",
      "12     158476.55\n",
      "13     125731.51\n",
      "14      21834.49\n",
      "15      39609.55\n",
      "16     204038.87\n",
      "17      15689.80\n",
      "18      48545.69\n",
      "19      16320.74\n",
      "20      53182.55\n",
      "21      30402.43\n",
      "22      47217.40\n",
      "23       6367.76\n",
      "24     329252.09\n",
      "25     332976.05\n",
      "26     234926.02\n",
      "27     151934.45\n",
      "28     314068.92\n",
      "29      61847.52\n",
      "         ...    \n",
      "170     19203.82\n",
      "171     25302.92\n",
      "172     18650.96\n",
      "173     14626.29\n",
      "174     46323.73\n",
      "175    535381.86\n",
      "176    812011.78\n",
      "177    206247.57\n",
      "178      6402.78\n",
      "179    100765.67\n",
      "180     20098.61\n",
      "181     68230.36\n",
      "182    596063.00\n",
      "183     87471.43\n",
      "184    431990.70\n",
      "185    136717.57\n",
      "186     30008.81\n",
      "187     19420.34\n",
      "188    274752.60\n",
      "189     10315.35\n",
      "190     45252.42\n",
      "191    433832.28\n",
      "192     74215.43\n",
      "193     78137.29\n",
      "194     83915.72\n",
      "195    372240.72\n",
      "196    148021.90\n",
      "197     31184.18\n",
      "198     33324.36\n",
      "199     32079.13\n",
      "Name: 2016_q1_sales, dtype: float64>\n"
     ]
    }
   ],
   "source": [
    "# Bonus add 3 to column 2\n",
    "\n",
    "df['2015_margin'] += 3\n",
    "\n",
    "columns = df.columns\n",
    "\n",
    "for column in columns:\n",
    "    print df[column].value_counts"
   ]
  },
  {
   "cell_type": "markdown",
   "metadata": {
    "slideshow": {
     "slide_type": "slide"
    }
   },
   "source": [
    "<a name=\"conclusion\"></a>\n",
    "## Conclusion (5 mins)\n",
    "So far we've used pandas to look at the head and tail of a data set. We've also taken a look at summary stats and different\n",
    "types of data types. We've selected and sliced data too. Today we added inspecting data types, df.apply, .value_counts to\n",
    "our pandas arsenal. Nice!"
   ]
  }
 ],
 "metadata": {
  "celltoolbar": "Slideshow",
  "kernelspec": {
   "display_name": "Python 2",
   "language": "python",
   "name": "python2"
  },
  "language_info": {
   "codemirror_mode": {
    "name": "ipython",
    "version": 2
   },
   "file_extension": ".py",
   "mimetype": "text/x-python",
   "name": "python",
   "nbconvert_exporter": "python",
   "pygments_lexer": "ipython2",
   "version": "2.7.11"
  }
 },
 "nbformat": 4,
 "nbformat_minor": 0
}
