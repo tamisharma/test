{
 "cells": [
  {
   "cell_type": "code",
   "execution_count": 9,
   "metadata": {
    "collapsed": false
   },
   "outputs": [
    {
     "name": "stdout",
     "output_type": "stream",
     "text": [
      "hsq_codebook.txt\n",
      "hsq_data.csv\n",
      "mach_codebook.txt\n",
      "mach_data.csv\n",
      "scs_codebook.txt\n",
      "scs_data.csv\n"
     ]
    }
   ],
   "source": [
    "%%bash\n",
    "cd '../assets/datasets'\n",
    "ls"
   ]
  },
  {
   "cell_type": "code",
   "execution_count": 14,
   "metadata": {
    "collapsed": true
   },
   "outputs": [],
   "source": [
    "# data modules\n",
    "import numpy as np\n",
    "import scipy.stats as stats\n",
    "import pandas as pd\n",
    "\n",
    "# plotting modules\n",
    "import matplotlib.pyplot as plt\n",
    "import seaborn as sns\n",
    "\n",
    "# make sure charts appear in the notebook:\n",
    "%matplotlib inline"
   ]
  },
  {
   "cell_type": "code",
   "execution_count": 15,
   "metadata": {
    "collapsed": true
   },
   "outputs": [],
   "source": [
    "mach = pd.read_csv('../assets/datasets/mach_data.csv')"
   ]
  },
  {
   "cell_type": "code",
   "execution_count": 16,
   "metadata": {
    "collapsed": false
   },
   "outputs": [
    {
     "data": {
      "text/html": [
       "<div>\n",
       "<table border=\"1\" class=\"dataframe\">\n",
       "  <thead>\n",
       "    <tr style=\"text-align: right;\">\n",
       "      <th></th>\n",
       "      <th>Q1</th>\n",
       "      <th>Q2</th>\n",
       "      <th>Q3</th>\n",
       "      <th>Q4</th>\n",
       "      <th>Q5</th>\n",
       "      <th>Q6</th>\n",
       "      <th>Q7</th>\n",
       "      <th>Q8</th>\n",
       "      <th>Q9</th>\n",
       "      <th>Q10</th>\n",
       "      <th>...</th>\n",
       "      <th>Q15</th>\n",
       "      <th>Q16</th>\n",
       "      <th>Q17</th>\n",
       "      <th>Q18</th>\n",
       "      <th>Q19</th>\n",
       "      <th>Q20</th>\n",
       "      <th>score</th>\n",
       "      <th>gender</th>\n",
       "      <th>age</th>\n",
       "      <th>seconds_elapsed</th>\n",
       "    </tr>\n",
       "  </thead>\n",
       "  <tbody>\n",
       "    <tr>\n",
       "      <th>0</th>\n",
       "      <td>4</td>\n",
       "      <td>4</td>\n",
       "      <td>2</td>\n",
       "      <td>2</td>\n",
       "      <td>4</td>\n",
       "      <td>2</td>\n",
       "      <td>3</td>\n",
       "      <td>5</td>\n",
       "      <td>3</td>\n",
       "      <td>4</td>\n",
       "      <td>...</td>\n",
       "      <td>4</td>\n",
       "      <td>4</td>\n",
       "      <td>2</td>\n",
       "      <td>0</td>\n",
       "      <td>5</td>\n",
       "      <td>2</td>\n",
       "      <td>68</td>\n",
       "      <td>1</td>\n",
       "      <td>24</td>\n",
       "      <td>177</td>\n",
       "    </tr>\n",
       "    <tr>\n",
       "      <th>1</th>\n",
       "      <td>2</td>\n",
       "      <td>2</td>\n",
       "      <td>4</td>\n",
       "      <td>4</td>\n",
       "      <td>4</td>\n",
       "      <td>2</td>\n",
       "      <td>2</td>\n",
       "      <td>2</td>\n",
       "      <td>4</td>\n",
       "      <td>4</td>\n",
       "      <td>...</td>\n",
       "      <td>3</td>\n",
       "      <td>2</td>\n",
       "      <td>2</td>\n",
       "      <td>4</td>\n",
       "      <td>5</td>\n",
       "      <td>2</td>\n",
       "      <td>60</td>\n",
       "      <td>2</td>\n",
       "      <td>33</td>\n",
       "      <td>107</td>\n",
       "    </tr>\n",
       "  </tbody>\n",
       "</table>\n",
       "<p>2 rows × 24 columns</p>\n",
       "</div>"
      ],
      "text/plain": [
       "   Q1  Q2  Q3  Q4  Q5  Q6  Q7  Q8  Q9  Q10       ...         Q15  Q16  Q17  \\\n",
       "0   4   4   2   2   4   2   3   5   3    4       ...           4    4    2   \n",
       "1   2   2   4   4   4   2   2   2   4    4       ...           3    2    2   \n",
       "\n",
       "   Q18  Q19  Q20  score  gender  age  seconds_elapsed  \n",
       "0    0    5    2     68       1   24              177  \n",
       "1    4    5    2     60       2   33              107  \n",
       "\n",
       "[2 rows x 24 columns]"
      ]
     },
     "execution_count": 16,
     "metadata": {},
     "output_type": "execute_result"
    }
   ],
   "source": [
    "mach.head(2)"
   ]
  },
  {
   "cell_type": "markdown",
   "metadata": {},
   "source": [
    "## Properties of the list:\n",
    "1. **Q1-Q20** : The twenty questions associated with the machiavilliain test\n",
    "2. **score** : Score obtained out of 100\n",
    "3. **gender** : gender of the participant\n",
    "4. **age** : age of the participant\n",
    "5. **seconds_elapsed** : time it took for participant to complete the test"
   ]
  },
  {
   "cell_type": "code",
   "execution_count": 17,
   "metadata": {
    "collapsed": false
   },
   "outputs": [
    {
     "data": {
      "text/plain": [
       "(13156, 24)"
      ]
     },
     "execution_count": 17,
     "metadata": {},
     "output_type": "execute_result"
    }
   ],
   "source": [
    "mach.shape"
   ]
  },
  {
   "cell_type": "markdown",
   "metadata": {},
   "source": [
    "## Shape of the list\n",
    "There are *13156* individuals who took the test"
   ]
  },
  {
   "cell_type": "code",
   "execution_count": 18,
   "metadata": {
    "collapsed": false
   },
   "outputs": [
    {
     "data": {
      "text/html": [
       "<div>\n",
       "<table border=\"1\" class=\"dataframe\">\n",
       "  <thead>\n",
       "    <tr style=\"text-align: right;\">\n",
       "      <th></th>\n",
       "      <th>Q1</th>\n",
       "      <th>Q2</th>\n",
       "      <th>Q3</th>\n",
       "      <th>Q4</th>\n",
       "      <th>Q5</th>\n",
       "      <th>Q6</th>\n",
       "      <th>Q7</th>\n",
       "      <th>Q8</th>\n",
       "      <th>Q9</th>\n",
       "      <th>Q10</th>\n",
       "      <th>...</th>\n",
       "      <th>Q15</th>\n",
       "      <th>Q16</th>\n",
       "      <th>Q17</th>\n",
       "      <th>Q18</th>\n",
       "      <th>Q19</th>\n",
       "      <th>Q20</th>\n",
       "      <th>score</th>\n",
       "      <th>gender</th>\n",
       "      <th>age</th>\n",
       "      <th>seconds_elapsed</th>\n",
       "    </tr>\n",
       "  </thead>\n",
       "  <tbody>\n",
       "    <tr>\n",
       "      <th>count</th>\n",
       "      <td>13156.000000</td>\n",
       "      <td>13156.000000</td>\n",
       "      <td>13156.000000</td>\n",
       "      <td>13156.000000</td>\n",
       "      <td>13156.000000</td>\n",
       "      <td>13156.000000</td>\n",
       "      <td>13156.000000</td>\n",
       "      <td>13156.000000</td>\n",
       "      <td>13156.000000</td>\n",
       "      <td>13156.000000</td>\n",
       "      <td>...</td>\n",
       "      <td>13156.000000</td>\n",
       "      <td>13156.000000</td>\n",
       "      <td>13156.000000</td>\n",
       "      <td>13156.000000</td>\n",
       "      <td>13156.00000</td>\n",
       "      <td>13156.000000</td>\n",
       "      <td>13156.000000</td>\n",
       "      <td>13156.000000</td>\n",
       "      <td>13156.000000</td>\n",
       "      <td>13156.000000</td>\n",
       "    </tr>\n",
       "    <tr>\n",
       "      <th>mean</th>\n",
       "      <td>3.375646</td>\n",
       "      <td>3.278352</td>\n",
       "      <td>2.920949</td>\n",
       "      <td>2.655214</td>\n",
       "      <td>3.505853</td>\n",
       "      <td>2.611584</td>\n",
       "      <td>2.221876</td>\n",
       "      <td>3.067270</td>\n",
       "      <td>3.471116</td>\n",
       "      <td>2.970432</td>\n",
       "      <td>...</td>\n",
       "      <td>3.293554</td>\n",
       "      <td>2.683262</td>\n",
       "      <td>2.290742</td>\n",
       "      <td>3.486090</td>\n",
       "      <td>4.08498</td>\n",
       "      <td>2.542110</td>\n",
       "      <td>65.898525</td>\n",
       "      <td>1.354135</td>\n",
       "      <td>174.654074</td>\n",
       "      <td>608.977653</td>\n",
       "    </tr>\n",
       "    <tr>\n",
       "      <th>std</th>\n",
       "      <td>1.268259</td>\n",
       "      <td>1.297504</td>\n",
       "      <td>1.236152</td>\n",
       "      <td>1.231540</td>\n",
       "      <td>1.211830</td>\n",
       "      <td>1.315440</td>\n",
       "      <td>1.201208</td>\n",
       "      <td>1.292303</td>\n",
       "      <td>1.313440</td>\n",
       "      <td>1.279000</td>\n",
       "      <td>...</td>\n",
       "      <td>1.216768</td>\n",
       "      <td>1.297577</td>\n",
       "      <td>1.177610</td>\n",
       "      <td>1.166896</td>\n",
       "      <td>1.16169</td>\n",
       "      <td>1.351707</td>\n",
       "      <td>13.131049</td>\n",
       "      <td>0.494061</td>\n",
       "      <td>11709.751242</td>\n",
       "      <td>7815.456198</td>\n",
       "    </tr>\n",
       "    <tr>\n",
       "      <th>min</th>\n",
       "      <td>0.000000</td>\n",
       "      <td>0.000000</td>\n",
       "      <td>0.000000</td>\n",
       "      <td>0.000000</td>\n",
       "      <td>0.000000</td>\n",
       "      <td>0.000000</td>\n",
       "      <td>0.000000</td>\n",
       "      <td>0.000000</td>\n",
       "      <td>0.000000</td>\n",
       "      <td>0.000000</td>\n",
       "      <td>...</td>\n",
       "      <td>0.000000</td>\n",
       "      <td>0.000000</td>\n",
       "      <td>0.000000</td>\n",
       "      <td>0.000000</td>\n",
       "      <td>0.00000</td>\n",
       "      <td>0.000000</td>\n",
       "      <td>20.000000</td>\n",
       "      <td>0.000000</td>\n",
       "      <td>-9.000000</td>\n",
       "      <td>2.000000</td>\n",
       "    </tr>\n",
       "    <tr>\n",
       "      <th>25%</th>\n",
       "      <td>2.000000</td>\n",
       "      <td>2.000000</td>\n",
       "      <td>2.000000</td>\n",
       "      <td>2.000000</td>\n",
       "      <td>2.000000</td>\n",
       "      <td>2.000000</td>\n",
       "      <td>1.000000</td>\n",
       "      <td>2.000000</td>\n",
       "      <td>2.000000</td>\n",
       "      <td>2.000000</td>\n",
       "      <td>...</td>\n",
       "      <td>2.000000</td>\n",
       "      <td>2.000000</td>\n",
       "      <td>1.000000</td>\n",
       "      <td>3.000000</td>\n",
       "      <td>4.00000</td>\n",
       "      <td>1.000000</td>\n",
       "      <td>57.000000</td>\n",
       "      <td>1.000000</td>\n",
       "      <td>20.000000</td>\n",
       "      <td>147.000000</td>\n",
       "    </tr>\n",
       "    <tr>\n",
       "      <th>50%</th>\n",
       "      <td>4.000000</td>\n",
       "      <td>4.000000</td>\n",
       "      <td>3.000000</td>\n",
       "      <td>3.000000</td>\n",
       "      <td>4.000000</td>\n",
       "      <td>2.000000</td>\n",
       "      <td>2.000000</td>\n",
       "      <td>3.000000</td>\n",
       "      <td>4.000000</td>\n",
       "      <td>3.000000</td>\n",
       "      <td>...</td>\n",
       "      <td>4.000000</td>\n",
       "      <td>2.000000</td>\n",
       "      <td>2.000000</td>\n",
       "      <td>4.000000</td>\n",
       "      <td>4.00000</td>\n",
       "      <td>2.000000</td>\n",
       "      <td>66.000000</td>\n",
       "      <td>1.000000</td>\n",
       "      <td>26.000000</td>\n",
       "      <td>195.000000</td>\n",
       "    </tr>\n",
       "    <tr>\n",
       "      <th>75%</th>\n",
       "      <td>4.000000</td>\n",
       "      <td>4.000000</td>\n",
       "      <td>4.000000</td>\n",
       "      <td>4.000000</td>\n",
       "      <td>4.000000</td>\n",
       "      <td>4.000000</td>\n",
       "      <td>3.000000</td>\n",
       "      <td>4.000000</td>\n",
       "      <td>5.000000</td>\n",
       "      <td>4.000000</td>\n",
       "      <td>...</td>\n",
       "      <td>4.000000</td>\n",
       "      <td>4.000000</td>\n",
       "      <td>3.000000</td>\n",
       "      <td>4.000000</td>\n",
       "      <td>5.00000</td>\n",
       "      <td>4.000000</td>\n",
       "      <td>75.000000</td>\n",
       "      <td>2.000000</td>\n",
       "      <td>36.000000</td>\n",
       "      <td>287.250000</td>\n",
       "    </tr>\n",
       "    <tr>\n",
       "      <th>max</th>\n",
       "      <td>5.000000</td>\n",
       "      <td>5.000000</td>\n",
       "      <td>5.000000</td>\n",
       "      <td>5.000000</td>\n",
       "      <td>5.000000</td>\n",
       "      <td>5.000000</td>\n",
       "      <td>5.000000</td>\n",
       "      <td>5.000000</td>\n",
       "      <td>5.000000</td>\n",
       "      <td>5.000000</td>\n",
       "      <td>...</td>\n",
       "      <td>5.000000</td>\n",
       "      <td>5.000000</td>\n",
       "      <td>5.000000</td>\n",
       "      <td>5.000000</td>\n",
       "      <td>5.00000</td>\n",
       "      <td>5.000000</td>\n",
       "      <td>100.000000</td>\n",
       "      <td>3.000000</td>\n",
       "      <td>999999.000000</td>\n",
       "      <td>702200.000000</td>\n",
       "    </tr>\n",
       "  </tbody>\n",
       "</table>\n",
       "<p>8 rows × 24 columns</p>\n",
       "</div>"
      ],
      "text/plain": [
       "                 Q1            Q2            Q3            Q4            Q5  \\\n",
       "count  13156.000000  13156.000000  13156.000000  13156.000000  13156.000000   \n",
       "mean       3.375646      3.278352      2.920949      2.655214      3.505853   \n",
       "std        1.268259      1.297504      1.236152      1.231540      1.211830   \n",
       "min        0.000000      0.000000      0.000000      0.000000      0.000000   \n",
       "25%        2.000000      2.000000      2.000000      2.000000      2.000000   \n",
       "50%        4.000000      4.000000      3.000000      3.000000      4.000000   \n",
       "75%        4.000000      4.000000      4.000000      4.000000      4.000000   \n",
       "max        5.000000      5.000000      5.000000      5.000000      5.000000   \n",
       "\n",
       "                 Q6            Q7            Q8            Q9           Q10  \\\n",
       "count  13156.000000  13156.000000  13156.000000  13156.000000  13156.000000   \n",
       "mean       2.611584      2.221876      3.067270      3.471116      2.970432   \n",
       "std        1.315440      1.201208      1.292303      1.313440      1.279000   \n",
       "min        0.000000      0.000000      0.000000      0.000000      0.000000   \n",
       "25%        2.000000      1.000000      2.000000      2.000000      2.000000   \n",
       "50%        2.000000      2.000000      3.000000      4.000000      3.000000   \n",
       "75%        4.000000      3.000000      4.000000      5.000000      4.000000   \n",
       "max        5.000000      5.000000      5.000000      5.000000      5.000000   \n",
       "\n",
       "            ...                  Q15           Q16           Q17  \\\n",
       "count       ...         13156.000000  13156.000000  13156.000000   \n",
       "mean        ...             3.293554      2.683262      2.290742   \n",
       "std         ...             1.216768      1.297577      1.177610   \n",
       "min         ...             0.000000      0.000000      0.000000   \n",
       "25%         ...             2.000000      2.000000      1.000000   \n",
       "50%         ...             4.000000      2.000000      2.000000   \n",
       "75%         ...             4.000000      4.000000      3.000000   \n",
       "max         ...             5.000000      5.000000      5.000000   \n",
       "\n",
       "                Q18          Q19           Q20         score        gender  \\\n",
       "count  13156.000000  13156.00000  13156.000000  13156.000000  13156.000000   \n",
       "mean       3.486090      4.08498      2.542110     65.898525      1.354135   \n",
       "std        1.166896      1.16169      1.351707     13.131049      0.494061   \n",
       "min        0.000000      0.00000      0.000000     20.000000      0.000000   \n",
       "25%        3.000000      4.00000      1.000000     57.000000      1.000000   \n",
       "50%        4.000000      4.00000      2.000000     66.000000      1.000000   \n",
       "75%        4.000000      5.00000      4.000000     75.000000      2.000000   \n",
       "max        5.000000      5.00000      5.000000    100.000000      3.000000   \n",
       "\n",
       "                 age  seconds_elapsed  \n",
       "count   13156.000000     13156.000000  \n",
       "mean      174.654074       608.977653  \n",
       "std     11709.751242      7815.456198  \n",
       "min        -9.000000         2.000000  \n",
       "25%        20.000000       147.000000  \n",
       "50%        26.000000       195.000000  \n",
       "75%        36.000000       287.250000  \n",
       "max    999999.000000    702200.000000  \n",
       "\n",
       "[8 rows x 24 columns]"
      ]
     },
     "execution_count": 18,
     "metadata": {},
     "output_type": "execute_result"
    }
   ],
   "source": [
    "mach.describe()"
   ]
  },
  {
   "cell_type": "markdown",
   "metadata": {},
   "source": [
    "## Suspicious Insights\n",
    "\n",
    "1. Age is between -9 (not possible) and 999999\n",
    "    * Need to isolate ages between ***14-65***\n",
    "2. Seconds between 2s and 702200\n",
    "    * Remove from < 30 and > 600"
   ]
  },
  {
   "cell_type": "code",
   "execution_count": 34,
   "metadata": {
    "collapsed": false
   },
   "outputs": [
    {
     "data": {
      "text/plain": [
       "<matplotlib.axes._subplots.AxesSubplot at 0x11d4beb50>"
      ]
     },
     "execution_count": 34,
     "metadata": {},
     "output_type": "execute_result"
    },
    {
     "data": {
      "image/png": "[encoded data removed]",
      "text/plain": [
       "<matplotlib.figure.Figure at 0x11d4bebd0>"
      ]
     },
     "metadata": {},
     "output_type": "display_data"
    }
   ],
   "source": [
    "sns.set(rc={\"figure.figsize\": (8,8)},style='white')\n",
    "tenmax = mach[mach.seconds_elapsed < 600] # Create \n",
    "agelimits = tenmax[(tenmax.age > 14) & (tenmax.age<65)]\n",
    "\n",
    "sns.distplot(agelimits['seconds_elapsed'])"
   ]
  },
  {
   "cell_type": "code",
   "execution_count": 35,
   "metadata": {
    "collapsed": false
   },
   "outputs": [
    {
     "data": {
      "text/plain": [
       "<matplotlib.axes._subplots.AxesSubplot at 0x11d230590>"
      ]
     },
     "execution_count": 35,
     "metadata": {},
     "output_type": "execute_result"
    },
    {
     "data": {
      "image/png": "[encoded data removed]",
      "text/plain": [
       "<matplotlib.figure.Figure at 0x11d048ed0>"
      ]
     },
     "metadata": {},
     "output_type": "display_data"
    }
   ],
   "source": [
    "sns.distplot(agelimits['age'])"
   ]
  },
  {
   "cell_type": "code",
   "execution_count": 37,
   "metadata": {
    "collapsed": false
   },
   "outputs": [
    {
     "data": {
      "text/html": [
       "<div>\n",
       "<table border=\"1\" class=\"dataframe\">\n",
       "  <thead>\n",
       "    <tr style=\"text-align: right;\">\n",
       "      <th></th>\n",
       "      <th>Q1</th>\n",
       "      <th>Q2</th>\n",
       "      <th>Q3</th>\n",
       "      <th>Q4</th>\n",
       "      <th>Q5</th>\n",
       "      <th>Q6</th>\n",
       "      <th>Q7</th>\n",
       "      <th>Q8</th>\n",
       "      <th>Q9</th>\n",
       "      <th>Q10</th>\n",
       "      <th>...</th>\n",
       "      <th>Q15</th>\n",
       "      <th>Q16</th>\n",
       "      <th>Q17</th>\n",
       "      <th>Q18</th>\n",
       "      <th>Q19</th>\n",
       "      <th>Q20</th>\n",
       "      <th>score</th>\n",
       "      <th>gender</th>\n",
       "      <th>age</th>\n",
       "      <th>seconds_elapsed</th>\n",
       "    </tr>\n",
       "  </thead>\n",
       "  <tbody>\n",
       "    <tr>\n",
       "      <th>count</th>\n",
       "      <td>11772.000000</td>\n",
       "      <td>11772.000000</td>\n",
       "      <td>11772.000000</td>\n",
       "      <td>11772.000000</td>\n",
       "      <td>11772.000000</td>\n",
       "      <td>11772.000000</td>\n",
       "      <td>11772.000000</td>\n",
       "      <td>11772.000000</td>\n",
       "      <td>11772.000000</td>\n",
       "      <td>11772.000000</td>\n",
       "      <td>...</td>\n",
       "      <td>11772.000000</td>\n",
       "      <td>11772.000000</td>\n",
       "      <td>11772.000000</td>\n",
       "      <td>11772.000000</td>\n",
       "      <td>11772.000000</td>\n",
       "      <td>11772.000000</td>\n",
       "      <td>11772.000000</td>\n",
       "      <td>11772.000000</td>\n",
       "      <td>11772.000000</td>\n",
       "      <td>11772.000000</td>\n",
       "    </tr>\n",
       "    <tr>\n",
       "      <th>mean</th>\n",
       "      <td>3.363744</td>\n",
       "      <td>3.270133</td>\n",
       "      <td>2.916072</td>\n",
       "      <td>2.661995</td>\n",
       "      <td>3.496092</td>\n",
       "      <td>2.597520</td>\n",
       "      <td>2.202514</td>\n",
       "      <td>3.049864</td>\n",
       "      <td>3.480377</td>\n",
       "      <td>2.967210</td>\n",
       "      <td>...</td>\n",
       "      <td>3.281006</td>\n",
       "      <td>2.676351</td>\n",
       "      <td>2.243969</td>\n",
       "      <td>3.479613</td>\n",
       "      <td>4.101682</td>\n",
       "      <td>2.513337</td>\n",
       "      <td>65.840639</td>\n",
       "      <td>1.349049</td>\n",
       "      <td>29.240061</td>\n",
       "      <td>214.351937</td>\n",
       "    </tr>\n",
       "    <tr>\n",
       "      <th>std</th>\n",
       "      <td>1.255569</td>\n",
       "      <td>1.281836</td>\n",
       "      <td>1.213546</td>\n",
       "      <td>1.216238</td>\n",
       "      <td>1.198958</td>\n",
       "      <td>1.297582</td>\n",
       "      <td>1.174055</td>\n",
       "      <td>1.280203</td>\n",
       "      <td>1.295663</td>\n",
       "      <td>1.260731</td>\n",
       "      <td>...</td>\n",
       "      <td>1.201139</td>\n",
       "      <td>1.282099</td>\n",
       "      <td>1.143933</td>\n",
       "      <td>1.148631</td>\n",
       "      <td>1.137004</td>\n",
       "      <td>1.327864</td>\n",
       "      <td>12.762680</td>\n",
       "      <td>0.491778</td>\n",
       "      <td>11.047367</td>\n",
       "      <td>102.514651</td>\n",
       "    </tr>\n",
       "    <tr>\n",
       "      <th>min</th>\n",
       "      <td>0.000000</td>\n",
       "      <td>0.000000</td>\n",
       "      <td>0.000000</td>\n",
       "      <td>0.000000</td>\n",
       "      <td>0.000000</td>\n",
       "      <td>0.000000</td>\n",
       "      <td>0.000000</td>\n",
       "      <td>0.000000</td>\n",
       "      <td>0.000000</td>\n",
       "      <td>0.000000</td>\n",
       "      <td>...</td>\n",
       "      <td>0.000000</td>\n",
       "      <td>0.000000</td>\n",
       "      <td>0.000000</td>\n",
       "      <td>0.000000</td>\n",
       "      <td>0.000000</td>\n",
       "      <td>0.000000</td>\n",
       "      <td>20.000000</td>\n",
       "      <td>0.000000</td>\n",
       "      <td>15.000000</td>\n",
       "      <td>2.000000</td>\n",
       "    </tr>\n",
       "    <tr>\n",
       "      <th>25%</th>\n",
       "      <td>2.000000</td>\n",
       "      <td>2.000000</td>\n",
       "      <td>2.000000</td>\n",
       "      <td>2.000000</td>\n",
       "      <td>2.000000</td>\n",
       "      <td>2.000000</td>\n",
       "      <td>1.000000</td>\n",
       "      <td>2.000000</td>\n",
       "      <td>3.000000</td>\n",
       "      <td>2.000000</td>\n",
       "      <td>...</td>\n",
       "      <td>2.000000</td>\n",
       "      <td>2.000000</td>\n",
       "      <td>1.000000</td>\n",
       "      <td>3.000000</td>\n",
       "      <td>4.000000</td>\n",
       "      <td>1.000000</td>\n",
       "      <td>57.000000</td>\n",
       "      <td>1.000000</td>\n",
       "      <td>21.000000</td>\n",
       "      <td>143.000000</td>\n",
       "    </tr>\n",
       "    <tr>\n",
       "      <th>50%</th>\n",
       "      <td>4.000000</td>\n",
       "      <td>4.000000</td>\n",
       "      <td>3.000000</td>\n",
       "      <td>3.000000</td>\n",
       "      <td>4.000000</td>\n",
       "      <td>2.000000</td>\n",
       "      <td>2.000000</td>\n",
       "      <td>3.000000</td>\n",
       "      <td>4.000000</td>\n",
       "      <td>3.000000</td>\n",
       "      <td>...</td>\n",
       "      <td>4.000000</td>\n",
       "      <td>2.000000</td>\n",
       "      <td>2.000000</td>\n",
       "      <td>4.000000</td>\n",
       "      <td>4.000000</td>\n",
       "      <td>2.000000</td>\n",
       "      <td>66.000000</td>\n",
       "      <td>1.000000</td>\n",
       "      <td>26.000000</td>\n",
       "      <td>186.000000</td>\n",
       "    </tr>\n",
       "    <tr>\n",
       "      <th>75%</th>\n",
       "      <td>4.000000</td>\n",
       "      <td>4.000000</td>\n",
       "      <td>4.000000</td>\n",
       "      <td>4.000000</td>\n",
       "      <td>4.000000</td>\n",
       "      <td>4.000000</td>\n",
       "      <td>3.000000</td>\n",
       "      <td>4.000000</td>\n",
       "      <td>5.000000</td>\n",
       "      <td>4.000000</td>\n",
       "      <td>...</td>\n",
       "      <td>4.000000</td>\n",
       "      <td>4.000000</td>\n",
       "      <td>3.000000</td>\n",
       "      <td>4.000000</td>\n",
       "      <td>5.000000</td>\n",
       "      <td>4.000000</td>\n",
       "      <td>75.000000</td>\n",
       "      <td>2.000000</td>\n",
       "      <td>36.000000</td>\n",
       "      <td>256.000000</td>\n",
       "    </tr>\n",
       "    <tr>\n",
       "      <th>max</th>\n",
       "      <td>5.000000</td>\n",
       "      <td>5.000000</td>\n",
       "      <td>5.000000</td>\n",
       "      <td>5.000000</td>\n",
       "      <td>5.000000</td>\n",
       "      <td>5.000000</td>\n",
       "      <td>5.000000</td>\n",
       "      <td>5.000000</td>\n",
       "      <td>5.000000</td>\n",
       "      <td>5.000000</td>\n",
       "      <td>...</td>\n",
       "      <td>5.000000</td>\n",
       "      <td>5.000000</td>\n",
       "      <td>5.000000</td>\n",
       "      <td>5.000000</td>\n",
       "      <td>5.000000</td>\n",
       "      <td>5.000000</td>\n",
       "      <td>100.000000</td>\n",
       "      <td>3.000000</td>\n",
       "      <td>64.000000</td>\n",
       "      <td>599.000000</td>\n",
       "    </tr>\n",
       "  </tbody>\n",
       "</table>\n",
       "<p>8 rows × 24 columns</p>\n",
       "</div>"
      ],
      "text/plain": [
       "                 Q1            Q2            Q3            Q4            Q5  \\\n",
       "count  11772.000000  11772.000000  11772.000000  11772.000000  11772.000000   \n",
       "mean       3.363744      3.270133      2.916072      2.661995      3.496092   \n",
       "std        1.255569      1.281836      1.213546      1.216238      1.198958   \n",
       "min        0.000000      0.000000      0.000000      0.000000      0.000000   \n",
       "25%        2.000000      2.000000      2.000000      2.000000      2.000000   \n",
       "50%        4.000000      4.000000      3.000000      3.000000      4.000000   \n",
       "75%        4.000000      4.000000      4.000000      4.000000      4.000000   \n",
       "max        5.000000      5.000000      5.000000      5.000000      5.000000   \n",
       "\n",
       "                 Q6            Q7            Q8            Q9           Q10  \\\n",
       "count  11772.000000  11772.000000  11772.000000  11772.000000  11772.000000   \n",
       "mean       2.597520      2.202514      3.049864      3.480377      2.967210   \n",
       "std        1.297582      1.174055      1.280203      1.295663      1.260731   \n",
       "min        0.000000      0.000000      0.000000      0.000000      0.000000   \n",
       "25%        2.000000      1.000000      2.000000      3.000000      2.000000   \n",
       "50%        2.000000      2.000000      3.000000      4.000000      3.000000   \n",
       "75%        4.000000      3.000000      4.000000      5.000000      4.000000   \n",
       "max        5.000000      5.000000      5.000000      5.000000      5.000000   \n",
       "\n",
       "            ...                  Q15           Q16           Q17  \\\n",
       "count       ...         11772.000000  11772.000000  11772.000000   \n",
       "mean        ...             3.281006      2.676351      2.243969   \n",
       "std         ...             1.201139      1.282099      1.143933   \n",
       "min         ...             0.000000      0.000000      0.000000   \n",
       "25%         ...             2.000000      2.000000      1.000000   \n",
       "50%         ...             4.000000      2.000000      2.000000   \n",
       "75%         ...             4.000000      4.000000      3.000000   \n",
       "max         ...             5.000000      5.000000      5.000000   \n",
       "\n",
       "                Q18           Q19           Q20         score        gender  \\\n",
       "count  11772.000000  11772.000000  11772.000000  11772.000000  11772.000000   \n",
       "mean       3.479613      4.101682      2.513337     65.840639      1.349049   \n",
       "std        1.148631      1.137004      1.327864     12.762680      0.491778   \n",
       "min        0.000000      0.000000      0.000000     20.000000      0.000000   \n",
       "25%        3.000000      4.000000      1.000000     57.000000      1.000000   \n",
       "50%        4.000000      4.000000      2.000000     66.000000      1.000000   \n",
       "75%        4.000000      5.000000      4.000000     75.000000      2.000000   \n",
       "max        5.000000      5.000000      5.000000    100.000000      3.000000   \n",
       "\n",
       "                age  seconds_elapsed  \n",
       "count  11772.000000     11772.000000  \n",
       "mean      29.240061       214.351937  \n",
       "std       11.047367       102.514651  \n",
       "min       15.000000         2.000000  \n",
       "25%       21.000000       143.000000  \n",
       "50%       26.000000       186.000000  \n",
       "75%       36.000000       256.000000  \n",
       "max       64.000000       599.000000  \n",
       "\n",
       "[8 rows x 24 columns]"
      ]
     },
     "execution_count": 37,
     "metadata": {},
     "output_type": "execute_result"
    }
   ],
   "source": [
    "agelimits.describe()"
   ]
  },
  {
   "cell_type": "markdown",
   "metadata": {},
   "source": [
    "# Convert from \"wide to long\""
   ]
  },
  {
   "cell_type": "code",
   "execution_count": 60,
   "metadata": {
    "collapsed": false
   },
   "outputs": [
    {
     "name": "stdout",
     "output_type": "stream",
     "text": [
      "(13156,) (13156, 25)\n"
     ]
    }
   ],
   "source": [
    "subject_ids = np.arange(1, mach.shape[0]+1)\n",
    "print subject_ids.shape, mach.shape"
   ]
  },
  {
   "cell_type": "code",
   "execution_count": 61,
   "metadata": {
    "collapsed": true
   },
   "outputs": [],
   "source": [
    "mach['subject_ids'] = subject_ids"
   ]
  },
  {
   "cell_type": "code",
   "execution_count": 62,
   "metadata": {
    "collapsed": false
   },
   "outputs": [
    {
     "data": {
      "text/plain": [
       "['Q1',\n",
       " 'Q2',\n",
       " 'Q3',\n",
       " 'Q4',\n",
       " 'Q5',\n",
       " 'Q6',\n",
       " 'Q7',\n",
       " 'Q8',\n",
       " 'Q9',\n",
       " 'Q10',\n",
       " 'Q11',\n",
       " 'Q12',\n",
       " 'Q13',\n",
       " 'Q14',\n",
       " 'Q15',\n",
       " 'Q16',\n",
       " 'Q17',\n",
       " 'Q18',\n",
       " 'Q19',\n",
       " 'Q20']"
      ]
     },
     "execution_count": 62,
     "metadata": {},
     "output_type": "execute_result"
    }
   ],
   "source": [
    "qlist =[]\n",
    "for x in range(20):\n",
    "    q = \"Q\" + str(x+1)\n",
    "    qlist.append(q)\n",
    "    \n",
    "qlist"
   ]
  },
  {
   "cell_type": "code",
   "execution_count": 63,
   "metadata": {
    "collapsed": true
   },
   "outputs": [],
   "source": [
    "mach_long = pd.melt(mach,\n",
    "                   id_vars =['subject_ids','age','gender'],\n",
    "                   value_vars=qlist,\n",
    "                   value_name='value')"
   ]
  },
  {
   "cell_type": "code",
   "execution_count": 70,
   "metadata": {
    "collapsed": false
   },
   "outputs": [
    {
     "data": {
      "text/html": [
       "<div>\n",
       "<table border=\"1\" class=\"dataframe\">\n",
       "  <thead>\n",
       "    <tr style=\"text-align: right;\">\n",
       "      <th></th>\n",
       "      <th>subject_ids</th>\n",
       "      <th>age</th>\n",
       "      <th>gender</th>\n",
       "      <th>variable</th>\n",
       "      <th>value</th>\n",
       "    </tr>\n",
       "  </thead>\n",
       "  <tbody>\n",
       "    <tr>\n",
       "      <th>263117</th>\n",
       "      <td>13154</td>\n",
       "      <td>20</td>\n",
       "      <td>male</td>\n",
       "      <td>Q20</td>\n",
       "      <td>4</td>\n",
       "    </tr>\n",
       "    <tr>\n",
       "      <th>263118</th>\n",
       "      <td>13155</td>\n",
       "      <td>27</td>\n",
       "      <td>male</td>\n",
       "      <td>Q20</td>\n",
       "      <td>1</td>\n",
       "    </tr>\n",
       "    <tr>\n",
       "      <th>263119</th>\n",
       "      <td>13156</td>\n",
       "      <td>47</td>\n",
       "      <td>female</td>\n",
       "      <td>Q20</td>\n",
       "      <td>2</td>\n",
       "    </tr>\n",
       "  </tbody>\n",
       "</table>\n",
       "</div>"
      ],
      "text/plain": [
       "        subject_ids  age  gender variable  value\n",
       "263117        13154   20    male      Q20      4\n",
       "263118        13155   27    male      Q20      1\n",
       "263119        13156   47  female      Q20      2"
      ]
     },
     "execution_count": 70,
     "metadata": {},
     "output_type": "execute_result"
    }
   ],
   "source": [
    "mach_long.head(3)\n",
    "mach_long.tail(3)"
   ]
  },
  {
   "cell_type": "code",
   "execution_count": 65,
   "metadata": {
    "collapsed": true
   },
   "outputs": [],
   "source": [
    "def gender_conv(gen):\n",
    "    if gen == 1:\n",
    "        return 'male'\n",
    "    elif gen == 2:\n",
    "        return 'female'\n",
    "    elif gen == 3:\n",
    "        return 'other'"
   ]
  },
  {
   "cell_type": "code",
   "execution_count": 66,
   "metadata": {
    "collapsed": false
   },
   "outputs": [],
   "source": [
    "mach_long.gender = mach_long.gender.map(gender_conv)"
   ]
  },
  {
   "cell_type": "code",
   "execution_count": 67,
   "metadata": {
    "collapsed": false
   },
   "outputs": [
    {
     "data": {
      "text/plain": [
       "(263120, 5)"
      ]
     },
     "execution_count": 67,
     "metadata": {},
     "output_type": "execute_result"
    }
   ],
   "source": [
    "mach_long.head()\n",
    "mach_long.shape"
   ]
  },
  {
   "cell_type": "code",
   "execution_count": 68,
   "metadata": {
    "collapsed": false
   },
   "outputs": [
    {
     "data": {
      "text/html": [
       "<div>\n",
       "<table border=\"1\" class=\"dataframe\">\n",
       "  <thead>\n",
       "    <tr style=\"text-align: right;\">\n",
       "      <th></th>\n",
       "      <th>subject_ids</th>\n",
       "      <th>age</th>\n",
       "      <th>gender</th>\n",
       "      <th>variable</th>\n",
       "      <th>value</th>\n",
       "    </tr>\n",
       "  </thead>\n",
       "  <tbody>\n",
       "    <tr>\n",
       "      <th>0</th>\n",
       "      <td>1</td>\n",
       "      <td>24</td>\n",
       "      <td>male</td>\n",
       "      <td>Q1</td>\n",
       "      <td>4</td>\n",
       "    </tr>\n",
       "    <tr>\n",
       "      <th>1</th>\n",
       "      <td>2</td>\n",
       "      <td>33</td>\n",
       "      <td>female</td>\n",
       "      <td>Q1</td>\n",
       "      <td>2</td>\n",
       "    </tr>\n",
       "    <tr>\n",
       "      <th>2</th>\n",
       "      <td>3</td>\n",
       "      <td>21</td>\n",
       "      <td>female</td>\n",
       "      <td>Q1</td>\n",
       "      <td>4</td>\n",
       "    </tr>\n",
       "    <tr>\n",
       "      <th>3</th>\n",
       "      <td>4</td>\n",
       "      <td>21</td>\n",
       "      <td>male</td>\n",
       "      <td>Q1</td>\n",
       "      <td>3</td>\n",
       "    </tr>\n",
       "    <tr>\n",
       "      <th>4</th>\n",
       "      <td>5</td>\n",
       "      <td>17</td>\n",
       "      <td>male</td>\n",
       "      <td>Q1</td>\n",
       "      <td>4</td>\n",
       "    </tr>\n",
       "  </tbody>\n",
       "</table>\n",
       "</div>"
      ],
      "text/plain": [
       "   subject_ids  age  gender variable  value\n",
       "0            1   24    male       Q1      4\n",
       "1            2   33  female       Q1      2\n",
       "2            3   21  female       Q1      4\n",
       "3            4   21    male       Q1      3\n",
       "4            5   17    male       Q1      4"
      ]
     },
     "execution_count": 68,
     "metadata": {},
     "output_type": "execute_result"
    }
   ],
   "source": [
    "unresponded = mach_long[mach_long.value != 0]\n",
    "unresponded.head()"
   ]
  },
  {
   "cell_type": "code",
   "execution_count": 69,
   "metadata": {
    "collapsed": false
   },
   "outputs": [
    {
     "data": {
      "text/plain": [
       "(262078, 5)"
      ]
     },
     "execution_count": 69,
     "metadata": {},
     "output_type": "execute_result"
    }
   ],
   "source": [
    "unresponded.shape"
   ]
  },
  {
   "cell_type": "code",
   "execution_count": null,
   "metadata": {
    "collapsed": true
   },
   "outputs": [],
   "source": []
  }
 ],
 "metadata": {
  "kernelspec": {
   "display_name": "Python 2",
   "language": "python",
   "name": "python2"
  },
  "language_info": {
   "codemirror_mode": {
    "name": "ipython",
    "version": 2
   },
   "file_extension": ".py",
   "mimetype": "text/x-python",
   "name": "python",
   "nbconvert_exporter": "python",
   "pygments_lexer": "ipython2",
   "version": "2.7.11"
  }
 },
 "nbformat": 4,
 "nbformat_minor": 0
}
