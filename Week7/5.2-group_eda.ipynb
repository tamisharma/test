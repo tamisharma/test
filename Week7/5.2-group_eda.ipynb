{
 "cells": [
  {
   "cell_type": "markdown",
   "metadata": {},
   "source": [
    "\n",
    "\n",
    "<img src=\"https://i.imgflip.com/14vp9i.jpg\" width=\"400\" style=\"float: right; margin: 50px\">\n",
    "\n",
    "# GROUP EDA\n",
    "\n",
    "Today we will be splitting into 4 groups and presenting our findings the last hour of class.\n",
    "\n",
    "The goals for todays activity include:\n",
    "\n",
    "- Defining a problem statement as a group\n",
    "- Exloring datasets and practicing exploratory analysis \n",
    "- Good use of validation\n",
    "- Communicating results succinctly\n",
    "\n",
    "You might consider preparing a brief slide deck, but it's not necessary.  We created [these great guidelines](https://github.com/ga-students/DSI-SF-1/wiki/Presentation-Guidelines) to help.\n",
    "\n",
    "## Deliverables\n",
    "\n",
    "- 10 Minute presentation, 5 minutes question and answer\n",
    "- Validation of results\n",
    "\n",
    "### Optional Feedback\n",
    "\n",
    "After presentations, please give feedback to each other.\n",
    "\n",
    "- Peer feedback:  [Use this form](http://goo.gl/forms/ybRIcrwYrVVV4hhR2).  All responses are shared.  Be nice ;)\n",
    "\n",
    "### Suggestions\n",
    "- Appoint someone to present / organize\n",
    "- Look at summary statistics, explore data\n",
    "- Refine problem statement\n",
    "- Divide and conquer your workload\n",
    "- Don't fight - you will be held accountable for presenting _something_.\n",
    "- You will present\n"
   ]
  },
  {
   "cell_type": "markdown",
   "metadata": {},
   "source": [
    "## Group 1:  WOW\n",
    "\n",
    "<img src=\"https://snag.gy/tZXe0N.jpg\" width=\"500\">\n"
   ]
  },
  {
   "cell_type": "markdown",
   "metadata": {},
   "source": [
    "Using [this dataset](https://www.kaggle.com/mylesoneill/warcraft-avatar-history/downloads/warcraft-avatar-history.zip), we would like you to figure out if the following is possible:\n",
    " \n",
    "1. Predict when a user has \"churned\" or will churn.  We want to know about churn!  What is this about, you will have to research this idea if it is unfamilliar to you.  We want that \\$\\$\\$\\$ so help us deal with churn!<br><br>\n",
    "\n",
    "1. Also, we want to know more about zones and player classes.  We have a hunch something good is happening there.<br><br>\n",
    "\n",
    "1. Is there anything else we can do to optimize gameplay?<br><br>\n",
    "\n",
    "1. We're thinking about making yet another expansion.  Are there any themes we might consider based on player behavior *ie: which features are important to consider about current player preferences to ______*?\n",
    "\n",
    "** Projected Challenges **\n",
    "- Research\n",
    "- Problem statement expected to be much more defined\n",
    "- There are a lot of areas to explore and focus may be difficult without a plan"
   ]
  },
  {
   "cell_type": "code",
   "execution_count": null,
   "metadata": {
    "collapsed": true
   },
   "outputs": [],
   "source": []
  },
  {
   "cell_type": "markdown",
   "metadata": {},
   "source": [
    "## Group 2: GOT\n",
    "\n",
    "<img src=\"https://snag.gy/8uoD9y.jpg\" width=\"500\">\n",
    "\n",
    "Using [this dataset](./assets/datasets/character-predictions.csv), we would like to know which factors are most important predictors of mortality within our population.  From what we know, this dataset was scraped from [this website](http://awoiaf.westeros.org/index.php/Main_Page) and may provide pointers on the definition of the dataset.\n",
    "\n",
    "**Projected Challeneges**\n",
    "- Some munging\n",
    "- Regression and classification type problems possible\n",
    "- Data is not as cut and dry as it seems"
   ]
  },
  {
   "cell_type": "code",
   "execution_count": null,
   "metadata": {
    "collapsed": true
   },
   "outputs": [],
   "source": []
  },
  {
   "cell_type": "markdown",
   "metadata": {},
   "source": [
    "## Group 3:  Last Words\n",
    "\n",
    "<img src=\"https://snag.gy/MElcUY.jpg\" width=\"200\">\n",
    "\n",
    "Using [this dataset](https://docs.google.com/spreadsheet/ccc?key=0ArNsipRBvi69dEUxZHVuRTc4ZlctREdldExsOW5rMUE#gid=0), we would like you to approach this as a study that might inform policy in how law is applied.  The first step in this process, let's assume, is a high level report that illustrates any commonalities and patterns found in this dataset\n",
    ":\n",
    "\n",
    "- Common patterns found in last words of inmates\n",
    "- Commonality of words to other features in dataset\n",
    "- Of lessor importance, how hard would it be to classify religious inclinations\n",
    "- Sentiment as a feature or frequency (ie: Check out textblob - pip install textblob)\n",
    " - Can this be stratified to other features\n",
    " - Which words seem to be common in these cases\n",
    "\n",
    "** Bonus **\n",
    "Do any POS patterns look interesting?\n",
    "\n",
    "**Projected Challenges**\n",
    " - Problem statement may be challenging but you will need to come up with one\n",
    " - This project is a bit more defined but there are vague problems involved\n",
    " - There are a lot of vague asks\n",
    " - Heavily NLP based problem"
   ]
  },
  {
   "cell_type": "code",
   "execution_count": null,
   "metadata": {
    "collapsed": true
   },
   "outputs": [],
   "source": []
  },
  {
   "cell_type": "markdown",
   "metadata": {},
   "source": [
    "## Group 4: Indeed, you need a job\n",
    "\n",
    "<img src=\"https://lh5.googleusercontent.com/CJwGV91wfvsEsDqCBjsg2ahGKAoP2_Wwd3JXXBb8yWPlIT676LlBnsIfG2bFUtOxgLb0ba5WJKfzMiVdT9ncQhSmscdcxPZDnWfV6Qkb0LhR_6Natug72_MsYTLDJS34vg\" width=\"500\">\n",
    "\n",
    "You need a job.  There are lots of jobs with the title \"Data Scientist\".  There are other jobs as well that have the same skillset.  Recently we [scraped together a dataset](assets/datasets/indeed.csv), that is not super clean but will work.\n",
    "\n",
    "Which jobs aren't labeled like \"data science\" jobs, but have a lot of the same features found in \"data scientist\" jobs?\n",
    "\n",
    " - Who is hiring the most? (this may be difficult without updating our scraper and getting more data, but we'll say this is optional)\n",
    " - Which skills seem more important to big / medium / small companies or less well known?\n",
    " - Which keywords are commmon?\n",
    " - Which are rare?\n",
    "\n",
    "**Projected Challenges**\n",
    "- Labeled data is based on search terms and results may overlap quite a bit\n",
    " - Some cleaning\n",
    "- Great opportunity to practice NLP\n",
    "- DO NGRAM ANALYSIS OR ELSE!\n",
    "\n",
    "PLEASE share your notebooks with the rest of class.  This type of analysis will give you an edge in the job market and lead you to other areas to explore / mine / predict."
   ]
  },
  {
   "cell_type": "code",
   "execution_count": 63,
   "metadata": {
    "collapsed": false
   },
   "outputs": [],
   "source": [
    "import pandas as pd\n",
    "import numpy as np\n",
    "import matplotlib.pyplot as plt\n",
    "import seaborn as sns\n",
    "import spacy\n",
    "import textblob\n",
    "import nltk\n",
    "from sklearn.feature_extraction.text import CountVectorizer, TfidfVectorizer\n",
    "import seaborn as sns\n",
    "\n",
    "%matplotlib inline"
   ]
  },
  {
   "cell_type": "code",
   "execution_count": 10,
   "metadata": {
    "collapsed": false
   },
   "outputs": [],
   "source": [
    "indeed = pd.read_csv('../Week7/5.2-group_eda/indeed.csv')"
   ]
  },
  {
   "cell_type": "code",
   "execution_count": 11,
   "metadata": {
    "collapsed": false
   },
   "outputs": [
    {
     "data": {
      "text/html": [
       "<div>\n",
       "<table border=\"1\" class=\"dataframe\">\n",
       "  <thead>\n",
       "    <tr style=\"text-align: right;\">\n",
       "      <th></th>\n",
       "      <th>reviews</th>\n",
       "      <th>search_term</th>\n",
       "      <th>title</th>\n",
       "      <th>location</th>\n",
       "      <th>summary</th>\n",
       "    </tr>\n",
       "  </thead>\n",
       "  <tbody>\n",
       "    <tr>\n",
       "      <th>0</th>\n",
       "      <td>18 reviews</td>\n",
       "      <td>business intelligence</td>\n",
       "      <td>Data Warehouse Development Senior Manager</td>\n",
       "      <td>Mountain View, CA</td>\n",
       "      <td>Proficiency fostering internal and external bu...</td>\n",
       "    </tr>\n",
       "    <tr>\n",
       "      <th>1</th>\n",
       "      <td>1,486 reviews</td>\n",
       "      <td>business intelligence</td>\n",
       "      <td>Manager, Healthcare Business Intelligence</td>\n",
       "      <td>San Francisco, CA</td>\n",
       "      <td>Experience working with BI tools such as such ...</td>\n",
       "    </tr>\n",
       "    <tr>\n",
       "      <th>2</th>\n",
       "      <td>14 reviews</td>\n",
       "      <td>business intelligence</td>\n",
       "      <td>Business Intelligence Developer</td>\n",
       "      <td>Mountain View, CA</td>\n",
       "      <td>Work with BI Administrator and Architect to le...</td>\n",
       "    </tr>\n",
       "    <tr>\n",
       "      <th>3</th>\n",
       "      <td>90 reviews</td>\n",
       "      <td>business intelligence</td>\n",
       "      <td>Business Intelligence Analyst</td>\n",
       "      <td>NaN</td>\n",
       "      <td>\\nOur business is growing and we always lookin...</td>\n",
       "    </tr>\n",
       "    <tr>\n",
       "      <th>4</th>\n",
       "      <td>11 reviews</td>\n",
       "      <td>business intelligence</td>\n",
       "      <td>Sr Business Intelligence Analyst</td>\n",
       "      <td>NaN</td>\n",
       "      <td>\\nWe have a great opportunity available for a ...</td>\n",
       "    </tr>\n",
       "  </tbody>\n",
       "</table>\n",
       "</div>"
      ],
      "text/plain": [
       "         reviews            search_term  \\\n",
       "0     18 reviews  business intelligence   \n",
       "1  1,486 reviews  business intelligence   \n",
       "2     14 reviews  business intelligence   \n",
       "3     90 reviews  business intelligence   \n",
       "4     11 reviews  business intelligence   \n",
       "\n",
       "                                       title           location  \\\n",
       "0  Data Warehouse Development Senior Manager  Mountain View, CA   \n",
       "1  Manager, Healthcare Business Intelligence  San Francisco, CA   \n",
       "2            Business Intelligence Developer  Mountain View, CA   \n",
       "3              Business Intelligence Analyst                NaN   \n",
       "4           Sr Business Intelligence Analyst                NaN   \n",
       "\n",
       "                                             summary  \n",
       "0  Proficiency fostering internal and external bu...  \n",
       "1  Experience working with BI tools such as such ...  \n",
       "2  Work with BI Administrator and Architect to le...  \n",
       "3  \\nOur business is growing and we always lookin...  \n",
       "4  \\nWe have a great opportunity available for a ...  "
      ]
     },
     "execution_count": 11,
     "metadata": {},
     "output_type": "execute_result"
    }
   ],
   "source": [
    "indeed.head()"
   ]
  },
  {
   "cell_type": "code",
   "execution_count": 12,
   "metadata": {
    "collapsed": false
   },
   "outputs": [],
   "source": [
    "subset = ['search_term', 'summary', 'title']\n",
    "indeed = indeed[subset]"
   ]
  },
  {
   "cell_type": "code",
   "execution_count": 13,
   "metadata": {
    "collapsed": false
   },
   "outputs": [
    {
     "data": {
      "text/plain": [
       "software engineer        1497\n",
       "analytics                1497\n",
       "Data Engineer            1494\n",
       "Data Analyst             1484\n",
       "Data Scientist           1379\n",
       "business intelligence    1360\n",
       "search_term                 5\n",
       "Name: search_term, dtype: int64"
      ]
     },
     "execution_count": 13,
     "metadata": {},
     "output_type": "execute_result"
    }
   ],
   "source": [
    "indeed.search_term.value_counts()"
   ]
  },
  {
   "cell_type": "code",
   "execution_count": 14,
   "metadata": {
    "collapsed": true
   },
   "outputs": [
    {
     "data": {
      "text/plain": [
       "Data Scientist                                            404\n",
       "Software Engineer                                         262\n",
       "Data Engineer                                             157\n",
       "Entry Level Data and Operations Analyst                   138\n",
       "Data Analyst                                              125\n",
       "Segmentation Analyst - Marketing Analytics                111\n",
       "Senior Business Data Analyst                              107\n",
       "IT Data and Reporting Analyst                             103\n",
       "AVP, Sr. Management of Quantitative Analytics             101\n",
       "Business Analyst                                           89\n",
       "Senior Data Scientist                                      82\n",
       "Senior Software Engineer                                   63\n",
       "Data Warehouse Development Senior Manager                  40\n",
       "Product Data Analyst                                       36\n",
       "Full Stack Engineer                                        36\n",
       "Senior Data Engineer                                       35\n",
       "Research Analyst                                           33\n",
       "Business Intelligence Analyst                              32\n",
       "Software Engineer - Analytics                              30\n",
       "Business Intelligence Manager                              30\n",
       "Big Data Engineer/ Senior Data Engineer                    28\n",
       "DevOps Engineer                                            26\n",
       "Software Engineer, Data and Algorithms                     24\n",
       "Full Stack Software Engineer                               22\n",
       "Sr. Software Engineer                                      21\n",
       "Backend Software Engineer                                  20\n",
       "Quantitative Analyst                                       20\n",
       "Manager, Healthcare Business Intelligence                  20\n",
       "Big Data Engineer                                          20\n",
       "Machine Learning Engineer                                  17\n",
       "                                                         ... \n",
       "Tech Lead, Compute and Data Processing (RecordService)      1\n",
       "Senior Analytics - Data Engineer (FTE Consultant)           1\n",
       "Software Engineer, File Server                              1\n",
       "Senior Manager, Sales Reporting and Analytics               1\n",
       "Director, Statistical Programming                           1\n",
       "Product Manager - Global Expansion - Uber For Business      1\n",
       "Principal Business Intelligence Analyst                     1\n",
       "Software Dev Engineer II (Mobile API Team)                  1\n",
       "Data Engineer - Kafka, Spark, ,Scala, Java                  1\n",
       "Software Engineer (Video)                                   1\n",
       "Staff Embedded Software Engineer                            1\n",
       "Associate Workday Systems Analyst                           1\n",
       "Data Scientist (Python, Recommendation)                     1\n",
       "Firmware Engineer - New Grad                                1\n",
       "Bill Management Analyst - San Francisco                     1\n",
       "Digital Advertising Strategist                              1\n",
       "IS Business Analyst-Senior (Functional)                     1\n",
       "Data Analyst/ Excel Developer                               1\n",
       "Executive Assistant 1                                       1\n",
       "Clinical Informatician                                      1\n",
       "Client Based Marketing Lead                                 1\n",
       "Staff MarketShare                                           1\n",
       "Marketing Assistant (Contract to Hire)                      1\n",
       "Business Analyst, Healthcare Claims                         1\n",
       "Sr Android Engineer                                         1\n",
       "Public Relations Manager                                    1\n",
       "Full Stack Engineer - Activity and Notes                    1\n",
       "Corporate Counsel                                           1\n",
       "BI Engineer                                                 1\n",
       "Sr. Software Engineer in BI                                 1\n",
       "Name: title, dtype: int64"
      ]
     },
     "execution_count": 14,
     "metadata": {},
     "output_type": "execute_result"
    }
   ],
   "source": [
    "indeed['title'].value_counts()"
   ]
  },
  {
   "cell_type": "code",
   "execution_count": 37,
   "metadata": {
    "collapsed": true
   },
   "outputs": [],
   "source": [
    "from sklearn.pipeline import Pipeline\n",
    "from collections import Counter\n",
    "from sklearn.feature_extraction.text import TfidfVectorizer, CountVectorizer"
   ]
  },
  {
   "cell_type": "code",
   "execution_count": 80,
   "metadata": {
    "collapsed": true
   },
   "outputs": [],
   "source": [
    "indeed_ds = indeed[indeed['title'] == 'Data Scientist']\n",
    "indeed_not_ds = indeed[indeed['title'] != 'Data Scientist']"
   ]
  },
  {
   "cell_type": "code",
   "execution_count": 81,
   "metadata": {
    "collapsed": false
   },
   "outputs": [],
   "source": [
    "tfidf = TfidfVectorizer(ngram_range= (2,4) , stop_words='english')\n",
    "cvt = CountVectorizer(ngram_range= (2,4) , stop_words='english')"
   ]
  },
  {
   "cell_type": "code",
   "execution_count": 82,
   "metadata": {
    "collapsed": false
   },
   "outputs": [],
   "source": [
    "# All of the respective Corpus\n",
    "\n",
    "summary_indeed = \"\".join(indeed.summary)\n",
    "summary_indeed_ds = \"\".join(indeed_ds.summary)\n",
    "summary_indeed_n_ds = \"\".join(indded_not_ds.summary)"
   ]
  },
  {
   "cell_type": "code",
   "execution_count": 83,
   "metadata": {
    "collapsed": false
   },
   "outputs": [
    {
     "data": {
      "text/plain": [
       "<8716x164999 sparse matrix of type '<type 'numpy.float64'>'\n",
       "\twith 317914 stored elements in Compressed Sparse Row format>"
      ]
     },
     "execution_count": 83,
     "metadata": {},
     "output_type": "execute_result"
    }
   ],
   "source": [
    "tfidf.fit_transform(indeed['summary'])"
   ]
  },
  {
   "cell_type": "code",
   "execution_count": 84,
   "metadata": {
    "collapsed": false,
    "scrolled": true
   },
   "outputs": [],
   "source": [
    "in_ngrams = tfidf.build_analyzer()(summary_indeed)\n",
    "in_ = Counter(in_ngrams).most_common(75)\n",
    "\n",
    "in_ngrams = tfidf.build_analyzer()(summary_indeed_ds)\n",
    "in_ds = Counter(in_ngrams).most_common(75)\n",
    "\n",
    "in_ngrams = tfidf.build_analyzer()(summary_indeed_n_ds)\n",
    "in_n_ds = Counter(in_ngrams).most_common(75)"
   ]
  },
  {
   "cell_type": "code",
   "execution_count": 85,
   "metadata": {
    "collapsed": false
   },
   "outputs": [],
   "source": [
    "in_ = pd.DataFrame(in_, columns=['ngram', 'Counts'])\n",
    "in_ds = pd.DataFrame(in_ds, columns=['ngram', 'DS Counts'])\n",
    "in_n_ds = pd.DataFrame(in_n_ds, columns=['ngram', 'NDS Counts'])"
   ]
  },
  {
   "cell_type": "code",
   "execution_count": 86,
   "metadata": {
    "collapsed": false
   },
   "outputs": [
    {
     "data": {
      "text/html": [
       "<div>\n",
       "<table border=\"1\" class=\"dataframe\">\n",
       "  <thead>\n",
       "    <tr style=\"text-align: right;\">\n",
       "      <th></th>\n",
       "      <th>ngram</th>\n",
       "      <th>DS Counts</th>\n",
       "    </tr>\n",
       "  </thead>\n",
       "  <tbody>\n",
       "    <tr>\n",
       "      <th>0</th>\n",
       "      <td>data scientist</td>\n",
       "      <td>145</td>\n",
       "    </tr>\n",
       "    <tr>\n",
       "      <th>1</th>\n",
       "      <td>machine learning</td>\n",
       "      <td>116</td>\n",
       "    </tr>\n",
       "    <tr>\n",
       "      <th>2</th>\n",
       "      <td>data mining</td>\n",
       "      <td>73</td>\n",
       "    </tr>\n",
       "    <tr>\n",
       "      <th>3</th>\n",
       "      <td>data scientists</td>\n",
       "      <td>55</td>\n",
       "    </tr>\n",
       "    <tr>\n",
       "      <th>4</th>\n",
       "      <td>using data</td>\n",
       "      <td>54</td>\n",
       "    </tr>\n",
       "  </tbody>\n",
       "</table>\n",
       "</div>"
      ],
      "text/plain": [
       "              ngram  DS Counts\n",
       "0    data scientist        145\n",
       "1  machine learning        116\n",
       "2       data mining         73\n",
       "3   data scientists         55\n",
       "4        using data         54"
      ]
     },
     "execution_count": 86,
     "metadata": {},
     "output_type": "execute_result"
    }
   ],
   "source": [
    "in_ds.head()"
   ]
  },
  {
   "cell_type": "code",
   "execution_count": 87,
   "metadata": {
    "collapsed": false
   },
   "outputs": [],
   "source": [
    "in_total = pd.merge(in_, in_ds, how='left', on='ngram')"
   ]
  },
  {
   "cell_type": "code",
   "execution_count": null,
   "metadata": {
    "collapsed": true
   },
   "outputs": [],
   "source": []
  },
  {
   "cell_type": "code",
   "execution_count": 88,
   "metadata": {
    "collapsed": false
   },
   "outputs": [],
   "source": [
    "in_total = pd.merge(in_total, in_n_ds, how='left', on='ngram')"
   ]
  },
  {
   "cell_type": "code",
   "execution_count": 89,
   "metadata": {
    "collapsed": false
   },
   "outputs": [
    {
     "data": {
      "text/html": [
       "<div>\n",
       "<table border=\"1\" class=\"dataframe\">\n",
       "  <thead>\n",
       "    <tr style=\"text-align: right;\">\n",
       "      <th></th>\n",
       "      <th>ngram</th>\n",
       "      <th>Counts</th>\n",
       "      <th>DS Counts</th>\n",
       "      <th>NDS Counts</th>\n",
       "    </tr>\n",
       "  </thead>\n",
       "  <tbody>\n",
       "    <tr>\n",
       "      <th>0</th>\n",
       "      <td>business intelligence</td>\n",
       "      <td>1074</td>\n",
       "      <td>NaN</td>\n",
       "      <td>1074.0</td>\n",
       "    </tr>\n",
       "    <tr>\n",
       "      <th>1</th>\n",
       "      <td>software engineer</td>\n",
       "      <td>676</td>\n",
       "      <td>NaN</td>\n",
       "      <td>676.0</td>\n",
       "    </tr>\n",
       "    <tr>\n",
       "      <th>2</th>\n",
       "      <td>big data</td>\n",
       "      <td>476</td>\n",
       "      <td>31.0</td>\n",
       "      <td>447.0</td>\n",
       "    </tr>\n",
       "    <tr>\n",
       "      <th>3</th>\n",
       "      <td>machine learning</td>\n",
       "      <td>447</td>\n",
       "      <td>116.0</td>\n",
       "      <td>331.0</td>\n",
       "    </tr>\n",
       "    <tr>\n",
       "      <th>4</th>\n",
       "      <td>san francisco</td>\n",
       "      <td>440</td>\n",
       "      <td>NaN</td>\n",
       "      <td>434.0</td>\n",
       "    </tr>\n",
       "  </tbody>\n",
       "</table>\n",
       "</div>"
      ],
      "text/plain": [
       "                   ngram  Counts  DS Counts  NDS Counts\n",
       "0  business intelligence    1074        NaN      1074.0\n",
       "1      software engineer     676        NaN       676.0\n",
       "2               big data     476       31.0       447.0\n",
       "3       machine learning     447      116.0       331.0\n",
       "4          san francisco     440        NaN       434.0"
      ]
     },
     "execution_count": 89,
     "metadata": {},
     "output_type": "execute_result"
    }
   ],
   "source": [
    "in_total.head()"
   ]
  },
  {
   "cell_type": "code",
   "execution_count": 90,
   "metadata": {
    "collapsed": true
   },
   "outputs": [],
   "source": [
    "in_total.fillna(value=0, inplace=True)"
   ]
  },
  {
   "cell_type": "code",
   "execution_count": 94,
   "metadata": {
    "collapsed": false
   },
   "outputs": [
    {
     "data": {
      "text/html": [
       "<div>\n",
       "<table border=\"1\" class=\"dataframe\">\n",
       "  <thead>\n",
       "    <tr style=\"text-align: right;\">\n",
       "      <th></th>\n",
       "      <th>Counts</th>\n",
       "      <th>DS Counts</th>\n",
       "      <th>NDS Counts</th>\n",
       "    </tr>\n",
       "  </thead>\n",
       "  <tbody>\n",
       "    <tr>\n",
       "      <th>count</th>\n",
       "      <td>75.000000</td>\n",
       "      <td>75.000000</td>\n",
       "      <td>75.000000</td>\n",
       "    </tr>\n",
       "    <tr>\n",
       "      <th>mean</th>\n",
       "      <td>184.133333</td>\n",
       "      <td>7.573333</td>\n",
       "      <td>171.360000</td>\n",
       "    </tr>\n",
       "    <tr>\n",
       "      <th>std</th>\n",
       "      <td>148.546410</td>\n",
       "      <td>24.680211</td>\n",
       "      <td>147.748018</td>\n",
       "    </tr>\n",
       "    <tr>\n",
       "      <th>min</th>\n",
       "      <td>106.000000</td>\n",
       "      <td>0.000000</td>\n",
       "      <td>0.000000</td>\n",
       "    </tr>\n",
       "    <tr>\n",
       "      <th>25%</th>\n",
       "      <td>111.000000</td>\n",
       "      <td>0.000000</td>\n",
       "      <td>111.000000</td>\n",
       "    </tr>\n",
       "    <tr>\n",
       "      <th>50%</th>\n",
       "      <td>124.000000</td>\n",
       "      <td>0.000000</td>\n",
       "      <td>119.000000</td>\n",
       "    </tr>\n",
       "    <tr>\n",
       "      <th>75%</th>\n",
       "      <td>188.000000</td>\n",
       "      <td>0.000000</td>\n",
       "      <td>186.500000</td>\n",
       "    </tr>\n",
       "    <tr>\n",
       "      <th>max</th>\n",
       "      <td>1074.000000</td>\n",
       "      <td>145.000000</td>\n",
       "      <td>1074.000000</td>\n",
       "    </tr>\n",
       "  </tbody>\n",
       "</table>\n",
       "</div>"
      ],
      "text/plain": [
       "            Counts   DS Counts   NDS Counts\n",
       "count    75.000000   75.000000    75.000000\n",
       "mean    184.133333    7.573333   171.360000\n",
       "std     148.546410   24.680211   147.748018\n",
       "min     106.000000    0.000000     0.000000\n",
       "25%     111.000000    0.000000   111.000000\n",
       "50%     124.000000    0.000000   119.000000\n",
       "75%     188.000000    0.000000   186.500000\n",
       "max    1074.000000  145.000000  1074.000000"
      ]
     },
     "execution_count": 94,
     "metadata": {},
     "output_type": "execute_result"
    }
   ],
   "source": [
    "in_total.describe()"
   ]
  },
  {
   "cell_type": "code",
   "execution_count": 108,
   "metadata": {
    "collapsed": false
   },
   "outputs": [
    {
     "data": {
      "text/plain": [
       "<matplotlib.figure.Figure at 0x12cae2c50>"
      ]
     },
     "metadata": {},
     "output_type": "display_data"
    },
    {
     "data": {
      "image/png": "[encoded data removed]",
      "text/plain": [
       "<matplotlib.figure.Figure at 0x12a900d10>"
      ]
     },
     "metadata": {},
     "output_type": "display_data"
    }
   ],
   "source": [
    "plt.figure(figsize=(10,25))\n",
    "sns.set(style=\"whitegrid\")\n",
    "\n",
    "# Make the PairGrid\n",
    "g = sns.PairGrid(in_total, x_vars=[\"Counts\", \"DS Counts\", \"NDS Counts\"],\n",
    "                 y_vars=[\"ngram\"],size=10, aspect=.25)\n",
    "\n",
    "# Draw DotPlot using stripplot\n",
    "g.map(sns.stripplot, size = 10, orient = \"h\", palette=\"Reds_r\", edgecolor=\"gray\")\n",
    "\n",
    "g.set(xlim=(0, 1075), xlabel=\"Counts\", ylabel=\"\")\n",
    "titles = [\"Counts\", \"Data Science Counts\", \"Not Data Science Counts\"]\n",
    "\n",
    "for ax, title in zip(g.axes.flat, titles):\n",
    "# Set a different title for each axes\n",
    "    ax.set(title=title)\n",
    "\n",
    "# Make the grid horizontal instead of vertical\n",
    "    ax.xaxis.grid(False)\n",
    "    ax.yaxis.grid(True)\n",
    "\n",
    "sns.despine(left=True, bottom=True)"
   ]
  },
  {
   "cell_type": "code",
   "execution_count": null,
   "metadata": {
    "collapsed": true
   },
   "outputs": [],
   "source": []
  }
 ],
 "metadata": {
  "kernelspec": {
   "display_name": "Python 2",
   "language": "python",
   "name": "python2"
  },
  "language_info": {
   "codemirror_mode": {
    "name": "ipython",
    "version": 2
   },
   "file_extension": ".py",
   "mimetype": "text/x-python",
   "name": "python",
   "nbconvert_exporter": "python",
   "pygments_lexer": "ipython2",
   "version": "2.7.11"
  },
  "widgets": {
   "state": {},
   "version": "1.1.0"
  }
 },
 "nbformat": 4,
 "nbformat_minor": 0
}
