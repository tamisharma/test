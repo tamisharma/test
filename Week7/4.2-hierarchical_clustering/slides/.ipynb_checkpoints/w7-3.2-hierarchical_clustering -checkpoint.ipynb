{
 "cells": [
  {
   "cell_type": "markdown",
   "metadata": {
    "slideshow": {
     "slide_type": "slide"
    }
   },
   "source": [
    "<img src=\"https://ga-dash.s3.amazonaws.com/production/assets/logo-9f88ae6c9c3871690e33280fcf557f33.png\" style=\"float: left; margin: 10px;\">\n",
    "\n",
    "# Intro to Hierarchical Clustering\n",
    "Week 7 | Lesson 3.2\n",
    "\n",
    "![](https://snag.gy/J8iyBj.jpg)"
   ]
  },
  {
   "cell_type": "markdown",
   "metadata": {
    "slideshow": {
     "slide_type": "slide"
    }
   },
   "source": [
    "### LEARNING OBJECTIVES\n",
    "*After this lesson, you will be able to:*\n",
    "- Perform a Hierarchical Clustering\n",
    "- Plot, Analyze, and Understand the Dendrogram\n",
    "- Evaluate clusters for fit "
   ]
  },
  {
   "cell_type": "markdown",
   "metadata": {
    "slideshow": {
     "slide_type": "slide"
    }
   },
   "source": [
    "### STUDENT PRE-WORK\n",
    "*Before this lesson, you should already be able to:*\n",
    "- Perform clustering analyses in python\n",
    "- Have a working knowledge of Pandas and SciPy"
   ]
  },
  {
   "cell_type": "markdown",
   "metadata": {
    "slideshow": {
     "slide_type": "slide"
    }
   },
   "source": [
    "### LESSON GUIDE\n",
    "| TIMING  | TYPE  | TOPIC  |\n",
    "|:-:|---|---|\n",
    "| 5 min  | [Opening](#opening)  | Opening |\n",
    "| 10 min  | [Introduction](#introduction)   | What is Hierarchical Clustering?  |\n",
    "| 15 min  | [Demo](#demo)  | Example of Hierarchical Clustering  |\n",
    "| 25 min  | [Guided Practice](#guided-practice<a name=\"opening\"></a>)  | Hierarchical Clustering in Python |\n",
    "| 25 min  | [Independent Practice](#ind-practice)  | Implement hierarchical clustering\n",
    "| 5 min  | [Conclusion](#conclusion)  | Conclusion  |\n",
    "\n",
    "---"
   ]
  },
  {
   "cell_type": "markdown",
   "metadata": {
    "slideshow": {
     "slide_type": "slide"
    }
   },
   "source": [
    "## How have we successfully used K-Means?\n",
    "\n",
    "Will you use it in your capstone at all?"
   ]
  },
  {
   "cell_type": "markdown",
   "metadata": {
    "slideshow": {
     "slide_type": "slide"
    }
   },
   "source": [
    "# Opening\n",
    "\n",
    "- Hierarchical clustering works well for non-spherical clusters\n",
    "- It also works well on smaller datasets - _this algorithm has a longer computational time and doesn't work well for larger datasets_\n",
    "\n",
    "$$O(n^2 * n\\ features)$$\n",
    "\n",
    "### Hierarchical clustering works well for instances where we are working with observed records. \n",
    "\n",
    "For instance - I've tallied the amount of times a certain skill exists in a collection of resumes.  **Since k-means computes *means*, this wouldn't give us very good clusters!**"
   ]
  },
  {
   "cell_type": "markdown",
   "metadata": {
    "slideshow": {
     "slide_type": "slide"
    }
   },
   "source": [
    "<a name=\"introduction\"></a>\n",
    "## Introduction: Intro to Hierarchical Clustering (10 mins)\n",
    "\n",
    "#### What is Hierarchical Clustering? \n",
    "\n",
    "Hierarchical clustering, like k-means clustering, is another common form of clustering analysis. With this type of clustering - we seek to do exactly what the name suggests: \n",
    "\n",
    "- Build hierarchies of links\n",
    "- Form clusters\n",
    "\n",
    "Once these links are determined, they are displayed in what is called a **dendrogram** - a graph that displays all of these links in a hierarchical manner.\n",
    "\n",
    "![denex](../assets/images/denex.png)\n",
    "\n",
    "To find clusters in a dendrogram, we can cut the graph to find the clusters - we'll go over this later in the lesson. \n"
   ]
  },
  {
   "cell_type": "markdown",
   "metadata": {
    "slideshow": {
     "slide_type": "slide"
    }
   },
   "source": [
    "#### How is Hierarchical Clustering Different from K-Means Clustering?\n",
    "\n",
    "![](https://snag.gy/tfzWw6.jpg)\n",
    "\n",
    "Much like we learned about k-means clustering, hierarchical clustering is another method for classifying our data. If you recall, in k-means clustering, the algorithm groups data into a pre-defined set of clusters based on assigning the closest points to centroids, calculating the geometric mean of classified points, then moving the centroid until no points change class."
   ]
  },
  {
   "cell_type": "markdown",
   "metadata": {
    "slideshow": {
     "slide_type": "slide"
    }
   },
   "source": [
    "**However in the case of hierarchical clustering, the algorithm builds classifications trees of the data that merges groups of similar data points.**\n",
    "\n",
    "With k-means, the boundaries between the various clusters are distinct and independent (see graph), whereas in hierarchical clustering, there are shared similarities between those groups that are represented by the classification tree.  Going further - unlike with k-means, hierarchical clustering does not require you to define \"k\" as an input.\n",
    "\n",
    "![kmeans](../assets/images/kmeans.png)\n",
    "\n",
    "All of these attributes can lend themselves to certain clustering situations - for instance, hierarchical clustering is more beneficial for smaller datasets - think about the complexity of a dendrogram from a 1000 point dataset! Likewise, this form of clustering works better when we have binary data or dummy variables: as k-means computes *means* in forming clusters, performing k-means on a dataset with a significant amount of variables would skew the resulting clusters and distributions. \n",
    "\n"
   ]
  },
  {
   "cell_type": "markdown",
   "metadata": {
    "slideshow": {
     "slide_type": "slide"
    }
   },
   "source": [
    "### What is the difference?\n",
    "\n",
    "**Generally, K-Means looks to achieve seperation**\n",
    "- Partitions are independent of each other\n",
    "\n",
    "**Hierachical Clustering**\n",
    "- Partitions can be visualized using a tree structure (a dendrogram)\n",
    "- Does not need the number of clusters as input (no random initialization)\n",
    "- Possible to view partitions at different levels of granularities (i.e., can refine/coarsen clusters) using different K\n",
    "- Will converge at the same solution\n"
   ]
  },
  {
   "cell_type": "markdown",
   "metadata": {
    "slideshow": {
     "slide_type": "slide"
    }
   },
   "source": [
    "## How is clustering different from classification? When might we use one over the other? "
   ]
  },
  {
   "cell_type": "markdown",
   "metadata": {
    "slideshow": {
     "slide_type": "slide"
    }
   },
   "source": [
    "<a name=\"demo\"></a>\n",
    "## How Does Hierarchical Clustering Work? - Demo (10 mins)\n",
    "\n",
    "In hierarchical clustering, instead of clustering in one step, the clusters are determined in the a varying number of partitions. At each step, it makes the best choice based on the surrounding datapoints, with the ultimate goal that these best choices will lead to the best choice of clusters overall. Given the algorithm's method of calculating linkages based on immediate datapoints, it's known as a **greedy algorithm**.\n",
    "\n",
    "There are two forms of hierarchical clustering; **agglomerative hierarchical clustering** and **divisive hierarchical clustering**.\n",
    "\n",
    "![](../assets/images/hier.png)\n",
    "\n",
    "Today, we're going to look at one of the most fundamental methods for agglomerative hierarchical cluster, known as **linkage clustering**. Linkage clustering iterates through datapoints and computes the distance between groups by computing the distance between two neighboring datapoints, using the **nearest neighbor** technique similar to KNN.\n",
    "\n",
    "### Divisive\n",
    "- Start at the trunk of the tree and build the leaves\n",
    "\n",
    "### Agglomerative\n",
    "- Start with the leaves of the tree and build the trunk\n",
    "\n",
    "_A **greedy algorithm** is an algorithm that follows the problem solving heuristic of making the locally optimal choice at each stage with the hope of finding a global optimum._"
   ]
  },
  {
   "cell_type": "markdown",
   "metadata": {
    "slideshow": {
     "slide_type": "slide"
    }
   },
   "source": [
    "## \"Single Linkage\" Step by Step\n",
    "(Aggomerative)\n",
    "\n",
    "\n",
    "Also known as \"single linkage\", minimum distance clustering or nearest neighbor clustering.\n",
    "\n",
    "\n",
    "<table>\n",
    "    <tr>\n",
    "        <td>![](https://snag.gy/SDZyGz.jpg)</td>\n",
    "        <td>Distance between two clusters is defined by the minimum distance between objects of the two clusters. \n",
    "</td>\n",
    "    </tr>\n",
    "        \n",
    "</table>\n"
   ]
  },
  {
   "cell_type": "markdown",
   "metadata": {
    "slideshow": {
     "slide_type": "subslide"
    }
   },
   "source": [
    "\n",
    "### First let's consider a single series of distances between X/Y points in 2D space, represented as a matrix.\n",
    "<table>\n",
    "    <tr>\n",
    "        <td>![](https://snag.gy/EcRNns.jpg)</td>\n",
    "        <td>\n",
    "        <ul><li>_Each feature, A-F, would be considered a \"cluster\".  All points are clusters._</li>\n",
    "        <li>In each step of the iteration, we find the closest pair clusters.</li>\n",
    "        <li>Our end goal is to ultimately cluster all of these to one single cluster.</li>\n",
    "        <li>**In this case, the closest cluster is between cluster F and D with shortest distance of 0.5.**</li>\n",
    "        </ul>\n",
    "        <br>\n",
    "        **Thus, we group cluster D and F into cluster (D, F)**\n",
    "        </td>\n",
    "    </tr>\n",
    "        \n",
    "</table>\n",
    "\n",
    "\n",
    "\n",
    "\n",
    "\n",
    "\n"
   ]
  },
  {
   "cell_type": "markdown",
   "metadata": {
    "slideshow": {
     "slide_type": "subslide"
    }
   },
   "source": [
    "<table>\n",
    "    <tr>\n",
    "        <td width=\"350\">![](https://snag.gy/siCURp.jpg)</td>\n",
    "        <td>\n",
    "        <li>D and F turn into a cluster</li>\n",
    "        <li>Distance matrix is updated (distance between ungrouped clusters do not change)</li>\n",
    "        <br>\n",
    "        **Now the problem is how to calculate distance between newly grouped clusters (D, F) and other clusters?**\n",
    "        </td>\n",
    "    </tr>\n",
    "        \n",
    "</table>"
   ]
  },
  {
   "cell_type": "markdown",
   "metadata": {
    "slideshow": {
     "slide_type": "subslide"
    }
   },
   "source": [
    "<table>\n",
    "    <tr>\n",
    "        <td width=\"350\">![](https://snag.gy/lXQDf2.jpg)</td>\n",
    "        <td>This is where our linkage function starts to do some work.\n",
    "        <br>\n",
    "        <ul>\n",
    "            <li>Using single linkage, we specify minimum distance between original objects of the two clusters.</li>\n",
    "            <li>Using single linkage, we find the minimum point from cluster $_{df}$ to all other \"clusters\"</li>\n",
    "            <ol>$d(d,f)\\rightarrow a = min(d_{DA}, d_{FA}) = min(3.61, 3.20) = 3.20$</ol>\n",
    "            <ol>$d(d,f)\\rightarrow b = min(d_{DB}, d_{FB}) = min(2.92, 2.50) = 2.50$</ol>\n",
    "            <ol>$d(d,f)\\rightarrow c = min(d_{DC}, d_{FC}) = min(2.24, 2.50) = 2.24$</ol>\n",
    "            <ol>$d(d,f)\\rightarrow e = min(d_{DE}, d_{FE}) = min(1.00, 1.12) = 1.00$</ol>\n",
    "        </ul>\n",
    "        </td>\n",
    "    </tr>\n",
    "\n",
    "</table>"
   ]
  },
  {
   "cell_type": "markdown",
   "metadata": {
    "slideshow": {
     "slide_type": "subslide"
    }
   },
   "source": [
    "\n",
    "\n",
    "\n",
    "\n",
    "<table>\n",
    "    <tr>\n",
    "        <td width=\"350\">![](https://snag.gy/syM7BH.jpg)</td>\n",
    "        <td>**Cluster B and cluster A is now 0.71, wich creats cluster name \"(A, B)\"**\n",
    "        <br>\n",
    "        <ul>\n",
    "            <li>Now we update the distance matrix. </li>\n",
    "            <li>Using the **original** input distance matrix (size 6 by 6), distance between cluster C and cluster (D, F) is computed as </li>\n",
    "            <ol>$d_{(c)\\rightarrow (a,b)} = min(d_{CA}, d_{CB}) = min(5.66, 4.95) = 4.95$<br><br></ol>\n",
    "            <li>Distance between cluster (D, F) and cluster (A, B) is the minimum distance between all objects involves in the two clusters </li>\n",
    "            <ol>$d_{(d,f)\\rightarrow (a,b)} = min(d_{DA}, d_{DB}, d_{FA}, d_{FB}) = min(2.61, 2.92, 3.20, 2.50) = 2.50$<br><br></ol>\n",
    "            <li>Now we compute $e$ and $(a,b)$</li>\n",
    "            <ol>$d(e)\\rightarrow (a,b) = min(d_{E}, d_{AB}) = min(4.24, 3.54) = 3.54$</ol>\n",
    "        </ul>\n",
    "        </td>\n",
    "    </tr>\n",
    "\n",
    "</table>"
   ]
  },
  {
   "cell_type": "markdown",
   "metadata": {
    "slideshow": {
     "slide_type": "subslide"
    }
   },
   "source": [
    "<table>\n",
    "    <tr>\n",
    "        <td width=\"350\">![](https://snag.gy/Tg4V6J.jpg)</td>\n",
    "        <td>**Here's our updated distance matrix**\n",
    "        <ol>$d_{((D,F),E)\\rightarrow(AB)} = MIN(d_{DA},d_{DB},d_{FA},d_{FB},d_{EB}) = MIN(3.61, 2.92, 3.20, 2.50, 4.24, 3.54) = 2.50$</ol>\n",
    "        <ol>$d_{(D,F), E)\\rightarrow C} = MIN(d_{DF}, d_{FC}, d_{EC}) = MIN(2.24,2.50,1.41) = 1.41$</ol>\n",
    "        </td>\n",
    "    </tr>\n",
    "</table>"
   ]
  },
  {
   "cell_type": "markdown",
   "metadata": {
    "slideshow": {
     "slide_type": "subslide"
    }
   },
   "source": [
    "![](https://snag.gy/lrdR8b.jpg)\n",
    "<ol>$d_{(((D,F), E),C)\\rightarrow(A, B)} = MIN(d_{DA},d_{DB},d_{FA}, d_{FB}, d_{EA}, d_{EB}, d_{CA}, d_{CB})$</ol>\n",
    "<ol>$d_{(((D,F), E),C)\\rightarrow(A, B)} = MIN(3.61,2.92,3.20,2.50,4.24,3.54, 5.66, 4.95) = 2.50$</ol>\n",
    "\n",
    "<ol>\n",
    "\n",
    "          <li>In the beginning we have 6 clusters: A, B, C, D, E and F </li>\n",
    "\n",
    "          <li>We merge cluster D and F into cluster (D, F) at distance<strong> 0.50</strong> </li>\n",
    "\n",
    "          <li>We merge cluster A and cluster B into (A, B) at distance <strong>0.71</strong> </li>\n",
    "\n",
    "          <li>We merge cluster E and (D, F) into ((D, F), E) at distance <strong>1.00</strong> </li>\n",
    "\n",
    "          <li>We merge cluster ((D, F), E) and C into (((D, F), E), C) at distance <strong>1.41</strong> </li>\n",
    "\n",
    "          <li>We merge cluster (((D, F), E), C) and (A, B) into ((((D, F), E), C), (A, B)) at distance <strong>2.50</strong> </li>\n",
    "\n",
    "          <li>The last cluster contain all the objects, thus conclude the computation </li>\n",
    "\n",
    "</ol>\n",
    "\n",
    "<br>\n",
    "<center>**Our final result, can be represented in terms of a dendogram such as:**</center>\n",
    "\n",
    "![](https://snag.gy/NJ2lxe.jpg)"
   ]
  },
  {
   "cell_type": "markdown",
   "metadata": {
    "slideshow": {
     "slide_type": "slide"
    }
   },
   "source": [
    "#### Hierarchical Clustering in Python\n",
    "\n",
    "Implementing hierarchical clustering in python is as simple as calling a function from the SciPy toolbox:\n",
    "\n",
    "```python\n",
    "Z = linkage(X, 'ward')\n",
    "```\n",
    "\n",
    "Here, \"X\" represents the matrix of data that we are clustering, and \"ward\" tells our algorithm which method to use to calculate distance between our newly formed clusters - in this case **Ward's Method** which seeks to minimize the variance when forming clusters. When calculating distance, the default is **Euclidean distance**.\n",
    "\n",
    "After we cluster, we can calculate the dendrogram using a simple ```dendrogram()``` function from SciPy, which we can then draw using our handy  ```plt``` from matplotlib. \n",
    "\n",
    "To check how well our algorithm has measured distance, we can calculate the **cophenetic correlation coefficient**. This metric, which measures the height of the dendrogram at the point where two branches merge, can tell us how well the dendrogram has measured the distance between data points in the original dataset and is a helpful measure to see how well our clustering test has run. \n",
    "\n",
    "```python\n",
    "c, coph_dists = cophenet(Z, pdist(X))\n",
    "```\n",
    "\n",
    "Here, we call the cophenetic function using ```cophenet``` from SciPy and apply it to our clustered set, Z, and the distance of our original set, X. "
   ]
  },
  {
   "cell_type": "markdown",
   "metadata": {
    "slideshow": {
     "slide_type": "slide"
    }
   },
   "source": [
    "## Briefly:  Cophenetic Coefficient Intuition\n",
    "\n",
    "$$\n",
    "c = \\frac {\\sum_{i<j} (x(i,j) - \\bar{x})(t(i,j) - \\bar{t})}{\\sqrt{[\\sum_{i<j}(x(i,j)-\\bar{x})^2] [\\sum_{i<j}(t(i,j)-\\bar{t})^2]}}.\n",
    "$$[Detailed Cophenetic Coefficient Calculation](https://en.wikipedia.org/wiki/Cophenetic_correlation#Calculating_the_cophenetic_correlation_coefficient)\n",
    "\n",
    "- Based on interpoint distance within clusters\n",
    "- Considers $MIN(C_i)$ when looking at distance between clusters (product moment correlation)\n",
    "- Values closer to $1$ are considered good in terms of \"fusion\" (how well clusters sit with each other)"
   ]
  },
  {
   "cell_type": "markdown",
   "metadata": {
    "slideshow": {
     "slide_type": "slide"
    }
   },
   "source": [
    "## What other metrics have we used?\n",
    "\n",
    "_Follow up:  Generally, what is good or bad about clusters?_"
   ]
  },
  {
   "cell_type": "markdown",
   "metadata": {},
   "source": [
    "<a name=\"guided-practice\"></a>\n",
    "## Guided Practice: Preparing Your Analysis & Handling Data (15 mins)\n",
    "\n",
    "Let's say that you're asked to perform hierarchical clustering analysis on a new dataset - how would we go about it?\n",
    "We're going to be using a dataset that details language skills from different European countries. We will perform a hierarchical clustering analysis on this dataset.\n",
    "\n",
    "**Check**: Can you think of some other examples for how this type of data could be used?"
   ]
  },
  {
   "cell_type": "code",
   "execution_count": 10,
   "metadata": {
    "collapsed": false
   },
   "outputs": [],
   "source": [
    "from matplotlib import pyplot as plt\n",
    "import seaborn as sns\n",
    "from scipy.cluster.hierarchy import dendrogram, linkage, cophenet\n",
    "from scipy.spatial.distance import pdist\n",
    "import numpy as np\n",
    "import pandas as pd\n",
    "import os\n",
    "from scipy.cluster.hierarchy import fcluster, cophenet\n",
    "\n",
    "%matplotlib inline"
   ]
  },
  {
   "cell_type": "markdown",
   "metadata": {},
   "source": [
    "We're going to be using **scipy** for our analysis. Let's load in the dataset using Pandas ```read.csv()``` and check the head to see it's structure"
   ]
  },
  {
   "cell_type": "code",
   "execution_count": 11,
   "metadata": {
    "collapsed": false,
    "scrolled": true
   },
   "outputs": [
    {
     "data": {
      "text/html": [
       "<div style=\"max-height:1000px;max-width:1500px;overflow:auto;\">\n",
       "<table border=\"1\" class=\"dataframe\">\n",
       "  <thead>\n",
       "    <tr style=\"text-align: right;\">\n",
       "      <th></th>\n",
       "      <th>country</th>\n",
       "      <th>finnish</th>\n",
       "      <th>swedish</th>\n",
       "      <th>danish</th>\n",
       "      <th>norwegian</th>\n",
       "      <th>english</th>\n",
       "      <th>german</th>\n",
       "      <th>dutch</th>\n",
       "      <th>flemish</th>\n",
       "      <th>french</th>\n",
       "      <th>italian</th>\n",
       "      <th>spanish</th>\n",
       "      <th>portuguese</th>\n",
       "    </tr>\n",
       "  </thead>\n",
       "  <tbody>\n",
       "    <tr>\n",
       "      <th>0</th>\n",
       "      <td> 1</td>\n",
       "      <td> 0</td>\n",
       "      <td> 0</td>\n",
       "      <td> 0</td>\n",
       "      <td> 0</td>\n",
       "      <td> 21</td>\n",
       "      <td> 100</td>\n",
       "      <td>   2</td>\n",
       "      <td>   1</td>\n",
       "      <td>  10</td>\n",
       "      <td>   2</td>\n",
       "      <td> 1</td>\n",
       "      <td> 0</td>\n",
       "    </tr>\n",
       "    <tr>\n",
       "      <th>1</th>\n",
       "      <td> 2</td>\n",
       "      <td> 0</td>\n",
       "      <td> 0</td>\n",
       "      <td> 0</td>\n",
       "      <td> 0</td>\n",
       "      <td>  5</td>\n",
       "      <td>   3</td>\n",
       "      <td>   0</td>\n",
       "      <td>   0</td>\n",
       "      <td>  11</td>\n",
       "      <td> 100</td>\n",
       "      <td> 1</td>\n",
       "      <td> 0</td>\n",
       "    </tr>\n",
       "    <tr>\n",
       "      <th>2</th>\n",
       "      <td> 3</td>\n",
       "      <td> 0</td>\n",
       "      <td> 2</td>\n",
       "      <td> 3</td>\n",
       "      <td> 0</td>\n",
       "      <td> 10</td>\n",
       "      <td>   7</td>\n",
       "      <td>   1</td>\n",
       "      <td>   1</td>\n",
       "      <td> 100</td>\n",
       "      <td>  12</td>\n",
       "      <td> 7</td>\n",
       "      <td> 1</td>\n",
       "    </tr>\n",
       "    <tr>\n",
       "      <th>3</th>\n",
       "      <td> 4</td>\n",
       "      <td> 0</td>\n",
       "      <td> 0</td>\n",
       "      <td> 0</td>\n",
       "      <td> 0</td>\n",
       "      <td> 41</td>\n",
       "      <td>  47</td>\n",
       "      <td> 100</td>\n",
       "      <td> 100</td>\n",
       "      <td>  16</td>\n",
       "      <td>   2</td>\n",
       "      <td> 2</td>\n",
       "      <td> 0</td>\n",
       "    </tr>\n",
       "    <tr>\n",
       "      <th>4</th>\n",
       "      <td> 5</td>\n",
       "      <td> 0</td>\n",
       "      <td> 0</td>\n",
       "      <td> 0</td>\n",
       "      <td> 0</td>\n",
       "      <td> 14</td>\n",
       "      <td>  15</td>\n",
       "      <td>   0</td>\n",
       "      <td>  59</td>\n",
       "      <td>  44</td>\n",
       "      <td>   2</td>\n",
       "      <td> 1</td>\n",
       "      <td> 0</td>\n",
       "    </tr>\n",
       "  </tbody>\n",
       "</table>\n",
       "</div>"
      ],
      "text/plain": [
       "   country  finnish  swedish  danish  norwegian  english  german  dutch  \\\n",
       "0        1        0        0       0          0       21     100      2   \n",
       "1        2        0        0       0          0        5       3      0   \n",
       "2        3        0        2       3          0       10       7      1   \n",
       "3        4        0        0       0          0       41      47    100   \n",
       "4        5        0        0       0          0       14      15      0   \n",
       "\n",
       "   flemish  french  italian  spanish  portuguese  \n",
       "0        1      10        2        1           0  \n",
       "1        0      11      100        1           0  \n",
       "2        1     100       12        7           1  \n",
       "3      100      16        2        2           0  \n",
       "4       59      44        2        1           0  "
      ]
     },
     "execution_count": 11,
     "metadata": {},
     "output_type": "execute_result"
    }
   ],
   "source": [
    "lang = pd.read_csv(\"../assets/datasets/lang.csv\")\n",
    "lang.head()"
   ]
  },
  {
   "cell_type": "code",
   "execution_count": null,
   "metadata": {
    "collapsed": true
   },
   "outputs": [],
   "source": []
  },
  {
   "cell_type": "code",
   "execution_count": 12,
   "metadata": {
    "collapsed": false
   },
   "outputs": [
    {
     "data": {
      "image/png": "[encoded data removed]",
      "text/plain": [
       "<matplotlib.figure.Figure at 0x1092c3a50>"
      ]
     },
     "metadata": {},
     "output_type": "display_data"
    }
   ],
   "source": [
    "# How many clusters does it look like we have?\n",
    "plt.scatter(lang['country'], lang['english'])\n",
    "plt.show()"
   ]
  },
  {
   "cell_type": "markdown",
   "metadata": {},
   "source": [
    "Now, let's convert our data to a matrix (aka array) to pass to the clustering algorithm - the matrix makes it easier for our algorithm to compute distance:"
   ]
  },
  {
   "cell_type": "code",
   "execution_count": 15,
   "metadata": {
    "collapsed": false
   },
   "outputs": [],
   "source": [
    "X = lang.as_matrix(columns=None)"
   ]
  },
  {
   "cell_type": "markdown",
   "metadata": {},
   "source": [
    "Next, we'll implement the actual clustering algorithm using the **`ward`** method (described in detail earlier):"
   ]
  },
  {
   "cell_type": "code",
   "execution_count": 16,
   "metadata": {
    "collapsed": true
   },
   "outputs": [],
   "source": [
    "Z = linkage(X, 'ward')"
   ]
  },
  {
   "cell_type": "markdown",
   "metadata": {},
   "source": [
    "Now, we can calculate the cophenetic correlation coefficient to see how well our algorithm has measured the distances between the points:"
   ]
  },
  {
   "cell_type": "code",
   "execution_count": 17,
   "metadata": {
    "collapsed": true
   },
   "outputs": [],
   "source": [
    "c, coph_dists = cophenet(Z, pdist(X))"
   ]
  },
  {
   "cell_type": "markdown",
   "metadata": {},
   "source": [
    "To see the coefficient, just type in the variable: "
   ]
  },
  {
   "cell_type": "code",
   "execution_count": 18,
   "metadata": {
    "collapsed": false
   },
   "outputs": [
    {
     "data": {
      "text/plain": [
       "0.66645925603242939"
      ]
     },
     "execution_count": 18,
     "metadata": {},
     "output_type": "execute_result"
    }
   ],
   "source": [
    "c"
   ]
  },
  {
   "cell_type": "markdown",
   "metadata": {},
   "source": [
    "You should see a **C** around **0.667**, which means that the distances of the clusters are moderately related to the original distances of the data.\n",
    "\n",
    "Now, let's plot the dendrogram. To do this, we call dendrogram from  scipy.cluster.hierarchy and input our links, and rotate the labels so we can view the graph in a more organized matter. \n",
    "\n",
    "#### We can then plot the denrogram with pyplot from matplotlib."
   ]
  },
  {
   "cell_type": "code",
   "execution_count": 34,
   "metadata": {
    "collapsed": false
   },
   "outputs": [
    {
     "data": {
      "image/png": "[encoded data removed]",
      "text/plain": [
       "<matplotlib.figure.Figure at 0x10a5e6710>"
      ]
     },
     "metadata": {},
     "output_type": "display_data"
    }
   ],
   "source": [
    "plt.title('Dendrogram')\n",
    "plt.xlabel('Index Numbers')\n",
    "plt.ylabel('Distance')\n",
    "dendrogram(\n",
    "    Z,\n",
    "    leaf_rotation=90.,  \n",
    "    leaf_font_size=8.,\n",
    ")\n",
    "plt.show()"
   ]
  },
  {
   "cell_type": "markdown",
   "metadata": {},
   "source": [
    "Now, we want to determine our clusters. While there are many ways to automate this process,  we're going to help estimate our clusters by visually examining the graph to better understand the structure of the dendrogram. \n",
    "\n",
    "Here, we can see that no links exist above a distance of 200 - so we will set maximum distance at 200 and use the ```fclusters``` function from ```scipy.cluster.hierarchy```, which will return our cluster ID's. "
   ]
  },
  {
   "cell_type": "code",
   "execution_count": 33,
   "metadata": {
    "collapsed": false
   },
   "outputs": [
    {
     "data": {
      "text/plain": [
       "array([1, 2, 2, 1, 2, 1, 2, 2, 1, 1, 2, 2, 2, 2, 2, 2], dtype=int32)"
      ]
     },
     "execution_count": 33,
     "metadata": {},
     "output_type": "execute_result"
    }
   ],
   "source": [
    "max_dist = 200 # pairwise distance\n",
    "clusters = fcluster(Z, max_dist, criterion='distance')\n",
    "clusters"
   ]
  },
  {
   "cell_type": "markdown",
   "metadata": {},
   "source": [
    "Lastly, let's plot our data and assign the class labels as the color:"
   ]
  },
  {
   "cell_type": "code",
   "execution_count": 32,
   "metadata": {
    "collapsed": false
   },
   "outputs": [
    {
     "data": {
      "image/png": "[encoded data removed]",
      "text/plain": [
       "<matplotlib.figure.Figure at 0x10b3bcc10>"
      ]
     },
     "metadata": {},
     "output_type": "display_data"
    }
   ],
   "source": [
    "plt.scatter(X[:,0], X[:,6], c=clusters, cmap='prism')\n",
    "plt.show()"
   ]
  },
  {
   "cell_type": "markdown",
   "metadata": {
    "slideshow": {
     "slide_type": "slide"
    }
   },
   "source": [
    "<a name=\"ind-practice\"></a>\n",
    "## Independent Practice: Perform a Hierarchical Clustering Analysis (15 minutes)\n",
    "\n",
    "> Pair or independent activity\n",
    "\n",
    "Now that we've walked through the process of clustering, it's time to try it on your own. We're going to be working with the iris data set, and your job is to cluster the data to understand their various attributes.\n",
    "\n",
    "Open the [data](../assets/datasets/iris.csv) and [starter code](../code/starter-code/starter-code.ipynb) and try to work through both exercises.\n"
   ]
  },
  {
   "cell_type": "markdown",
   "metadata": {
    "slideshow": {
     "slide_type": "slide"
    }
   },
   "source": [
    "<a name=\"conclusion\"></a>\n",
    "## Conclusion (5 mins)\n",
    "- Recall the definitions of linkage, cophenetic coefficient, and dendrogram\n",
    "- Recap and recall the process steps in hierachical clustering\n",
    "    - Linkage: First, we create the linkages in python that form the basis of our analysis\n",
    "    - Cophenetic Coefficient: We find the cophenetic coefficient to determine how well our analysis is running\n",
    "    - Dendrogram: We plot the dendrogram and visually inspect the clusters\n",
    "    - Lastly, we find our cluster ID's and plot\n",
    "\n",
    "***"
   ]
  },
  {
   "cell_type": "markdown",
   "metadata": {
    "slideshow": {
     "slide_type": "slide"
    }
   },
   "source": [
    "## Additional Resources \n",
    "\n",
    "- [SciPy Documentation for Linkage techniques](http://docs.scipy.org/doc/scipy-0.16.0/reference/generated/scipy.cluster.hierarchy.linkage.html)\n",
    "- [What even is this Hierarchical Clustering Thing, Anyway?](http://www.saedsayad.com/clustering_hierarchical.htm)"
   ]
  },
  {
   "cell_type": "markdown",
   "metadata": {
    "slideshow": {
     "slide_type": "slide"
    }
   },
   "source": [
    "### Extra Practice\n",
    "    \n",
    "Load up our FAA dataset or Dating Survey Dataset and try to apply heirarchical clustering."
   ]
  }
 ],
 "metadata": {
  "celltoolbar": "Slideshow",
  "kernelspec": {
   "display_name": "Python 2",
   "language": "python",
   "name": "python2"
  },
  "language_info": {
   "codemirror_mode": {
    "name": "ipython",
    "version": 2
   },
   "file_extension": ".py",
   "mimetype": "text/x-python",
   "name": "python",
   "nbconvert_exporter": "python",
   "pygments_lexer": "ipython2",
   "version": "2.7.11"
  },
  "widgets": {
   "state": {},
   "version": "1.1.0"
  }
 },
 "nbformat": 4,
 "nbformat_minor": 0
}
