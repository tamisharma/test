{
 "cells": [
  {
   "cell_type": "code",
   "execution_count": 31,
   "metadata": {
    "collapsed": true
   },
   "outputs": [],
   "source": [
    "import pandas as pd\n",
    "import numpy as np\n",
    "import seaborn as sns\n",
    "import matplotlib.pyplot as plt\n",
    "\n",
    "%matplotlib inline"
   ]
  },
  {
   "cell_type": "code",
   "execution_count": 32,
   "metadata": {
    "collapsed": true
   },
   "outputs": [],
   "source": [
    "cancer = pd.read_csv('../assets/datasets/breast-cancer-wisconsin.csv')"
   ]
  },
  {
   "cell_type": "code",
   "execution_count": 33,
   "metadata": {
    "collapsed": false
   },
   "outputs": [],
   "source": [
    "cancer.columns = ['id',\n",
    "                'clump_thickness',\n",
    "                'cell_size_uniformity',\n",
    "                'cell_shape_uniformity',\n",
    "                'marginal_adhesion',\n",
    "                'single_epithelial_size',\n",
    "                'bare_nuclei',\n",
    "                'bland_chromatin',\n",
    "                'normal_nucleoli',\n",
    "                'mitoses',\n",
    "                'class']"
   ]
  },
  {
   "cell_type": "code",
   "execution_count": 34,
   "metadata": {
    "collapsed": false
   },
   "outputs": [],
   "source": [
    "cancer = cancer[['clump_thickness',\n",
    "                'cell_shape_uniformity',\n",
    "                'marginal_adhesion',\n",
    "                'single_epithelial_size',\n",
    "                'bare_nuclei',\n",
    "                'bland_chromatin',\n",
    "                'normal_nucleoli',\n",
    "                'mitoses', 'cell_size_uniformity']]\n",
    "\n",
    "cancer.head()\n",
    "\n",
    "cancer['bare_nuclei'][cancer['bare_nuclei']=='?'] = np.NaN"
   ]
  },
  {
   "cell_type": "code",
   "execution_count": 42,
   "metadata": {
    "collapsed": false
   },
   "outputs": [],
   "source": [
    "cancer.dropna(inplace=True)\n",
    "\n",
    "cancer.bare_nuclei = cancer.bare_nuclei.map(int)"
   ]
  },
  {
   "cell_type": "code",
   "execution_count": 43,
   "metadata": {
    "collapsed": false
   },
   "outputs": [],
   "source": [
    "# Dependent Variable\n",
    "target = 'cell_size_uniformity'\n",
    "\n",
    "# Predictors\n",
    "predictors  = [\n",
    "                'clump_thickness',\n",
    "                'marginal_adhesion',\n",
    "                'single_epithelial_size',\n",
    "                'bare_nuclei',\n",
    "                'bland_chromatin',\n",
    "                'normal_nucleoli',\n",
    "                'mitoses']\n",
    "\n",
    "cancer.ix[:, predictors] = (cancer.ix[:, predictors] - cancer.ix[:, predictors].mean())/(cancer.ix[:, predictors].std())"
   ]
  },
  {
   "cell_type": "code",
   "execution_count": 44,
   "metadata": {
    "collapsed": false
   },
   "outputs": [
    {
     "data": {
      "text/html": [
       "<div>\n",
       "<table border=\"1\" class=\"dataframe\">\n",
       "  <thead>\n",
       "    <tr style=\"text-align: right;\">\n",
       "      <th></th>\n",
       "      <th>clump_thickness</th>\n",
       "      <th>cell_shape_uniformity</th>\n",
       "      <th>marginal_adhesion</th>\n",
       "      <th>single_epithelial_size</th>\n",
       "      <th>bare_nuclei</th>\n",
       "      <th>bland_chromatin</th>\n",
       "      <th>normal_nucleoli</th>\n",
       "      <th>mitoses</th>\n",
       "      <th>cell_size_uniformity</th>\n",
       "    </tr>\n",
       "  </thead>\n",
       "  <tbody>\n",
       "    <tr>\n",
       "      <th>0</th>\n",
       "      <td>0.197910</td>\n",
       "      <td>4</td>\n",
       "      <td>0.756212</td>\n",
       "      <td>1.692252</td>\n",
       "      <td>1.769880</td>\n",
       "      <td>-0.181831</td>\n",
       "      <td>-0.285663</td>\n",
       "      <td>-0.34843</td>\n",
       "      <td>4</td>\n",
       "    </tr>\n",
       "    <tr>\n",
       "      <th>1</th>\n",
       "      <td>-0.510619</td>\n",
       "      <td>1</td>\n",
       "      <td>-0.639557</td>\n",
       "      <td>-0.555734</td>\n",
       "      <td>-0.424771</td>\n",
       "      <td>-0.181831</td>\n",
       "      <td>-0.613096</td>\n",
       "      <td>-0.34843</td>\n",
       "      <td>1</td>\n",
       "    </tr>\n",
       "    <tr>\n",
       "      <th>2</th>\n",
       "      <td>0.552175</td>\n",
       "      <td>8</td>\n",
       "      <td>-0.639557</td>\n",
       "      <td>-0.106137</td>\n",
       "      <td>0.123892</td>\n",
       "      <td>-0.181831</td>\n",
       "      <td>1.351499</td>\n",
       "      <td>-0.34843</td>\n",
       "      <td>8</td>\n",
       "    </tr>\n",
       "    <tr>\n",
       "      <th>3</th>\n",
       "      <td>-0.156354</td>\n",
       "      <td>1</td>\n",
       "      <td>0.058328</td>\n",
       "      <td>-0.555734</td>\n",
       "      <td>-0.699103</td>\n",
       "      <td>-0.181831</td>\n",
       "      <td>-0.613096</td>\n",
       "      <td>-0.34843</td>\n",
       "      <td>1</td>\n",
       "    </tr>\n",
       "    <tr>\n",
       "      <th>4</th>\n",
       "      <td>1.260703</td>\n",
       "      <td>10</td>\n",
       "      <td>1.803038</td>\n",
       "      <td>1.692252</td>\n",
       "      <td>1.769880</td>\n",
       "      <td>2.265715</td>\n",
       "      <td>1.351499</td>\n",
       "      <td>-0.34843</td>\n",
       "      <td>10</td>\n",
       "    </tr>\n",
       "  </tbody>\n",
       "</table>\n",
       "</div>"
      ],
      "text/plain": [
       "   clump_thickness  cell_shape_uniformity  marginal_adhesion  \\\n",
       "0         0.197910                      4           0.756212   \n",
       "1        -0.510619                      1          -0.639557   \n",
       "2         0.552175                      8          -0.639557   \n",
       "3        -0.156354                      1           0.058328   \n",
       "4         1.260703                     10           1.803038   \n",
       "\n",
       "   single_epithelial_size  bare_nuclei  bland_chromatin  normal_nucleoli  \\\n",
       "0                1.692252     1.769880        -0.181831        -0.285663   \n",
       "1               -0.555734    -0.424771        -0.181831        -0.613096   \n",
       "2               -0.106137     0.123892        -0.181831         1.351499   \n",
       "3               -0.555734    -0.699103        -0.181831        -0.613096   \n",
       "4                1.692252     1.769880         2.265715         1.351499   \n",
       "\n",
       "   mitoses  cell_size_uniformity  \n",
       "0 -0.34843                     4  \n",
       "1 -0.34843                     1  \n",
       "2 -0.34843                     8  \n",
       "3 -0.34843                     1  \n",
       "4 -0.34843                    10  "
      ]
     },
     "execution_count": 44,
     "metadata": {},
     "output_type": "execute_result"
    }
   ],
   "source": [
    "cancer.head()"
   ]
  },
  {
   "cell_type": "code",
   "execution_count": 45,
   "metadata": {
    "collapsed": false
   },
   "outputs": [
    {
     "data": {
      "text/html": [
       "<div>\n",
       "<table border=\"1\" class=\"dataframe\">\n",
       "  <thead>\n",
       "    <tr style=\"text-align: right;\">\n",
       "      <th></th>\n",
       "      <th>clump_thickness</th>\n",
       "      <th>cell_shape_uniformity</th>\n",
       "      <th>marginal_adhesion</th>\n",
       "      <th>single_epithelial_size</th>\n",
       "      <th>bare_nuclei</th>\n",
       "      <th>bland_chromatin</th>\n",
       "      <th>normal_nucleoli</th>\n",
       "      <th>mitoses</th>\n",
       "      <th>cell_size_uniformity</th>\n",
       "    </tr>\n",
       "  </thead>\n",
       "  <tbody>\n",
       "    <tr>\n",
       "      <th>clump_thickness</th>\n",
       "      <td>1.000000</td>\n",
       "      <td>0.653968</td>\n",
       "      <td>0.488175</td>\n",
       "      <td>0.523891</td>\n",
       "      <td>0.593524</td>\n",
       "      <td>0.553825</td>\n",
       "      <td>0.534406</td>\n",
       "      <td>0.351100</td>\n",
       "      <td>0.642936</td>\n",
       "    </tr>\n",
       "    <tr>\n",
       "      <th>cell_shape_uniformity</th>\n",
       "      <td>0.653968</td>\n",
       "      <td>1.000000</td>\n",
       "      <td>0.685735</td>\n",
       "      <td>0.722313</td>\n",
       "      <td>0.713661</td>\n",
       "      <td>0.735460</td>\n",
       "      <td>0.717784</td>\n",
       "      <td>0.441096</td>\n",
       "      <td>0.907158</td>\n",
       "    </tr>\n",
       "    <tr>\n",
       "      <th>marginal_adhesion</th>\n",
       "      <td>0.488175</td>\n",
       "      <td>0.685735</td>\n",
       "      <td>1.000000</td>\n",
       "      <td>0.594340</td>\n",
       "      <td>0.670434</td>\n",
       "      <td>0.668613</td>\n",
       "      <td>0.602893</td>\n",
       "      <td>0.418734</td>\n",
       "      <td>0.706786</td>\n",
       "    </tr>\n",
       "    <tr>\n",
       "      <th>single_epithelial_size</th>\n",
       "      <td>0.523891</td>\n",
       "      <td>0.722313</td>\n",
       "      <td>0.594340</td>\n",
       "      <td>1.000000</td>\n",
       "      <td>0.585489</td>\n",
       "      <td>0.618135</td>\n",
       "      <td>0.628743</td>\n",
       "      <td>0.480451</td>\n",
       "      <td>0.753415</td>\n",
       "    </tr>\n",
       "    <tr>\n",
       "      <th>bare_nuclei</th>\n",
       "      <td>0.593524</td>\n",
       "      <td>0.713661</td>\n",
       "      <td>0.670434</td>\n",
       "      <td>0.585489</td>\n",
       "      <td>1.000000</td>\n",
       "      <td>0.680689</td>\n",
       "      <td>0.584022</td>\n",
       "      <td>0.339005</td>\n",
       "      <td>0.691487</td>\n",
       "    </tr>\n",
       "    <tr>\n",
       "      <th>bland_chromatin</th>\n",
       "      <td>0.553825</td>\n",
       "      <td>0.735460</td>\n",
       "      <td>0.668613</td>\n",
       "      <td>0.618135</td>\n",
       "      <td>0.680689</td>\n",
       "      <td>1.000000</td>\n",
       "      <td>0.665638</td>\n",
       "      <td>0.345957</td>\n",
       "      <td>0.755663</td>\n",
       "    </tr>\n",
       "    <tr>\n",
       "      <th>normal_nucleoli</th>\n",
       "      <td>0.534406</td>\n",
       "      <td>0.717784</td>\n",
       "      <td>0.602893</td>\n",
       "      <td>0.628743</td>\n",
       "      <td>0.584022</td>\n",
       "      <td>0.665638</td>\n",
       "      <td>1.000000</td>\n",
       "      <td>0.433602</td>\n",
       "      <td>0.719173</td>\n",
       "    </tr>\n",
       "    <tr>\n",
       "      <th>mitoses</th>\n",
       "      <td>0.351100</td>\n",
       "      <td>0.441096</td>\n",
       "      <td>0.418734</td>\n",
       "      <td>0.480451</td>\n",
       "      <td>0.339005</td>\n",
       "      <td>0.345957</td>\n",
       "      <td>0.433602</td>\n",
       "      <td>1.000000</td>\n",
       "      <td>0.460603</td>\n",
       "    </tr>\n",
       "    <tr>\n",
       "      <th>cell_size_uniformity</th>\n",
       "      <td>0.642936</td>\n",
       "      <td>0.907158</td>\n",
       "      <td>0.706786</td>\n",
       "      <td>0.753415</td>\n",
       "      <td>0.691487</td>\n",
       "      <td>0.755663</td>\n",
       "      <td>0.719173</td>\n",
       "      <td>0.460603</td>\n",
       "      <td>1.000000</td>\n",
       "    </tr>\n",
       "  </tbody>\n",
       "</table>\n",
       "</div>"
      ],
      "text/plain": [
       "                        clump_thickness  cell_shape_uniformity  \\\n",
       "clump_thickness                1.000000               0.653968   \n",
       "cell_shape_uniformity          0.653968               1.000000   \n",
       "marginal_adhesion              0.488175               0.685735   \n",
       "single_epithelial_size         0.523891               0.722313   \n",
       "bare_nuclei                    0.593524               0.713661   \n",
       "bland_chromatin                0.553825               0.735460   \n",
       "normal_nucleoli                0.534406               0.717784   \n",
       "mitoses                        0.351100               0.441096   \n",
       "cell_size_uniformity           0.642936               0.907158   \n",
       "\n",
       "                        marginal_adhesion  single_epithelial_size  \\\n",
       "clump_thickness                  0.488175                0.523891   \n",
       "cell_shape_uniformity            0.685735                0.722313   \n",
       "marginal_adhesion                1.000000                0.594340   \n",
       "single_epithelial_size           0.594340                1.000000   \n",
       "bare_nuclei                      0.670434                0.585489   \n",
       "bland_chromatin                  0.668613                0.618135   \n",
       "normal_nucleoli                  0.602893                0.628743   \n",
       "mitoses                          0.418734                0.480451   \n",
       "cell_size_uniformity             0.706786                0.753415   \n",
       "\n",
       "                        bare_nuclei  bland_chromatin  normal_nucleoli  \\\n",
       "clump_thickness            0.593524         0.553825         0.534406   \n",
       "cell_shape_uniformity      0.713661         0.735460         0.717784   \n",
       "marginal_adhesion          0.670434         0.668613         0.602893   \n",
       "single_epithelial_size     0.585489         0.618135         0.628743   \n",
       "bare_nuclei                1.000000         0.680689         0.584022   \n",
       "bland_chromatin            0.680689         1.000000         0.665638   \n",
       "normal_nucleoli            0.584022         0.665638         1.000000   \n",
       "mitoses                    0.339005         0.345957         0.433602   \n",
       "cell_size_uniformity       0.691487         0.755663         0.719173   \n",
       "\n",
       "                         mitoses  cell_size_uniformity  \n",
       "clump_thickness         0.351100              0.642936  \n",
       "cell_shape_uniformity   0.441096              0.907158  \n",
       "marginal_adhesion       0.418734              0.706786  \n",
       "single_epithelial_size  0.480451              0.753415  \n",
       "bare_nuclei             0.339005              0.691487  \n",
       "bland_chromatin         0.345957              0.755663  \n",
       "normal_nucleoli         0.433602              0.719173  \n",
       "mitoses                 1.000000              0.460603  \n",
       "cell_size_uniformity    0.460603              1.000000  "
      ]
     },
     "execution_count": 45,
     "metadata": {},
     "output_type": "execute_result"
    }
   ],
   "source": [
    "cancer_corr = cancer.corr()\n",
    "\n",
    "cancer_corr"
   ]
  },
  {
   "cell_type": "code",
   "execution_count": 48,
   "metadata": {
    "collapsed": false
   },
   "outputs": [
    {
     "data": {
      "image/png": "[encoded data removed]",
      "text/plain": [
       "<matplotlib.figure.Figure at 0x117797250>"
      ]
     },
     "metadata": {},
     "output_type": "display_data"
    }
   ],
   "source": [
    "# Change figure size\n",
    "plt.rcParams['figure.figsize']=(9,7)\n",
    "\n",
    "# Generate mask for upper triangle\n",
    "mask = np.zeros_like(cancer_corr, dtype= np.bool)\n",
    "mask[np.triu_indices_from(mask)] = True\n",
    "\n",
    "# Plot the heatmap with seaborn\n",
    "# Assign plt axis the function return\n",
    "ax = sns.heatmap(cancer_corr, mask = mask, cmap='RdBu_r')\n",
    "\n",
    "plt.show()"
   ]
  },
  {
   "cell_type": "code",
   "execution_count": 49,
   "metadata": {
    "collapsed": true
   },
   "outputs": [],
   "source": [
    "import patsy\n",
    "\n"
   ]
  },
  {
   "cell_type": "code",
   "execution_count": 53,
   "metadata": {
    "collapsed": false
   },
   "outputs": [
    {
     "name": "stdout",
     "output_type": "stream",
     "text": [
      "cell_size_uniformity ~ clump_thickness + marginal_adhesion + single_epithelial_size + bare_nuclei + bland_chromatin + normal_nucleoli + mitoses -1\n"
     ]
    }
   ],
   "source": [
    "formula_simple = target + ' ~ ' + ' + '.join(predictors) + ' -1'\n",
    "print formula_simple"
   ]
  },
  {
   "cell_type": "code",
   "execution_count": 54,
   "metadata": {
    "collapsed": true
   },
   "outputs": [],
   "source": [
    "Y, X = patsy.dmatrices(formula_simple, data=cancer)"
   ]
  },
  {
   "cell_type": "code",
   "execution_count": 55,
   "metadata": {
    "collapsed": false
   },
   "outputs": [
    {
     "name": "stdout",
     "output_type": "stream",
     "text": [
      "(682, 7)\n"
     ]
    }
   ],
   "source": [
    "print X.shape"
   ]
  },
  {
   "cell_type": "code",
   "execution_count": 56,
   "metadata": {
    "collapsed": true
   },
   "outputs": [],
   "source": [
    "from sklearn.linear_model import Ridge, Lasso, ElasticNet"
   ]
  },
  {
   "cell_type": "code",
   "execution_count": 59,
   "metadata": {
    "collapsed": false
   },
   "outputs": [
    {
     "data": {
      "text/plain": [
       "array([[ 0.46100171,  0.46283043,  0.80059973,  0.27296721,  0.65210469,\n",
       "         0.4898092 ,  0.13183304]])"
      ]
     },
     "execution_count": 59,
     "metadata": {},
     "output_type": "execute_result"
    }
   ],
   "source": [
    "ridge_reg = Ridge(alpha=50)\n",
    "\n",
    "ridge_reg.fit(X,Y)\n",
    "\n",
    "ridge_reg.coef_"
   ]
  },
  {
   "cell_type": "code",
   "execution_count": 61,
   "metadata": {
    "collapsed": false
   },
   "outputs": [
    {
     "data": {
      "text/plain": [
       "array([ 0.,  0.,  0.,  0.,  0.,  0.,  0.])"
      ]
     },
     "execution_count": 61,
     "metadata": {},
     "output_type": "execute_result"
    }
   ],
   "source": [
    "lasso_reg = Lasso(alpha=50)\n",
    "lasso_reg.fit(X,Y)\n",
    "lasso_reg.coef_"
   ]
  },
  {
   "cell_type": "code",
   "execution_count": null,
   "metadata": {
    "collapsed": true
   },
   "outputs": [],
   "source": []
  }
 ],
 "metadata": {
  "kernelspec": {
   "display_name": "Python 2",
   "language": "python",
   "name": "python2"
  },
  "language_info": {
   "codemirror_mode": {
    "name": "ipython",
    "version": 2
   },
   "file_extension": ".py",
   "mimetype": "text/x-python",
   "name": "python",
   "nbconvert_exporter": "python",
   "pygments_lexer": "ipython2",
   "version": "2.7.11"
  }
 },
 "nbformat": 4,
 "nbformat_minor": 0
}
