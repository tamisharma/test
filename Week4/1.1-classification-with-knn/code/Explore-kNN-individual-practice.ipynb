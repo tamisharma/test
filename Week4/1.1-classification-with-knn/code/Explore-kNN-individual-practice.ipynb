{
 "cells": [
  {
   "cell_type": "markdown",
   "metadata": {},
   "source": [
    "# Individual practice with kNN\n",
    "\n",
    "In this exercise, load up one of these datasets:\n",
    "\n",
    "* Wisconsin breast cancer data\n",
    "* Affairs data\n",
    "* Project 3 data\n",
    "\n",
    "---\n",
    "\n",
    "You will be exploring the kNN algorithm with the data. This is an open-ended practice, in the sense that you will choose a target variable and predictors that you're interested in.\n",
    "\n",
    "There are some general guidelines for things to do below. But it is up to you if you want to follow them.\n",
    "\n",
    "[Feel free to borrow my matplotlib kNN boundary plotting code from the lecture, since it would be a pain to code up yourself.]\n",
    "\n",
    "---"
   ]
  },
  {
   "cell_type": "markdown",
   "metadata": {},
   "source": [
    "## 1. Load data and packages"
   ]
  },
  {
   "cell_type": "code",
   "execution_count": 14,
   "metadata": {
    "collapsed": true
   },
   "outputs": [],
   "source": [
    "import matplotlib.pyplot as plt\n",
    "import numpy as np\n",
    "import pandas as pd\n",
    "import re\n",
    "import patsy\n",
    "%matplotlib inline\n",
    "\n",
    "import seaborn as sns\n",
    "\n",
    "from sklearn.neighbors import KNeighborsClassifier"
   ]
  },
  {
   "cell_type": "code",
   "execution_count": 15,
   "metadata": {
    "collapsed": false
   },
   "outputs": [],
   "source": [
    "liquor = pd.read_csv('../../../../Iowa_Liquor_Sales_reduced.csv')"
   ]
  },
  {
   "cell_type": "code",
   "execution_count": 21,
   "metadata": {
    "collapsed": false
   },
   "outputs": [
    {
     "data": {
      "text/html": [
       "<div>\n",
       "<table border=\"1\" class=\"dataframe\">\n",
       "  <thead>\n",
       "    <tr style=\"text-align: right;\">\n",
       "      <th></th>\n",
       "      <th>Date</th>\n",
       "      <th>Store_Number</th>\n",
       "      <th>City</th>\n",
       "      <th>Zip_Code</th>\n",
       "      <th>County_Number</th>\n",
       "      <th>County</th>\n",
       "      <th>Category</th>\n",
       "      <th>Category_Name</th>\n",
       "      <th>Vendor_Number</th>\n",
       "      <th>Item_Number</th>\n",
       "      <th>Item_Description</th>\n",
       "      <th>Bottle_Volume_ml</th>\n",
       "      <th>State_Bottle_Cost</th>\n",
       "      <th>State_Bottle_Retail</th>\n",
       "      <th>Bottles_Sold</th>\n",
       "      <th>Sale_Dollars</th>\n",
       "      <th>Volume_Sold_Liters</th>\n",
       "      <th>Volume_Sold_Gallons</th>\n",
       "    </tr>\n",
       "  </thead>\n",
       "  <tbody>\n",
       "    <tr>\n",
       "      <th>0</th>\n",
       "      <td>03/31/2016</td>\n",
       "      <td>5029</td>\n",
       "      <td>DAVENPORT</td>\n",
       "      <td>52806</td>\n",
       "      <td>82.0</td>\n",
       "      <td>Scott</td>\n",
       "      <td>1022100.0</td>\n",
       "      <td>TEQUILA</td>\n",
       "      <td>370</td>\n",
       "      <td>87152</td>\n",
       "      <td>Avion Silver</td>\n",
       "      <td>375</td>\n",
       "      <td>9.99</td>\n",
       "      <td>14.99</td>\n",
       "      <td>12</td>\n",
       "      <td>179.88</td>\n",
       "      <td>4.5</td>\n",
       "      <td>1.19</td>\n",
       "    </tr>\n",
       "    <tr>\n",
       "      <th>1</th>\n",
       "      <td>03/31/2016</td>\n",
       "      <td>5029</td>\n",
       "      <td>DAVENPORT</td>\n",
       "      <td>52806</td>\n",
       "      <td>82.0</td>\n",
       "      <td>Scott</td>\n",
       "      <td>1022100.0</td>\n",
       "      <td>TEQUILA</td>\n",
       "      <td>395</td>\n",
       "      <td>89197</td>\n",
       "      <td>Jose Cuervo Especial Reposado Tequila</td>\n",
       "      <td>1000</td>\n",
       "      <td>12.50</td>\n",
       "      <td>18.75</td>\n",
       "      <td>2</td>\n",
       "      <td>37.50</td>\n",
       "      <td>2.0</td>\n",
       "      <td>0.53</td>\n",
       "    </tr>\n",
       "  </tbody>\n",
       "</table>\n",
       "</div>"
      ],
      "text/plain": [
       "         Date  Store_Number       City Zip_Code  County_Number County  \\\n",
       "0  03/31/2016          5029  DAVENPORT    52806           82.0  Scott   \n",
       "1  03/31/2016          5029  DAVENPORT    52806           82.0  Scott   \n",
       "\n",
       "    Category Category_Name  Vendor_Number  Item_Number  \\\n",
       "0  1022100.0       TEQUILA            370        87152   \n",
       "1  1022100.0       TEQUILA            395        89197   \n",
       "\n",
       "                        Item_Description  Bottle_Volume_ml  State_Bottle_Cost  \\\n",
       "0                           Avion Silver               375               9.99   \n",
       "1  Jose Cuervo Especial Reposado Tequila              1000              12.50   \n",
       "\n",
       "   State_Bottle_Retail  Bottles_Sold  Sale_Dollars  Volume_Sold_Liters  \\\n",
       "0                14.99            12        179.88                 4.5   \n",
       "1                18.75             2         37.50                 2.0   \n",
       "\n",
       "   Volume_Sold_Gallons  \n",
       "0                 1.19  \n",
       "1                 0.53  "
      ]
     },
     "execution_count": 21,
     "metadata": {},
     "output_type": "execute_result"
    }
   ],
   "source": [
    "liquor.head(2)"
   ]
  },
  {
   "cell_type": "code",
   "execution_count": 53,
   "metadata": {
    "collapsed": true
   },
   "outputs": [],
   "source": [
    "invest = liquor[['Store_Number','Sale_Dollars']].groupby('Store_Number').sum()"
   ]
  },
  {
   "cell_type": "code",
   "execution_count": 57,
   "metadata": {
    "collapsed": false
   },
   "outputs": [
    {
     "name": "stdout",
     "output_type": "stream",
     "text": [
      "Mean 249362.021589\n",
      "Median 86907.28\n",
      "count    1.403000e+03\n",
      "mean     2.493620e+05\n",
      "std      6.182766e+05\n",
      "min      6.031300e+02\n",
      "25%      3.789939e+04\n",
      "50%      8.690728e+04\n",
      "75%      2.294446e+05\n",
      "max      1.228265e+07\n",
      "Name: Sale_Dollars, dtype: float64\n"
     ]
    }
   ],
   "source": [
    "print \"Mean\", invest['Sale_Dollars'].mean()\n",
    "print \"Median\", invest['Sale_Dollars'].median()\n",
    "print invest['Sale_Dollars'].describe()"
   ]
  },
  {
   "cell_type": "markdown",
   "metadata": {},
   "source": [
    "Create an invest/don't invest threshold of $249362 for the stores"
   ]
  },
  {
   "cell_type": "code",
   "execution_count": 17,
   "metadata": {
    "collapsed": false
   },
   "outputs": [],
   "source": [
    "dollar_columns = ['State Bottle Cost',      # Pull cols with dollar values\n",
    "                  'State Bottle Retail', \n",
    "                  'Sale (Dollars)']\n",
    "\n",
    "liquor[dollar_columns] = \\\n",
    "liquor[dollar_columns].replace(             # Replace:\n",
    "    '[\\$,]',                                # Dollar signs with:\n",
    "    \"\",regex=True                           # Empty Space and\n",
    ").astype(float)"
   ]
  },
  {
   "cell_type": "code",
   "execution_count": 20,
   "metadata": {
    "collapsed": false
   },
   "outputs": [],
   "source": [
    "columns = liquor.columns.values\n",
    "\n",
    "new_cols = []                        # Create new list for assignment\n",
    "for column in columns:\n",
    "    col = re.sub('\\s+', '_', column) # Replace spaces with Underscores\n",
    "    col = re.sub('[()]','',col)      # Replace paren with emptyspace\n",
    "    new_cols.append(col)\n",
    "    \n",
    "liquor.columns = new_cols"
   ]
  },
  {
   "cell_type": "markdown",
   "metadata": {},
   "source": [
    "## 2. Pick predictors and target of interest"
   ]
  },
  {
   "cell_type": "code",
   "execution_count": 23,
   "metadata": {
    "collapsed": true
   },
   "outputs": [],
   "source": [
    "model = KNeighborsClassifier(n_neighbors=3)\n"
   ]
  },
  {
   "cell_type": "code",
   "execution_count": 31,
   "metadata": {
    "collapsed": true
   },
   "outputs": [],
   "source": [
    "formula = \"C(Category_Name) ~ Volume_Sold_Liters + Bottles_Sold + Sale_Dollars\"\n",
    "\n",
    "# Look at relationship of total sale for Bottles_Sold, \n",
    "# Volume and Category of alcohol sold"
   ]
  },
  {
   "cell_type": "markdown",
   "metadata": {},
   "source": [
    "## 3. Do exploratory data analysis with metrics (correlation, etc.) and plotting"
   ]
  },
  {
   "cell_type": "code",
   "execution_count": 32,
   "metadata": {
    "collapsed": false
   },
   "outputs": [
    {
     "data": {
      "text/html": [
       "<div>\n",
       "<table border=\"1\" class=\"dataframe\">\n",
       "  <thead>\n",
       "    <tr style=\"text-align: right;\">\n",
       "      <th></th>\n",
       "      <th>Store_Number</th>\n",
       "      <th>County_Number</th>\n",
       "      <th>Category</th>\n",
       "      <th>Vendor_Number</th>\n",
       "      <th>Item_Number</th>\n",
       "      <th>Bottle_Volume_ml</th>\n",
       "      <th>State_Bottle_Cost</th>\n",
       "      <th>State_Bottle_Retail</th>\n",
       "      <th>Bottles_Sold</th>\n",
       "      <th>Sale_Dollars</th>\n",
       "      <th>Volume_Sold_Liters</th>\n",
       "      <th>Volume_Sold_Gallons</th>\n",
       "    </tr>\n",
       "  </thead>\n",
       "  <tbody>\n",
       "    <tr>\n",
       "      <th>Store_Number</th>\n",
       "      <td>1.000000</td>\n",
       "      <td>0.006428</td>\n",
       "      <td>-0.011890</td>\n",
       "      <td>-0.004009</td>\n",
       "      <td>-0.025724</td>\n",
       "      <td>-0.057311</td>\n",
       "      <td>-0.037101</td>\n",
       "      <td>-0.037164</td>\n",
       "      <td>0.014656</td>\n",
       "      <td>-0.018042</td>\n",
       "      <td>-0.017166</td>\n",
       "      <td>-0.017155</td>\n",
       "    </tr>\n",
       "    <tr>\n",
       "      <th>County_Number</th>\n",
       "      <td>0.006428</td>\n",
       "      <td>1.000000</td>\n",
       "      <td>-0.007005</td>\n",
       "      <td>0.000799</td>\n",
       "      <td>0.009171</td>\n",
       "      <td>-0.026037</td>\n",
       "      <td>0.006268</td>\n",
       "      <td>0.006235</td>\n",
       "      <td>0.017886</td>\n",
       "      <td>0.016652</td>\n",
       "      <td>0.007545</td>\n",
       "      <td>0.007555</td>\n",
       "    </tr>\n",
       "    <tr>\n",
       "      <th>Category</th>\n",
       "      <td>-0.011890</td>\n",
       "      <td>-0.007005</td>\n",
       "      <td>1.000000</td>\n",
       "      <td>0.093939</td>\n",
       "      <td>0.111992</td>\n",
       "      <td>-0.006541</td>\n",
       "      <td>-0.007640</td>\n",
       "      <td>-0.007724</td>\n",
       "      <td>0.001862</td>\n",
       "      <td>0.006617</td>\n",
       "      <td>-0.004900</td>\n",
       "      <td>-0.004892</td>\n",
       "    </tr>\n",
       "    <tr>\n",
       "      <th>Vendor_Number</th>\n",
       "      <td>-0.004009</td>\n",
       "      <td>0.000799</td>\n",
       "      <td>0.093939</td>\n",
       "      <td>1.000000</td>\n",
       "      <td>0.134106</td>\n",
       "      <td>0.024174</td>\n",
       "      <td>0.001371</td>\n",
       "      <td>0.001179</td>\n",
       "      <td>-0.000784</td>\n",
       "      <td>-0.010784</td>\n",
       "      <td>-0.006085</td>\n",
       "      <td>-0.006081</td>\n",
       "    </tr>\n",
       "    <tr>\n",
       "      <th>Item_Number</th>\n",
       "      <td>-0.025724</td>\n",
       "      <td>0.009171</td>\n",
       "      <td>0.111992</td>\n",
       "      <td>0.134106</td>\n",
       "      <td>1.000000</td>\n",
       "      <td>-0.042872</td>\n",
       "      <td>0.080360</td>\n",
       "      <td>0.080230</td>\n",
       "      <td>-0.001215</td>\n",
       "      <td>0.011160</td>\n",
       "      <td>-0.007188</td>\n",
       "      <td>-0.007178</td>\n",
       "    </tr>\n",
       "    <tr>\n",
       "      <th>Bottle_Volume_ml</th>\n",
       "      <td>-0.057311</td>\n",
       "      <td>-0.026037</td>\n",
       "      <td>-0.006541</td>\n",
       "      <td>0.024174</td>\n",
       "      <td>-0.042872</td>\n",
       "      <td>1.000000</td>\n",
       "      <td>0.343526</td>\n",
       "      <td>0.343950</td>\n",
       "      <td>-0.013334</td>\n",
       "      <td>0.080751</td>\n",
       "      <td>0.144235</td>\n",
       "      <td>0.144081</td>\n",
       "    </tr>\n",
       "    <tr>\n",
       "      <th>State_Bottle_Cost</th>\n",
       "      <td>-0.037101</td>\n",
       "      <td>0.006268</td>\n",
       "      <td>-0.007640</td>\n",
       "      <td>0.001371</td>\n",
       "      <td>0.080360</td>\n",
       "      <td>0.343526</td>\n",
       "      <td>1.000000</td>\n",
       "      <td>0.999991</td>\n",
       "      <td>-0.030318</td>\n",
       "      <td>0.106190</td>\n",
       "      <td>0.008450</td>\n",
       "      <td>0.008436</td>\n",
       "    </tr>\n",
       "    <tr>\n",
       "      <th>State_Bottle_Retail</th>\n",
       "      <td>-0.037164</td>\n",
       "      <td>0.006235</td>\n",
       "      <td>-0.007724</td>\n",
       "      <td>0.001179</td>\n",
       "      <td>0.080230</td>\n",
       "      <td>0.343950</td>\n",
       "      <td>0.999991</td>\n",
       "      <td>1.000000</td>\n",
       "      <td>-0.030261</td>\n",
       "      <td>0.106257</td>\n",
       "      <td>0.008641</td>\n",
       "      <td>0.008627</td>\n",
       "    </tr>\n",
       "    <tr>\n",
       "      <th>Bottles_Sold</th>\n",
       "      <td>0.014656</td>\n",
       "      <td>0.017886</td>\n",
       "      <td>0.001862</td>\n",
       "      <td>-0.000784</td>\n",
       "      <td>-0.001215</td>\n",
       "      <td>-0.013334</td>\n",
       "      <td>-0.030318</td>\n",
       "      <td>-0.030261</td>\n",
       "      <td>1.000000</td>\n",
       "      <td>0.836082</td>\n",
       "      <td>0.890409</td>\n",
       "      <td>0.890440</td>\n",
       "    </tr>\n",
       "    <tr>\n",
       "      <th>Sale_Dollars</th>\n",
       "      <td>-0.018042</td>\n",
       "      <td>0.016652</td>\n",
       "      <td>0.006617</td>\n",
       "      <td>-0.010784</td>\n",
       "      <td>0.011160</td>\n",
       "      <td>0.080751</td>\n",
       "      <td>0.106190</td>\n",
       "      <td>0.106257</td>\n",
       "      <td>0.836082</td>\n",
       "      <td>1.000000</td>\n",
       "      <td>0.840192</td>\n",
       "      <td>0.840204</td>\n",
       "    </tr>\n",
       "    <tr>\n",
       "      <th>Volume_Sold_Liters</th>\n",
       "      <td>-0.017166</td>\n",
       "      <td>0.007545</td>\n",
       "      <td>-0.004900</td>\n",
       "      <td>-0.006085</td>\n",
       "      <td>-0.007188</td>\n",
       "      <td>0.144235</td>\n",
       "      <td>0.008450</td>\n",
       "      <td>0.008641</td>\n",
       "      <td>0.890409</td>\n",
       "      <td>0.840192</td>\n",
       "      <td>1.000000</td>\n",
       "      <td>1.000000</td>\n",
       "    </tr>\n",
       "    <tr>\n",
       "      <th>Volume_Sold_Gallons</th>\n",
       "      <td>-0.017155</td>\n",
       "      <td>0.007555</td>\n",
       "      <td>-0.004892</td>\n",
       "      <td>-0.006081</td>\n",
       "      <td>-0.007178</td>\n",
       "      <td>0.144081</td>\n",
       "      <td>0.008436</td>\n",
       "      <td>0.008627</td>\n",
       "      <td>0.890440</td>\n",
       "      <td>0.840204</td>\n",
       "      <td>1.000000</td>\n",
       "      <td>1.000000</td>\n",
       "    </tr>\n",
       "  </tbody>\n",
       "</table>\n",
       "</div>"
      ],
      "text/plain": [
       "                     Store_Number  County_Number  Category  Vendor_Number  \\\n",
       "Store_Number             1.000000       0.006428 -0.011890      -0.004009   \n",
       "County_Number            0.006428       1.000000 -0.007005       0.000799   \n",
       "Category                -0.011890      -0.007005  1.000000       0.093939   \n",
       "Vendor_Number           -0.004009       0.000799  0.093939       1.000000   \n",
       "Item_Number             -0.025724       0.009171  0.111992       0.134106   \n",
       "Bottle_Volume_ml        -0.057311      -0.026037 -0.006541       0.024174   \n",
       "State_Bottle_Cost       -0.037101       0.006268 -0.007640       0.001371   \n",
       "State_Bottle_Retail     -0.037164       0.006235 -0.007724       0.001179   \n",
       "Bottles_Sold             0.014656       0.017886  0.001862      -0.000784   \n",
       "Sale_Dollars            -0.018042       0.016652  0.006617      -0.010784   \n",
       "Volume_Sold_Liters      -0.017166       0.007545 -0.004900      -0.006085   \n",
       "Volume_Sold_Gallons     -0.017155       0.007555 -0.004892      -0.006081   \n",
       "\n",
       "                     Item_Number  Bottle_Volume_ml  State_Bottle_Cost  \\\n",
       "Store_Number           -0.025724         -0.057311          -0.037101   \n",
       "County_Number           0.009171         -0.026037           0.006268   \n",
       "Category                0.111992         -0.006541          -0.007640   \n",
       "Vendor_Number           0.134106          0.024174           0.001371   \n",
       "Item_Number             1.000000         -0.042872           0.080360   \n",
       "Bottle_Volume_ml       -0.042872          1.000000           0.343526   \n",
       "State_Bottle_Cost       0.080360          0.343526           1.000000   \n",
       "State_Bottle_Retail     0.080230          0.343950           0.999991   \n",
       "Bottles_Sold           -0.001215         -0.013334          -0.030318   \n",
       "Sale_Dollars            0.011160          0.080751           0.106190   \n",
       "Volume_Sold_Liters     -0.007188          0.144235           0.008450   \n",
       "Volume_Sold_Gallons    -0.007178          0.144081           0.008436   \n",
       "\n",
       "                     State_Bottle_Retail  Bottles_Sold  Sale_Dollars  \\\n",
       "Store_Number                   -0.037164      0.014656     -0.018042   \n",
       "County_Number                   0.006235      0.017886      0.016652   \n",
       "Category                       -0.007724      0.001862      0.006617   \n",
       "Vendor_Number                   0.001179     -0.000784     -0.010784   \n",
       "Item_Number                     0.080230     -0.001215      0.011160   \n",
       "Bottle_Volume_ml                0.343950     -0.013334      0.080751   \n",
       "State_Bottle_Cost               0.999991     -0.030318      0.106190   \n",
       "State_Bottle_Retail             1.000000     -0.030261      0.106257   \n",
       "Bottles_Sold                   -0.030261      1.000000      0.836082   \n",
       "Sale_Dollars                    0.106257      0.836082      1.000000   \n",
       "Volume_Sold_Liters              0.008641      0.890409      0.840192   \n",
       "Volume_Sold_Gallons             0.008627      0.890440      0.840204   \n",
       "\n",
       "                     Volume_Sold_Liters  Volume_Sold_Gallons  \n",
       "Store_Number                  -0.017166            -0.017155  \n",
       "County_Number                  0.007545             0.007555  \n",
       "Category                      -0.004900            -0.004892  \n",
       "Vendor_Number                 -0.006085            -0.006081  \n",
       "Item_Number                   -0.007188            -0.007178  \n",
       "Bottle_Volume_ml               0.144235             0.144081  \n",
       "State_Bottle_Cost              0.008450             0.008436  \n",
       "State_Bottle_Retail            0.008641             0.008627  \n",
       "Bottles_Sold                   0.890409             0.890440  \n",
       "Sale_Dollars                   0.840192             0.840204  \n",
       "Volume_Sold_Liters             1.000000             1.000000  \n",
       "Volume_Sold_Gallons            1.000000             1.000000  "
      ]
     },
     "execution_count": 32,
     "metadata": {},
     "output_type": "execute_result"
    }
   ],
   "source": [
    "liquor.corr()"
   ]
  },
  {
   "cell_type": "code",
   "execution_count": 33,
   "metadata": {
    "collapsed": true
   },
   "outputs": [],
   "source": [
    "Y, X = patsy.dmatrices (formula, data=liquor)"
   ]
  },
  {
   "cell_type": "code",
   "execution_count": 34,
   "metadata": {
    "collapsed": true
   },
   "outputs": [],
   "source": [
    "Y = np.ravel(Y)"
   ]
  },
  {
   "cell_type": "code",
   "execution_count": 35,
   "metadata": {
    "collapsed": false
   },
   "outputs": [
    {
     "ename": "ValueError",
     "evalue": "Found arrays with inconsistent numbers of samples: [  2703443 197351339]",
     "output_type": "error",
     "traceback": [
      "\u001b[0;31m---------------------------------------------------------------------------\u001b[0m",
      "\u001b[0;31mValueError\u001b[0m                                Traceback (most recent call last)",
      "\u001b[0;32m<ipython-input-35-593ca6fa3cb0>\u001b[0m in \u001b[0;36m<module>\u001b[0;34m()\u001b[0m\n\u001b[0;32m----> 1\u001b[0;31m \u001b[0mmodel\u001b[0m\u001b[0;34m.\u001b[0m\u001b[0mfit\u001b[0m\u001b[0;34m(\u001b[0m\u001b[0mX\u001b[0m\u001b[0;34m,\u001b[0m\u001b[0mY\u001b[0m\u001b[0;34m)\u001b[0m\u001b[0;34m\u001b[0m\u001b[0m\n\u001b[0m",
      "\u001b[0;32m/Users/sebozek/anaconda/lib/python2.7/site-packages/sklearn/neighbors/base.pyc\u001b[0m in \u001b[0;36mfit\u001b[0;34m(self, X, y)\u001b[0m\n\u001b[1;32m    776\u001b[0m         \"\"\"\n\u001b[1;32m    777\u001b[0m         \u001b[0;32mif\u001b[0m \u001b[0;32mnot\u001b[0m \u001b[0misinstance\u001b[0m\u001b[0;34m(\u001b[0m\u001b[0mX\u001b[0m\u001b[0;34m,\u001b[0m \u001b[0;34m(\u001b[0m\u001b[0mKDTree\u001b[0m\u001b[0;34m,\u001b[0m \u001b[0mBallTree\u001b[0m\u001b[0;34m)\u001b[0m\u001b[0;34m)\u001b[0m\u001b[0;34m:\u001b[0m\u001b[0;34m\u001b[0m\u001b[0m\n\u001b[0;32m--> 778\u001b[0;31m             \u001b[0mX\u001b[0m\u001b[0;34m,\u001b[0m \u001b[0my\u001b[0m \u001b[0;34m=\u001b[0m \u001b[0mcheck_X_y\u001b[0m\u001b[0;34m(\u001b[0m\u001b[0mX\u001b[0m\u001b[0;34m,\u001b[0m \u001b[0my\u001b[0m\u001b[0;34m,\u001b[0m \u001b[0;34m\"csr\"\u001b[0m\u001b[0;34m,\u001b[0m \u001b[0mmulti_output\u001b[0m\u001b[0;34m=\u001b[0m\u001b[0mTrue\u001b[0m\u001b[0;34m)\u001b[0m\u001b[0;34m\u001b[0m\u001b[0m\n\u001b[0m\u001b[1;32m    779\u001b[0m \u001b[0;34m\u001b[0m\u001b[0m\n\u001b[1;32m    780\u001b[0m         \u001b[0;32mif\u001b[0m \u001b[0my\u001b[0m\u001b[0;34m.\u001b[0m\u001b[0mndim\u001b[0m \u001b[0;34m==\u001b[0m \u001b[0;36m1\u001b[0m \u001b[0;32mor\u001b[0m \u001b[0my\u001b[0m\u001b[0;34m.\u001b[0m\u001b[0mndim\u001b[0m \u001b[0;34m==\u001b[0m \u001b[0;36m2\u001b[0m \u001b[0;32mand\u001b[0m \u001b[0my\u001b[0m\u001b[0;34m.\u001b[0m\u001b[0mshape\u001b[0m\u001b[0;34m[\u001b[0m\u001b[0;36m1\u001b[0m\u001b[0;34m]\u001b[0m \u001b[0;34m==\u001b[0m \u001b[0;36m1\u001b[0m\u001b[0;34m:\u001b[0m\u001b[0;34m\u001b[0m\u001b[0m\n",
      "\u001b[0;32m/Users/sebozek/anaconda/lib/python2.7/site-packages/sklearn/utils/validation.pyc\u001b[0m in \u001b[0;36mcheck_X_y\u001b[0;34m(X, y, accept_sparse, dtype, order, copy, force_all_finite, ensure_2d, allow_nd, multi_output, ensure_min_samples, ensure_min_features, y_numeric, warn_on_dtype, estimator)\u001b[0m\n\u001b[1;32m    518\u001b[0m         \u001b[0my\u001b[0m \u001b[0;34m=\u001b[0m \u001b[0my\u001b[0m\u001b[0;34m.\u001b[0m\u001b[0mastype\u001b[0m\u001b[0;34m(\u001b[0m\u001b[0mnp\u001b[0m\u001b[0;34m.\u001b[0m\u001b[0mfloat64\u001b[0m\u001b[0;34m)\u001b[0m\u001b[0;34m\u001b[0m\u001b[0m\n\u001b[1;32m    519\u001b[0m \u001b[0;34m\u001b[0m\u001b[0m\n\u001b[0;32m--> 520\u001b[0;31m     \u001b[0mcheck_consistent_length\u001b[0m\u001b[0;34m(\u001b[0m\u001b[0mX\u001b[0m\u001b[0;34m,\u001b[0m \u001b[0my\u001b[0m\u001b[0;34m)\u001b[0m\u001b[0;34m\u001b[0m\u001b[0m\n\u001b[0m\u001b[1;32m    521\u001b[0m \u001b[0;34m\u001b[0m\u001b[0m\n\u001b[1;32m    522\u001b[0m     \u001b[0;32mreturn\u001b[0m \u001b[0mX\u001b[0m\u001b[0;34m,\u001b[0m \u001b[0my\u001b[0m\u001b[0;34m\u001b[0m\u001b[0m\n",
      "\u001b[0;32m/Users/sebozek/anaconda/lib/python2.7/site-packages/sklearn/utils/validation.pyc\u001b[0m in \u001b[0;36mcheck_consistent_length\u001b[0;34m(*arrays)\u001b[0m\n\u001b[1;32m    174\u001b[0m     \u001b[0;32mif\u001b[0m \u001b[0mlen\u001b[0m\u001b[0;34m(\u001b[0m\u001b[0muniques\u001b[0m\u001b[0;34m)\u001b[0m \u001b[0;34m>\u001b[0m \u001b[0;36m1\u001b[0m\u001b[0;34m:\u001b[0m\u001b[0;34m\u001b[0m\u001b[0m\n\u001b[1;32m    175\u001b[0m         raise ValueError(\"Found arrays with inconsistent numbers of samples: \"\n\u001b[0;32m--> 176\u001b[0;31m                          \"%s\" % str(uniques))\n\u001b[0m\u001b[1;32m    177\u001b[0m \u001b[0;34m\u001b[0m\u001b[0m\n\u001b[1;32m    178\u001b[0m \u001b[0;34m\u001b[0m\u001b[0m\n",
      "\u001b[0;31mValueError\u001b[0m: Found arrays with inconsistent numbers of samples: [  2703443 197351339]"
     ]
    }
   ],
   "source": [
    "model.fit(X,Y)"
   ]
  },
  {
   "cell_type": "markdown",
   "metadata": {},
   "source": [
    "## 4. Make X and Y cross-validation folds\n",
    "\n",
    "BONUS: Use StratifiedKFold"
   ]
  },
  {
   "cell_type": "code",
   "execution_count": null,
   "metadata": {
    "collapsed": true
   },
   "outputs": [],
   "source": []
  },
  {
   "cell_type": "markdown",
   "metadata": {},
   "source": [
    "## 5. Create the kNN classifier from sklearn"
   ]
  },
  {
   "cell_type": "code",
   "execution_count": null,
   "metadata": {
    "collapsed": true
   },
   "outputs": [],
   "source": []
  },
  {
   "cell_type": "markdown",
   "metadata": {},
   "source": [
    "## 6. Cross-validate accuracy\n",
    "\n",
    "Try out:\n",
    "\n",
    "* weights='uniform' and weights='distance'\n",
    "* 3 different values for k"
   ]
  },
  {
   "cell_type": "code",
   "execution_count": null,
   "metadata": {
    "collapsed": true
   },
   "outputs": [],
   "source": []
  },
  {
   "cell_type": "markdown",
   "metadata": {},
   "source": [
    "## 7. Plot out data points and boundary for neighbors\n",
    "\n",
    "This will require you to choose just 2 predictors and a target variable.\n",
    "\n",
    "Please feel free to borrow my plotting code! If you want, walk through the code and get an understanding for how it works, and you can of course ask me to explain in more detail."
   ]
  },
  {
   "cell_type": "code",
   "execution_count": null,
   "metadata": {
    "collapsed": true
   },
   "outputs": [],
   "source": []
  }
 ],
 "metadata": {
  "kernelspec": {
   "display_name": "Python 2",
   "language": "python",
   "name": "python2"
  },
  "language_info": {
   "codemirror_mode": {
    "name": "ipython",
    "version": 2
   },
   "file_extension": ".py",
   "mimetype": "text/x-python",
   "name": "python",
   "nbconvert_exporter": "python",
   "pygments_lexer": "ipython2",
   "version": "2.7.11"
  }
 },
 "nbformat": 4,
 "nbformat_minor": 0
}
