{
 "cells": [
  {
   "cell_type": "markdown",
   "metadata": {},
   "source": [
    "# Data Workflow Lab 2\n",
    "\n",
    "Proceed with your analysis of the Project 3 data set. You may need to compute new columns as you proceed. Fit one or more linear models to the data, investigate model fits and outliers, use regularization when appropriate.\n",
    "\n",
    "### Learning objectives\n",
    "- Perform exploratory analysis\n",
    "- Generate correlation matrix of the features\n",
    "- Generate linear regression models\n",
    "- Evaluate model fit\n",
    "\n",
    "If appropriate for your models and featuers:\n",
    "- Use [feature selection](http://scikit-learn.org/stable/modules/feature_selection.html) to pick the best features\n",
    "- Try different regularization options"
   ]
  },
  {
   "cell_type": "code",
   "execution_count": 1,
   "metadata": {
    "collapsed": true
   },
   "outputs": [],
   "source": [
    "% matplotlib inline\n",
    "\n",
    "from collections import defaultdict\n",
    "import datetime\n",
    "\n",
    "from matplotlib import pyplot as plt\n",
    "# Make the plots bigger\n",
    "plt.rcParams['figure.figsize'] = 10, 10\n",
    "import seaborn as sns\n",
    "\n",
    "import numpy as np\n",
    "import pandas as pd\n",
    "from sklearn import linear_model"
   ]
  },
  {
   "cell_type": "code",
   "execution_count": 4,
   "metadata": {
    "collapsed": false
   },
   "outputs": [
    {
     "data": {
      "text/html": [
       "<div>\n",
       "<table border=\"1\" class=\"dataframe\">\n",
       "  <thead>\n",
       "    <tr style=\"text-align: right;\">\n",
       "      <th></th>\n",
       "      <th>Unnamed: 0</th>\n",
       "      <th>Store Number</th>\n",
       "      <th>City</th>\n",
       "      <th>2015 Sales</th>\n",
       "      <th>2015 Sales mean</th>\n",
       "      <th>County Number</th>\n",
       "      <th>Price per Liter mean</th>\n",
       "      <th>Zip Code</th>\n",
       "      <th>2015 Volume Sold (Liters)</th>\n",
       "      <th>2015 Volume Sold (Liters) mean</th>\n",
       "      <th>2015 Margin mean</th>\n",
       "      <th>2015 Sales Q1</th>\n",
       "      <th>2016 Sales Q1</th>\n",
       "      <th>First Date</th>\n",
       "      <th>Last Date</th>\n",
       "    </tr>\n",
       "  </thead>\n",
       "  <tbody>\n",
       "    <tr>\n",
       "      <th>0</th>\n",
       "      <td>0</td>\n",
       "      <td>2106</td>\n",
       "      <td>CEDAR FALLS</td>\n",
       "      <td>1434021.94</td>\n",
       "      <td>281.070549</td>\n",
       "      <td>7</td>\n",
       "      <td>18.846731</td>\n",
       "      <td>50613</td>\n",
       "      <td>93982.72</td>\n",
       "      <td>18.420760</td>\n",
       "      <td>93.802281</td>\n",
       "      <td>337166.53</td>\n",
       "      <td>337804.05</td>\n",
       "      <td>2015-01-08</td>\n",
       "      <td>2016-03-31</td>\n",
       "    </tr>\n",
       "    <tr>\n",
       "      <th>1</th>\n",
       "      <td>1</td>\n",
       "      <td>2113</td>\n",
       "      <td>GOWRIE</td>\n",
       "      <td>85763.42</td>\n",
       "      <td>63.015004</td>\n",
       "      <td>94</td>\n",
       "      <td>17.625704</td>\n",
       "      <td>50543</td>\n",
       "      <td>6500.83</td>\n",
       "      <td>4.776510</td>\n",
       "      <td>21.082425</td>\n",
       "      <td>22351.86</td>\n",
       "      <td>21736.63</td>\n",
       "      <td>2015-01-07</td>\n",
       "      <td>2016-03-30</td>\n",
       "    </tr>\n",
       "    <tr>\n",
       "      <th>2</th>\n",
       "      <td>2</td>\n",
       "      <td>2130</td>\n",
       "      <td>WATERLOO</td>\n",
       "      <td>1108184.99</td>\n",
       "      <td>280.624206</td>\n",
       "      <td>7</td>\n",
       "      <td>17.506599</td>\n",
       "      <td>50703</td>\n",
       "      <td>65562.88</td>\n",
       "      <td>16.602401</td>\n",
       "      <td>93.612494</td>\n",
       "      <td>277764.46</td>\n",
       "      <td>306942.27</td>\n",
       "      <td>2015-01-08</td>\n",
       "      <td>2016-03-31</td>\n",
       "    </tr>\n",
       "    <tr>\n",
       "      <th>3</th>\n",
       "      <td>3</td>\n",
       "      <td>2152</td>\n",
       "      <td>ROCKWELL</td>\n",
       "      <td>72080.36</td>\n",
       "      <td>50.230216</td>\n",
       "      <td>17</td>\n",
       "      <td>13.043590</td>\n",
       "      <td>50469</td>\n",
       "      <td>6164.92</td>\n",
       "      <td>4.296111</td>\n",
       "      <td>16.824704</td>\n",
       "      <td>16805.11</td>\n",
       "      <td>9307.75</td>\n",
       "      <td>2015-01-08</td>\n",
       "      <td>2016-02-25</td>\n",
       "    </tr>\n",
       "    <tr>\n",
       "      <th>4</th>\n",
       "      <td>4</td>\n",
       "      <td>2178</td>\n",
       "      <td>WAUKON</td>\n",
       "      <td>277987.96</td>\n",
       "      <td>104.389020</td>\n",
       "      <td>3</td>\n",
       "      <td>16.594438</td>\n",
       "      <td>52172</td>\n",
       "      <td>21719.49</td>\n",
       "      <td>8.156023</td>\n",
       "      <td>35.011457</td>\n",
       "      <td>54411.42</td>\n",
       "      <td>58939.90</td>\n",
       "      <td>2015-01-07</td>\n",
       "      <td>2016-03-30</td>\n",
       "    </tr>\n",
       "  </tbody>\n",
       "</table>\n",
       "</div>"
      ],
      "text/plain": [
       "   Unnamed: 0  Store Number         City  2015 Sales  2015 Sales mean  \\\n",
       "0           0          2106  CEDAR FALLS  1434021.94       281.070549   \n",
       "1           1          2113       GOWRIE    85763.42        63.015004   \n",
       "2           2          2130     WATERLOO  1108184.99       280.624206   \n",
       "3           3          2152     ROCKWELL    72080.36        50.230216   \n",
       "4           4          2178       WAUKON   277987.96       104.389020   \n",
       "\n",
       "   County Number  Price per Liter mean Zip Code  2015 Volume Sold (Liters)  \\\n",
       "0              7             18.846731    50613                   93982.72   \n",
       "1             94             17.625704    50543                    6500.83   \n",
       "2              7             17.506599    50703                   65562.88   \n",
       "3             17             13.043590    50469                    6164.92   \n",
       "4              3             16.594438    52172                   21719.49   \n",
       "\n",
       "   2015 Volume Sold (Liters) mean  2015 Margin mean  2015 Sales Q1  \\\n",
       "0                       18.420760         93.802281      337166.53   \n",
       "1                        4.776510         21.082425       22351.86   \n",
       "2                       16.602401         93.612494      277764.46   \n",
       "3                        4.296111         16.824704       16805.11   \n",
       "4                        8.156023         35.011457       54411.42   \n",
       "\n",
       "   2016 Sales Q1  First Date   Last Date  \n",
       "0      337804.05  2015-01-08  2016-03-31  \n",
       "1       21736.63  2015-01-07  2016-03-30  \n",
       "2      306942.27  2015-01-08  2016-03-31  \n",
       "3        9307.75  2015-01-08  2016-02-25  \n",
       "4       58939.90  2015-01-07  2016-03-30  "
      ]
     },
     "execution_count": 4,
     "metadata": {},
     "output_type": "execute_result"
    }
   ],
   "source": [
    "# Load the data from the previous lab\n",
    "# If you changed the name you'll need to edit the next line\n",
    "sales = pd.read_csv(\"../../assets/datasets/sales.csv\")\n",
    "\n",
    "# Convert dates\n",
    "sales.head()"
   ]
  },
  {
   "cell_type": "markdown",
   "metadata": {},
   "source": [
    "## Exploratory Analysis\n",
    "Make some plots, look at correlations, etc."
   ]
  },
  {
   "cell_type": "code",
   "execution_count": null,
   "metadata": {
    "collapsed": false
   },
   "outputs": [],
   "source": [
    "# Compute correlations\n"
   ]
  },
  {
   "cell_type": "code",
   "execution_count": null,
   "metadata": {
    "collapsed": false
   },
   "outputs": [],
   "source": [
    "# Perform some exploratory analysis, make a few plots"
   ]
  },
  {
   "cell_type": "code",
   "execution_count": null,
   "metadata": {
    "collapsed": false
   },
   "outputs": [],
   "source": [
    "# Fit a linear model\n",
    "\n",
    "# Plot the data and the best fit line\n",
    "\n",
    "# Compute the model fit\n"
   ]
  },
  {
   "cell_type": "code",
   "execution_count": null,
   "metadata": {
    "collapsed": false
   },
   "outputs": [],
   "source": [
    "# Predict Total 2016 sales, compare to 2015\n"
   ]
  },
  {
   "cell_type": "code",
   "execution_count": null,
   "metadata": {
    "collapsed": false
   },
   "outputs": [],
   "source": [
    "# Try per zip code or city to get better resolution\n",
    "\n"
   ]
  },
  {
   "cell_type": "code",
   "execution_count": null,
   "metadata": {
    "collapsed": false
   },
   "outputs": [],
   "source": [
    "# Filter out stores that opened or closed throughout the year\n",
    "# If this wasn't done already\n"
   ]
  },
  {
   "cell_type": "code",
   "execution_count": null,
   "metadata": {
    "collapsed": false
   },
   "outputs": [],
   "source": [
    "# Fit another model\n",
    "\n",
    "# Compute the model fit\n"
   ]
  },
  {
   "cell_type": "code",
   "execution_count": null,
   "metadata": {
    "collapsed": false
   },
   "outputs": [],
   "source": [
    "# Predict Total 2016 sales, compare to 2015\n"
   ]
  }
 ],
 "metadata": {
  "kernelspec": {
   "display_name": "Python 2",
   "language": "python",
   "name": "python2"
  },
  "language_info": {
   "codemirror_mode": {
    "name": "ipython",
    "version": 2
   },
   "file_extension": ".py",
   "mimetype": "text/x-python",
   "name": "python",
   "nbconvert_exporter": "python",
   "pygments_lexer": "ipython2",
   "version": "2.7.11"
  }
 },
 "nbformat": 4,
 "nbformat_minor": 0
}
