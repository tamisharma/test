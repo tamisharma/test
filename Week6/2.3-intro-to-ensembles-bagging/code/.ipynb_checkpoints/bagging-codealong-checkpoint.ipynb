{
 "cells": [
  {
   "cell_type": "markdown",
   "metadata": {},
   "source": [
    "# Bagging codealong\n",
    "\n",
    "We will be looking at a dataset of San Francisco crime rates. Specifically, we will be predicting the **type of crime based on other information about the crime**.\n",
    "\n",
    "I munged/cleaned this [from the full kaggle dataset](https://www.kaggle.com/c/sf-crime).\n",
    "\n",
    "---"
   ]
  },
  {
   "cell_type": "markdown",
   "metadata": {},
   "source": [
    "### Crime dataset\n",
    "\n",
    "There are 4 datasets in the data folder. The `*_mini_*` csv files are reduced to be small, for speed. We will be using these in the codealong. However, if you're interested, the `*_subset_*` csvs are a larger sample you could use to test your models.\n",
    "\n",
    "The `*_cats.csv` files contain 36 various predictors.\n",
    "\n",
    "    ../assets/datasets/sf_crime_mini_cats.csv\n",
    "    ../assets/datasets/sf_crime_subset_cats.csv\n",
    "    \n",
    "The `*_adds.csv` files contain many more predictors. CountVectorizer was used to create columns based on the reported address of the crime, providing more granular, categorical location information.\n",
    "    \n",
    "    ../assets/datasets/sf_crime_mini_adds.csv\n",
    "    ../assets/datasets/sf_crime_subset_adds.csv\n",
    "    \n",
    "---\n",
    "\n",
    "The columns (not including the NLP street columns in the `adds` csvs) are:\n",
    "\n",
    "    crime_category\n",
    "    crime\n",
    "    DayOfWeek[Friday]\n",
    "    DayOfWeek[Monday]\n",
    "    DayOfWeek[Saturday]\n",
    "    DayOfWeek[Sunday]\n",
    "    DayOfWeek[Thursday]\n",
    "    DayOfWeek[Tuesday]\n",
    "    DayOfWeek[Wednesday]\n",
    "    PdDistrict[T.CENTRAL]\n",
    "    PdDistrict[T.INGLESIDE]\n",
    "    PdDistrict[T.MISSION]\n",
    "    PdDistrict[T.NORTHERN]\n",
    "    PdDistrict[T.PARK]\n",
    "    PdDistrict[T.RICHMOND]\n",
    "    PdDistrict[T.SOUTHERN]\n",
    "    PdDistrict[T.TARAVAL]\n",
    "    PdDistrict[T.TENDERLOIN]\n",
    "    month[T.August]\n",
    "    month[T.December]\n",
    "    month[T.February]\n",
    "    month[T.January]\n",
    "    month[T.July]\n",
    "    month[T.June]\n",
    "    month[T.March]\n",
    "    month[T.May]\n",
    "    month[T.November]\n",
    "    month[T.October]\n",
    "    month[T.September]\n",
    "    time_of_day[T.early_morning]\n",
    "    time_of_day[T.evening]\n",
    "    time_of_day[T.late_morning]\n",
    "    time_of_day[T.mid_day]\n",
    "    time_of_day[T.mid_night]\n",
    "    time_of_day[T.morning]\n",
    "    time_of_day[T.night]\n",
    "    longitude_centered\n",
    "    latitude_centered\n",
    "    \n",
    "**NOTES**:\n",
    "- **crime** is the string label of the crime committed\n",
    "- **crime_label** is the numeric code associated with the crime category (target classification variable)\n",
    "- **time_of_day** categories are defined as:\n",
    "\n",
    "```\n",
    "    early_morning --> 2am to 5am\n",
    "    morning       --> 5am to 8am\n",
    "    late_morning  --> 8am to 11am\n",
    "    mid_day       --> 11am to 2pm\n",
    "    afternoon     --> 2pm to 5pm [reference category: part of the intercept]\n",
    "    evening       --> 5pm to 8pm\n",
    "    night         --> 8pm to 11pm\n",
    "    mid_night     --> 11pm to 2am\n",
    "```"
   ]
  },
  {
   "cell_type": "code",
   "execution_count": 1,
   "metadata": {
    "collapsed": true
   },
   "outputs": [],
   "source": [
    "import pandas as pd\n",
    "import numpy as np\n",
    "import matplotlib.pyplot as plt\n",
    "import seaborn as sns"
   ]
  },
  {
   "cell_type": "markdown",
   "metadata": {},
   "source": [
    "---\n",
    "\n",
    "### 1. Load and examine data"
   ]
  },
  {
   "cell_type": "code",
   "execution_count": 7,
   "metadata": {
    "collapsed": false
   },
   "outputs": [
    {
     "data": {
      "text/plain": [
       "stolen_property                250\n",
       "weapon_laws                    250\n",
       "burglary                       250\n",
       "suspicious_occ                 250\n",
       "larceny_theft                  250\n",
       "drug_narcotic                  250\n",
       "sex_offenses_forcible          250\n",
       "vandalism                      250\n",
       "kidnapping                     250\n",
       "missing_person                 250\n",
       "forgery_counterfeiting         250\n",
       "robbery                        250\n",
       "arson                          250\n",
       "vehicle_theft                  250\n",
       "driving_under_the_influence    250\n",
       "disorderly_conduct             250\n",
       "warrants                       250\n",
       "drunkenness                    250\n",
       "fraud                          250\n",
       "loitering                      250\n",
       "prostitution                   250\n",
       "assault                        250\n",
       "trespass                       250\n",
       "Name: crime, dtype: int64"
      ]
     },
     "execution_count": 7,
     "metadata": {},
     "output_type": "execute_result"
    }
   ],
   "source": [
    "datapath = '../assets/datasets/sf_crime_mini_adds.csv'\n",
    "sf = pd.read_csv(datapath)\n",
    "sf['crime'].value_counts()"
   ]
  },
  {
   "cell_type": "markdown",
   "metadata": {},
   "source": [
    "---\n",
    "\n",
    "### 2.1. Predict crime category with (multinomial!) logistic regression"
   ]
  },
  {
   "cell_type": "code",
   "execution_count": 8,
   "metadata": {
    "collapsed": false
   },
   "outputs": [
    {
     "name": "stdout",
     "output_type": "stream",
     "text": [
      "0.0434782608696\n"
     ]
    }
   ],
   "source": [
    "baseline_acc = 1./len(sf.crime.unique())\n",
    "print baseline_acc"
   ]
  },
  {
   "cell_type": "markdown",
   "metadata": {},
   "source": [
    "---\n",
    "\n",
    "### 2.2. Look at accuracy precision, and area under precision-recall curve for model\n",
    "\n",
    "Compare accuracy to the chance rate."
   ]
  },
  {
   "cell_type": "code",
   "execution_count": null,
   "metadata": {
    "collapsed": true
   },
   "outputs": [],
   "source": []
  },
  {
   "cell_type": "markdown",
   "metadata": {},
   "source": [
    "---\n",
    "\n",
    "### 2.3. Look at area under ROC curve metric\n",
    "\n",
    "[The area measures discrimination, that is, the ability of the test to correctly classify those with and without the disease.](http://gim.unmc.edu/dxtests/roc3.htm)\n",
    "\n",
    "[BONUS] Plot the curve."
   ]
  },
  {
   "cell_type": "code",
   "execution_count": null,
   "metadata": {
    "collapsed": true
   },
   "outputs": [],
   "source": []
  },
  {
   "cell_type": "markdown",
   "metadata": {},
   "source": [
    "---\n",
    "\n",
    "### 2.4. Look at the precision and area under precision-recall curve\n",
    "\n",
    "[High scores for both show that the classifier is returning accurate results (high precision), as well as returning a majority of all positive results (high recall).](http://scikit-learn.org/stable/auto_examples/model_selection/plot_precision_recall.html) "
   ]
  },
  {
   "cell_type": "code",
   "execution_count": null,
   "metadata": {
    "collapsed": true
   },
   "outputs": [],
   "source": []
  },
  {
   "cell_type": "markdown",
   "metadata": {},
   "source": [
    "---\n",
    "\n",
    "### 3.1. Gridsearch best parameters for a logistic regression"
   ]
  },
  {
   "cell_type": "code",
   "execution_count": null,
   "metadata": {
    "collapsed": true
   },
   "outputs": [],
   "source": []
  },
  {
   "cell_type": "markdown",
   "metadata": {},
   "source": [
    "---\n",
    "\n",
    "### 3.2. Examine accuracy, area under ROC, and area under precision-recall curve for \"optimal\" model"
   ]
  },
  {
   "cell_type": "code",
   "execution_count": null,
   "metadata": {
    "collapsed": true
   },
   "outputs": [],
   "source": []
  },
  {
   "cell_type": "markdown",
   "metadata": {},
   "source": [
    "---\n",
    "\n",
    "### 4. Gridsearch and examine metrics for optimal classification trees"
   ]
  },
  {
   "cell_type": "code",
   "execution_count": null,
   "metadata": {
    "collapsed": true
   },
   "outputs": [],
   "source": []
  },
  {
   "cell_type": "markdown",
   "metadata": {},
   "source": [
    "---\n",
    "\n",
    "### 5.1. Build a bagging blassifier with optimal decision trees\n",
    "\n",
    "[BaggingClassifier documentation](http://scikit-learn.org/stable/modules/generated/sklearn.ensemble.BaggingClassifier.html#sklearn.ensemble.BaggingClassifier)\n",
    "\n",
    "[BaggingRegressor documentation](http://scikit-learn.org/stable/modules/generated/sklearn.ensemble.BaggingRegressor.html)"
   ]
  },
  {
   "cell_type": "code",
   "execution_count": null,
   "metadata": {
    "collapsed": true
   },
   "outputs": [],
   "source": []
  },
  {
   "cell_type": "markdown",
   "metadata": {},
   "source": [
    "---\n",
    "\n",
    "### 5.2. Examine metrics for bagging classifier"
   ]
  },
  {
   "cell_type": "code",
   "execution_count": null,
   "metadata": {
    "collapsed": true
   },
   "outputs": [],
   "source": []
  },
  {
   "cell_type": "markdown",
   "metadata": {},
   "source": [
    "---\n",
    "\n",
    "### 6.1. Do the above with the random forest class\n",
    "\n",
    "[RandomForestClassifier documentation](http://scikit-learn.org/stable/modules/generated/sklearn.ensemble.RandomForestClassifier.html#sklearn.ensemble.RandomForestClassifier)\n",
    "\n",
    "[RandomForestClassifier documentation](http://scikit-learn.org/stable/modules/generated/sklearn.ensemble.RandomForestRegressor.html#sklearn.ensemble.RandomForestRegressor)"
   ]
  },
  {
   "cell_type": "code",
   "execution_count": null,
   "metadata": {
    "collapsed": true
   },
   "outputs": [],
   "source": []
  },
  {
   "cell_type": "markdown",
   "metadata": {},
   "source": [
    "---\n",
    "\n",
    "### 6.2. Examine feature importances from random forest model"
   ]
  },
  {
   "cell_type": "code",
   "execution_count": null,
   "metadata": {
    "collapsed": true
   },
   "outputs": [],
   "source": []
  },
  {
   "cell_type": "markdown",
   "metadata": {},
   "source": [
    "---\n",
    "\n",
    "### 7. [BONUS IF TIME] Do the above for bagging classifier but with logistic regression "
   ]
  },
  {
   "cell_type": "code",
   "execution_count": null,
   "metadata": {
    "collapsed": true
   },
   "outputs": [],
   "source": []
  }
 ],
 "metadata": {
  "kernelspec": {
   "display_name": "Python 2",
   "language": "python",
   "name": "python2"
  },
  "language_info": {
   "codemirror_mode": {
    "name": "ipython",
    "version": 2
   },
   "file_extension": ".py",
   "mimetype": "text/x-python",
   "name": "python",
   "nbconvert_exporter": "python",
   "pygments_lexer": "ipython2",
   "version": "2.7.11"
  }
 },
 "nbformat": 4,
 "nbformat_minor": 0
}
