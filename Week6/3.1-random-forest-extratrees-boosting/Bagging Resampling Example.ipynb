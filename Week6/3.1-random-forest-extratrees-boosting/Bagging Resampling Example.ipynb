{
 "cells": [
  {
   "cell_type": "markdown",
   "metadata": {},
   "source": [
    "# How Bagging Ensembles Resample Data"
   ]
  },
  {
   "cell_type": "code",
   "execution_count": 1,
   "metadata": {
    "collapsed": true
   },
   "outputs": [],
   "source": [
    "# load required packages\n",
    "import numpy as np\n",
    "import pandas as pd\n",
    "\n",
    "from sklearn.ensemble import BaggingClassifier\n",
    "from sklearn.tree import DecisionTreeClassifier"
   ]
  },
  {
   "cell_type": "code",
   "execution_count": 2,
   "metadata": {
    "collapsed": true
   },
   "outputs": [],
   "source": [
    "# Bagging flow\n",
    "data = pd.DataFrame({\n",
    "        'animal_type' :['dog','wolf','wolf', 'dog','dog','wolf','dog'],\n",
    "        'weight' :[30,40,45,50,25,15,35],\n",
    "        'anger_level':[0,10,7,8,5,3,2],\n",
    "        'cuddly' : ['cuddly','not','not','not','cuddly','cuddly','cuddly']\n",
    "    })"
   ]
  },
  {
   "cell_type": "code",
   "execution_count": 3,
   "metadata": {
    "collapsed": false
   },
   "outputs": [
    {
     "data": {
      "text/html": [
       "<div>\n",
       "<table border=\"1\" class=\"dataframe\">\n",
       "  <thead>\n",
       "    <tr style=\"text-align: right;\">\n",
       "      <th></th>\n",
       "      <th>anger_level</th>\n",
       "      <th>animal_type</th>\n",
       "      <th>cuddly</th>\n",
       "      <th>weight</th>\n",
       "    </tr>\n",
       "  </thead>\n",
       "  <tbody>\n",
       "    <tr>\n",
       "      <th>0</th>\n",
       "      <td>0</td>\n",
       "      <td>dog</td>\n",
       "      <td>cuddly</td>\n",
       "      <td>30</td>\n",
       "    </tr>\n",
       "    <tr>\n",
       "      <th>1</th>\n",
       "      <td>10</td>\n",
       "      <td>wolf</td>\n",
       "      <td>not</td>\n",
       "      <td>40</td>\n",
       "    </tr>\n",
       "    <tr>\n",
       "      <th>2</th>\n",
       "      <td>7</td>\n",
       "      <td>wolf</td>\n",
       "      <td>not</td>\n",
       "      <td>45</td>\n",
       "    </tr>\n",
       "    <tr>\n",
       "      <th>3</th>\n",
       "      <td>8</td>\n",
       "      <td>dog</td>\n",
       "      <td>not</td>\n",
       "      <td>50</td>\n",
       "    </tr>\n",
       "    <tr>\n",
       "      <th>4</th>\n",
       "      <td>5</td>\n",
       "      <td>dog</td>\n",
       "      <td>cuddly</td>\n",
       "      <td>25</td>\n",
       "    </tr>\n",
       "    <tr>\n",
       "      <th>5</th>\n",
       "      <td>3</td>\n",
       "      <td>wolf</td>\n",
       "      <td>cuddly</td>\n",
       "      <td>15</td>\n",
       "    </tr>\n",
       "    <tr>\n",
       "      <th>6</th>\n",
       "      <td>2</td>\n",
       "      <td>dog</td>\n",
       "      <td>cuddly</td>\n",
       "      <td>35</td>\n",
       "    </tr>\n",
       "  </tbody>\n",
       "</table>\n",
       "</div>"
      ],
      "text/plain": [
       "   anger_level animal_type  cuddly  weight\n",
       "0            0         dog  cuddly      30\n",
       "1           10        wolf     not      40\n",
       "2            7        wolf     not      45\n",
       "3            8         dog     not      50\n",
       "4            5         dog  cuddly      25\n",
       "5            3        wolf  cuddly      15\n",
       "6            2         dog  cuddly      35"
      ]
     },
     "execution_count": 3,
     "metadata": {},
     "output_type": "execute_result"
    }
   ],
   "source": [
    "data"
   ]
  },
  {
   "cell_type": "code",
   "execution_count": 21,
   "metadata": {
    "collapsed": true
   },
   "outputs": [],
   "source": [
    "Y = data['animal_type'].map(lambda x: 1 if x=='dog' else 0)"
   ]
  },
  {
   "cell_type": "code",
   "execution_count": 22,
   "metadata": {
    "collapsed": false
   },
   "outputs": [
    {
     "data": {
      "text/plain": [
       "0    1\n",
       "1    0\n",
       "2    0\n",
       "3    1\n",
       "4    1\n",
       "5    0\n",
       "6    1\n",
       "Name: animal_type, dtype: int64"
      ]
     },
     "execution_count": 22,
     "metadata": {},
     "output_type": "execute_result"
    }
   ],
   "source": [
    "Y"
   ]
  },
  {
   "cell_type": "code",
   "execution_count": 24,
   "metadata": {
    "collapsed": true
   },
   "outputs": [],
   "source": [
    "import patsy\n",
    "X = patsy.dmatrix('~ cuddly + anger_level + weight', data = data, # Will end up with two columns for cuddly, intercept removal\n",
    "                 return_type = 'dataframe')                       # lets there be only one cuddly column"
   ]
  },
  {
   "cell_type": "code",
   "execution_count": 25,
   "metadata": {
    "collapsed": false
   },
   "outputs": [],
   "source": [
    "X.drop('Intercept', axis=1, inplace=True) # Need to remove intercept, sklearn puts one in"
   ]
  },
  {
   "cell_type": "code",
   "execution_count": 26,
   "metadata": {
    "collapsed": false
   },
   "outputs": [],
   "source": [
    "Xmat = X.values"
   ]
  },
  {
   "cell_type": "code",
   "execution_count": 27,
   "metadata": {
    "collapsed": true
   },
   "outputs": [],
   "source": [
    "# First  Create 'base model' estimator\n",
    "dtc = DecisionTreeClassifier(max_depth=None)"
   ]
  },
  {
   "cell_type": "code",
   "execution_count": 28,
   "metadata": {
    "collapsed": false
   },
   "outputs": [
    {
     "data": {
      "text/plain": [
       "DecisionTreeClassifier(class_weight=None, criterion='gini', max_depth=None,\n",
       "            max_features=None, max_leaf_nodes=None, min_samples_leaf=1,\n",
       "            min_samples_split=2, min_weight_fraction_leaf=0.0,\n",
       "            presort=False, random_state=None, splitter='best')"
      ]
     },
     "execution_count": 28,
     "metadata": {},
     "output_type": "execute_result"
    }
   ],
   "source": [
    "dtc.fit(Xmat,Y)"
   ]
  },
  {
   "cell_type": "code",
   "execution_count": 29,
   "metadata": {
    "collapsed": false
   },
   "outputs": [
    {
     "data": {
      "image/png": "[encoded data removed]",
      "text/plain": [
       "<IPython.core.display.Image object>"
      ]
     },
     "execution_count": 29,
     "metadata": {},
     "output_type": "execute_result"
    }
   ],
   "source": [
    "from sklearn.externals.six import StringIO  \n",
    "from IPython.display import Image  \n",
    "from sklearn.tree import export_graphviz\n",
    "import pydot\n",
    "\n",
    "dot_data = StringIO()  \n",
    "\n",
    "export_graphviz(dtc, out_file=dot_data,\n",
    "                feature_names=X.columns,\n",
    "                filled=True, rounded=True,\n",
    "                special_characters=True)  \n",
    "\n",
    "graph = pydot.graph_from_dot_data(dot_data.getvalue())  \n",
    "Image(graph.create_png()) "
   ]
  },
  {
   "cell_type": "code",
   "execution_count": 30,
   "metadata": {
    "collapsed": false
   },
   "outputs": [
    {
     "name": "stdout",
     "output_type": "stream",
     "text": [
      "[ 0.66666667  0.5         0.5       ]\n",
      "0.555555555556\n"
     ]
    }
   ],
   "source": [
    "from sklearn.cross_validation import cross_val_score\n",
    "\n",
    "scores = cross_val_score(dtc, Xmat, Y, cv=3)\n",
    "\n",
    "print scores\n",
    "print np.mean(scores)"
   ]
  },
  {
   "cell_type": "code",
   "execution_count": 31,
   "metadata": {
    "collapsed": false
   },
   "outputs": [
    {
     "name": "stdout",
     "output_type": "stream",
     "text": [
      "[ 0.66666667  0.5         0.5       ]\n",
      "0.555555555556\n"
     ]
    }
   ],
   "source": [
    "from sklearn.cross_validation import cross_val_score\n",
    "\n",
    "dtc_simple = DecisionTreeClassifier(max_depth=2)\n",
    "\n",
    "scores_simple = cross_val_score(dtc_simple, Xmat, Y, cv=3)\n",
    "\n",
    "print scores_simple\n",
    "print np.mean(scores)"
   ]
  },
  {
   "cell_type": "code",
   "execution_count": 45,
   "metadata": {
    "collapsed": true
   },
   "outputs": [],
   "source": [
    "# first we create \"base model\" estimator\n",
    "dtc = DecisionTreeClassifier(max_depth=None)\n",
    "\n",
    "# n_estimators is the number of \"base models\" (copies of the dtc classifier blueprint)\n",
    "# that we want to fit and then average\n",
    "n_estimators=10\n",
    "\n",
    "# max_samples tells us what fraction of the size of the original dataset\n",
    "# the bootstrapped datasets are going to be.\n",
    "max_samples=0.5\n",
    "max_features= 0.66\n",
    "\n",
    "#bag = BaggingClassifier(dtc)"
   ]
  },
  {
   "cell_type": "code",
   "execution_count": 57,
   "metadata": {
    "collapsed": false
   },
   "outputs": [
    {
     "name": "stdout",
     "output_type": "stream",
     "text": [
      "[0, 1, 2, 3, 4, 5, 6]\n",
      "Original rows 4\n",
      "Original cols 2\n",
      "resampled rows [3 6 4 5]\n",
      "resampled cols [0 1]\n"
     ]
    },
    {
     "data": {
      "text/html": [
       "<div>\n",
       "<table border=\"1\" class=\"dataframe\">\n",
       "  <thead>\n",
       "    <tr style=\"text-align: right;\">\n",
       "      <th></th>\n",
       "      <th>cuddly[T.not]</th>\n",
       "      <th>anger_level</th>\n",
       "      <th>weight</th>\n",
       "    </tr>\n",
       "  </thead>\n",
       "  <tbody>\n",
       "    <tr>\n",
       "      <th>0</th>\n",
       "      <td>0.0</td>\n",
       "      <td>0.0</td>\n",
       "      <td>30.0</td>\n",
       "    </tr>\n",
       "    <tr>\n",
       "      <th>1</th>\n",
       "      <td>1.0</td>\n",
       "      <td>10.0</td>\n",
       "      <td>40.0</td>\n",
       "    </tr>\n",
       "    <tr>\n",
       "      <th>2</th>\n",
       "      <td>1.0</td>\n",
       "      <td>7.0</td>\n",
       "      <td>45.0</td>\n",
       "    </tr>\n",
       "    <tr>\n",
       "      <th>3</th>\n",
       "      <td>1.0</td>\n",
       "      <td>8.0</td>\n",
       "      <td>50.0</td>\n",
       "    </tr>\n",
       "    <tr>\n",
       "      <th>4</th>\n",
       "      <td>0.0</td>\n",
       "      <td>5.0</td>\n",
       "      <td>25.0</td>\n",
       "    </tr>\n",
       "    <tr>\n",
       "      <th>5</th>\n",
       "      <td>0.0</td>\n",
       "      <td>3.0</td>\n",
       "      <td>15.0</td>\n",
       "    </tr>\n",
       "    <tr>\n",
       "      <th>6</th>\n",
       "      <td>0.0</td>\n",
       "      <td>2.0</td>\n",
       "      <td>35.0</td>\n",
       "    </tr>\n",
       "  </tbody>\n",
       "</table>\n",
       "</div>"
      ],
      "text/plain": [
       "   cuddly[T.not]  anger_level  weight\n",
       "0            0.0          0.0    30.0\n",
       "1            1.0         10.0    40.0\n",
       "2            1.0          7.0    45.0\n",
       "3            1.0          8.0    50.0\n",
       "4            0.0          5.0    25.0\n",
       "5            0.0          3.0    15.0\n",
       "6            0.0          2.0    35.0"
      ]
     },
     "execution_count": 57,
     "metadata": {},
     "output_type": "execute_result"
    }
   ],
   "source": [
    "rows = range(X.shape[0])\n",
    "cols = range(X.shape[1])\n",
    "print rows\n",
    "\n",
    "number_of_resampled_rows = int(round(max_samples * X.shape[0]))\n",
    "number_of_columns = int(round(max_features * X.shape[1]))\n",
    "\n",
    "print \"Original rows\", number_of_resampled_rows\n",
    "print \"Original cols\", number_of_columns\n",
    "\n",
    "# Replacement resample, takes randomly from rows\n",
    "# Size to take the number of samples\n",
    "# For bagging replace must be true\n",
    "resampled_rows = np.random.choice(rows, size=int(round(max_samples * X.shape[0])), replace=True)\n",
    "resampled_cols = np.random.choice(cols, size=number_of_columns, replace=False)\n",
    "\n",
    "print \"resampled rows\", resampled_rows\n",
    "print \"resampled cols\", resampled_cols\n",
    "X"
   ]
  },
  {
   "cell_type": "code",
   "execution_count": 38,
   "metadata": {
    "collapsed": false
   },
   "outputs": [
    {
     "data": {
      "text/html": [
       "<div>\n",
       "<table border=\"1\" class=\"dataframe\">\n",
       "  <thead>\n",
       "    <tr style=\"text-align: right;\">\n",
       "      <th></th>\n",
       "      <th>cuddly[T.not]</th>\n",
       "      <th>anger_level</th>\n",
       "      <th>weight</th>\n",
       "    </tr>\n",
       "  </thead>\n",
       "  <tbody>\n",
       "    <tr>\n",
       "      <th>0</th>\n",
       "      <td>0.0</td>\n",
       "      <td>0.0</td>\n",
       "      <td>30.0</td>\n",
       "    </tr>\n",
       "    <tr>\n",
       "      <th>4</th>\n",
       "      <td>0.0</td>\n",
       "      <td>5.0</td>\n",
       "      <td>25.0</td>\n",
       "    </tr>\n",
       "    <tr>\n",
       "      <th>5</th>\n",
       "      <td>0.0</td>\n",
       "      <td>3.0</td>\n",
       "      <td>15.0</td>\n",
       "    </tr>\n",
       "    <tr>\n",
       "      <th>2</th>\n",
       "      <td>1.0</td>\n",
       "      <td>7.0</td>\n",
       "      <td>45.0</td>\n",
       "    </tr>\n",
       "  </tbody>\n",
       "</table>\n",
       "</div>"
      ],
      "text/plain": [
       "   cuddly[T.not]  anger_level  weight\n",
       "0            0.0          0.0    30.0\n",
       "4            0.0          5.0    25.0\n",
       "5            0.0          3.0    15.0\n",
       "2            1.0          7.0    45.0"
      ]
     },
     "execution_count": 38,
     "metadata": {},
     "output_type": "execute_result"
    }
   ],
   "source": [
    "X.iloc[resampled_rows, :]"
   ]
  },
  {
   "cell_type": "code",
   "execution_count": 60,
   "metadata": {
    "collapsed": true
   },
   "outputs": [],
   "source": [
    "from sklearn.cross_validation import KFold"
   ]
  },
  {
   "cell_type": "code",
   "execution_count": 64,
   "metadata": {
    "collapsed": false
   },
   "outputs": [
    {
     "name": "stdout",
     "output_type": "stream",
     "text": [
      " training indices [3 4 5 6]\n",
      "test indices [0 1 2]\n",
      "training indices [0 1 2 5 6]\n",
      "test indices [3 4]\n",
      "training indices [0 1 2 3 4]\n",
      "test indices [5 6]\n"
     ]
    }
   ],
   "source": [
    "folds = KFold(len(rows), n_folds=3)\n",
    "\n",
    "for train_indices, test_indices in folds:\n",
    "    print 'training indices', train_indices\n",
    "    print 'test indices', test_indices"
   ]
  },
  {
   "cell_type": "code",
   "execution_count": 73,
   "metadata": {
    "collapsed": false
   },
   "outputs": [
    {
     "name": "stdout",
     "output_type": "stream",
     "text": [
      "estimator number:  0\n"
     ]
    },
    {
     "ename": "AttributeError",
     "evalue": "'numpy.ndarray' object has no attribute 'iloc'",
     "output_type": "error",
     "traceback": [
      "\u001b[0;31m---------------------------------------------------------------------------\u001b[0m",
      "\u001b[0;31mAttributeError\u001b[0m                            Traceback (most recent call last)",
      "\u001b[0;32m<ipython-input-73-ab41abf7baf4>\u001b[0m in \u001b[0;36m<module>\u001b[0;34m()\u001b[0m\n\u001b[1;32m     18\u001b[0m                                           replace=False)\n\u001b[1;32m     19\u001b[0m \u001b[0;34m\u001b[0m\u001b[0m\n\u001b[0;32m---> 20\u001b[0;31m         \u001b[0mX_train_resamp\u001b[0m \u001b[0;34m=\u001b[0m \u001b[0mX_train\u001b[0m\u001b[0;34m.\u001b[0m\u001b[0miloc\u001b[0m\u001b[0;34m[\u001b[0m\u001b[0mresampled_rows\u001b[0m\u001b[0;34m,\u001b[0m\u001b[0mresampled_cols\u001b[0m\u001b[0;34m]\u001b[0m\u001b[0;34m\u001b[0m\u001b[0m\n\u001b[0m\u001b[1;32m     21\u001b[0m         \u001b[0mY_train_resamp\u001b[0m \u001b[0;34m=\u001b[0m \u001b[0mY_train\u001b[0m\u001b[0;34m.\u001b[0m\u001b[0miloc\u001b[0m\u001b[0;34m[\u001b[0m\u001b[0mresampled_rows\u001b[0m\u001b[0;34m,\u001b[0m\u001b[0mresampled_cols\u001b[0m\u001b[0;34m]\u001b[0m\u001b[0;34m\u001b[0m\u001b[0m\n\u001b[1;32m     22\u001b[0m \u001b[0;34m\u001b[0m\u001b[0m\n",
      "\u001b[0;31mAttributeError\u001b[0m: 'numpy.ndarray' object has no attribute 'iloc'"
     ]
    }
   ],
   "source": [
    "for train_indices, test_indices in folds:\n",
    "    X_train, x_test = Xmat[train_indices], Xmat[test_indices]\n",
    "    Y_train, y_test = Y[train_indices], Y[test_indices]\n",
    "    \n",
    "    for estimator_num in range(n_estimators):\n",
    "         \n",
    "        print 'estimator number: ', estimator_num\n",
    "        \n",
    "        train_rows = range(X_train.shape[0])\n",
    "        train_cols = range(X_train.shape[1])\n",
    "        \n",
    "        number_of_resampled_rows = int(round(max_samples * X.shape[0]))\n",
    "        number_of_columns = int(round(max_features * X.shape[1]))\n",
    "\n",
    "        resampled_rows = np.random.choice(train_rows, size=int(round(max_samples * X_train.shape[0])), \n",
    "                                          replace=True)\n",
    "        resampled_cols = np.random.choice(train_cols, size=number_of_columns, \n",
    "                                          replace=False)\n",
    "        \n",
    "        X_train_resamp = X_train.iloc[resampled_rows,resampled_cols]\n",
    "        Y_train_resamp = Y_train.iloc[resampled_rows,resampled_cols]\n",
    "        \n",
    "        dtc = DecisionTreeClassifier(max_depth=None)\n",
    "        dtc.fit(X_train_resamp, Y_train_resamp)"
   ]
  },
  {
   "cell_type": "code",
   "execution_count": 79,
   "metadata": {
    "collapsed": false
   },
   "outputs": [
    {
     "name": "stdout",
     "output_type": "stream",
     "text": [
      "[ 0.66666667  0.5         0.5       ]\n",
      "0.555555555556\n"
     ]
    }
   ],
   "source": [
    "# all the above would be the same as:\n",
    "\n",
    "dtc = DecisionTreeClassifier(max_depth=None)\n",
    "bag = BaggingClassifier(n_estimators=11, max_samples=0.5, max_features=0.66)\n",
    "\n",
    "scores = cross_val_score(bag, X.values, Y)\n",
    "\n",
    "print scores\n",
    "print np.mean(scores)"
   ]
  },
  {
   "cell_type": "code",
   "execution_count": null,
   "metadata": {
    "collapsed": true
   },
   "outputs": [],
   "source": []
  }
 ],
 "metadata": {
  "kernelspec": {
   "display_name": "Python 2",
   "language": "python",
   "name": "python2"
  },
  "language_info": {
   "codemirror_mode": {
    "name": "ipython",
    "version": 2
   },
   "file_extension": ".py",
   "mimetype": "text/x-python",
   "name": "python",
   "nbconvert_exporter": "python",
   "pygments_lexer": "ipython2",
   "version": "2.7.11"
  }
 },
 "nbformat": 4,
 "nbformat_minor": 0
}
